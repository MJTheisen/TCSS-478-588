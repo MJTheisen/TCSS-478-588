{
 "cells": [
  {
   "cell_type": "markdown",
   "metadata": {},
   "source": [
    "# Bioconductor and Differential Expression"
   ]
  },
  {
   "cell_type": "markdown",
   "metadata": {},
   "source": [
    "## 1.\tInstall bioconductor on your computer\n",
    "\n",
    "1. Troubleshooting tips from bioconductor http://bioconductor.org/install/\n",
    "2. Download the source of the package from bioconductor and then use \"install.package\" in R"
   ]
  },
  {
   "cell_type": "code",
   "execution_count": null,
   "metadata": {
    "collapsed": false,
    "jupyter": {
     "outputs_hidden": false
    }
   },
   "outputs": [
    {
     "name": "stderr",
     "output_type": "stream",
     "text": [
      "Bioconductor version '3.14' is out-of-date; the current release version '3.16'\n",
      "  is available with R version '4.2'; see https://bioconductor.org/install\n",
      "\n",
      "'getOption(\"repos\")' replaces Bioconductor standard repositories, see\n",
      "'?repositories' for details\n",
      "\n",
      "replacement repositories:\n",
      "    CRAN: https://cran.r-project.org\n",
      "\n",
      "\n",
      "Bioconductor version 3.14 (BiocManager 1.30.19), R 4.1.1 (2021-08-10)\n",
      "\n",
      "Old packages: 'arkhe', 'brew', 'broom', 'caret', 'class', 'classInt', 'cli',\n",
      "  'codetools', 'colorspace', 'conflicted', 'covr', 'credentials', 'curl',\n",
      "  'data.table', 'dbplyr', 'devtools', 'dplyr', 'DT', 'e1071', 'evaluate',\n",
      "  'expm', 'fansi', 'FNN', 'fontawesome', 'forcats', 'forecast', 'fracdiff',\n",
      "  'fs', 'future', 'gargle', 'gert', 'ggplot2', 'ggrepel', 'gh', 'git2r',\n",
      "  'gitcreds', 'gower', 'gstat', 'gtools', 'highr', 'htmlwidgets', 'httpuv',\n",
      "  'IRdisplay', 'IRkernel', 'isoband', 'janitor', 'keras', 'knitr', 'lava',\n",
      "  'lhs', 'lmtest', 'lubridate', 'markdown', 'MASS', 'Matrix', 'mgcv',\n",
      "  'modeldata', 'nlme', 'nloptr', 'nnet', 'parallelly', 'pbdZMQ', 'pkgbuild',\n",
      "  'plyr', 'png', 'progressr', 'proxy', 'purrr', 'quantmod', 'randomForest',\n",
      "  'raster', 'Rcpp', 'RcppArmadillo', 'RcppTOML', 'RCurl', 'readr', 'readxl',\n",
      "  'recipes', 'remotes', 'repr', 'reticulate', 'rex', 'rmarkdown', 'RODBC',\n",
      "  'roxygen2', 'rpart', 'RSQLite', 'rversions', 's2', 'sass', 'sessioninfo',\n",
      "  'skimr', 'sourcetools', 'sp', 'spatial', 'spatialreg', 'spdep', 'spiderbar',\n",
      "  'stringi', 'survival', 'tensorflow', 'terra', 'tidyr', 'timechange',\n",
      "  'timeDate', 'tinytex', 'tseries', 'TTR', 'units', 'urca', 'usethis', 'utf8',\n",
      "  'vctrs', 'visdat', 'vroom', 'whisker', 'wk', 'xfun', 'xts', 'yaml', 'zip',\n",
      "  'zoo'\n",
      "\n"
     ]
    }
   ],
   "source": [
    "# The installation instructions from http://bioconductor.org/install/ (version 3.16 of Bioconductor requires R 4.2)\n",
    "# Since the UW JupyterHub has R version 4.1, we are installing version 3.14 of Bioconductor instead.\n",
    "if (!require(\"BiocManager\", quietly = TRUE))\n",
    "    install.packages(\"BiocManager\")\n",
    "BiocManager::install(version = \"3.14\")"
   ]
  },
  {
   "cell_type": "markdown",
   "metadata": {},
   "source": [
    "## 2.\tDownload the CCLE data from GEO\n",
    "\n",
    "Go to GEO’s web site at http://www.ncbi.nlm.nih.gov/geo/.\n",
    "1.\tSearch for CCLE.\n",
    "2.\tClick on the first link (GSE36133)\n",
    "3.\thttp://www.ncbi.nlm.nih.gov/geo/query/acc.cgi?acc=GSE36133"
   ]
  },
  {
   "cell_type": "code",
   "execution_count": null,
   "metadata": {
    "collapsed": false,
    "jupyter": {
     "outputs_hidden": false
    }
   },
   "outputs": [
    {
     "name": "stderr",
     "output_type": "stream",
     "text": [
      "'getOption(\"repos\")' replaces Bioconductor standard repositories, see\n",
      "'?repositories' for details\n",
      "\n",
      "replacement repositories:\n",
      "    CRAN: https://cran.r-project.org\n",
      "\n",
      "\n",
      "Bioconductor version 3.14 (BiocManager 1.30.19), R 4.1.1 (2021-08-10)\n",
      "\n",
      "Warning message:\n",
      "“package(s) not installed when version(s) same as or greater than current; use\n",
      "  `force = TRUE` to re-install: 'GEOquery'”\n",
      "Old packages: 'arkhe', 'brew', 'broom', 'caret', 'class', 'classInt', 'cli',\n",
      "  'codetools', 'colorspace', 'conflicted', 'covr', 'credentials', 'curl',\n",
      "  'data.table', 'dbplyr', 'devtools', 'dplyr', 'DT', 'e1071', 'evaluate',\n",
      "  'expm', 'fansi', 'FNN', 'fontawesome', 'forcats', 'forecast', 'fracdiff',\n",
      "  'fs', 'future', 'gargle', 'gert', 'ggplot2', 'ggrepel', 'gh', 'git2r',\n",
      "  'gitcreds', 'gower', 'gstat', 'gtools', 'highr', 'htmlwidgets', 'httpuv',\n",
      "  'IRdisplay', 'IRkernel', 'isoband', 'janitor', 'keras', 'knitr', 'lava',\n",
      "  'lhs', 'lmtest', 'lubridate', 'markdown', 'MASS', 'Matrix', 'mgcv',\n",
      "  'modeldata', 'nlme', 'nloptr', 'nnet', 'parallelly', 'pbdZMQ', 'pkgbuild',\n",
      "  'plyr', 'png', 'progressr', 'proxy', 'purrr', 'quantmod', 'randomForest',\n",
      "  'raster', 'Rcpp', 'RcppArmadillo', 'RcppTOML', 'RCurl', 'readr', 'readxl',\n",
      "  'recipes', 'remotes', 'repr', 'reticulate', 'rex', 'rmarkdown', 'RODBC',\n",
      "  'roxygen2', 'rpart', 'RSQLite', 'rversions', 's2', 'sass', 'sessioninfo',\n",
      "  'skimr', 'sourcetools', 'sp', 'spatial', 'spatialreg', 'spdep', 'spiderbar',\n",
      "  'stringi', 'survival', 'tensorflow', 'terra', 'tidyr', 'timechange',\n",
      "  'timeDate', 'tinytex', 'tseries', 'TTR', 'units', 'urca', 'usethis', 'utf8',\n",
      "  'vctrs', 'visdat', 'vroom', 'whisker', 'wk', 'xfun', 'xts', 'yaml', 'zip',\n",
      "  'zoo'\n",
      "\n",
      "Loading required package: Biobase\n",
      "\n",
      "Loading required package: BiocGenerics\n",
      "\n",
      "\n",
      "Attaching package: ‘BiocGenerics’\n",
      "\n",
      "\n",
      "The following objects are masked from ‘package:stats’:\n",
      "\n",
      "    IQR, mad, sd, var, xtabs\n",
      "\n",
      "\n",
      "The following objects are masked from ‘package:base’:\n",
      "\n",
      "    anyDuplicated, append, as.data.frame, basename, cbind, colnames,\n",
      "    dirname, do.call, duplicated, eval, evalq, Filter, Find, get, grep,\n",
      "    grepl, intersect, is.unsorted, lapply, Map, mapply, match, mget,\n",
      "    order, paste, pmax, pmax.int, pmin, pmin.int, Position, rank,\n",
      "    rbind, Reduce, rownames, sapply, setdiff, sort, table, tapply,\n",
      "    union, unique, unsplit, which.max, which.min\n",
      "\n",
      "\n",
      "Welcome to Bioconductor\n",
      "\n",
      "    Vignettes contain introductory material; view with\n",
      "    'browseVignettes()'. To cite Bioconductor, see\n",
      "    'citation(\"Biobase\")', and for packages 'citation(\"pkgname\")'.\n",
      "\n",
      "\n",
      "Setting options('download.file.method.GEOquery'='auto')\n",
      "\n",
      "Setting options('GEOquery.inmemory.gpl'=FALSE)\n",
      "\n"
     ]
    }
   ],
   "source": [
    "BiocManager::install(\"GEOquery\")\n",
    "library(GEOquery)"
   ]
  },
  {
   "cell_type": "code",
   "execution_count": 7,
   "metadata": {
    "collapsed": false,
    "jupyter": {
     "outputs_hidden": false
    }
   },
   "outputs": [
    {
     "name": "stderr",
     "output_type": "stream",
     "text": [
      "Found 1 file(s)\n",
      "\n",
      "GSE36133_series_matrix.txt.gz\n",
      "\n",
      "Using locally cached version: /tmp/Rtmp5B8sKd/GSE36133_series_matrix.txt.gz\n",
      "\n",
      "Using locally cached version of GPL15308 found here:\n",
      "/tmp/Rtmp5B8sKd/GPL15308.soft.gz \n",
      "\n"
     ]
    }
   ],
   "source": [
    "# this is going to take a few minutes.  \n",
    "# This command assumes that you can install the package GEOquery.\n",
    "# if this package doesn't work for you, you can load my image in your workspace.\n",
    "geoD<- getGEO('GSE36133')"
   ]
  },
  {
   "cell_type": "code",
   "execution_count": 8,
   "metadata": {
    "collapsed": false,
    "jupyter": {
     "outputs_hidden": false
    }
   },
   "outputs": [
    {
     "data": {
      "text/html": [
       "<style>\n",
       ".list-inline {list-style: none; margin:0; padding: 0}\n",
       ".list-inline>li {display: inline-block}\n",
       ".list-inline>li:not(:last-child)::after {content: \"\\00b7\"; padding: 0 .5ex}\n",
       "</style>\n",
       "<ol class=list-inline><li>18926</li><li>917</li></ol>\n"
      ],
      "text/latex": [
       "\\begin{enumerate*}\n",
       "\\item 18926\n",
       "\\item 917\n",
       "\\end{enumerate*}\n"
      ],
      "text/markdown": [
       "1. 18926\n",
       "2. 917\n",
       "\n",
       "\n"
      ],
      "text/plain": [
       "[1] 18926   917"
      ]
     },
     "metadata": {},
     "output_type": "display_data"
    }
   ],
   "source": [
    "# get the expression data from geoD\n",
    "mat <- exprs (geoD[[1]])\n",
    "dim (mat)"
   ]
  },
  {
   "cell_type": "markdown",
   "metadata": {},
   "source": [
    "#### The gene expression data \"mat\" consists of 18926 genes across 917 experiments\n",
    "#### Each row is a gene\n",
    "#### Each column is an experiment (cell line)"
   ]
  },
  {
   "cell_type": "code",
   "execution_count": 9,
   "metadata": {
    "collapsed": false,
    "jupyter": {
     "outputs_hidden": false
    }
   },
   "outputs": [
    {
     "data": {
      "text/html": [
       "<table class=\"dataframe\">\n",
       "<caption>A matrix: 6 × 5 of type dbl</caption>\n",
       "<thead>\n",
       "\t<tr><th></th><th scope=col>GSM886835</th><th scope=col>GSM886836</th><th scope=col>GSM886837</th><th scope=col>GSM886838</th><th scope=col>GSM886839</th></tr>\n",
       "</thead>\n",
       "<tbody>\n",
       "\t<tr><th scope=row>100009676_at</th><td>6.1161</td><td>6.2052</td><td>6.1249</td><td>6.6154</td><td> 5.4236</td></tr>\n",
       "\t<tr><th scope=row>10000_at</th><td>8.1556</td><td>6.6152</td><td>4.5676</td><td>4.3519</td><td> 6.6723</td></tr>\n",
       "\t<tr><th scope=row>10001_at</th><td>9.7864</td><td>9.9699</td><td>8.8720</td><td>9.1376</td><td>10.0290</td></tr>\n",
       "\t<tr><th scope=row>10002_at</th><td>3.7977</td><td>4.0304</td><td>3.8455</td><td>3.7085</td><td> 3.6431</td></tr>\n",
       "\t<tr><th scope=row>10003_at</th><td>3.5458</td><td>3.8504</td><td>4.0458</td><td>3.9508</td><td> 4.1589</td></tr>\n",
       "\t<tr><th scope=row>100048912_at</th><td>4.0034</td><td>3.7959</td><td>4.1465</td><td>3.9271</td><td> 3.9157</td></tr>\n",
       "</tbody>\n",
       "</table>\n"
      ],
      "text/latex": [
       "A matrix: 6 × 5 of type dbl\n",
       "\\begin{tabular}{r|lllll}\n",
       "  & GSM886835 & GSM886836 & GSM886837 & GSM886838 & GSM886839\\\\\n",
       "\\hline\n",
       "\t100009676\\_at & 6.1161 & 6.2052 & 6.1249 & 6.6154 &  5.4236\\\\\n",
       "\t10000\\_at & 8.1556 & 6.6152 & 4.5676 & 4.3519 &  6.6723\\\\\n",
       "\t10001\\_at & 9.7864 & 9.9699 & 8.8720 & 9.1376 & 10.0290\\\\\n",
       "\t10002\\_at & 3.7977 & 4.0304 & 3.8455 & 3.7085 &  3.6431\\\\\n",
       "\t10003\\_at & 3.5458 & 3.8504 & 4.0458 & 3.9508 &  4.1589\\\\\n",
       "\t100048912\\_at & 4.0034 & 3.7959 & 4.1465 & 3.9271 &  3.9157\\\\\n",
       "\\end{tabular}\n"
      ],
      "text/markdown": [
       "\n",
       "A matrix: 6 × 5 of type dbl\n",
       "\n",
       "| <!--/--> | GSM886835 | GSM886836 | GSM886837 | GSM886838 | GSM886839 |\n",
       "|---|---|---|---|---|---|\n",
       "| 100009676_at | 6.1161 | 6.2052 | 6.1249 | 6.6154 |  5.4236 |\n",
       "| 10000_at | 8.1556 | 6.6152 | 4.5676 | 4.3519 |  6.6723 |\n",
       "| 10001_at | 9.7864 | 9.9699 | 8.8720 | 9.1376 | 10.0290 |\n",
       "| 10002_at | 3.7977 | 4.0304 | 3.8455 | 3.7085 |  3.6431 |\n",
       "| 10003_at | 3.5458 | 3.8504 | 4.0458 | 3.9508 |  4.1589 |\n",
       "| 100048912_at | 4.0034 | 3.7959 | 4.1465 | 3.9271 |  3.9157 |\n",
       "\n"
      ],
      "text/plain": [
       "             GSM886835 GSM886836 GSM886837 GSM886838 GSM886839\n",
       "100009676_at 6.1161    6.2052    6.1249    6.6154     5.4236  \n",
       "10000_at     8.1556    6.6152    4.5676    4.3519     6.6723  \n",
       "10001_at     9.7864    9.9699    8.8720    9.1376    10.0290  \n",
       "10002_at     3.7977    4.0304    3.8455    3.7085     3.6431  \n",
       "10003_at     3.5458    3.8504    4.0458    3.9508     4.1589  \n",
       "100048912_at 4.0034    3.7959    4.1465    3.9271     3.9157  "
      ]
     },
     "metadata": {},
     "output_type": "display_data"
    }
   ],
   "source": [
    "mat[1:6, 1:5]"
   ]
  },
  {
   "cell_type": "code",
   "execution_count": 10,
   "metadata": {
    "collapsed": false,
    "jupyter": {
     "outputs_hidden": false
    }
   },
   "outputs": [
    {
     "data": {
      "text/html": [
       "<style>\n",
       ".list-inline {list-style: none; margin:0; padding: 0}\n",
       ".list-inline>li {display: inline-block}\n",
       ".list-inline>li:not(:last-child)::after {content: \"\\00b7\"; padding: 0 .5ex}\n",
       "</style>\n",
       "<ol class=list-inline><li>917</li><li>42</li></ol>\n"
      ],
      "text/latex": [
       "\\begin{enumerate*}\n",
       "\\item 917\n",
       "\\item 42\n",
       "\\end{enumerate*}\n"
      ],
      "text/markdown": [
       "1. 917\n",
       "2. 42\n",
       "\n",
       "\n"
      ],
      "text/plain": [
       "[1] 917  42"
      ]
     },
     "metadata": {},
     "output_type": "display_data"
    }
   ],
   "source": [
    "#get phenotype matrix from geoD\n",
    "p.mat <- pData (geoD[[1]])\n",
    "dim (p.mat)"
   ]
  },
  {
   "cell_type": "markdown",
   "metadata": {},
   "source": [
    "#### The phenotype matrix consists of 917 experiments, and 42 attributes\n",
    "#### Rows = experiments (cell lines)"
   ]
  },
  {
   "cell_type": "code",
   "execution_count": 11,
   "metadata": {
    "collapsed": false,
    "jupyter": {
     "outputs_hidden": false
    }
   },
   "outputs": [
    {
     "data": {
      "text/html": [
       "<table class=\"dataframe\">\n",
       "<caption>A data.frame: 6 × 3</caption>\n",
       "<thead>\n",
       "\t<tr><th></th><th scope=col>title</th><th scope=col>geo_accession</th><th scope=col>characteristics_ch1</th></tr>\n",
       "\t<tr><th></th><th scope=col>&lt;chr&gt;</th><th scope=col>&lt;chr&gt;</th><th scope=col>&lt;chr&gt;</th></tr>\n",
       "</thead>\n",
       "<tbody>\n",
       "\t<tr><th scope=row>GSM886835</th><td>1321N1  </td><td>GSM886835</td><td>primary site: central_nervous_system</td></tr>\n",
       "\t<tr><th scope=row>GSM886836</th><td>143B    </td><td>GSM886836</td><td>primary site: bone                  </td></tr>\n",
       "\t<tr><th scope=row>GSM886837</th><td>22Rv1   </td><td>GSM886837</td><td>primary site: prostate              </td></tr>\n",
       "\t<tr><th scope=row>GSM886838</th><td>23132/87</td><td>GSM886838</td><td>primary site: stomach               </td></tr>\n",
       "\t<tr><th scope=row>GSM886839</th><td>42-MG-BA</td><td>GSM886839</td><td>primary site: central_nervous_system</td></tr>\n",
       "\t<tr><th scope=row>GSM886840</th><td>5637    </td><td>GSM886840</td><td>primary site: urinary_tract         </td></tr>\n",
       "</tbody>\n",
       "</table>\n"
      ],
      "text/latex": [
       "A data.frame: 6 × 3\n",
       "\\begin{tabular}{r|lll}\n",
       "  & title & geo\\_accession & characteristics\\_ch1\\\\\n",
       "  & <chr> & <chr> & <chr>\\\\\n",
       "\\hline\n",
       "\tGSM886835 & 1321N1   & GSM886835 & primary site: central\\_nervous\\_system\\\\\n",
       "\tGSM886836 & 143B     & GSM886836 & primary site: bone                  \\\\\n",
       "\tGSM886837 & 22Rv1    & GSM886837 & primary site: prostate              \\\\\n",
       "\tGSM886838 & 23132/87 & GSM886838 & primary site: stomach               \\\\\n",
       "\tGSM886839 & 42-MG-BA & GSM886839 & primary site: central\\_nervous\\_system\\\\\n",
       "\tGSM886840 & 5637     & GSM886840 & primary site: urinary\\_tract         \\\\\n",
       "\\end{tabular}\n"
      ],
      "text/markdown": [
       "\n",
       "A data.frame: 6 × 3\n",
       "\n",
       "| <!--/--> | title &lt;chr&gt; | geo_accession &lt;chr&gt; | characteristics_ch1 &lt;chr&gt; |\n",
       "|---|---|---|---|\n",
       "| GSM886835 | 1321N1   | GSM886835 | primary site: central_nervous_system |\n",
       "| GSM886836 | 143B     | GSM886836 | primary site: bone                   |\n",
       "| GSM886837 | 22Rv1    | GSM886837 | primary site: prostate               |\n",
       "| GSM886838 | 23132/87 | GSM886838 | primary site: stomach                |\n",
       "| GSM886839 | 42-MG-BA | GSM886839 | primary site: central_nervous_system |\n",
       "| GSM886840 | 5637     | GSM886840 | primary site: urinary_tract          |\n",
       "\n"
      ],
      "text/plain": [
       "          title    geo_accession characteristics_ch1                 \n",
       "GSM886835 1321N1   GSM886835     primary site: central_nervous_system\n",
       "GSM886836 143B     GSM886836     primary site: bone                  \n",
       "GSM886837 22Rv1    GSM886837     primary site: prostate              \n",
       "GSM886838 23132/87 GSM886838     primary site: stomach               \n",
       "GSM886839 42-MG-BA GSM886839     primary site: central_nervous_system\n",
       "GSM886840 5637     GSM886840     primary site: urinary_tract         "
      ]
     },
     "metadata": {},
     "output_type": "display_data"
    }
   ],
   "source": [
    "p.mat[1:6, c(1:2, 10)]"
   ]
  },
  {
   "cell_type": "code",
   "execution_count": 12,
   "metadata": {
    "collapsed": false,
    "jupyter": {
     "outputs_hidden": false
    }
   },
   "outputs": [
    {
     "data": {
      "text/html": [
       "'central_nervous_system'"
      ],
      "text/latex": [
       "'central\\_nervous\\_system'"
      ],
      "text/markdown": [
       "'central_nervous_system'"
      ],
      "text/plain": [
       "[1] \"central_nervous_system\""
      ]
     },
     "metadata": {},
     "output_type": "display_data"
    }
   ],
   "source": [
    "# goal: to extract the character string after \": \"\n",
    "unlist(strsplit (as.character (p.mat[1,10]), \": \"))[2]"
   ]
  },
  {
   "cell_type": "code",
   "execution_count": 13,
   "metadata": {
    "tags": []
   },
   "outputs": [],
   "source": [
    "# extract the character string after \": \" for each entry in column 10 of p.mat\n",
    "source.vec <- sapply (as.character(p.mat[, 10]), function(x) {unlist(strsplit(x, \": \"))[2]})"
   ]
  },
  {
   "cell_type": "code",
   "execution_count": 14,
   "metadata": {
    "collapsed": false,
    "jupyter": {
     "outputs_hidden": false
    }
   },
   "outputs": [
    {
     "data": {
      "text/html": [
       "<style>\n",
       ".dl-inline {width: auto; margin:0; padding: 0}\n",
       ".dl-inline>dt, .dl-inline>dd {float: none; width: auto; display: inline-block}\n",
       ".dl-inline>dt::after {content: \":\\0020\"; padding-right: .5ex}\n",
       ".dl-inline>dt:not(:first-of-type) {padding-left: .5ex}\n",
       "</style><dl class=dl-inline><dt>primary site: central_nervous_system</dt><dd>'central_nervous_system'</dd><dt>primary site: bone</dt><dd>'bone'</dd><dt>primary site: prostate</dt><dd>'prostate'</dd><dt>primary site: stomach</dt><dd>'stomach'</dd><dt>primary site: central_nervous_system</dt><dd>'central_nervous_system'</dd><dt>primary site: urinary_tract</dt><dd>'urinary_tract'</dd><dt>primary site: urinary_tract</dt><dd>'urinary_tract'</dd><dt>primary site: urinary_tract</dt><dd>'urinary_tract'</dd><dt>primary site: haematopoietic_and_lymphoid_tissue</dt><dd>'haematopoietic_and_lymphoid_tissue'</dd><dt>primary site: kidney</dt><dd>'kidney'</dd></dl>\n"
      ],
      "text/latex": [
       "\\begin{description*}\n",
       "\\item[primary site: central\\textbackslash{}\\_nervous\\textbackslash{}\\_system] 'central\\_nervous\\_system'\n",
       "\\item[primary site: bone] 'bone'\n",
       "\\item[primary site: prostate] 'prostate'\n",
       "\\item[primary site: stomach] 'stomach'\n",
       "\\item[primary site: central\\textbackslash{}\\_nervous\\textbackslash{}\\_system] 'central\\_nervous\\_system'\n",
       "\\item[primary site: urinary\\textbackslash{}\\_tract] 'urinary\\_tract'\n",
       "\\item[primary site: urinary\\textbackslash{}\\_tract] 'urinary\\_tract'\n",
       "\\item[primary site: urinary\\textbackslash{}\\_tract] 'urinary\\_tract'\n",
       "\\item[primary site: haematopoietic\\textbackslash{}\\_and\\textbackslash{}\\_lymphoid\\textbackslash{}\\_tissue] 'haematopoietic\\_and\\_lymphoid\\_tissue'\n",
       "\\item[primary site: kidney] 'kidney'\n",
       "\\end{description*}\n"
      ],
      "text/markdown": [
       "primary site: central_nervous_system\n",
       ":   'central_nervous_system'primary site: bone\n",
       ":   'bone'primary site: prostate\n",
       ":   'prostate'primary site: stomach\n",
       ":   'stomach'primary site: central_nervous_system\n",
       ":   'central_nervous_system'primary site: urinary_tract\n",
       ":   'urinary_tract'primary site: urinary_tract\n",
       ":   'urinary_tract'primary site: urinary_tract\n",
       ":   'urinary_tract'primary site: haematopoietic_and_lymphoid_tissue\n",
       ":   'haematopoietic_and_lymphoid_tissue'primary site: kidney\n",
       ":   'kidney'\n",
       "\n"
      ],
      "text/plain": [
       "            primary site: central_nervous_system \n",
       "                        \"central_nervous_system\" \n",
       "                              primary site: bone \n",
       "                                          \"bone\" \n",
       "                          primary site: prostate \n",
       "                                      \"prostate\" \n",
       "                           primary site: stomach \n",
       "                                       \"stomach\" \n",
       "            primary site: central_nervous_system \n",
       "                        \"central_nervous_system\" \n",
       "                     primary site: urinary_tract \n",
       "                                 \"urinary_tract\" \n",
       "                     primary site: urinary_tract \n",
       "                                 \"urinary_tract\" \n",
       "                     primary site: urinary_tract \n",
       "                                 \"urinary_tract\" \n",
       "primary site: haematopoietic_and_lymphoid_tissue \n",
       "            \"haematopoietic_and_lymphoid_tissue\" \n",
       "                            primary site: kidney \n",
       "                                        \"kidney\" "
      ]
     },
     "metadata": {},
     "output_type": "display_data"
    }
   ],
   "source": [
    "source.vec[1:10]"
   ]
  },
  {
   "cell_type": "code",
   "execution_count": 15,
   "metadata": {},
   "outputs": [
    {
     "data": {
      "text/html": [
       "<style>\n",
       ".list-inline {list-style: none; margin:0; padding: 0}\n",
       ".list-inline>li {display: inline-block}\n",
       ".list-inline>li:not(:last-child)::after {content: \"\\00b7\"; padding: 0 .5ex}\n",
       "</style>\n",
       "<ol class=list-inline><li>'central_nervous_system'</li><li>'bone'</li><li>'prostate'</li><li>'stomach'</li><li>'central_nervous_system'</li><li>'urinary_tract'</li><li>'urinary_tract'</li><li>'urinary_tract'</li><li>'haematopoietic_and_lymphoid_tissue'</li><li>'kidney'</li></ol>\n"
      ],
      "text/latex": [
       "\\begin{enumerate*}\n",
       "\\item 'central\\_nervous\\_system'\n",
       "\\item 'bone'\n",
       "\\item 'prostate'\n",
       "\\item 'stomach'\n",
       "\\item 'central\\_nervous\\_system'\n",
       "\\item 'urinary\\_tract'\n",
       "\\item 'urinary\\_tract'\n",
       "\\item 'urinary\\_tract'\n",
       "\\item 'haematopoietic\\_and\\_lymphoid\\_tissue'\n",
       "\\item 'kidney'\n",
       "\\end{enumerate*}\n"
      ],
      "text/markdown": [
       "1. 'central_nervous_system'\n",
       "2. 'bone'\n",
       "3. 'prostate'\n",
       "4. 'stomach'\n",
       "5. 'central_nervous_system'\n",
       "6. 'urinary_tract'\n",
       "7. 'urinary_tract'\n",
       "8. 'urinary_tract'\n",
       "9. 'haematopoietic_and_lymphoid_tissue'\n",
       "10. 'kidney'\n",
       "\n",
       "\n"
      ],
      "text/plain": [
       " [1] \"central_nervous_system\"             \"bone\"                              \n",
       " [3] \"prostate\"                           \"stomach\"                           \n",
       " [5] \"central_nervous_system\"             \"urinary_tract\"                     \n",
       " [7] \"urinary_tract\"                      \"urinary_tract\"                     \n",
       " [9] \"haematopoietic_and_lymphoid_tissue\" \"kidney\"                            "
      ]
     },
     "metadata": {},
     "output_type": "display_data"
    }
   ],
   "source": [
    "as.character(source.vec[1:10])"
   ]
  },
  {
   "cell_type": "code",
   "execution_count": 16,
   "metadata": {},
   "outputs": [
    {
     "data": {
      "text/html": [
       "<style>\n",
       ".list-inline {list-style: none; margin:0; padding: 0}\n",
       ".list-inline>li {display: inline-block}\n",
       ".list-inline>li:not(:last-child)::after {content: \"\\00b7\"; padding: 0 .5ex}\n",
       "</style>\n",
       "<ol class=list-inline><li>'central_nervous_system'</li><li>'bone'</li><li>'prostate'</li><li>'stomach'</li><li>'urinary_tract'</li><li>'haematopoietic_and_lymphoid_tissue'</li><li>'kidney'</li><li>'thyroid'</li><li>'skin'</li><li>'soft_tissue'</li><li>'salivary_gland'</li><li>'ovary'</li><li>'lung'</li><li>'pleura'</li><li>'liver'</li><li>'endometrium'</li><li>'pancreas'</li><li>'breast'</li><li>'upper_aerodigestive_tract'</li><li>'large_intestine'</li><li>'autonomic_ganglia'</li><li>'oesophagus'</li><li>'biliary_tract'</li><li>'small_intestine'</li></ol>\n"
      ],
      "text/latex": [
       "\\begin{enumerate*}\n",
       "\\item 'central\\_nervous\\_system'\n",
       "\\item 'bone'\n",
       "\\item 'prostate'\n",
       "\\item 'stomach'\n",
       "\\item 'urinary\\_tract'\n",
       "\\item 'haematopoietic\\_and\\_lymphoid\\_tissue'\n",
       "\\item 'kidney'\n",
       "\\item 'thyroid'\n",
       "\\item 'skin'\n",
       "\\item 'soft\\_tissue'\n",
       "\\item 'salivary\\_gland'\n",
       "\\item 'ovary'\n",
       "\\item 'lung'\n",
       "\\item 'pleura'\n",
       "\\item 'liver'\n",
       "\\item 'endometrium'\n",
       "\\item 'pancreas'\n",
       "\\item 'breast'\n",
       "\\item 'upper\\_aerodigestive\\_tract'\n",
       "\\item 'large\\_intestine'\n",
       "\\item 'autonomic\\_ganglia'\n",
       "\\item 'oesophagus'\n",
       "\\item 'biliary\\_tract'\n",
       "\\item 'small\\_intestine'\n",
       "\\end{enumerate*}\n"
      ],
      "text/markdown": [
       "1. 'central_nervous_system'\n",
       "2. 'bone'\n",
       "3. 'prostate'\n",
       "4. 'stomach'\n",
       "5. 'urinary_tract'\n",
       "6. 'haematopoietic_and_lymphoid_tissue'\n",
       "7. 'kidney'\n",
       "8. 'thyroid'\n",
       "9. 'skin'\n",
       "10. 'soft_tissue'\n",
       "11. 'salivary_gland'\n",
       "12. 'ovary'\n",
       "13. 'lung'\n",
       "14. 'pleura'\n",
       "15. 'liver'\n",
       "16. 'endometrium'\n",
       "17. 'pancreas'\n",
       "18. 'breast'\n",
       "19. 'upper_aerodigestive_tract'\n",
       "20. 'large_intestine'\n",
       "21. 'autonomic_ganglia'\n",
       "22. 'oesophagus'\n",
       "23. 'biliary_tract'\n",
       "24. 'small_intestine'\n",
       "\n",
       "\n"
      ],
      "text/plain": [
       " [1] \"central_nervous_system\"             \"bone\"                              \n",
       " [3] \"prostate\"                           \"stomach\"                           \n",
       " [5] \"urinary_tract\"                      \"haematopoietic_and_lymphoid_tissue\"\n",
       " [7] \"kidney\"                             \"thyroid\"                           \n",
       " [9] \"skin\"                               \"soft_tissue\"                       \n",
       "[11] \"salivary_gland\"                     \"ovary\"                             \n",
       "[13] \"lung\"                               \"pleura\"                            \n",
       "[15] \"liver\"                              \"endometrium\"                       \n",
       "[17] \"pancreas\"                           \"breast\"                            \n",
       "[19] \"upper_aerodigestive_tract\"          \"large_intestine\"                   \n",
       "[21] \"autonomic_ganglia\"                  \"oesophagus\"                        \n",
       "[23] \"biliary_tract\"                      \"small_intestine\"                   "
      ]
     },
     "metadata": {},
     "output_type": "display_data"
    }
   ],
   "source": [
    "# get all the unique cell lines\n",
    "unique(as.character(source.vec))"
   ]
  },
  {
   "cell_type": "code",
   "execution_count": 17,
   "metadata": {
    "collapsed": false,
    "jupyter": {
     "outputs_hidden": false
    }
   },
   "outputs": [
    {
     "data": {
      "text/html": [
       "917"
      ],
      "text/latex": [
       "917"
      ],
      "text/markdown": [
       "917"
      ],
      "text/plain": [
       "[1] 917"
      ]
     },
     "metadata": {},
     "output_type": "display_data"
    }
   ],
   "source": [
    "# sanity check: how many experiments do we have?\n",
    "length (source.vec)"
   ]
  },
  {
   "cell_type": "code",
   "execution_count": 18,
   "metadata": {
    "collapsed": false,
    "jupyter": {
     "outputs_hidden": false
    }
   },
   "outputs": [
    {
     "data": {
      "text/html": [
       "24"
      ],
      "text/latex": [
       "24"
      ],
      "text/markdown": [
       "24"
      ],
      "text/plain": [
       "[1] 24"
      ]
     },
     "metadata": {},
     "output_type": "display_data"
    }
   ],
   "source": [
    "# how many unique cell lines do we have?\n",
    "unique.source.vec <- unique (as.character(source.vec))\n",
    "length(unique (as.character(source.vec)))"
   ]
  },
  {
   "cell_type": "code",
   "execution_count": 15,
   "metadata": {
    "collapsed": false,
    "jupyter": {
     "outputs_hidden": false
    }
   },
   "outputs": [
    {
     "data": {
      "text/html": [
       "166"
      ],
      "text/latex": [
       "166"
      ],
      "text/markdown": [
       "166"
      ],
      "text/plain": [
       "[1] 166"
      ]
     },
     "metadata": {},
     "output_type": "display_data"
    }
   ],
   "source": [
    "# how many cell lines are of the type \"lung\"?\n",
    "sum (as.character(source.vec)==\"lung\")"
   ]
  },
  {
   "cell_type": "markdown",
   "metadata": {},
   "source": [
    "## Your task: how to compute the count for each unique cell line"
   ]
  },
  {
   "cell_type": "code",
   "execution_count": 16,
   "metadata": {},
   "outputs": [
    {
     "data": {
      "text/html": [
       "<style>\n",
       ".dl-inline {width: auto; margin:0; padding: 0}\n",
       ".dl-inline>dt, .dl-inline>dd {float: none; width: auto; display: inline-block}\n",
       ".dl-inline>dt::after {content: \":\\0020\"; padding-right: .5ex}\n",
       ".dl-inline>dt:not(:first-of-type) {padding-left: .5ex}\n",
       "</style><dl class=dl-inline><dt>central_nervous_system</dt><dd>47</dd><dt>bone</dt><dd>25</dd><dt>prostate</dt><dd>7</dd><dt>stomach</dt><dd>34</dd><dt>urinary_tract</dt><dd>22</dd><dt>haematopoietic_and_lymphoid_tissue</dt><dd>172</dd><dt>kidney</dt><dd>20</dd><dt>thyroid</dt><dd>11</dd><dt>skin</dt><dd>58</dd><dt>soft_tissue</dt><dd>16</dd><dt>salivary_gland</dt><dd>2</dd><dt>ovary</dt><dd>44</dd><dt>lung</dt><dd>166</dd><dt>pleura</dt><dd>9</dd><dt>liver</dt><dd>26</dd><dt>endometrium</dt><dd>25</dd><dt>pancreas</dt><dd>43</dd><dt>breast</dt><dd>56</dd><dt>upper_aerodigestive_tract</dt><dd>29</dd><dt>large_intestine</dt><dd>55</dd><dt>autonomic_ganglia</dt><dd>17</dd><dt>oesophagus</dt><dd>25</dd><dt>biliary_tract</dt><dd>7</dd><dt>small_intestine</dt><dd>1</dd></dl>\n"
      ],
      "text/latex": [
       "\\begin{description*}\n",
       "\\item[central\\textbackslash{}\\_nervous\\textbackslash{}\\_system] 47\n",
       "\\item[bone] 25\n",
       "\\item[prostate] 7\n",
       "\\item[stomach] 34\n",
       "\\item[urinary\\textbackslash{}\\_tract] 22\n",
       "\\item[haematopoietic\\textbackslash{}\\_and\\textbackslash{}\\_lymphoid\\textbackslash{}\\_tissue] 172\n",
       "\\item[kidney] 20\n",
       "\\item[thyroid] 11\n",
       "\\item[skin] 58\n",
       "\\item[soft\\textbackslash{}\\_tissue] 16\n",
       "\\item[salivary\\textbackslash{}\\_gland] 2\n",
       "\\item[ovary] 44\n",
       "\\item[lung] 166\n",
       "\\item[pleura] 9\n",
       "\\item[liver] 26\n",
       "\\item[endometrium] 25\n",
       "\\item[pancreas] 43\n",
       "\\item[breast] 56\n",
       "\\item[upper\\textbackslash{}\\_aerodigestive\\textbackslash{}\\_tract] 29\n",
       "\\item[large\\textbackslash{}\\_intestine] 55\n",
       "\\item[autonomic\\textbackslash{}\\_ganglia] 17\n",
       "\\item[oesophagus] 25\n",
       "\\item[biliary\\textbackslash{}\\_tract] 7\n",
       "\\item[small\\textbackslash{}\\_intestine] 1\n",
       "\\end{description*}\n"
      ],
      "text/markdown": [
       "central_nervous_system\n",
       ":   47bone\n",
       ":   25prostate\n",
       ":   7stomach\n",
       ":   34urinary_tract\n",
       ":   22haematopoietic_and_lymphoid_tissue\n",
       ":   172kidney\n",
       ":   20thyroid\n",
       ":   11skin\n",
       ":   58soft_tissue\n",
       ":   16salivary_gland\n",
       ":   2ovary\n",
       ":   44lung\n",
       ":   166pleura\n",
       ":   9liver\n",
       ":   26endometrium\n",
       ":   25pancreas\n",
       ":   43breast\n",
       ":   56upper_aerodigestive_tract\n",
       ":   29large_intestine\n",
       ":   55autonomic_ganglia\n",
       ":   17oesophagus\n",
       ":   25biliary_tract\n",
       ":   7small_intestine\n",
       ":   1\n",
       "\n"
      ],
      "text/plain": [
       "            central_nervous_system                               bone \n",
       "                                47                                 25 \n",
       "                          prostate                            stomach \n",
       "                                 7                                 34 \n",
       "                     urinary_tract haematopoietic_and_lymphoid_tissue \n",
       "                                22                                172 \n",
       "                            kidney                            thyroid \n",
       "                                20                                 11 \n",
       "                              skin                        soft_tissue \n",
       "                                58                                 16 \n",
       "                    salivary_gland                              ovary \n",
       "                                 2                                 44 \n",
       "                              lung                             pleura \n",
       "                               166                                  9 \n",
       "                             liver                        endometrium \n",
       "                                26                                 25 \n",
       "                          pancreas                             breast \n",
       "                                43                                 56 \n",
       "         upper_aerodigestive_tract                    large_intestine \n",
       "                                29                                 55 \n",
       "                 autonomic_ganglia                         oesophagus \n",
       "                                17                                 25 \n",
       "                     biliary_tract                    small_intestine \n",
       "                                 7                                  1 "
      ]
     },
     "metadata": {},
     "output_type": "display_data"
    }
   ],
   "source": [
    "unique.source.vec <- unique(as.character(source.vec))\n",
    "count.per.source <- sapply (unique.source.vec, function (x) {sum(as.character(source.vec) == x)})\n",
    "count.per.source"
   ]
  },
  {
   "cell_type": "code",
   "execution_count": 17,
   "metadata": {},
   "outputs": [],
   "source": [
    "# get the indices of \"bone\" cell lines\n",
    "bone.ind <- which (as.character(source.vec) == \"bone\")\n",
    "# get the indices of \"oesophagus\" cell lines\n",
    "oesophagus.ind <- which (as.character(source.vec) == \"oesophagus\")"
   ]
  },
  {
   "cell_type": "code",
   "execution_count": 18,
   "metadata": {},
   "outputs": [
    {
     "data": {
      "text/html": [
       "<style>\n",
       ".list-inline {list-style: none; margin:0; padding: 0}\n",
       ".list-inline>li {display: inline-block}\n",
       ".list-inline>li:not(:last-child)::after {content: \"\\00b7\"; padding: 0 .5ex}\n",
       "</style>\n",
       "<ol class=list-inline><li>18926</li><li>50</li></ol>\n"
      ],
      "text/latex": [
       "\\begin{enumerate*}\n",
       "\\item 18926\n",
       "\\item 50\n",
       "\\end{enumerate*}\n"
      ],
      "text/markdown": [
       "1. 18926\n",
       "2. 50\n",
       "\n",
       "\n"
      ],
      "text/plain": [
       "[1] 18926    50"
      ]
     },
     "metadata": {},
     "output_type": "display_data"
    }
   ],
   "source": [
    "# create a new matrix consisting of all the bone cell lines, followed by the oesophagus cell lines\n",
    "mat.sub <- mat[, c(bone.ind, oesophagus.ind)]\n",
    "dim (mat.sub)"
   ]
  },
  {
   "cell_type": "markdown",
   "metadata": {},
   "source": [
    "### first 25 columns in mat.sub correspond to \"bone\" samples, second 25 columns correspond to \"oesophagus\""
   ]
  },
  {
   "cell_type": "code",
   "execution_count": 19,
   "metadata": {},
   "outputs": [],
   "source": [
    "write.table (mat.sub, file=\"CCLE_expr_bone_oesophagus.txt\", sep=\"\\t\", quote=F, row.names=T, col.names=T)"
   ]
  },
  {
   "cell_type": "code",
   "execution_count": 20,
   "metadata": {},
   "outputs": [
    {
     "data": {
      "text/html": [
       "<style>\n",
       ".list-inline {list-style: none; margin:0; padding: 0}\n",
       ".list-inline>li {display: inline-block}\n",
       ".list-inline>li:not(:last-child)::after {content: \"\\00b7\"; padding: 0 .5ex}\n",
       "</style>\n",
       "<ol class=list-inline><li>2</li><li>25</li><li>67</li><li>78</li><li>181</li><li>254</li><li>276</li><li>278</li><li>284</li><li>285</li><li>286</li><li>290</li><li>291</li><li>292</li><li>480</li><li>484</li><li>646</li><li>693</li><li>740</li><li>743</li><li>762</li><li>832</li><li>848</li><li>855</li><li>888</li></ol>\n"
      ],
      "text/latex": [
       "\\begin{enumerate*}\n",
       "\\item 2\n",
       "\\item 25\n",
       "\\item 67\n",
       "\\item 78\n",
       "\\item 181\n",
       "\\item 254\n",
       "\\item 276\n",
       "\\item 278\n",
       "\\item 284\n",
       "\\item 285\n",
       "\\item 286\n",
       "\\item 290\n",
       "\\item 291\n",
       "\\item 292\n",
       "\\item 480\n",
       "\\item 484\n",
       "\\item 646\n",
       "\\item 693\n",
       "\\item 740\n",
       "\\item 743\n",
       "\\item 762\n",
       "\\item 832\n",
       "\\item 848\n",
       "\\item 855\n",
       "\\item 888\n",
       "\\end{enumerate*}\n"
      ],
      "text/markdown": [
       "1. 2\n",
       "2. 25\n",
       "3. 67\n",
       "4. 78\n",
       "5. 181\n",
       "6. 254\n",
       "7. 276\n",
       "8. 278\n",
       "9. 284\n",
       "10. 285\n",
       "11. 286\n",
       "12. 290\n",
       "13. 291\n",
       "14. 292\n",
       "15. 480\n",
       "16. 484\n",
       "17. 646\n",
       "18. 693\n",
       "19. 740\n",
       "20. 743\n",
       "21. 762\n",
       "22. 832\n",
       "23. 848\n",
       "24. 855\n",
       "25. 888\n",
       "\n",
       "\n"
      ],
      "text/plain": [
       " [1]   2  25  67  78 181 254 276 278 284 285 286 290 291 292 480 484 646 693 740\n",
       "[20] 743 762 832 848 855 888"
      ]
     },
     "metadata": {},
     "output_type": "display_data"
    }
   ],
   "source": [
    "bone.ind"
   ]
  },
  {
   "cell_type": "code",
   "execution_count": 21,
   "metadata": {},
   "outputs": [
    {
     "data": {
      "text/html": [
       "<style>\n",
       ".list-inline {list-style: none; margin:0; padding: 0}\n",
       ".list-inline>li {display: inline-block}\n",
       ".list-inline>li:not(:last-child)::after {content: \"\\00b7\"; padding: 0 .5ex}\n",
       "</style>\n",
       "<ol class=list-inline><li>111</li><li>162</li><li>413</li><li>414</li><li>415</li><li>416</li><li>417</li><li>418</li><li>419</li><li>420</li><li>421</li><li>422</li><li>641</li><li>642</li><li>857</li><li>858</li><li>859</li><li>860</li><li>861</li><li>863</li><li>864</li><li>866</li><li>867</li><li>868</li><li>879</li></ol>\n"
      ],
      "text/latex": [
       "\\begin{enumerate*}\n",
       "\\item 111\n",
       "\\item 162\n",
       "\\item 413\n",
       "\\item 414\n",
       "\\item 415\n",
       "\\item 416\n",
       "\\item 417\n",
       "\\item 418\n",
       "\\item 419\n",
       "\\item 420\n",
       "\\item 421\n",
       "\\item 422\n",
       "\\item 641\n",
       "\\item 642\n",
       "\\item 857\n",
       "\\item 858\n",
       "\\item 859\n",
       "\\item 860\n",
       "\\item 861\n",
       "\\item 863\n",
       "\\item 864\n",
       "\\item 866\n",
       "\\item 867\n",
       "\\item 868\n",
       "\\item 879\n",
       "\\end{enumerate*}\n"
      ],
      "text/markdown": [
       "1. 111\n",
       "2. 162\n",
       "3. 413\n",
       "4. 414\n",
       "5. 415\n",
       "6. 416\n",
       "7. 417\n",
       "8. 418\n",
       "9. 419\n",
       "10. 420\n",
       "11. 421\n",
       "12. 422\n",
       "13. 641\n",
       "14. 642\n",
       "15. 857\n",
       "16. 858\n",
       "17. 859\n",
       "18. 860\n",
       "19. 861\n",
       "20. 863\n",
       "21. 864\n",
       "22. 866\n",
       "23. 867\n",
       "24. 868\n",
       "25. 879\n",
       "\n",
       "\n"
      ],
      "text/plain": [
       " [1] 111 162 413 414 415 416 417 418 419 420 421 422 641 642 857 858 859 860 861\n",
       "[20] 863 864 866 867 868 879"
      ]
     },
     "metadata": {},
     "output_type": "display_data"
    }
   ],
   "source": [
    "oesophagus.ind"
   ]
  },
  {
   "cell_type": "code",
   "execution_count": 22,
   "metadata": {},
   "outputs": [
    {
     "data": {
      "text/html": [
       "<style>\n",
       ".list-inline {list-style: none; margin:0; padding: 0}\n",
       ".list-inline>li {display: inline-block}\n",
       ".list-inline>li:not(:last-child)::after {content: \"\\00b7\"; padding: 0 .5ex}\n",
       "</style>\n",
       "<ol class=list-inline><li>2</li><li>25</li><li>67</li><li>78</li><li>181</li><li>254</li><li>276</li><li>278</li><li>284</li><li>285</li><li>286</li><li>290</li><li>291</li><li>292</li><li>480</li><li>484</li><li>646</li><li>693</li><li>740</li><li>743</li><li>762</li><li>832</li><li>848</li><li>855</li><li>888</li><li>111</li><li>162</li><li>413</li><li>414</li><li>415</li><li>416</li><li>417</li><li>418</li><li>419</li><li>420</li><li>421</li><li>422</li><li>641</li><li>642</li><li>857</li><li>858</li><li>859</li><li>860</li><li>861</li><li>863</li><li>864</li><li>866</li><li>867</li><li>868</li><li>879</li></ol>\n"
      ],
      "text/latex": [
       "\\begin{enumerate*}\n",
       "\\item 2\n",
       "\\item 25\n",
       "\\item 67\n",
       "\\item 78\n",
       "\\item 181\n",
       "\\item 254\n",
       "\\item 276\n",
       "\\item 278\n",
       "\\item 284\n",
       "\\item 285\n",
       "\\item 286\n",
       "\\item 290\n",
       "\\item 291\n",
       "\\item 292\n",
       "\\item 480\n",
       "\\item 484\n",
       "\\item 646\n",
       "\\item 693\n",
       "\\item 740\n",
       "\\item 743\n",
       "\\item 762\n",
       "\\item 832\n",
       "\\item 848\n",
       "\\item 855\n",
       "\\item 888\n",
       "\\item 111\n",
       "\\item 162\n",
       "\\item 413\n",
       "\\item 414\n",
       "\\item 415\n",
       "\\item 416\n",
       "\\item 417\n",
       "\\item 418\n",
       "\\item 419\n",
       "\\item 420\n",
       "\\item 421\n",
       "\\item 422\n",
       "\\item 641\n",
       "\\item 642\n",
       "\\item 857\n",
       "\\item 858\n",
       "\\item 859\n",
       "\\item 860\n",
       "\\item 861\n",
       "\\item 863\n",
       "\\item 864\n",
       "\\item 866\n",
       "\\item 867\n",
       "\\item 868\n",
       "\\item 879\n",
       "\\end{enumerate*}\n"
      ],
      "text/markdown": [
       "1. 2\n",
       "2. 25\n",
       "3. 67\n",
       "4. 78\n",
       "5. 181\n",
       "6. 254\n",
       "7. 276\n",
       "8. 278\n",
       "9. 284\n",
       "10. 285\n",
       "11. 286\n",
       "12. 290\n",
       "13. 291\n",
       "14. 292\n",
       "15. 480\n",
       "16. 484\n",
       "17. 646\n",
       "18. 693\n",
       "19. 740\n",
       "20. 743\n",
       "21. 762\n",
       "22. 832\n",
       "23. 848\n",
       "24. 855\n",
       "25. 888\n",
       "26. 111\n",
       "27. 162\n",
       "28. 413\n",
       "29. 414\n",
       "30. 415\n",
       "31. 416\n",
       "32. 417\n",
       "33. 418\n",
       "34. 419\n",
       "35. 420\n",
       "36. 421\n",
       "37. 422\n",
       "38. 641\n",
       "39. 642\n",
       "40. 857\n",
       "41. 858\n",
       "42. 859\n",
       "43. 860\n",
       "44. 861\n",
       "45. 863\n",
       "46. 864\n",
       "47. 866\n",
       "48. 867\n",
       "49. 868\n",
       "50. 879\n",
       "\n",
       "\n"
      ],
      "text/plain": [
       " [1]   2  25  67  78 181 254 276 278 284 285 286 290 291 292 480 484 646 693 740\n",
       "[20] 743 762 832 848 855 888 111 162 413 414 415 416 417 418 419 420 421 422 641\n",
       "[39] 642 857 858 859 860 861 863 864 866 867 868 879"
      ]
     },
     "metadata": {},
     "output_type": "display_data"
    }
   ],
   "source": [
    "c(bone.ind, oesophagus.ind)"
   ]
  },
  {
   "cell_type": "code",
   "execution_count": null,
   "metadata": {},
   "outputs": [],
   "source": []
  },
  {
   "cell_type": "code",
   "execution_count": null,
   "metadata": {},
   "outputs": [],
   "source": []
  },
  {
   "cell_type": "markdown",
   "metadata": {},
   "source": [
    "## Differential expression using the t-test\n",
    "\n",
    "For each gene A, is the mean of this gene under the bone samples different from the mean of this gene under the oesophagus samples?"
   ]
  },
  {
   "cell_type": "code",
   "execution_count": 23,
   "metadata": {},
   "outputs": [
    {
     "data": {
      "text/plain": [
       "\n",
       "\tWelch Two Sample t-test\n",
       "\n",
       "data:  mat.sub[1, 1:25] and mat.sub[1, 26:50]\n",
       "t = -0.67926, df = 39.2, p-value = 0.501\n",
       "alternative hypothesis: true difference in means is not equal to 0\n",
       "95 percent confidence interval:\n",
       " -0.2862871  0.1423271\n",
       "sample estimates:\n",
       "mean of x mean of y \n",
       " 5.672396  5.744376 \n"
      ]
     },
     "metadata": {},
     "output_type": "display_data"
    }
   ],
   "source": [
    "# Apply the t-test to the first row (gene), comparing the distributions of the bone cell lines versus the oesophagus cell lines\n",
    "t.test (mat.sub[1, 1:25], mat.sub[1, 26:50])"
   ]
  },
  {
   "cell_type": "markdown",
   "metadata": {},
   "source": [
    "### performed t-test for 1 gene"
   ]
  },
  {
   "cell_type": "code",
   "execution_count": 24,
   "metadata": {},
   "outputs": [
    {
     "data": {
      "text/html": [
       "0.500966523469583"
      ],
      "text/latex": [
       "0.500966523469583"
      ],
      "text/markdown": [
       "0.500966523469583"
      ],
      "text/plain": [
       "[1] 0.5009665"
      ]
     },
     "metadata": {},
     "output_type": "display_data"
    }
   ],
   "source": [
    "# extract the p-value from the previous t-test\n",
    "t.test (mat.sub[1, 1:25], mat.sub[1, 26:50])$p.value"
   ]
  },
  {
   "cell_type": "code",
   "execution_count": null,
   "metadata": {},
   "outputs": [],
   "source": []
  },
  {
   "cell_type": "markdown",
   "metadata": {},
   "source": [
    "### for the first gene, we want to ask of the mean of the first gene is different under bones (first 25 samples 1:25) than under oesophagus (the second 25 samples 26:50)"
   ]
  },
  {
   "cell_type": "code",
   "execution_count": 27,
   "metadata": {},
   "outputs": [],
   "source": [
    "p.vec <- apply (mat.sub, 1, function (x) {t.test(x[1:25], x[26:50])$p.value})"
   ]
  },
  {
   "cell_type": "code",
   "execution_count": 28,
   "metadata": {},
   "outputs": [
    {
     "data": {
      "text/html": [
       "7495"
      ],
      "text/latex": [
       "7495"
      ],
      "text/markdown": [
       "7495"
      ],
      "text/plain": [
       "[1] 7495"
      ]
     },
     "metadata": {},
     "output_type": "display_data"
    }
   ],
   "source": [
    "sum (p.vec < 0.05)"
   ]
  },
  {
   "cell_type": "code",
   "execution_count": 29,
   "metadata": {},
   "outputs": [
    {
     "data": {
      "text/html": [
       "5050"
      ],
      "text/latex": [
       "5050"
      ],
      "text/markdown": [
       "5050"
      ],
      "text/plain": [
       "[1] 5050"
      ]
     },
     "metadata": {},
     "output_type": "display_data"
    }
   ],
   "source": [
    "sum (p.vec < 0.01)"
   ]
  },
  {
   "cell_type": "code",
   "execution_count": 30,
   "metadata": {},
   "outputs": [
    {
     "data": {
      "text/html": [
       "507"
      ],
      "text/latex": [
       "507"
      ],
      "text/markdown": [
       "507"
      ],
      "text/plain": [
       "[1] 507"
      ]
     },
     "metadata": {},
     "output_type": "display_data"
    }
   ],
   "source": [
    "sum (p.vec < 0.0000001)"
   ]
  },
  {
   "cell_type": "markdown",
   "metadata": {},
   "source": [
    "### The more stringent p-value threshold will give you fewer differentially expressed genes."
   ]
  },
  {
   "cell_type": "markdown",
   "metadata": {},
   "source": [
    "### For each gene, reject the null hypotheis (the means are the same) --> the gene is differentially expressed."
   ]
  },
  {
   "cell_type": "markdown",
   "metadata": {},
   "source": [
    "## Question: should we expect so many differentially expressed genes?"
   ]
  },
  {
   "cell_type": "markdown",
   "metadata": {},
   "source": [
    "### Bonferroni correction: p.value.threshold/(# independent t-tests)"
   ]
  },
  {
   "cell_type": "code",
   "execution_count": 31,
   "metadata": {},
   "outputs": [
    {
     "data": {
      "text/html": [
       "\n",
       "<table width=\"100%\" summary=\"page for p.adjust {stats}\"><tr><td>p.adjust {stats}</td><td style=\"text-align: right;\">R Documentation</td></tr></table>\n",
       "\n",
       "<h2>Adjust P-values for Multiple Comparisons</h2>\n",
       "\n",
       "<h3>Description</h3>\n",
       "\n",
       "<p>Given a set of p-values, returns p-values adjusted using\n",
       "one of several methods.</p>\n",
       "\n",
       "\n",
       "<h3>Usage</h3>\n",
       "\n",
       "<pre>\n",
       "p.adjust(p, method = p.adjust.methods, n = length(p))\n",
       "\n",
       "p.adjust.methods\n",
       "# c(\"holm\", \"hochberg\", \"hommel\", \"bonferroni\", \"BH\", \"BY\",\n",
       "#   \"fdr\", \"none\")\n",
       "</pre>\n",
       "\n",
       "\n",
       "<h3>Arguments</h3>\n",
       "\n",
       "<table summary=\"R argblock\">\n",
       "<tr valign=\"top\"><td><code>p</code></td>\n",
       "<td>\n",
       "<p>numeric vector of p-values (possibly with\n",
       "<code>NA</code>s).  Any other <span style=\"font-family: Courier New, Courier; color: #666666;\"><b>R</b></span> object is coerced by\n",
       "<code>as.numeric</code>.</p>\n",
       "</td></tr>\n",
       "<tr valign=\"top\"><td><code>method</code></td>\n",
       "<td>\n",
       "<p>correction method, a <code>character</code> string.\n",
       "Can be abbreviated.</p>\n",
       "</td></tr>\n",
       "<tr valign=\"top\"><td><code>n</code></td>\n",
       "<td>\n",
       "<p>number of comparisons, must be at least <code>length(p)</code>;\n",
       "only set this (to non-default) when you know what you are doing!</p>\n",
       "</td></tr>\n",
       "</table>\n",
       "\n",
       "\n",
       "<h3>Details</h3>\n",
       "\n",
       "<p>The adjustment methods include the Bonferroni correction\n",
       "(<code>\"bonferroni\"</code>) in which the p-values are multiplied by the\n",
       "number of comparisons.  Less conservative corrections are also\n",
       "included by Holm (1979) (<code>\"holm\"</code>), Hochberg (1988)\n",
       "(<code>\"hochberg\"</code>), Hommel (1988) (<code>\"hommel\"</code>), Benjamini &amp;\n",
       "Hochberg (1995) (<code>\"BH\"</code> or its alias <code>\"fdr\"</code>), and Benjamini &amp;\n",
       "Yekutieli (2001) (<code>\"BY\"</code>), respectively.\n",
       "A pass-through option (<code>\"none\"</code>) is also included.\n",
       "The set of methods are contained in the <code>p.adjust.methods</code> vector\n",
       "for the benefit of methods that need to have the method as an option\n",
       "and pass it on to <code>p.adjust</code>.\n",
       "</p>\n",
       "<p>The first four methods are designed to give strong control of the\n",
       "family-wise error rate.  There seems no reason to use the unmodified\n",
       "Bonferroni correction because it is dominated by Holm's method, which\n",
       "is also valid under arbitrary assumptions.\n",
       "</p>\n",
       "<p>Hochberg's and Hommel's methods are valid when the hypothesis tests\n",
       "are independent or when they are non-negatively associated (Sarkar,\n",
       "1998; Sarkar and Chang, 1997).  Hommel's method is more powerful than\n",
       "Hochberg's, but the difference is usually small and the Hochberg\n",
       "p-values are faster to compute.\n",
       "</p>\n",
       "<p>The <code>\"BH\"</code> (aka <code>\"fdr\"</code>) and <code>\"BY\"</code> methods of\n",
       "Benjamini, Hochberg, and Yekutieli control the false discovery rate,\n",
       "the expected proportion of false discoveries amongst the rejected\n",
       "hypotheses.  The false discovery rate is a less stringent condition\n",
       "than the family-wise error rate, so these methods are more powerful\n",
       "than the others.\n",
       "</p>\n",
       "<p>Note that you can set <code>n</code> larger than <code>length(p)</code> which\n",
       "means the unobserved p-values are assumed to be greater than all the\n",
       "observed p for <code>\"bonferroni\"</code> and <code>\"holm\"</code> methods and equal\n",
       "to 1 for the other methods.\n",
       "</p>\n",
       "\n",
       "\n",
       "<h3>Value</h3>\n",
       "\n",
       "<p>A numeric vector of corrected p-values (of the same length as\n",
       "<code>p</code>, with names copied from <code>p</code>).\n",
       "</p>\n",
       "\n",
       "\n",
       "<h3>References</h3>\n",
       "\n",
       "<p>Benjamini, Y., and Hochberg, Y. (1995).\n",
       "Controlling the false discovery rate: a practical and powerful\n",
       "approach to multiple testing.\n",
       "<em>Journal of the Royal Statistical Society Series B</em>, <b>57</b>,\n",
       "289&ndash;300.\n",
       "doi: <a href=\"https://doi.org/10.1111/j.2517-6161.1995.tb02031.x\">10.1111/j.2517-6161.1995.tb02031.x</a>.\n",
       "<a href=\"https://www.jstor.org/stable/2346101\">https://www.jstor.org/stable/2346101</a>.\n",
       "</p>\n",
       "<p>Benjamini, Y., and Yekutieli, D. (2001).\n",
       "The control of the false discovery rate in multiple testing under\n",
       "dependency.\n",
       "<em>Annals of Statistics</em>, <b>29</b>, 1165&ndash;1188.\n",
       "doi: <a href=\"https://doi.org/10.1214/aos/1013699998\">10.1214/aos/1013699998</a>.\n",
       "</p>\n",
       "<p>Holm, S. (1979).\n",
       "A simple sequentially rejective multiple test procedure.\n",
       "<em>Scandinavian Journal of Statistics</em>, <b>6</b>, 65&ndash;70.\n",
       "<a href=\"https://www.jstor.org/stable/4615733\">https://www.jstor.org/stable/4615733</a>.\n",
       "</p>\n",
       "<p>Hommel, G. (1988).\n",
       "A stagewise rejective multiple test procedure based on a modified\n",
       "Bonferroni test.\n",
       "<em>Biometrika</em>, <b>75</b>, 383&ndash;386.\n",
       "doi: <a href=\"https://doi.org/10.2307/2336190\">10.2307/2336190</a>.\n",
       "</p>\n",
       "<p>Hochberg, Y. (1988).\n",
       "A sharper Bonferroni procedure for multiple tests of significance.\n",
       "<em>Biometrika</em>, <b>75</b>, 800&ndash;803.\n",
       "doi: <a href=\"https://doi.org/10.2307/2336325\">10.2307/2336325</a>.\n",
       "</p>\n",
       "<p>Shaffer, J. P. (1995).\n",
       "Multiple hypothesis testing.\n",
       "<em>Annual Review of Psychology</em>, <b>46</b>, 561&ndash;584.\n",
       "doi: <a href=\"https://doi.org/10.1146/annurev.ps.46.020195.003021\">10.1146/annurev.ps.46.020195.003021</a>.\n",
       "(An excellent review of the area.)\n",
       "</p>\n",
       "<p>Sarkar, S. (1998).\n",
       "Some probability inequalities for ordered MTP2 random variables: a\n",
       "proof of Simes conjecture.\n",
       "<em>Annals of Statistics</em>, <b>26</b>, 494&ndash;504.\n",
       "doi: <a href=\"https://doi.org/10.1214/aos/1028144846\">10.1214/aos/1028144846</a>.\n",
       "</p>\n",
       "<p>Sarkar, S., and Chang, C. K. (1997).\n",
       "The Simes method for multiple hypothesis testing with positively\n",
       "dependent test statistics.\n",
       "<em>Journal of the American Statistical Association</em>, <b>92</b>,\n",
       "1601&ndash;1608.\n",
       "doi: <a href=\"https://doi.org/10.2307/2965431\">10.2307/2965431</a>.\n",
       "</p>\n",
       "<p>Wright, S. P. (1992).\n",
       "Adjusted P-values for simultaneous inference.\n",
       "<em>Biometrics</em>, <b>48</b>, 1005&ndash;1013.\n",
       "doi: <a href=\"https://doi.org/10.2307/2532694\">10.2307/2532694</a>.\n",
       "(Explains the adjusted P-value approach.)\n",
       "</p>\n",
       "\n",
       "\n",
       "<h3>See Also</h3>\n",
       "\n",
       "<p><code>pairwise.*</code> functions such as <code>pairwise.t.test</code>.\n",
       "</p>\n",
       "\n",
       "\n",
       "<h3>Examples</h3>\n",
       "\n",
       "<pre>\n",
       "require(graphics)\n",
       "\n",
       "set.seed(123)\n",
       "x &lt;- rnorm(50, mean = c(rep(0, 25), rep(3, 25)))\n",
       "p &lt;- 2*pnorm(sort(-abs(x)))\n",
       "\n",
       "round(p, 3)\n",
       "round(p.adjust(p), 3)\n",
       "round(p.adjust(p, \"BH\"), 3)\n",
       "\n",
       "## or all of them at once (dropping the \"fdr\" alias):\n",
       "p.adjust.M &lt;- p.adjust.methods[p.adjust.methods != \"fdr\"]\n",
       "p.adj    &lt;- sapply(p.adjust.M, function(meth) p.adjust(p, meth))\n",
       "p.adj.60 &lt;- sapply(p.adjust.M, function(meth) p.adjust(p, meth, n = 60))\n",
       "stopifnot(identical(p.adj[,\"none\"], p), p.adj &lt;= p.adj.60)\n",
       "round(p.adj, 3)\n",
       "## or a bit nicer:\n",
       "noquote(apply(p.adj, 2, format.pval, digits = 3))\n",
       "\n",
       "\n",
       "## and a graphic:\n",
       "matplot(p, p.adj, ylab=\"p.adjust(p, meth)\", type = \"l\", asp = 1, lty = 1:6,\n",
       "        main = \"P-value adjustments\")\n",
       "legend(0.7, 0.6, p.adjust.M, col = 1:6, lty = 1:6)\n",
       "\n",
       "## Can work with NA's:\n",
       "pN &lt;- p; iN &lt;- c(46, 47); pN[iN] &lt;- NA\n",
       "pN.a &lt;- sapply(p.adjust.M, function(meth) p.adjust(pN, meth))\n",
       "## The smallest 20 P-values all affected by the NA's :\n",
       "round((pN.a / p.adj)[1:20, ] , 4)\n",
       "</pre>\n",
       "\n",
       "<hr /><div style=\"text-align: center;\">[Package <em>stats</em> version 4.1.1 ]</div>"
      ],
      "text/latex": [
       "\\inputencoding{utf8}\n",
       "\\HeaderA{p.adjust}{Adjust P-values for Multiple Comparisons}{p.adjust}\n",
       "\\methaliasA{p.adjust.methods}{p.adjust}{p.adjust.methods}\n",
       "\\keyword{htest}{p.adjust}\n",
       "%\n",
       "\\begin{Description}\\relax\n",
       "Given a set of p-values, returns p-values adjusted using\n",
       "one of several methods.\n",
       "\\end{Description}\n",
       "%\n",
       "\\begin{Usage}\n",
       "\\begin{verbatim}\n",
       "p.adjust(p, method = p.adjust.methods, n = length(p))\n",
       "\n",
       "p.adjust.methods\n",
       "# c(\"holm\", \"hochberg\", \"hommel\", \"bonferroni\", \"BH\", \"BY\",\n",
       "#   \"fdr\", \"none\")\n",
       "\\end{verbatim}\n",
       "\\end{Usage}\n",
       "%\n",
       "\\begin{Arguments}\n",
       "\\begin{ldescription}\n",
       "\\item[\\code{p}] numeric vector of p-values (possibly with\n",
       "\\code{\\LinkA{NA}{NA}}s).  Any other \\R{} object is coerced by\n",
       "\\code{\\LinkA{as.numeric}{as.numeric}}.\n",
       "\\item[\\code{method}] correction method, a \\code{\\LinkA{character}{character}} string.\n",
       "Can be abbreviated.\n",
       "\\item[\\code{n}] number of comparisons, must be at least \\code{length(p)};\n",
       "only set this (to non-default) when you know what you are doing!\n",
       "\\end{ldescription}\n",
       "\\end{Arguments}\n",
       "%\n",
       "\\begin{Details}\\relax\n",
       "The adjustment methods include the Bonferroni correction\n",
       "(\\code{\"bonferroni\"}) in which the p-values are multiplied by the\n",
       "number of comparisons.  Less conservative corrections are also\n",
       "included by Holm (1979) (\\code{\"holm\"}), Hochberg (1988)\n",
       "(\\code{\"hochberg\"}), Hommel (1988) (\\code{\"hommel\"}), Benjamini \\&\n",
       "Hochberg (1995) (\\code{\"BH\"} or its alias \\code{\"fdr\"}), and Benjamini \\&\n",
       "Yekutieli (2001) (\\code{\"BY\"}), respectively.\n",
       "A pass-through option (\\code{\"none\"}) is also included.\n",
       "The set of methods are contained in the \\code{p.adjust.methods} vector\n",
       "for the benefit of methods that need to have the method as an option\n",
       "and pass it on to \\code{p.adjust}.\n",
       "\n",
       "The first four methods are designed to give strong control of the\n",
       "family-wise error rate.  There seems no reason to use the unmodified\n",
       "Bonferroni correction because it is dominated by Holm's method, which\n",
       "is also valid under arbitrary assumptions.\n",
       "\n",
       "Hochberg's and Hommel's methods are valid when the hypothesis tests\n",
       "are independent or when they are non-negatively associated (Sarkar,\n",
       "1998; Sarkar and Chang, 1997).  Hommel's method is more powerful than\n",
       "Hochberg's, but the difference is usually small and the Hochberg\n",
       "p-values are faster to compute.\n",
       "\n",
       "The \\code{\"BH\"} (aka \\code{\"fdr\"}) and \\code{\"BY\"} methods of\n",
       "Benjamini, Hochberg, and Yekutieli control the false discovery rate,\n",
       "the expected proportion of false discoveries amongst the rejected\n",
       "hypotheses.  The false discovery rate is a less stringent condition\n",
       "than the family-wise error rate, so these methods are more powerful\n",
       "than the others.\n",
       "\n",
       "Note that you can set \\code{n} larger than \\code{length(p)} which\n",
       "means the unobserved p-values are assumed to be greater than all the\n",
       "observed p for \\code{\"bonferroni\"} and \\code{\"holm\"} methods and equal\n",
       "to 1 for the other methods.\n",
       "\\end{Details}\n",
       "%\n",
       "\\begin{Value}\n",
       "A numeric vector of corrected p-values (of the same length as\n",
       "\\code{p}, with names copied from \\code{p}).\n",
       "\\end{Value}\n",
       "%\n",
       "\\begin{References}\\relax\n",
       "Benjamini, Y., and Hochberg, Y. (1995).\n",
       "Controlling the false discovery rate: a practical and powerful\n",
       "approach to multiple testing.\n",
       "\\emph{Journal of the Royal Statistical Society Series B}, \\bold{57},\n",
       "289--300.\n",
       "doi:\\nobreakspace{}\\Rhref{https://doi.org/10.1111/j.2517-6161.1995.tb02031.x}{10.1111\\slash{}j.2517\\-6161.1995.tb02031.x}.\n",
       "\\url{https://www.jstor.org/stable/2346101}.\n",
       "\n",
       "Benjamini, Y., and Yekutieli, D. (2001).\n",
       "The control of the false discovery rate in multiple testing under\n",
       "dependency.\n",
       "\\emph{Annals of Statistics}, \\bold{29}, 1165--1188.\n",
       "doi:\\nobreakspace{}\\Rhref{https://doi.org/10.1214/aos/1013699998}{10.1214\\slash{}aos\\slash{}1013699998}.\n",
       "\n",
       "Holm, S. (1979).\n",
       "A simple sequentially rejective multiple test procedure.\n",
       "\\emph{Scandinavian Journal of Statistics}, \\bold{6}, 65--70.\n",
       "\\url{https://www.jstor.org/stable/4615733}.\n",
       "\n",
       "Hommel, G. (1988).\n",
       "A stagewise rejective multiple test procedure based on a modified\n",
       "Bonferroni test.\n",
       "\\emph{Biometrika}, \\bold{75}, 383--386.\n",
       "doi:\\nobreakspace{}\\Rhref{https://doi.org/10.2307/2336190}{10.2307\\slash{}2336190}.\n",
       "\n",
       "Hochberg, Y. (1988).\n",
       "A sharper Bonferroni procedure for multiple tests of significance.\n",
       "\\emph{Biometrika}, \\bold{75}, 800--803.\n",
       "doi:\\nobreakspace{}\\Rhref{https://doi.org/10.2307/2336325}{10.2307\\slash{}2336325}.\n",
       "\n",
       "Shaffer, J. P. (1995).\n",
       "Multiple hypothesis testing.\n",
       "\\emph{Annual Review of Psychology}, \\bold{46}, 561--584.\n",
       "doi:\\nobreakspace{}\\Rhref{https://doi.org/10.1146/annurev.ps.46.020195.003021}{10.1146\\slash{}annurev.ps.46.020195.003021}.\n",
       "(An excellent review of the area.)\n",
       "\n",
       "Sarkar, S. (1998).\n",
       "Some probability inequalities for ordered MTP2 random variables: a\n",
       "proof of Simes conjecture.\n",
       "\\emph{Annals of Statistics}, \\bold{26}, 494--504.\n",
       "doi:\\nobreakspace{}\\Rhref{https://doi.org/10.1214/aos/1028144846}{10.1214\\slash{}aos\\slash{}1028144846}.\n",
       "\n",
       "Sarkar, S., and Chang, C. K. (1997).\n",
       "The Simes method for multiple hypothesis testing with positively\n",
       "dependent test statistics.\n",
       "\\emph{Journal of the American Statistical Association}, \\bold{92},\n",
       "1601--1608.\n",
       "doi:\\nobreakspace{}\\Rhref{https://doi.org/10.2307/2965431}{10.2307\\slash{}2965431}.\n",
       "\n",
       "Wright, S. P. (1992).\n",
       "Adjusted P-values for simultaneous inference.\n",
       "\\emph{Biometrics}, \\bold{48}, 1005--1013.\n",
       "doi:\\nobreakspace{}\\Rhref{https://doi.org/10.2307/2532694}{10.2307\\slash{}2532694}.\n",
       "(Explains the adjusted P-value approach.)\n",
       "\\end{References}\n",
       "%\n",
       "\\begin{SeeAlso}\\relax\n",
       "\\code{pairwise.*} functions such as \\code{\\LinkA{pairwise.t.test}{pairwise.t.test}}.\n",
       "\\end{SeeAlso}\n",
       "%\n",
       "\\begin{Examples}\n",
       "\\begin{ExampleCode}\n",
       "require(graphics)\n",
       "\n",
       "set.seed(123)\n",
       "x <- rnorm(50, mean = c(rep(0, 25), rep(3, 25)))\n",
       "p <- 2*pnorm(sort(-abs(x)))\n",
       "\n",
       "round(p, 3)\n",
       "round(p.adjust(p), 3)\n",
       "round(p.adjust(p, \"BH\"), 3)\n",
       "\n",
       "## or all of them at once (dropping the \"fdr\" alias):\n",
       "p.adjust.M <- p.adjust.methods[p.adjust.methods != \"fdr\"]\n",
       "p.adj    <- sapply(p.adjust.M, function(meth) p.adjust(p, meth))\n",
       "p.adj.60 <- sapply(p.adjust.M, function(meth) p.adjust(p, meth, n = 60))\n",
       "stopifnot(identical(p.adj[,\"none\"], p), p.adj <= p.adj.60)\n",
       "round(p.adj, 3)\n",
       "## or a bit nicer:\n",
       "noquote(apply(p.adj, 2, format.pval, digits = 3))\n",
       "\n",
       "\n",
       "## and a graphic:\n",
       "matplot(p, p.adj, ylab=\"p.adjust(p, meth)\", type = \"l\", asp = 1, lty = 1:6,\n",
       "        main = \"P-value adjustments\")\n",
       "legend(0.7, 0.6, p.adjust.M, col = 1:6, lty = 1:6)\n",
       "\n",
       "## Can work with NA's:\n",
       "pN <- p; iN <- c(46, 47); pN[iN] <- NA\n",
       "pN.a <- sapply(p.adjust.M, function(meth) p.adjust(pN, meth))\n",
       "## The smallest 20 P-values all affected by the NA's :\n",
       "round((pN.a / p.adj)[1:20, ] , 4)\n",
       "\\end{ExampleCode}\n",
       "\\end{Examples}"
      ],
      "text/plain": [
       "p.adjust                 package:stats                 R Documentation\n",
       "\n",
       "_\bA_\bd_\bj_\bu_\bs_\bt _\bP-_\bv_\ba_\bl_\bu_\be_\bs _\bf_\bo_\br _\bM_\bu_\bl_\bt_\bi_\bp_\bl_\be _\bC_\bo_\bm_\bp_\ba_\br_\bi_\bs_\bo_\bn_\bs\n",
       "\n",
       "_\bD_\be_\bs_\bc_\br_\bi_\bp_\bt_\bi_\bo_\bn:\n",
       "\n",
       "     Given a set of p-values, returns p-values adjusted using one of\n",
       "     several methods.\n",
       "\n",
       "_\bU_\bs_\ba_\bg_\be:\n",
       "\n",
       "     p.adjust(p, method = p.adjust.methods, n = length(p))\n",
       "     \n",
       "     p.adjust.methods\n",
       "     # c(\"holm\", \"hochberg\", \"hommel\", \"bonferroni\", \"BH\", \"BY\",\n",
       "     #   \"fdr\", \"none\")\n",
       "     \n",
       "_\bA_\br_\bg_\bu_\bm_\be_\bn_\bt_\bs:\n",
       "\n",
       "       p: numeric vector of p-values (possibly with ‘NA’s).  Any other\n",
       "          R object is coerced by ‘as.numeric’.\n",
       "\n",
       "  method: correction method, a ‘character’ string.  Can be abbreviated.\n",
       "\n",
       "       n: number of comparisons, must be at least ‘length(p)’; only set\n",
       "          this (to non-default) when you know what you are doing!\n",
       "\n",
       "_\bD_\be_\bt_\ba_\bi_\bl_\bs:\n",
       "\n",
       "     The adjustment methods include the Bonferroni correction\n",
       "     (‘\"bonferroni\"’) in which the p-values are multiplied by the\n",
       "     number of comparisons.  Less conservative corrections are also\n",
       "     included by Holm (1979) (‘\"holm\"’), Hochberg (1988)\n",
       "     (‘\"hochberg\"’), Hommel (1988) (‘\"hommel\"’), Benjamini & Hochberg\n",
       "     (1995) (‘\"BH\"’ or its alias ‘\"fdr\"’), and Benjamini & Yekutieli\n",
       "     (2001) (‘\"BY\"’), respectively.  A pass-through option (‘\"none\"’)\n",
       "     is also included.  The set of methods are contained in the\n",
       "     ‘p.adjust.methods’ vector for the benefit of methods that need to\n",
       "     have the method as an option and pass it on to ‘p.adjust’.\n",
       "\n",
       "     The first four methods are designed to give strong control of the\n",
       "     family-wise error rate.  There seems no reason to use the\n",
       "     unmodified Bonferroni correction because it is dominated by Holm's\n",
       "     method, which is also valid under arbitrary assumptions.\n",
       "\n",
       "     Hochberg's and Hommel's methods are valid when the hypothesis\n",
       "     tests are independent or when they are non-negatively associated\n",
       "     (Sarkar, 1998; Sarkar and Chang, 1997).  Hommel's method is more\n",
       "     powerful than Hochberg's, but the difference is usually small and\n",
       "     the Hochberg p-values are faster to compute.\n",
       "\n",
       "     The ‘\"BH\"’ (aka ‘\"fdr\"’) and ‘\"BY\"’ methods of Benjamini,\n",
       "     Hochberg, and Yekutieli control the false discovery rate, the\n",
       "     expected proportion of false discoveries amongst the rejected\n",
       "     hypotheses.  The false discovery rate is a less stringent\n",
       "     condition than the family-wise error rate, so these methods are\n",
       "     more powerful than the others.\n",
       "\n",
       "     Note that you can set ‘n’ larger than ‘length(p)’ which means the\n",
       "     unobserved p-values are assumed to be greater than all the\n",
       "     observed p for ‘\"bonferroni\"’ and ‘\"holm\"’ methods and equal to 1\n",
       "     for the other methods.\n",
       "\n",
       "_\bV_\ba_\bl_\bu_\be:\n",
       "\n",
       "     A numeric vector of corrected p-values (of the same length as ‘p’,\n",
       "     with names copied from ‘p’).\n",
       "\n",
       "_\bR_\be_\bf_\be_\br_\be_\bn_\bc_\be_\bs:\n",
       "\n",
       "     Benjamini, Y., and Hochberg, Y. (1995).  Controlling the false\n",
       "     discovery rate: a practical and powerful approach to multiple\n",
       "     testing.  _Journal of the Royal Statistical Society Series B_,\n",
       "     *57*, 289-300.  doi: 10.1111/j.2517-6161.1995.tb02031.x (URL:\n",
       "     https://doi.org/10.1111/j.2517-6161.1995.tb02031.x).  <URL:\n",
       "     https://www.jstor.org/stable/2346101>.\n",
       "\n",
       "     Benjamini, Y., and Yekutieli, D. (2001).  The control of the false\n",
       "     discovery rate in multiple testing under dependency.  _Annals of\n",
       "     Statistics_, *29*, 1165-1188.  doi: 10.1214/aos/1013699998 (URL:\n",
       "     https://doi.org/10.1214/aos/1013699998).\n",
       "\n",
       "     Holm, S. (1979).  A simple sequentially rejective multiple test\n",
       "     procedure.  _Scandinavian Journal of Statistics_, *6*, 65-70.\n",
       "     <URL: https://www.jstor.org/stable/4615733>.\n",
       "\n",
       "     Hommel, G. (1988).  A stagewise rejective multiple test procedure\n",
       "     based on a modified Bonferroni test.  _Biometrika_, *75*, 383-386.\n",
       "     doi: 10.2307/2336190 (URL: https://doi.org/10.2307/2336190).\n",
       "\n",
       "     Hochberg, Y. (1988).  A sharper Bonferroni procedure for multiple\n",
       "     tests of significance.  _Biometrika_, *75*, 800-803.  doi:\n",
       "     10.2307/2336325 (URL: https://doi.org/10.2307/2336325).\n",
       "\n",
       "     Shaffer, J. P. (1995).  Multiple hypothesis testing.  _Annual\n",
       "     Review of Psychology_, *46*, 561-584.  doi:\n",
       "     10.1146/annurev.ps.46.020195.003021 (URL:\n",
       "     https://doi.org/10.1146/annurev.ps.46.020195.003021).  (An\n",
       "     excellent review of the area.)\n",
       "\n",
       "     Sarkar, S. (1998).  Some probability inequalities for ordered MTP2\n",
       "     random variables: a proof of Simes conjecture.  _Annals of\n",
       "     Statistics_, *26*, 494-504.  doi: 10.1214/aos/1028144846 (URL:\n",
       "     https://doi.org/10.1214/aos/1028144846).\n",
       "\n",
       "     Sarkar, S., and Chang, C. K. (1997).  The Simes method for\n",
       "     multiple hypothesis testing with positively dependent test\n",
       "     statistics.  _Journal of the American Statistical Association_,\n",
       "     *92*, 1601-1608.  doi: 10.2307/2965431 (URL:\n",
       "     https://doi.org/10.2307/2965431).\n",
       "\n",
       "     Wright, S. P. (1992).  Adjusted P-values for simultaneous\n",
       "     inference.  _Biometrics_, *48*, 1005-1013.  doi: 10.2307/2532694\n",
       "     (URL: https://doi.org/10.2307/2532694).  (Explains the adjusted\n",
       "     P-value approach.)\n",
       "\n",
       "_\bS_\be_\be _\bA_\bl_\bs_\bo:\n",
       "\n",
       "     ‘pairwise.*’ functions such as ‘pairwise.t.test’.\n",
       "\n",
       "_\bE_\bx_\ba_\bm_\bp_\bl_\be_\bs:\n",
       "\n",
       "     require(graphics)\n",
       "     \n",
       "     set.seed(123)\n",
       "     x <- rnorm(50, mean = c(rep(0, 25), rep(3, 25)))\n",
       "     p <- 2*pnorm(sort(-abs(x)))\n",
       "     \n",
       "     round(p, 3)\n",
       "     round(p.adjust(p), 3)\n",
       "     round(p.adjust(p, \"BH\"), 3)\n",
       "     \n",
       "     ## or all of them at once (dropping the \"fdr\" alias):\n",
       "     p.adjust.M <- p.adjust.methods[p.adjust.methods != \"fdr\"]\n",
       "     p.adj    <- sapply(p.adjust.M, function(meth) p.adjust(p, meth))\n",
       "     p.adj.60 <- sapply(p.adjust.M, function(meth) p.adjust(p, meth, n = 60))\n",
       "     stopifnot(identical(p.adj[,\"none\"], p), p.adj <= p.adj.60)\n",
       "     round(p.adj, 3)\n",
       "     ## or a bit nicer:\n",
       "     noquote(apply(p.adj, 2, format.pval, digits = 3))\n",
       "     \n",
       "     \n",
       "     ## and a graphic:\n",
       "     matplot(p, p.adj, ylab=\"p.adjust(p, meth)\", type = \"l\", asp = 1, lty = 1:6,\n",
       "             main = \"P-value adjustments\")\n",
       "     legend(0.7, 0.6, p.adjust.M, col = 1:6, lty = 1:6)\n",
       "     \n",
       "     ## Can work with NA's:\n",
       "     pN <- p; iN <- c(46, 47); pN[iN] <- NA\n",
       "     pN.a <- sapply(p.adjust.M, function(meth) p.adjust(pN, meth))\n",
       "     ## The smallest 20 P-values all affected by the NA's :\n",
       "     round((pN.a / p.adj)[1:20, ] , 4)\n",
       "     "
      ]
     },
     "metadata": {},
     "output_type": "display_data"
    }
   ],
   "source": [
    "help (p.adjust)"
   ]
  },
  {
   "cell_type": "code",
   "execution_count": 32,
   "metadata": {},
   "outputs": [],
   "source": [
    "adj.p.vec1 <- p.adjust (p.vec, method=\"bonferroni\")"
   ]
  },
  {
   "cell_type": "code",
   "execution_count": 33,
   "metadata": {},
   "outputs": [
    {
     "data": {
      "text/html": [
       "904"
      ],
      "text/latex": [
       "904"
      ],
      "text/markdown": [
       "904"
      ],
      "text/plain": [
       "[1] 904"
      ]
     },
     "metadata": {},
     "output_type": "display_data"
    }
   ],
   "source": [
    "sum (adj.p.vec1 < 0.05)"
   ]
  },
  {
   "cell_type": "code",
   "execution_count": 34,
   "metadata": {},
   "outputs": [
    {
     "data": {
      "text/html": [
       "2.64186832928247e-06"
      ],
      "text/latex": [
       "2.64186832928247e-06"
      ],
      "text/markdown": [
       "2.64186832928247e-06"
      ],
      "text/plain": [
       "[1] 2.641868e-06"
      ]
     },
     "metadata": {},
     "output_type": "display_data"
    }
   ],
   "source": [
    "new.alpha <- 0.05 / length(p.vec)\n",
    "new.alpha"
   ]
  },
  {
   "cell_type": "code",
   "execution_count": 35,
   "metadata": {},
   "outputs": [
    {
     "data": {
      "text/html": [
       "904"
      ],
      "text/latex": [
       "904"
      ],
      "text/markdown": [
       "904"
      ],
      "text/plain": [
       "[1] 904"
      ]
     },
     "metadata": {},
     "output_type": "display_data"
    }
   ],
   "source": [
    "sum (p.vec < new.alpha)"
   ]
  },
  {
   "cell_type": "code",
   "execution_count": null,
   "metadata": {},
   "outputs": [],
   "source": []
  },
  {
   "cell_type": "code",
   "execution_count": null,
   "metadata": {},
   "outputs": [],
   "source": []
  },
  {
   "cell_type": "code",
   "execution_count": null,
   "metadata": {},
   "outputs": [],
   "source": []
  },
  {
   "cell_type": "code",
   "execution_count": null,
   "metadata": {},
   "outputs": [],
   "source": []
  },
  {
   "cell_type": "code",
   "execution_count": null,
   "metadata": {},
   "outputs": [],
   "source": []
  },
  {
   "cell_type": "markdown",
   "metadata": {},
   "source": [
    "## create a smaller dataset for future analysis"
   ]
  },
  {
   "cell_type": "code",
   "execution_count": null,
   "metadata": {},
   "outputs": [],
   "source": []
  },
  {
   "cell_type": "code",
   "execution_count": null,
   "metadata": {},
   "outputs": [],
   "source": []
  },
  {
   "cell_type": "code",
   "execution_count": null,
   "metadata": {},
   "outputs": [],
   "source": []
  },
  {
   "cell_type": "code",
   "execution_count": null,
   "metadata": {},
   "outputs": [],
   "source": []
  },
  {
   "cell_type": "code",
   "execution_count": null,
   "metadata": {},
   "outputs": [],
   "source": []
  },
  {
   "cell_type": "code",
   "execution_count": null,
   "metadata": {},
   "outputs": [],
   "source": []
  },
  {
   "cell_type": "code",
   "execution_count": null,
   "metadata": {},
   "outputs": [],
   "source": []
  },
  {
   "cell_type": "code",
   "execution_count": null,
   "metadata": {},
   "outputs": [],
   "source": []
  },
  {
   "cell_type": "code",
   "execution_count": null,
   "metadata": {},
   "outputs": [],
   "source": []
  },
  {
   "cell_type": "code",
   "execution_count": null,
   "metadata": {},
   "outputs": [],
   "source": []
  }
 ],
 "metadata": {
  "kernelspec": {
   "display_name": "R",
   "language": "R",
   "name": "ir"
  },
  "language_info": {
   "codemirror_mode": "r",
   "file_extension": ".r",
   "mimetype": "text/x-r-source",
   "name": "R",
   "pygments_lexer": "r",
   "version": "4.1.1"
  }
 },
 "nbformat": 4,
 "nbformat_minor": 4
}

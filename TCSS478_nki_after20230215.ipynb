{
 "cells": [
  {
   "cell_type": "markdown",
   "metadata": {},
   "source": [
    "# The overarching goal is to identify genes predictive of prognosis.  We will apply different feature selection and classification methods\n",
    "\n",
    "Credit: The data and ideas behind these exercises and homeworks are from the breast cancer gene expression data http://www.nature.com/nature/journal/v415/n6871/full/415530a.html and http://www.nejm.org/doi/full/10.1056/NEJMoa021967#t=article.\n"
   ]
  },
  {
   "cell_type": "markdown",
   "metadata": {},
   "source": [
    "## 1. Install Bioconductor package “breastCancerNKI”."
   ]
  },
  {
   "cell_type": "code",
   "execution_count": 1,
   "metadata": {
    "collapsed": false,
    "jupyter": {
     "outputs_hidden": false
    }
   },
   "outputs": [
    {
     "name": "stderr",
     "output_type": "stream",
     "text": [
      "Updating HTML index of packages in '.Library'\n",
      "\n",
      "Making 'packages.html' ...\n",
      " done\n",
      "\n",
      "'getOption(\"repos\")' replaces Bioconductor standard repositories, see\n",
      "'?repositories' for details\n",
      "\n",
      "replacement repositories:\n",
      "    CRAN: https://cran.r-project.org\n",
      "\n",
      "\n",
      "Bioconductor version 3.14 (BiocManager 1.30.19), R 4.1.1 (2021-08-10)\n",
      "\n",
      "Installing package(s) 'BiocVersion'\n",
      "\n",
      "Updating HTML index of packages in '.Library'\n",
      "\n",
      "Making 'packages.html' ...\n",
      " done\n",
      "\n",
      "Old packages: 'arkhe', 'brew', 'broom', 'caret', 'class', 'classInt', 'cli',\n",
      "  'codetools', 'colorspace', 'conflicted', 'covr', 'credentials', 'curl',\n",
      "  'data.table', 'dbplyr', 'devtools', 'dplyr', 'DT', 'e1071', 'evaluate',\n",
      "  'expm', 'fansi', 'FNN', 'fontawesome', 'forcats', 'forecast', 'fracdiff',\n",
      "  'fs', 'future', 'gargle', 'gert', 'ggplot2', 'ggrepel', 'gh', 'git2r',\n",
      "  'gitcreds', 'gower', 'gstat', 'gtools', 'highr', 'htmlwidgets', 'httpuv',\n",
      "  'IRdisplay', 'IRkernel', 'isoband', 'janitor', 'keras', 'knitr', 'lava',\n",
      "  'lhs', 'lmtest', 'lubridate', 'markdown', 'MASS', 'Matrix', 'mgcv',\n",
      "  'modeldata', 'nlme', 'nloptr', 'nnet', 'parallelly', 'pbdZMQ', 'pkgbuild',\n",
      "  'plyr', 'png', 'progressr', 'proxy', 'purrr', 'quantmod', 'randomForest',\n",
      "  'raster', 'Rcpp', 'RcppArmadillo', 'RcppTOML', 'RCurl', 'readr', 'readxl',\n",
      "  'recipes', 'remotes', 'repr', 'reticulate', 'rex', 'rmarkdown', 'RODBC',\n",
      "  'roxygen2', 'rpart', 'RSQLite', 'rversions', 's2', 'sass', 'sessioninfo',\n",
      "  'skimr', 'sourcetools', 'sp', 'spatial', 'spatialreg', 'spdep', 'spiderbar',\n",
      "  'stringi', 'survival', 'tensorflow', 'terra', 'tidyr', 'tidyverse',\n",
      "  'timechange', 'timeDate', 'tinytex', 'tseries', 'TTR', 'units', 'urca',\n",
      "  'usethis', 'utf8', 'vctrs', 'visdat', 'vroom', 'whisker', 'wk', 'workflows',\n",
      "  'xfun', 'xts', 'yaml', 'zip', 'zoo'\n",
      "\n",
      "'getOption(\"repos\")' replaces Bioconductor standard repositories, see\n",
      "'?repositories' for details\n",
      "\n",
      "replacement repositories:\n",
      "    CRAN: https://cran.r-project.org\n",
      "\n",
      "\n",
      "Bioconductor version 3.14 (BiocManager 1.30.19), R 4.1.1 (2021-08-10)\n",
      "\n",
      "Installing package(s) 'breastCancerNKI', 'Biobase', 'impute', 'class', 'e1071'\n",
      "\n",
      "also installing the dependency ‘BiocGenerics’\n",
      "\n",
      "\n",
      "Updating HTML index of packages in '.Library'\n",
      "\n",
      "Making 'packages.html' ...\n",
      " done\n",
      "\n",
      "Old packages: 'arkhe', 'brew', 'broom', 'caret', 'classInt', 'cli',\n",
      "  'codetools', 'colorspace', 'conflicted', 'covr', 'credentials', 'curl',\n",
      "  'data.table', 'dbplyr', 'devtools', 'dplyr', 'DT', 'evaluate', 'expm',\n",
      "  'fansi', 'FNN', 'fontawesome', 'forcats', 'forecast', 'fracdiff', 'fs',\n",
      "  'future', 'gargle', 'gert', 'ggplot2', 'ggrepel', 'gh', 'git2r', 'gitcreds',\n",
      "  'gower', 'gstat', 'gtools', 'highr', 'htmlwidgets', 'httpuv', 'IRdisplay',\n",
      "  'IRkernel', 'isoband', 'janitor', 'keras', 'knitr', 'lava', 'lhs', 'lmtest',\n",
      "  'lubridate', 'markdown', 'MASS', 'Matrix', 'mgcv', 'modeldata', 'nlme',\n",
      "  'nloptr', 'nnet', 'parallelly', 'pbdZMQ', 'pkgbuild', 'plyr', 'png',\n",
      "  'progressr', 'proxy', 'purrr', 'quantmod', 'randomForest', 'raster', 'Rcpp',\n",
      "  'RcppArmadillo', 'RcppTOML', 'RCurl', 'readr', 'readxl', 'recipes',\n",
      "  'remotes', 'repr', 'reticulate', 'rex', 'rmarkdown', 'RODBC', 'roxygen2',\n",
      "  'rpart', 'RSQLite', 'rversions', 's2', 'sass', 'sessioninfo', 'skimr',\n",
      "  'sourcetools', 'sp', 'spatial', 'spatialreg', 'spdep', 'spiderbar',\n",
      "  'stringi', 'survival', 'tensorflow', 'terra', 'tidyr', 'tidyverse',\n",
      "  'timechange', 'timeDate', 'tinytex', 'tseries', 'TTR', 'units', 'urca',\n",
      "  'usethis', 'utf8', 'vctrs', 'visdat', 'vroom', 'whisker', 'wk', 'workflows',\n",
      "  'xfun', 'xts', 'yaml', 'zip', 'zoo'\n",
      "\n",
      "Loading required package: BiocGenerics\n",
      "\n",
      "\n",
      "Attaching package: ‘BiocGenerics’\n",
      "\n",
      "\n",
      "The following objects are masked from ‘package:stats’:\n",
      "\n",
      "    IQR, mad, sd, var, xtabs\n",
      "\n",
      "\n",
      "The following objects are masked from ‘package:base’:\n",
      "\n",
      "    anyDuplicated, append, as.data.frame, basename, cbind, colnames,\n",
      "    dirname, do.call, duplicated, eval, evalq, Filter, Find, get, grep,\n",
      "    grepl, intersect, is.unsorted, lapply, Map, mapply, match, mget,\n",
      "    order, paste, pmax, pmax.int, pmin, pmin.int, Position, rank,\n",
      "    rbind, Reduce, rownames, sapply, setdiff, sort, table, tapply,\n",
      "    union, unique, unsplit, which.max, which.min\n",
      "\n",
      "\n",
      "Welcome to Bioconductor\n",
      "\n",
      "    Vignettes contain introductory material; view with\n",
      "    'browseVignettes()'. To cite Bioconductor, see\n",
      "    'citation(\"Biobase\")', and for packages 'citation(\"pkgname\")'.\n",
      "\n",
      "\n"
     ]
    }
   ],
   "source": [
    "if (!require(\"BiocManager\", quietly = TRUE))\n",
    "    install.packages(\"BiocManager\")\n",
    "BiocManager::install(version = \"3.14\")\n",
    "BiocManager::install(c(\"breastCancerNKI\", \"Biobase\", \"impute\", \"class\", \"e1071\"))\n",
    "library (breastCancerNKI)\n",
    "library (Biobase)"
   ]
  },
  {
   "cell_type": "markdown",
   "metadata": {},
   "source": [
    "## 2. Explore the breast cancer data and extract training and test sets."
   ]
  },
  {
   "cell_type": "code",
   "execution_count": 2,
   "metadata": {
    "collapsed": false,
    "jupyter": {
     "outputs_hidden": false
    }
   },
   "outputs": [
    {
     "data": {
      "text/html": [
       "<style>\n",
       ".list-inline {list-style: none; margin:0; padding: 0}\n",
       ".list-inline>li {display: inline-block}\n",
       ".list-inline>li:not(:last-child)::after {content: \"\\00b7\"; padding: 0 .5ex}\n",
       "</style>\n",
       "<ol class=list-inline><li>24481</li><li>337</li></ol>\n"
      ],
      "text/latex": [
       "\\begin{enumerate*}\n",
       "\\item 24481\n",
       "\\item 337\n",
       "\\end{enumerate*}\n"
      ],
      "text/markdown": [
       "1. 24481\n",
       "2. 337\n",
       "\n",
       "\n"
      ],
      "text/plain": [
       "[1] 24481   337"
      ]
     },
     "metadata": {},
     "output_type": "display_data"
    },
    {
     "data": {
      "text/html": [
       "<table class=\"dataframe\">\n",
       "<caption>A matrix: 5 × 5 of type dbl</caption>\n",
       "<thead>\n",
       "\t<tr><th></th><th scope=col>NKI_4</th><th scope=col>NKI_6</th><th scope=col>NKI_7</th><th scope=col>NKI_8</th><th scope=col>NKI_9</th></tr>\n",
       "</thead>\n",
       "<tbody>\n",
       "\t<tr><th scope=row>Contig45645_RC</th><td>-0.215</td><td> 0.071</td><td> 0.182</td><td>-0.343</td><td>-0.134</td></tr>\n",
       "\t<tr><th scope=row>Contig44916_RC</th><td>-0.207</td><td> 0.055</td><td> 0.077</td><td> 0.302</td><td> 0.051</td></tr>\n",
       "\t<tr><th scope=row>D25272</th><td>-0.158</td><td>-0.010</td><td> 0.059</td><td> 0.169</td><td>-0.007</td></tr>\n",
       "\t<tr><th scope=row>J00129</th><td>-0.819</td><td>-0.391</td><td>-0.624</td><td>-0.528</td><td>-0.811</td></tr>\n",
       "\t<tr><th scope=row>Contig29982_RC</th><td>-0.267</td><td>-0.310</td><td>-0.120</td><td>-0.447</td><td>-0.536</td></tr>\n",
       "</tbody>\n",
       "</table>\n"
      ],
      "text/latex": [
       "A matrix: 5 × 5 of type dbl\n",
       "\\begin{tabular}{r|lllll}\n",
       "  & NKI\\_4 & NKI\\_6 & NKI\\_7 & NKI\\_8 & NKI\\_9\\\\\n",
       "\\hline\n",
       "\tContig45645\\_RC & -0.215 &  0.071 &  0.182 & -0.343 & -0.134\\\\\n",
       "\tContig44916\\_RC & -0.207 &  0.055 &  0.077 &  0.302 &  0.051\\\\\n",
       "\tD25272 & -0.158 & -0.010 &  0.059 &  0.169 & -0.007\\\\\n",
       "\tJ00129 & -0.819 & -0.391 & -0.624 & -0.528 & -0.811\\\\\n",
       "\tContig29982\\_RC & -0.267 & -0.310 & -0.120 & -0.447 & -0.536\\\\\n",
       "\\end{tabular}\n"
      ],
      "text/markdown": [
       "\n",
       "A matrix: 5 × 5 of type dbl\n",
       "\n",
       "| <!--/--> | NKI_4 | NKI_6 | NKI_7 | NKI_8 | NKI_9 |\n",
       "|---|---|---|---|---|---|\n",
       "| Contig45645_RC | -0.215 |  0.071 |  0.182 | -0.343 | -0.134 |\n",
       "| Contig44916_RC | -0.207 |  0.055 |  0.077 |  0.302 |  0.051 |\n",
       "| D25272 | -0.158 | -0.010 |  0.059 |  0.169 | -0.007 |\n",
       "| J00129 | -0.819 | -0.391 | -0.624 | -0.528 | -0.811 |\n",
       "| Contig29982_RC | -0.267 | -0.310 | -0.120 | -0.447 | -0.536 |\n",
       "\n"
      ],
      "text/plain": [
       "               NKI_4  NKI_6  NKI_7  NKI_8  NKI_9 \n",
       "Contig45645_RC -0.215  0.071  0.182 -0.343 -0.134\n",
       "Contig44916_RC -0.207  0.055  0.077  0.302  0.051\n",
       "D25272         -0.158 -0.010  0.059  0.169 -0.007\n",
       "J00129         -0.819 -0.391 -0.624 -0.528 -0.811\n",
       "Contig29982_RC -0.267 -0.310 -0.120 -0.447 -0.536"
      ]
     },
     "metadata": {},
     "output_type": "display_data"
    },
    {
     "data": {
      "text/html": [
       "<style>\n",
       ".list-inline {list-style: none; margin:0; padding: 0}\n",
       ".list-inline>li {display: inline-block}\n",
       ".list-inline>li:not(:last-child)::after {content: \"\\00b7\"; padding: 0 .5ex}\n",
       "</style>\n",
       "<ol class=list-inline><li>337</li><li>21</li></ol>\n"
      ],
      "text/latex": [
       "\\begin{enumerate*}\n",
       "\\item 337\n",
       "\\item 21\n",
       "\\end{enumerate*}\n"
      ],
      "text/markdown": [
       "1. 337\n",
       "2. 21\n",
       "\n",
       "\n"
      ],
      "text/plain": [
       "[1] 337  21"
      ]
     },
     "metadata": {},
     "output_type": "display_data"
    },
    {
     "data": {
      "text/html": [
       "<table class=\"dataframe\">\n",
       "<caption>A data.frame: 3 × 21</caption>\n",
       "<thead>\n",
       "\t<tr><th></th><th scope=col>samplename</th><th scope=col>dataset</th><th scope=col>series</th><th scope=col>id</th><th scope=col>filename</th><th scope=col>size</th><th scope=col>age</th><th scope=col>er</th><th scope=col>grade</th><th scope=col>pgr</th><th scope=col>⋯</th><th scope=col>brca.mutation</th><th scope=col>e.dmfs</th><th scope=col>t.dmfs</th><th scope=col>node</th><th scope=col>t.rfs</th><th scope=col>e.rfs</th><th scope=col>treatment</th><th scope=col>tissue</th><th scope=col>t.os</th><th scope=col>e.os</th></tr>\n",
       "\t<tr><th></th><th scope=col>&lt;chr&gt;</th><th scope=col>&lt;chr&gt;</th><th scope=col>&lt;chr&gt;</th><th scope=col>&lt;int&gt;</th><th scope=col>&lt;lgl&gt;</th><th scope=col>&lt;dbl&gt;</th><th scope=col>&lt;int&gt;</th><th scope=col>&lt;int&gt;</th><th scope=col>&lt;int&gt;</th><th scope=col>&lt;lgl&gt;</th><th scope=col>⋯</th><th scope=col>&lt;int&gt;</th><th scope=col>&lt;int&gt;</th><th scope=col>&lt;int&gt;</th><th scope=col>&lt;int&gt;</th><th scope=col>&lt;int&gt;</th><th scope=col>&lt;int&gt;</th><th scope=col>&lt;int&gt;</th><th scope=col>&lt;int&gt;</th><th scope=col>&lt;int&gt;</th><th scope=col>&lt;int&gt;</th></tr>\n",
       "</thead>\n",
       "<tbody>\n",
       "\t<tr><th scope=row>NKI_4</th><td>NKI_4</td><td>NKI</td><td>NKI</td><td>4</td><td>NA</td><td>2.0</td><td>41</td><td>1</td><td>3</td><td>NA</td><td>⋯</td><td>0</td><td>0</td><td>4747</td><td>0</td><td>4747</td><td>0</td><td>0</td><td>1</td><td>4744</td><td>0</td></tr>\n",
       "\t<tr><th scope=row>NKI_6</th><td>NKI_6</td><td>NKI</td><td>NKI</td><td>6</td><td>NA</td><td>1.3</td><td>49</td><td>1</td><td>2</td><td>NA</td><td>⋯</td><td>0</td><td>0</td><td>4075</td><td>0</td><td>4075</td><td>0</td><td>0</td><td>1</td><td>4072</td><td>0</td></tr>\n",
       "\t<tr><th scope=row>NKI_7</th><td>NKI_7</td><td>NKI</td><td>NKI</td><td>7</td><td>NA</td><td>2.0</td><td>46</td><td>0</td><td>1</td><td>NA</td><td>⋯</td><td>0</td><td>0</td><td>3703</td><td>0</td><td>3703</td><td>0</td><td>0</td><td>1</td><td>3700</td><td>0</td></tr>\n",
       "</tbody>\n",
       "</table>\n"
      ],
      "text/latex": [
       "A data.frame: 3 × 21\n",
       "\\begin{tabular}{r|lllllllllllllllllllll}\n",
       "  & samplename & dataset & series & id & filename & size & age & er & grade & pgr & ⋯ & brca.mutation & e.dmfs & t.dmfs & node & t.rfs & e.rfs & treatment & tissue & t.os & e.os\\\\\n",
       "  & <chr> & <chr> & <chr> & <int> & <lgl> & <dbl> & <int> & <int> & <int> & <lgl> & ⋯ & <int> & <int> & <int> & <int> & <int> & <int> & <int> & <int> & <int> & <int>\\\\\n",
       "\\hline\n",
       "\tNKI\\_4 & NKI\\_4 & NKI & NKI & 4 & NA & 2.0 & 41 & 1 & 3 & NA & ⋯ & 0 & 0 & 4747 & 0 & 4747 & 0 & 0 & 1 & 4744 & 0\\\\\n",
       "\tNKI\\_6 & NKI\\_6 & NKI & NKI & 6 & NA & 1.3 & 49 & 1 & 2 & NA & ⋯ & 0 & 0 & 4075 & 0 & 4075 & 0 & 0 & 1 & 4072 & 0\\\\\n",
       "\tNKI\\_7 & NKI\\_7 & NKI & NKI & 7 & NA & 2.0 & 46 & 0 & 1 & NA & ⋯ & 0 & 0 & 3703 & 0 & 3703 & 0 & 0 & 1 & 3700 & 0\\\\\n",
       "\\end{tabular}\n"
      ],
      "text/markdown": [
       "\n",
       "A data.frame: 3 × 21\n",
       "\n",
       "| <!--/--> | samplename &lt;chr&gt; | dataset &lt;chr&gt; | series &lt;chr&gt; | id &lt;int&gt; | filename &lt;lgl&gt; | size &lt;dbl&gt; | age &lt;int&gt; | er &lt;int&gt; | grade &lt;int&gt; | pgr &lt;lgl&gt; | ⋯ ⋯ | brca.mutation &lt;int&gt; | e.dmfs &lt;int&gt; | t.dmfs &lt;int&gt; | node &lt;int&gt; | t.rfs &lt;int&gt; | e.rfs &lt;int&gt; | treatment &lt;int&gt; | tissue &lt;int&gt; | t.os &lt;int&gt; | e.os &lt;int&gt; |\n",
       "|---|---|---|---|---|---|---|---|---|---|---|---|---|---|---|---|---|---|---|---|---|---|\n",
       "| NKI_4 | NKI_4 | NKI | NKI | 4 | NA | 2.0 | 41 | 1 | 3 | NA | ⋯ | 0 | 0 | 4747 | 0 | 4747 | 0 | 0 | 1 | 4744 | 0 |\n",
       "| NKI_6 | NKI_6 | NKI | NKI | 6 | NA | 1.3 | 49 | 1 | 2 | NA | ⋯ | 0 | 0 | 4075 | 0 | 4075 | 0 | 0 | 1 | 4072 | 0 |\n",
       "| NKI_7 | NKI_7 | NKI | NKI | 7 | NA | 2.0 | 46 | 0 | 1 | NA | ⋯ | 0 | 0 | 3703 | 0 | 3703 | 0 | 0 | 1 | 3700 | 0 |\n",
       "\n"
      ],
      "text/plain": [
       "      samplename dataset series id filename size age er grade pgr ⋯\n",
       "NKI_4 NKI_4      NKI     NKI    4  NA       2.0  41  1  3     NA  ⋯\n",
       "NKI_6 NKI_6      NKI     NKI    6  NA       1.3  49  1  2     NA  ⋯\n",
       "NKI_7 NKI_7      NKI     NKI    7  NA       2.0  46  0  1     NA  ⋯\n",
       "      brca.mutation e.dmfs t.dmfs node t.rfs e.rfs treatment tissue t.os e.os\n",
       "NKI_4 0             0      4747   0    4747  0     0         1      4744 0   \n",
       "NKI_6 0             0      4075   0    4075  0     0         1      4072 0   \n",
       "NKI_7 0             0      3703   0    3703  0     0         1      3700 0   "
      ]
     },
     "metadata": {},
     "output_type": "display_data"
    },
    {
     "data": {
      "text/html": [
       "<style>\n",
       ".list-inline {list-style: none; margin:0; padding: 0}\n",
       ".list-inline>li {display: inline-block}\n",
       ".list-inline>li:not(:last-child)::after {content: \"\\00b7\"; padding: 0 .5ex}\n",
       "</style>\n",
       "<ol class=list-inline><li>4744</li><li>4072</li><li>3700</li><li>3213</li><li>3757</li><li>2119</li><li>2868</li><li>2981</li><li>3005</li><li>2871</li></ol>\n"
      ],
      "text/latex": [
       "\\begin{enumerate*}\n",
       "\\item 4744\n",
       "\\item 4072\n",
       "\\item 3700\n",
       "\\item 3213\n",
       "\\item 3757\n",
       "\\item 2119\n",
       "\\item 2868\n",
       "\\item 2981\n",
       "\\item 3005\n",
       "\\item 2871\n",
       "\\end{enumerate*}\n"
      ],
      "text/markdown": [
       "1. 4744\n",
       "2. 4072\n",
       "3. 3700\n",
       "4. 3213\n",
       "5. 3757\n",
       "6. 2119\n",
       "7. 2868\n",
       "8. 2981\n",
       "9. 3005\n",
       "10. 2871\n",
       "\n",
       "\n"
      ],
      "text/plain": [
       " [1] 4744 4072 3700 3213 3757 2119 2868 2981 3005 2871"
      ]
     },
     "metadata": {},
     "output_type": "display_data"
    }
   ],
   "source": [
    "# breast cancer data object\n",
    "data (nki)\n",
    "# check the dimensions of the gene expression data\n",
    "# there are 24481 rows (genes) across 337 patients (columns)\n",
    "dim (exprs(nki))\n",
    "exprs(nki)[1:5,1:5]\n",
    "# check the dimensions of the phenotype data\n",
    "dim (pData(nki))\n",
    "pData(nki)[1:3,]\n",
    "# overall survival time for each of the patient\n",
    "pData(nki)$t.os[1:10]"
   ]
  },
  {
   "cell_type": "markdown",
   "metadata": {},
   "source": [
    "### Note there are NA's (missing values) in the survival time\n",
    "Our first step is to remove patients without t.os"
   ]
  },
  {
   "cell_type": "code",
   "execution_count": 3,
   "metadata": {
    "collapsed": false,
    "jupyter": {
     "outputs_hidden": false
    }
   },
   "outputs": [
    {
     "data": {
      "text/html": [
       "42"
      ],
      "text/latex": [
       "42"
      ],
      "text/markdown": [
       "42"
      ],
      "text/plain": [
       "[1] 42"
      ]
     },
     "metadata": {},
     "output_type": "display_data"
    }
   ],
   "source": [
    "na.ind <- which (is.na(pData(nki)$t.os))\n",
    "length (na.ind)\n",
    "# how many patients do we have that have NA survival time"
   ]
  },
  {
   "cell_type": "code",
   "execution_count": 4,
   "metadata": {
    "collapsed": false,
    "jupyter": {
     "outputs_hidden": false
    }
   },
   "outputs": [
    {
     "data": {
      "text/html": [
       "<style>\n",
       ".list-inline {list-style: none; margin:0; padding: 0}\n",
       ".list-inline>li {display: inline-block}\n",
       ".list-inline>li:not(:last-child)::after {content: \"\\00b7\"; padding: 0 .5ex}\n",
       "</style>\n",
       "<ol class=list-inline><li>24481</li><li>295</li></ol>\n"
      ],
      "text/latex": [
       "\\begin{enumerate*}\n",
       "\\item 24481\n",
       "\\item 295\n",
       "\\end{enumerate*}\n"
      ],
      "text/markdown": [
       "1. 24481\n",
       "2. 295\n",
       "\n",
       "\n"
      ],
      "text/plain": [
       "[1] 24481   295"
      ]
     },
     "metadata": {},
     "output_type": "display_data"
    },
    {
     "data": {
      "text/plain": [
       "\n",
       " NKI NKI2 \n",
       " 117  220 "
      ]
     },
     "metadata": {},
     "output_type": "display_data"
    },
    {
     "data": {
      "text/plain": [
       "\n",
       " NKI NKI2 \n",
       "  75  220 "
      ]
     },
     "metadata": {},
     "output_type": "display_data"
    },
    {
     "data": {
      "text/plain": [
       "non.na.series\n",
       " NKI NKI2 \n",
       "  75  220 "
      ]
     },
     "metadata": {},
     "output_type": "display_data"
    },
    {
     "data": {
      "text/html": [
       "295"
      ],
      "text/latex": [
       "295"
      ],
      "text/markdown": [
       "295"
      ],
      "text/plain": [
       "[1] 295"
      ]
     },
     "metadata": {},
     "output_type": "display_data"
    },
    {
     "data": {
      "text/html": [
       "<style>\n",
       ".list-inline {list-style: none; margin:0; padding: 0}\n",
       ".list-inline>li {display: inline-block}\n",
       ".list-inline>li:not(:last-child)::after {content: \"\\00b7\"; padding: 0 .5ex}\n",
       "</style>\n",
       "<ol class=list-inline><li>24481</li><li>75</li></ol>\n"
      ],
      "text/latex": [
       "\\begin{enumerate*}\n",
       "\\item 24481\n",
       "\\item 75\n",
       "\\end{enumerate*}\n"
      ],
      "text/markdown": [
       "1. 24481\n",
       "2. 75\n",
       "\n",
       "\n"
      ],
      "text/plain": [
       "[1] 24481    75"
      ]
     },
     "metadata": {},
     "output_type": "display_data"
    },
    {
     "data": {
      "text/html": [
       "<style>\n",
       ".list-inline {list-style: none; margin:0; padding: 0}\n",
       ".list-inline>li {display: inline-block}\n",
       ".list-inline>li:not(:last-child)::after {content: \"\\00b7\"; padding: 0 .5ex}\n",
       "</style>\n",
       "<ol class=list-inline><li>24481</li><li>220</li></ol>\n"
      ],
      "text/latex": [
       "\\begin{enumerate*}\n",
       "\\item 24481\n",
       "\\item 220\n",
       "\\end{enumerate*}\n"
      ],
      "text/markdown": [
       "1. 24481\n",
       "2. 220\n",
       "\n",
       "\n"
      ],
      "text/plain": [
       "[1] 24481   220"
      ]
     },
     "metadata": {},
     "output_type": "display_data"
    }
   ],
   "source": [
    "# We will now remove these 42 patients from both the gene expression \n",
    "# and phenotype data\n",
    "my.data <- exprs(nki)[, -na.ind]\n",
    "dim (my.data)\n",
    "table (pData(nki)$series)\n",
    "table (pData(nki)$series[-na.ind])\n",
    "non.na.series <- pData(nki)$series[-na.ind]\n",
    "table (non.na.series)\n",
    "length (non.na.series)\n",
    "nki.data <- my.data[, which(non.na.series == \"NKI\")]\n",
    "dim (nki.data)\n",
    "nki2.data <- my.data[, which(non.na.series == \"NKI2\")]\n",
    "dim (nki2.data)"
   ]
  },
  {
   "cell_type": "markdown",
   "metadata": {},
   "source": [
    "### create the binary response variables"
   ]
  },
  {
   "cell_type": "code",
   "execution_count": 5,
   "metadata": {
    "collapsed": false,
    "jupyter": {
     "outputs_hidden": false
    }
   },
   "outputs": [
    {
     "data": {
      "text/html": [
       "295"
      ],
      "text/latex": [
       "295"
      ],
      "text/markdown": [
       "295"
      ],
      "text/plain": [
       "[1] 295"
      ]
     },
     "metadata": {},
     "output_type": "display_data"
    },
    {
     "data": {
      "text/html": [
       "75"
      ],
      "text/latex": [
       "75"
      ],
      "text/markdown": [
       "75"
      ],
      "text/plain": [
       "[1] 75"
      ]
     },
     "metadata": {},
     "output_type": "display_data"
    },
    {
     "data": {
      "text/html": [
       "220"
      ],
      "text/latex": [
       "220"
      ],
      "text/markdown": [
       "220"
      ],
      "text/plain": [
       "[1] 220"
      ]
     },
     "metadata": {},
     "output_type": "display_data"
    },
    {
     "data": {
      "text/html": [
       "<style>\n",
       ".list-inline {list-style: none; margin:0; padding: 0}\n",
       ".list-inline>li {display: inline-block}\n",
       ".list-inline>li:not(:last-child)::after {content: \"\\00b7\"; padding: 0 .5ex}\n",
       "</style>\n",
       "<ol class=list-inline><li>4744</li><li>4072</li><li>3700</li><li>3213</li><li>3757</li><li>2119</li><li>2868</li><li>2981</li><li>3005</li><li>2871</li></ol>\n"
      ],
      "text/latex": [
       "\\begin{enumerate*}\n",
       "\\item 4744\n",
       "\\item 4072\n",
       "\\item 3700\n",
       "\\item 3213\n",
       "\\item 3757\n",
       "\\item 2119\n",
       "\\item 2868\n",
       "\\item 2981\n",
       "\\item 3005\n",
       "\\item 2871\n",
       "\\end{enumerate*}\n"
      ],
      "text/markdown": [
       "1. 4744\n",
       "2. 4072\n",
       "3. 3700\n",
       "4. 3213\n",
       "5. 3757\n",
       "6. 2119\n",
       "7. 2868\n",
       "8. 2981\n",
       "9. 3005\n",
       "10. 2871\n",
       "\n",
       "\n"
      ],
      "text/plain": [
       " [1] 4744 4072 3700 3213 3757 2119 2868 2981 3005 2871"
      ]
     },
     "metadata": {},
     "output_type": "display_data"
    }
   ],
   "source": [
    "non.na.t.os <- pData(nki)$t.os[-na.ind]\n",
    "length (non.na.t.os)\n",
    "nki.t.os <- non.na.t.os[which(non.na.series==\"NKI\")]\n",
    "nki2.t.os <- non.na.t.os[which(non.na.series==\"NKI2\")]\n",
    "length (nki.t.os)\n",
    "length (nki2.t.os)\n",
    "nki.t.os[1:10]"
   ]
  },
  {
   "cell_type": "code",
   "execution_count": 6,
   "metadata": {
    "collapsed": false,
    "jupyter": {
     "outputs_hidden": false
    }
   },
   "outputs": [
    {
     "data": {
      "text/html": [
       "49"
      ],
      "text/latex": [
       "49"
      ],
      "text/markdown": [
       "49"
      ],
      "text/plain": [
       "[1] 49"
      ]
     },
     "metadata": {},
     "output_type": "display_data"
    },
    {
     "data": {
      "text/html": [
       "183"
      ],
      "text/latex": [
       "183"
      ],
      "text/markdown": [
       "183"
      ],
      "text/plain": [
       "[1] 183"
      ]
     },
     "metadata": {},
     "output_type": "display_data"
    }
   ],
   "source": [
    "# good prognosis = 1 when t.os >= (5 * 365)\n",
    "nki.prognosis <- rep(0, length(nki.t.os))\n",
    "nki.prognosis[which (nki.t.os >= (5*365))] <- 1\n",
    "sum (nki.prognosis)\n",
    "nki2.prognosis <- rep(0, length(nki2.t.os))\n",
    "nki2.prognosis[which (nki2.t.os >= (5*365))] <- 1\n",
    "sum (nki2.prognosis)\n",
    "write.table (nki.prognosis, file=\"nki_prognosis.txt\", quote=F, sep=\"\\n\", row.names=F, col.names=F)\n",
    "write.table (nki2.prognosis, file=\"nki2_prognosis.txt\", quote=F, sep=\"\\n\", row.names=F, col.names=F)"
   ]
  },
  {
   "cell_type": "markdown",
   "metadata": {},
   "source": [
    "## We will build predictive models using our training data (nki.data), and test data = nki2.data"
   ]
  },
  {
   "cell_type": "markdown",
   "metadata": {},
   "source": [
    "## 3. missing values\n",
    "We need to remove rows and columns with lots of NA's.\n",
    "We will also impute some of the missing data values."
   ]
  },
  {
   "cell_type": "code",
   "execution_count": 7,
   "metadata": {
    "collapsed": false,
    "jupyter": {
     "outputs_hidden": false
    }
   },
   "outputs": [
    {
     "data": {
      "text/html": [
       "TRUE"
      ],
      "text/latex": [
       "TRUE"
      ],
      "text/markdown": [
       "TRUE"
      ],
      "text/plain": [
       "[1] TRUE"
      ]
     },
     "metadata": {},
     "output_type": "display_data"
    },
    {
     "data": {
      "text/html": [
       "TRUE"
      ],
      "text/latex": [
       "TRUE"
      ],
      "text/markdown": [
       "TRUE"
      ],
      "text/plain": [
       "[1] TRUE"
      ]
     },
     "metadata": {},
     "output_type": "display_data"
    }
   ],
   "source": [
    "any(is.na(nki.data))\n",
    "any(is.na(nki2.data))"
   ]
  },
  {
   "cell_type": "code",
   "execution_count": 8,
   "metadata": {
    "collapsed": false,
    "jupyter": {
     "outputs_hidden": false
    }
   },
   "outputs": [
    {
     "data": {
      "text/html": [
       "<style>\n",
       ".dl-inline {width: auto; margin:0; padding: 0}\n",
       ".dl-inline>dt, .dl-inline>dd {float: none; width: auto; display: inline-block}\n",
       ".dl-inline>dt::after {content: \":\\0020\"; padding-right: .5ex}\n",
       ".dl-inline>dt:not(:first-of-type) {padding-left: .5ex}\n",
       "</style><dl class=dl-inline><dt>NKI_4</dt><dd>361</dd><dt>NKI_6</dt><dd>305</dd><dt>NKI_7</dt><dd>297</dd><dt>NKI_8</dt><dd>295</dd><dt>NKI_9</dt><dd>297</dd><dt>NKI_11</dt><dd>297</dd><dt>NKI_12</dt><dd>2811</dd><dt>NKI_13</dt><dd>296</dd><dt>NKI_14</dt><dd>1472</dd><dt>NKI_17</dt><dd>321</dd><dt>NKI_26</dt><dd>324</dd><dt>NKI_27</dt><dd>335</dd><dt>NKI_28</dt><dd>337</dd><dt>NKI_29</dt><dd>304</dd><dt>NKI_36</dt><dd>302</dd><dt>NKI_38</dt><dd>420</dd><dt>NKI_39</dt><dd>312</dd><dt>NKI_45</dt><dd>295</dd><dt>NKI_48</dt><dd>297</dd><dt>NKI_51</dt><dd>301</dd><dt>NKI_56</dt><dd>302</dd><dt>NKI_57</dt><dd>449</dd><dt>NKI_58</dt><dd>306</dd><dt>NKI_59</dt><dd>301</dd><dt>NKI_60</dt><dd>303</dd><dt>NKI_61</dt><dd>354</dd><dt>NKI_62</dt><dd>298</dd><dt>NKI_71</dt><dd>302</dd><dt>NKI_72</dt><dd>298</dd><dt>NKI_73</dt><dd>303</dd><dt>NKI_75</dt><dd>303</dd><dt>NKI_76</dt><dd>305</dd><dt>NKI_103</dt><dd>23</dd><dt>NKI_107</dt><dd>15</dd><dt>NKI_109</dt><dd>15</dd><dt>NKI_110</dt><dd>20</dd><dt>NKI_111</dt><dd>11</dd><dt>NKI_113</dt><dd>23</dd><dt>NKI_117</dt><dd>22</dd><dt>NKI_118</dt><dd>25</dd><dt>NKI_120</dt><dd>36</dd><dt>NKI_122</dt><dd>14</dd><dt>NKI_123</dt><dd>25</dd><dt>NKI_124</dt><dd>18</dd><dt>NKI_133</dt><dd>18</dd><dt>NKI_138</dt><dd>12</dd><dt>NKI_139</dt><dd>31</dd><dt>NKI_141</dt><dd>17</dd><dt>NKI_221</dt><dd>47</dd><dt>NKI_222</dt><dd>62</dd><dt>NKI_224</dt><dd>3</dd><dt>NKI_226</dt><dd>141</dd><dt>NKI_227</dt><dd>647</dd><dt>NKI_228</dt><dd>29</dd><dt>NKI_229</dt><dd>16</dd><dt>NKI_230</dt><dd>21</dd><dt>NKI_231</dt><dd>33</dd><dt>NKI_237</dt><dd>33</dd><dt>NKI_238</dt><dd>45</dd><dt>NKI_240</dt><dd>25</dd><dt>NKI_241</dt><dd>15</dd><dt>NKI_248</dt><dd>7</dd><dt>NKI_250</dt><dd>28</dd><dt>NKI_251</dt><dd>17</dd><dt>NKI_252</dt><dd>18</dd><dt>NKI_254</dt><dd>16</dd><dt>NKI_292</dt><dd>28</dd><dt>NKI_317</dt><dd>12</dd><dt>NKI_342</dt><dd>54</dd><dt>NKI_371</dt><dd>37</dd><dt>NKI_379</dt><dd>27</dd><dt>NKI_380</dt><dd>34</dd><dt>NKI_397</dt><dd>30</dd><dt>NKI_398</dt><dd>15</dd><dt>NKI_401</dt><dd>9</dd></dl>\n"
      ],
      "text/latex": [
       "\\begin{description*}\n",
       "\\item[NKI\\textbackslash{}\\_4] 361\n",
       "\\item[NKI\\textbackslash{}\\_6] 305\n",
       "\\item[NKI\\textbackslash{}\\_7] 297\n",
       "\\item[NKI\\textbackslash{}\\_8] 295\n",
       "\\item[NKI\\textbackslash{}\\_9] 297\n",
       "\\item[NKI\\textbackslash{}\\_11] 297\n",
       "\\item[NKI\\textbackslash{}\\_12] 2811\n",
       "\\item[NKI\\textbackslash{}\\_13] 296\n",
       "\\item[NKI\\textbackslash{}\\_14] 1472\n",
       "\\item[NKI\\textbackslash{}\\_17] 321\n",
       "\\item[NKI\\textbackslash{}\\_26] 324\n",
       "\\item[NKI\\textbackslash{}\\_27] 335\n",
       "\\item[NKI\\textbackslash{}\\_28] 337\n",
       "\\item[NKI\\textbackslash{}\\_29] 304\n",
       "\\item[NKI\\textbackslash{}\\_36] 302\n",
       "\\item[NKI\\textbackslash{}\\_38] 420\n",
       "\\item[NKI\\textbackslash{}\\_39] 312\n",
       "\\item[NKI\\textbackslash{}\\_45] 295\n",
       "\\item[NKI\\textbackslash{}\\_48] 297\n",
       "\\item[NKI\\textbackslash{}\\_51] 301\n",
       "\\item[NKI\\textbackslash{}\\_56] 302\n",
       "\\item[NKI\\textbackslash{}\\_57] 449\n",
       "\\item[NKI\\textbackslash{}\\_58] 306\n",
       "\\item[NKI\\textbackslash{}\\_59] 301\n",
       "\\item[NKI\\textbackslash{}\\_60] 303\n",
       "\\item[NKI\\textbackslash{}\\_61] 354\n",
       "\\item[NKI\\textbackslash{}\\_62] 298\n",
       "\\item[NKI\\textbackslash{}\\_71] 302\n",
       "\\item[NKI\\textbackslash{}\\_72] 298\n",
       "\\item[NKI\\textbackslash{}\\_73] 303\n",
       "\\item[NKI\\textbackslash{}\\_75] 303\n",
       "\\item[NKI\\textbackslash{}\\_76] 305\n",
       "\\item[NKI\\textbackslash{}\\_103] 23\n",
       "\\item[NKI\\textbackslash{}\\_107] 15\n",
       "\\item[NKI\\textbackslash{}\\_109] 15\n",
       "\\item[NKI\\textbackslash{}\\_110] 20\n",
       "\\item[NKI\\textbackslash{}\\_111] 11\n",
       "\\item[NKI\\textbackslash{}\\_113] 23\n",
       "\\item[NKI\\textbackslash{}\\_117] 22\n",
       "\\item[NKI\\textbackslash{}\\_118] 25\n",
       "\\item[NKI\\textbackslash{}\\_120] 36\n",
       "\\item[NKI\\textbackslash{}\\_122] 14\n",
       "\\item[NKI\\textbackslash{}\\_123] 25\n",
       "\\item[NKI\\textbackslash{}\\_124] 18\n",
       "\\item[NKI\\textbackslash{}\\_133] 18\n",
       "\\item[NKI\\textbackslash{}\\_138] 12\n",
       "\\item[NKI\\textbackslash{}\\_139] 31\n",
       "\\item[NKI\\textbackslash{}\\_141] 17\n",
       "\\item[NKI\\textbackslash{}\\_221] 47\n",
       "\\item[NKI\\textbackslash{}\\_222] 62\n",
       "\\item[NKI\\textbackslash{}\\_224] 3\n",
       "\\item[NKI\\textbackslash{}\\_226] 141\n",
       "\\item[NKI\\textbackslash{}\\_227] 647\n",
       "\\item[NKI\\textbackslash{}\\_228] 29\n",
       "\\item[NKI\\textbackslash{}\\_229] 16\n",
       "\\item[NKI\\textbackslash{}\\_230] 21\n",
       "\\item[NKI\\textbackslash{}\\_231] 33\n",
       "\\item[NKI\\textbackslash{}\\_237] 33\n",
       "\\item[NKI\\textbackslash{}\\_238] 45\n",
       "\\item[NKI\\textbackslash{}\\_240] 25\n",
       "\\item[NKI\\textbackslash{}\\_241] 15\n",
       "\\item[NKI\\textbackslash{}\\_248] 7\n",
       "\\item[NKI\\textbackslash{}\\_250] 28\n",
       "\\item[NKI\\textbackslash{}\\_251] 17\n",
       "\\item[NKI\\textbackslash{}\\_252] 18\n",
       "\\item[NKI\\textbackslash{}\\_254] 16\n",
       "\\item[NKI\\textbackslash{}\\_292] 28\n",
       "\\item[NKI\\textbackslash{}\\_317] 12\n",
       "\\item[NKI\\textbackslash{}\\_342] 54\n",
       "\\item[NKI\\textbackslash{}\\_371] 37\n",
       "\\item[NKI\\textbackslash{}\\_379] 27\n",
       "\\item[NKI\\textbackslash{}\\_380] 34\n",
       "\\item[NKI\\textbackslash{}\\_397] 30\n",
       "\\item[NKI\\textbackslash{}\\_398] 15\n",
       "\\item[NKI\\textbackslash{}\\_401] 9\n",
       "\\end{description*}\n"
      ],
      "text/markdown": [
       "NKI_4\n",
       ":   361NKI_6\n",
       ":   305NKI_7\n",
       ":   297NKI_8\n",
       ":   295NKI_9\n",
       ":   297NKI_11\n",
       ":   297NKI_12\n",
       ":   2811NKI_13\n",
       ":   296NKI_14\n",
       ":   1472NKI_17\n",
       ":   321NKI_26\n",
       ":   324NKI_27\n",
       ":   335NKI_28\n",
       ":   337NKI_29\n",
       ":   304NKI_36\n",
       ":   302NKI_38\n",
       ":   420NKI_39\n",
       ":   312NKI_45\n",
       ":   295NKI_48\n",
       ":   297NKI_51\n",
       ":   301NKI_56\n",
       ":   302NKI_57\n",
       ":   449NKI_58\n",
       ":   306NKI_59\n",
       ":   301NKI_60\n",
       ":   303NKI_61\n",
       ":   354NKI_62\n",
       ":   298NKI_71\n",
       ":   302NKI_72\n",
       ":   298NKI_73\n",
       ":   303NKI_75\n",
       ":   303NKI_76\n",
       ":   305NKI_103\n",
       ":   23NKI_107\n",
       ":   15NKI_109\n",
       ":   15NKI_110\n",
       ":   20NKI_111\n",
       ":   11NKI_113\n",
       ":   23NKI_117\n",
       ":   22NKI_118\n",
       ":   25NKI_120\n",
       ":   36NKI_122\n",
       ":   14NKI_123\n",
       ":   25NKI_124\n",
       ":   18NKI_133\n",
       ":   18NKI_138\n",
       ":   12NKI_139\n",
       ":   31NKI_141\n",
       ":   17NKI_221\n",
       ":   47NKI_222\n",
       ":   62NKI_224\n",
       ":   3NKI_226\n",
       ":   141NKI_227\n",
       ":   647NKI_228\n",
       ":   29NKI_229\n",
       ":   16NKI_230\n",
       ":   21NKI_231\n",
       ":   33NKI_237\n",
       ":   33NKI_238\n",
       ":   45NKI_240\n",
       ":   25NKI_241\n",
       ":   15NKI_248\n",
       ":   7NKI_250\n",
       ":   28NKI_251\n",
       ":   17NKI_252\n",
       ":   18NKI_254\n",
       ":   16NKI_292\n",
       ":   28NKI_317\n",
       ":   12NKI_342\n",
       ":   54NKI_371\n",
       ":   37NKI_379\n",
       ":   27NKI_380\n",
       ":   34NKI_397\n",
       ":   30NKI_398\n",
       ":   15NKI_401\n",
       ":   9\n",
       "\n"
      ],
      "text/plain": [
       "  NKI_4   NKI_6   NKI_7   NKI_8   NKI_9  NKI_11  NKI_12  NKI_13  NKI_14  NKI_17 \n",
       "    361     305     297     295     297     297    2811     296    1472     321 \n",
       " NKI_26  NKI_27  NKI_28  NKI_29  NKI_36  NKI_38  NKI_39  NKI_45  NKI_48  NKI_51 \n",
       "    324     335     337     304     302     420     312     295     297     301 \n",
       " NKI_56  NKI_57  NKI_58  NKI_59  NKI_60  NKI_61  NKI_62  NKI_71  NKI_72  NKI_73 \n",
       "    302     449     306     301     303     354     298     302     298     303 \n",
       " NKI_75  NKI_76 NKI_103 NKI_107 NKI_109 NKI_110 NKI_111 NKI_113 NKI_117 NKI_118 \n",
       "    303     305      23      15      15      20      11      23      22      25 \n",
       "NKI_120 NKI_122 NKI_123 NKI_124 NKI_133 NKI_138 NKI_139 NKI_141 NKI_221 NKI_222 \n",
       "     36      14      25      18      18      12      31      17      47      62 \n",
       "NKI_224 NKI_226 NKI_227 NKI_228 NKI_229 NKI_230 NKI_231 NKI_237 NKI_238 NKI_240 \n",
       "      3     141     647      29      16      21      33      33      45      25 \n",
       "NKI_241 NKI_248 NKI_250 NKI_251 NKI_252 NKI_254 NKI_292 NKI_317 NKI_342 NKI_371 \n",
       "     15       7      28      17      18      16      28      12      54      37 \n",
       "NKI_379 NKI_380 NKI_397 NKI_398 NKI_401 \n",
       "     27      34      30      15       9 "
      ]
     },
     "metadata": {},
     "output_type": "display_data"
    }
   ],
   "source": [
    "num.na.expt <- apply (nki.data, 2, function(x) {sum(is.na(x))})\n",
    "num.na.gene <- apply (nki.data, 1, function(x) {sum(is.na(x))})\n",
    "num.na.expt"
   ]
  },
  {
   "cell_type": "code",
   "execution_count": 9,
   "metadata": {
    "collapsed": false,
    "jupyter": {
     "outputs_hidden": false
    }
   },
   "outputs": [
    {
     "data": {
      "image/png": "[encoded data removed]",
      "text/plain": [
       "Plot with title “Histogram of num.na.gene”"
      ]
     },
     "metadata": {
      "image/png": {
       "height": 420,
       "width": 420
      }
     },
     "output_type": "display_data"
    }
   ],
   "source": [
    "hist (num.na.gene)"
   ]
  },
  {
   "cell_type": "markdown",
   "metadata": {},
   "source": [
    "### noticed that there are some genes with lots of missing values\n",
    "### there are genes with missing values across all 75 experiments in the training data"
   ]
  },
  {
   "cell_type": "code",
   "execution_count": 10,
   "metadata": {
    "collapsed": false,
    "jupyter": {
     "outputs_hidden": false
    }
   },
   "outputs": [
    {
     "data": {
      "text/html": [
       "75"
      ],
      "text/latex": [
       "75"
      ],
      "text/markdown": [
       "75"
      ],
      "text/plain": [
       "[1] 75"
      ]
     },
     "metadata": {},
     "output_type": "display_data"
    },
    {
     "data": {
      "text/html": [
       "0"
      ],
      "text/latex": [
       "0"
      ],
      "text/markdown": [
       "0"
      ],
      "text/plain": [
       "[1] 0"
      ]
     },
     "metadata": {},
     "output_type": "display_data"
    }
   ],
   "source": [
    "max (num.na.gene)\n",
    "min (num.na.gene)"
   ]
  },
  {
   "cell_type": "markdown",
   "metadata": {},
   "source": [
    "### Would it make things a lot easier if we simply remove all genes with at least one missing value?"
   ]
  },
  {
   "cell_type": "code",
   "execution_count": 11,
   "metadata": {
    "collapsed": false,
    "jupyter": {
     "outputs_hidden": false
    }
   },
   "outputs": [
    {
     "data": {
      "text/html": [
       "4951"
      ],
      "text/latex": [
       "4951"
      ],
      "text/markdown": [
       "4951"
      ],
      "text/plain": [
       "[1] 4951"
      ]
     },
     "metadata": {},
     "output_type": "display_data"
    }
   ],
   "source": [
    "temp <- which (num.na.gene > 0)\n",
    "length (temp)\n",
    "# temp is the set of indices of genes with at least 1 missing value"
   ]
  },
  {
   "cell_type": "code",
   "execution_count": 12,
   "metadata": {
    "collapsed": false,
    "jupyter": {
     "outputs_hidden": false
    }
   },
   "outputs": [
    {
     "data": {
      "text/html": [
       "FALSE"
      ],
      "text/latex": [
       "FALSE"
      ],
      "text/markdown": [
       "FALSE"
      ],
      "text/plain": [
       "[1] FALSE"
      ]
     },
     "metadata": {},
     "output_type": "display_data"
    },
    {
     "data": {
      "text/html": [
       "TRUE"
      ],
      "text/latex": [
       "TRUE"
      ],
      "text/markdown": [
       "TRUE"
      ],
      "text/plain": [
       "[1] TRUE"
      ]
     },
     "metadata": {},
     "output_type": "display_data"
    }
   ],
   "source": [
    "any (is.na(nki.data[-temp, ]))\n",
    "any (is.na(nki2.data[-temp, ]))"
   ]
  },
  {
   "cell_type": "markdown",
   "metadata": {},
   "source": [
    "### Removing genes with at least one missing value would be good for the training data\n",
    "### But wouldn’t solve the missing data issue for the test set\n",
    "### Looking at the distribution of “num.na.gene”. we will remove genes with >2 missing values."
   ]
  },
  {
   "cell_type": "code",
   "execution_count": 13,
   "metadata": {
    "collapsed": false,
    "jupyter": {
     "outputs_hidden": false
    }
   },
   "outputs": [
    {
     "data": {
      "text/html": [
       "428"
      ],
      "text/latex": [
       "428"
      ],
      "text/markdown": [
       "428"
      ],
      "text/plain": [
       "[1] 428"
      ]
     },
     "metadata": {},
     "output_type": "display_data"
    },
    {
     "data": {
      "text/html": [
       "TRUE"
      ],
      "text/latex": [
       "TRUE"
      ],
      "text/markdown": [
       "TRUE"
      ],
      "text/plain": [
       "[1] TRUE"
      ]
     },
     "metadata": {},
     "output_type": "display_data"
    },
    {
     "data": {
      "text/html": [
       "TRUE"
      ],
      "text/latex": [
       "TRUE"
      ],
      "text/markdown": [
       "TRUE"
      ],
      "text/plain": [
       "[1] TRUE"
      ]
     },
     "metadata": {},
     "output_type": "display_data"
    }
   ],
   "source": [
    "rm.gene.ind <- which (num.na.gene > 2)\n",
    "length (rm.gene.ind)\n",
    "nki.data <- nki.data[-rm.gene.ind, ]\n",
    "nki2.data <- nki2.data[-rm.gene.ind, ]\n",
    "any (is.na(nki.data))\n",
    "any (is.na(nki2.data))"
   ]
  },
  {
   "cell_type": "markdown",
   "metadata": {},
   "source": [
    "### Now, do we have experiments with lots of missing values?"
   ]
  },
  {
   "cell_type": "code",
   "execution_count": 14,
   "metadata": {
    "collapsed": false,
    "jupyter": {
     "outputs_hidden": false
    }
   },
   "outputs": [
    {
     "data": {
      "text/html": [
       "<style>\n",
       ".dl-inline {width: auto; margin:0; padding: 0}\n",
       ".dl-inline>dt, .dl-inline>dd {float: none; width: auto; display: inline-block}\n",
       ".dl-inline>dt::after {content: \":\\0020\"; padding-right: .5ex}\n",
       ".dl-inline>dt:not(:first-of-type) {padding-left: .5ex}\n",
       "</style><dl class=dl-inline><dt>NKI_4</dt><dd>56</dd><dt>NKI_6</dt><dd>2</dd><dt>NKI_7</dt><dd>1</dd><dt>NKI_8</dt><dd>0</dd><dt>NKI_9</dt><dd>2</dd><dt>NKI_11</dt><dd>0</dd><dt>NKI_12</dt><dd>2471</dd><dt>NKI_13</dt><dd>0</dd><dt>NKI_14</dt><dd>1153</dd><dt>NKI_17</dt><dd>18</dd><dt>NKI_26</dt><dd>20</dd><dt>NKI_27</dt><dd>36</dd><dt>NKI_28</dt><dd>27</dd><dt>NKI_29</dt><dd>6</dd><dt>NKI_36</dt><dd>4</dd><dt>NKI_38</dt><dd>72</dd><dt>NKI_39</dt><dd>7</dd><dt>NKI_45</dt><dd>0</dd><dt>NKI_48</dt><dd>0</dd><dt>NKI_51</dt><dd>2</dd><dt>NKI_56</dt><dd>0</dd><dt>NKI_57</dt><dd>120</dd><dt>NKI_58</dt><dd>3</dd><dt>NKI_59</dt><dd>4</dd><dt>NKI_60</dt><dd>5</dd><dt>NKI_61</dt><dd>42</dd><dt>NKI_62</dt><dd>2</dd><dt>NKI_71</dt><dd>5</dd><dt>NKI_72</dt><dd>2</dd><dt>NKI_73</dt><dd>7</dd><dt>NKI_75</dt><dd>3</dd><dt>NKI_76</dt><dd>1</dd><dt>NKI_103</dt><dd>1</dd><dt>NKI_107</dt><dd>3</dd><dt>NKI_109</dt><dd>1</dd><dt>NKI_110</dt><dd>3</dd><dt>NKI_111</dt><dd>0</dd><dt>NKI_113</dt><dd>0</dd><dt>NKI_117</dt><dd>1</dd><dt>NKI_118</dt><dd>0</dd><dt>NKI_120</dt><dd>0</dd><dt>NKI_122</dt><dd>0</dd><dt>NKI_123</dt><dd>2</dd><dt>NKI_124</dt><dd>1</dd><dt>NKI_133</dt><dd>0</dd><dt>NKI_138</dt><dd>1</dd><dt>NKI_139</dt><dd>0</dd><dt>NKI_141</dt><dd>4</dd><dt>NKI_221</dt><dd>21</dd><dt>NKI_222</dt><dd>45</dd><dt>NKI_224</dt><dd>0</dd><dt>NKI_226</dt><dd>94</dd><dt>NKI_227</dt><dd>556</dd><dt>NKI_228</dt><dd>0</dd><dt>NKI_229</dt><dd>2</dd><dt>NKI_230</dt><dd>0</dd><dt>NKI_231</dt><dd>1</dd><dt>NKI_237</dt><dd>1</dd><dt>NKI_238</dt><dd>2</dd><dt>NKI_240</dt><dd>0</dd><dt>NKI_241</dt><dd>0</dd><dt>NKI_248</dt><dd>1</dd><dt>NKI_250</dt><dd>0</dd><dt>NKI_251</dt><dd>0</dd><dt>NKI_252</dt><dd>0</dd><dt>NKI_254</dt><dd>0</dd><dt>NKI_292</dt><dd>1</dd><dt>NKI_317</dt><dd>0</dd><dt>NKI_342</dt><dd>10</dd><dt>NKI_371</dt><dd>2</dd><dt>NKI_379</dt><dd>2</dd><dt>NKI_380</dt><dd>0</dd><dt>NKI_397</dt><dd>0</dd><dt>NKI_398</dt><dd>0</dd><dt>NKI_401</dt><dd>0</dd></dl>\n"
      ],
      "text/latex": [
       "\\begin{description*}\n",
       "\\item[NKI\\textbackslash{}\\_4] 56\n",
       "\\item[NKI\\textbackslash{}\\_6] 2\n",
       "\\item[NKI\\textbackslash{}\\_7] 1\n",
       "\\item[NKI\\textbackslash{}\\_8] 0\n",
       "\\item[NKI\\textbackslash{}\\_9] 2\n",
       "\\item[NKI\\textbackslash{}\\_11] 0\n",
       "\\item[NKI\\textbackslash{}\\_12] 2471\n",
       "\\item[NKI\\textbackslash{}\\_13] 0\n",
       "\\item[NKI\\textbackslash{}\\_14] 1153\n",
       "\\item[NKI\\textbackslash{}\\_17] 18\n",
       "\\item[NKI\\textbackslash{}\\_26] 20\n",
       "\\item[NKI\\textbackslash{}\\_27] 36\n",
       "\\item[NKI\\textbackslash{}\\_28] 27\n",
       "\\item[NKI\\textbackslash{}\\_29] 6\n",
       "\\item[NKI\\textbackslash{}\\_36] 4\n",
       "\\item[NKI\\textbackslash{}\\_38] 72\n",
       "\\item[NKI\\textbackslash{}\\_39] 7\n",
       "\\item[NKI\\textbackslash{}\\_45] 0\n",
       "\\item[NKI\\textbackslash{}\\_48] 0\n",
       "\\item[NKI\\textbackslash{}\\_51] 2\n",
       "\\item[NKI\\textbackslash{}\\_56] 0\n",
       "\\item[NKI\\textbackslash{}\\_57] 120\n",
       "\\item[NKI\\textbackslash{}\\_58] 3\n",
       "\\item[NKI\\textbackslash{}\\_59] 4\n",
       "\\item[NKI\\textbackslash{}\\_60] 5\n",
       "\\item[NKI\\textbackslash{}\\_61] 42\n",
       "\\item[NKI\\textbackslash{}\\_62] 2\n",
       "\\item[NKI\\textbackslash{}\\_71] 5\n",
       "\\item[NKI\\textbackslash{}\\_72] 2\n",
       "\\item[NKI\\textbackslash{}\\_73] 7\n",
       "\\item[NKI\\textbackslash{}\\_75] 3\n",
       "\\item[NKI\\textbackslash{}\\_76] 1\n",
       "\\item[NKI\\textbackslash{}\\_103] 1\n",
       "\\item[NKI\\textbackslash{}\\_107] 3\n",
       "\\item[NKI\\textbackslash{}\\_109] 1\n",
       "\\item[NKI\\textbackslash{}\\_110] 3\n",
       "\\item[NKI\\textbackslash{}\\_111] 0\n",
       "\\item[NKI\\textbackslash{}\\_113] 0\n",
       "\\item[NKI\\textbackslash{}\\_117] 1\n",
       "\\item[NKI\\textbackslash{}\\_118] 0\n",
       "\\item[NKI\\textbackslash{}\\_120] 0\n",
       "\\item[NKI\\textbackslash{}\\_122] 0\n",
       "\\item[NKI\\textbackslash{}\\_123] 2\n",
       "\\item[NKI\\textbackslash{}\\_124] 1\n",
       "\\item[NKI\\textbackslash{}\\_133] 0\n",
       "\\item[NKI\\textbackslash{}\\_138] 1\n",
       "\\item[NKI\\textbackslash{}\\_139] 0\n",
       "\\item[NKI\\textbackslash{}\\_141] 4\n",
       "\\item[NKI\\textbackslash{}\\_221] 21\n",
       "\\item[NKI\\textbackslash{}\\_222] 45\n",
       "\\item[NKI\\textbackslash{}\\_224] 0\n",
       "\\item[NKI\\textbackslash{}\\_226] 94\n",
       "\\item[NKI\\textbackslash{}\\_227] 556\n",
       "\\item[NKI\\textbackslash{}\\_228] 0\n",
       "\\item[NKI\\textbackslash{}\\_229] 2\n",
       "\\item[NKI\\textbackslash{}\\_230] 0\n",
       "\\item[NKI\\textbackslash{}\\_231] 1\n",
       "\\item[NKI\\textbackslash{}\\_237] 1\n",
       "\\item[NKI\\textbackslash{}\\_238] 2\n",
       "\\item[NKI\\textbackslash{}\\_240] 0\n",
       "\\item[NKI\\textbackslash{}\\_241] 0\n",
       "\\item[NKI\\textbackslash{}\\_248] 1\n",
       "\\item[NKI\\textbackslash{}\\_250] 0\n",
       "\\item[NKI\\textbackslash{}\\_251] 0\n",
       "\\item[NKI\\textbackslash{}\\_252] 0\n",
       "\\item[NKI\\textbackslash{}\\_254] 0\n",
       "\\item[NKI\\textbackslash{}\\_292] 1\n",
       "\\item[NKI\\textbackslash{}\\_317] 0\n",
       "\\item[NKI\\textbackslash{}\\_342] 10\n",
       "\\item[NKI\\textbackslash{}\\_371] 2\n",
       "\\item[NKI\\textbackslash{}\\_379] 2\n",
       "\\item[NKI\\textbackslash{}\\_380] 0\n",
       "\\item[NKI\\textbackslash{}\\_397] 0\n",
       "\\item[NKI\\textbackslash{}\\_398] 0\n",
       "\\item[NKI\\textbackslash{}\\_401] 0\n",
       "\\end{description*}\n"
      ],
      "text/markdown": [
       "NKI_4\n",
       ":   56NKI_6\n",
       ":   2NKI_7\n",
       ":   1NKI_8\n",
       ":   0NKI_9\n",
       ":   2NKI_11\n",
       ":   0NKI_12\n",
       ":   2471NKI_13\n",
       ":   0NKI_14\n",
       ":   1153NKI_17\n",
       ":   18NKI_26\n",
       ":   20NKI_27\n",
       ":   36NKI_28\n",
       ":   27NKI_29\n",
       ":   6NKI_36\n",
       ":   4NKI_38\n",
       ":   72NKI_39\n",
       ":   7NKI_45\n",
       ":   0NKI_48\n",
       ":   0NKI_51\n",
       ":   2NKI_56\n",
       ":   0NKI_57\n",
       ":   120NKI_58\n",
       ":   3NKI_59\n",
       ":   4NKI_60\n",
       ":   5NKI_61\n",
       ":   42NKI_62\n",
       ":   2NKI_71\n",
       ":   5NKI_72\n",
       ":   2NKI_73\n",
       ":   7NKI_75\n",
       ":   3NKI_76\n",
       ":   1NKI_103\n",
       ":   1NKI_107\n",
       ":   3NKI_109\n",
       ":   1NKI_110\n",
       ":   3NKI_111\n",
       ":   0NKI_113\n",
       ":   0NKI_117\n",
       ":   1NKI_118\n",
       ":   0NKI_120\n",
       ":   0NKI_122\n",
       ":   0NKI_123\n",
       ":   2NKI_124\n",
       ":   1NKI_133\n",
       ":   0NKI_138\n",
       ":   1NKI_139\n",
       ":   0NKI_141\n",
       ":   4NKI_221\n",
       ":   21NKI_222\n",
       ":   45NKI_224\n",
       ":   0NKI_226\n",
       ":   94NKI_227\n",
       ":   556NKI_228\n",
       ":   0NKI_229\n",
       ":   2NKI_230\n",
       ":   0NKI_231\n",
       ":   1NKI_237\n",
       ":   1NKI_238\n",
       ":   2NKI_240\n",
       ":   0NKI_241\n",
       ":   0NKI_248\n",
       ":   1NKI_250\n",
       ":   0NKI_251\n",
       ":   0NKI_252\n",
       ":   0NKI_254\n",
       ":   0NKI_292\n",
       ":   1NKI_317\n",
       ":   0NKI_342\n",
       ":   10NKI_371\n",
       ":   2NKI_379\n",
       ":   2NKI_380\n",
       ":   0NKI_397\n",
       ":   0NKI_398\n",
       ":   0NKI_401\n",
       ":   0\n",
       "\n"
      ],
      "text/plain": [
       "  NKI_4   NKI_6   NKI_7   NKI_8   NKI_9  NKI_11  NKI_12  NKI_13  NKI_14  NKI_17 \n",
       "     56       2       1       0       2       0    2471       0    1153      18 \n",
       " NKI_26  NKI_27  NKI_28  NKI_29  NKI_36  NKI_38  NKI_39  NKI_45  NKI_48  NKI_51 \n",
       "     20      36      27       6       4      72       7       0       0       2 \n",
       " NKI_56  NKI_57  NKI_58  NKI_59  NKI_60  NKI_61  NKI_62  NKI_71  NKI_72  NKI_73 \n",
       "      0     120       3       4       5      42       2       5       2       7 \n",
       " NKI_75  NKI_76 NKI_103 NKI_107 NKI_109 NKI_110 NKI_111 NKI_113 NKI_117 NKI_118 \n",
       "      3       1       1       3       1       3       0       0       1       0 \n",
       "NKI_120 NKI_122 NKI_123 NKI_124 NKI_133 NKI_138 NKI_139 NKI_141 NKI_221 NKI_222 \n",
       "      0       0       2       1       0       1       0       4      21      45 \n",
       "NKI_224 NKI_226 NKI_227 NKI_228 NKI_229 NKI_230 NKI_231 NKI_237 NKI_238 NKI_240 \n",
       "      0      94     556       0       2       0       1       1       2       0 \n",
       "NKI_241 NKI_248 NKI_250 NKI_251 NKI_252 NKI_254 NKI_292 NKI_317 NKI_342 NKI_371 \n",
       "      0       1       0       0       0       0       1       0      10       2 \n",
       "NKI_379 NKI_380 NKI_397 NKI_398 NKI_401 \n",
       "      2       0       0       0       0 "
      ]
     },
     "metadata": {},
     "output_type": "display_data"
    }
   ],
   "source": [
    "num.na.expt <- apply (nki.data, 2, function(x) {sum(is.na(x))})\n",
    "num.na.expt"
   ]
  },
  {
   "cell_type": "code",
   "execution_count": 15,
   "metadata": {
    "collapsed": false,
    "jupyter": {
     "outputs_hidden": false
    }
   },
   "outputs": [
    {
     "data": {
      "text/html": [
       "4"
      ],
      "text/latex": [
       "4"
      ],
      "text/markdown": [
       "4"
      ],
      "text/plain": [
       "[1] 4"
      ]
     },
     "metadata": {},
     "output_type": "display_data"
    }
   ],
   "source": [
    "sum (num.na.expt > 100)"
   ]
  },
  {
   "cell_type": "code",
   "execution_count": 16,
   "metadata": {
    "collapsed": false,
    "jupyter": {
     "outputs_hidden": false
    }
   },
   "outputs": [
    {
     "data": {
      "text/html": [
       "<style>\n",
       ".dl-inline {width: auto; margin:0; padding: 0}\n",
       ".dl-inline>dt, .dl-inline>dd {float: none; width: auto; display: inline-block}\n",
       ".dl-inline>dt::after {content: \":\\0020\"; padding-right: .5ex}\n",
       ".dl-inline>dt:not(:first-of-type) {padding-left: .5ex}\n",
       "</style><dl class=dl-inline><dt>NKI_12</dt><dd>7</dd><dt>NKI_14</dt><dd>9</dd><dt>NKI_57</dt><dd>22</dd><dt>NKI_227</dt><dd>53</dd></dl>\n"
      ],
      "text/latex": [
       "\\begin{description*}\n",
       "\\item[NKI\\textbackslash{}\\_12] 7\n",
       "\\item[NKI\\textbackslash{}\\_14] 9\n",
       "\\item[NKI\\textbackslash{}\\_57] 22\n",
       "\\item[NKI\\textbackslash{}\\_227] 53\n",
       "\\end{description*}\n"
      ],
      "text/markdown": [
       "NKI_12\n",
       ":   7NKI_14\n",
       ":   9NKI_57\n",
       ":   22NKI_227\n",
       ":   53\n",
       "\n"
      ],
      "text/plain": [
       " NKI_12  NKI_14  NKI_57 NKI_227 \n",
       "      7       9      22      53 "
      ]
     },
     "metadata": {},
     "output_type": "display_data"
    },
    {
     "data": {
      "text/html": [
       "<style>\n",
       ".list-inline {list-style: none; margin:0; padding: 0}\n",
       ".list-inline>li {display: inline-block}\n",
       ".list-inline>li:not(:last-child)::after {content: \"\\00b7\"; padding: 0 .5ex}\n",
       "</style>\n",
       "<ol class=list-inline><li>24053</li><li>71</li></ol>\n"
      ],
      "text/latex": [
       "\\begin{enumerate*}\n",
       "\\item 24053\n",
       "\\item 71\n",
       "\\end{enumerate*}\n"
      ],
      "text/markdown": [
       "1. 24053\n",
       "2. 71\n",
       "\n",
       "\n"
      ],
      "text/plain": [
       "[1] 24053    71"
      ]
     },
     "metadata": {},
     "output_type": "display_data"
    },
    {
     "data": {
      "text/html": [
       "TRUE"
      ],
      "text/latex": [
       "TRUE"
      ],
      "text/markdown": [
       "TRUE"
      ],
      "text/plain": [
       "[1] TRUE"
      ]
     },
     "metadata": {},
     "output_type": "display_data"
    }
   ],
   "source": [
    "# Remove the 4 experiments with more than 100 missing values\n",
    "rm.expt.ind <- which (num.na.expt > 100)\n",
    "rm.expt.ind\n",
    "nki.data <- nki.data[, -rm.expt.ind]\n",
    "dim (nki.data)\n",
    "any (is.na(nki.data))\n",
    "write.table (nki.prognosis, file=\"nki_prognosis.txt\", quote=F, sep=\"\\n\", row.names=F, col.names=F)"
   ]
  },
  {
   "cell_type": "markdown",
   "metadata": {},
   "source": [
    "## Missing value imputation using knn\n",
    "http://www.bioconductor.org/packages/release/bioc/manuals/impute/man/impute.pdf\n",
    "\n",
    "### Question: How to choose k in knn impute?\n",
    "Reference: http://bioinformatics.oxfordjournals.org/content/17/6/520.long\n",
    "Usually k=10-20 is fine.\n",
    "But depends on % of missing data.\n",
    "How can you evaluate performance?\n",
    "\n",
    "### Question 1: How do you compute the % of missing data in training and test data?"
   ]
  },
  {
   "cell_type": "code",
   "execution_count": 17,
   "metadata": {
    "collapsed": false,
    "jupyter": {
     "outputs_hidden": false
    }
   },
   "outputs": [
    {
     "data": {
      "text/html": [
       "0.000308005267709864"
      ],
      "text/latex": [
       "0.000308005267709864"
      ],
      "text/markdown": [
       "0.000308005267709864"
      ],
      "text/plain": [
       "[1] 0.0003080053"
      ]
     },
     "metadata": {},
     "output_type": "display_data"
    }
   ],
   "source": [
    "sum (is.na(nki.data))/(nrow(nki.data) * ncol(nki.data))"
   ]
  },
  {
   "cell_type": "code",
   "execution_count": 18,
   "metadata": {
    "collapsed": false,
    "jupyter": {
     "outputs_hidden": false
    }
   },
   "outputs": [
    {
     "data": {
      "text/html": [
       "0.00398041446351428"
      ],
      "text/latex": [
       "0.00398041446351428"
      ],
      "text/markdown": [
       "0.00398041446351428"
      ],
      "text/plain": [
       "[1] 0.003980414"
      ]
     },
     "metadata": {},
     "output_type": "display_data"
    }
   ],
   "source": [
    "sum (is.na(nki2.data))/(nrow(nki2.data) * ncol(nki2.data))"
   ]
  },
  {
   "cell_type": "code",
   "execution_count": 19,
   "metadata": {
    "collapsed": false,
    "jupyter": {
     "outputs_hidden": false
    }
   },
   "outputs": [],
   "source": [
    "library (impute)"
   ]
  },
  {
   "cell_type": "code",
   "execution_count": 20,
   "metadata": {
    "collapsed": false,
    "jupyter": {
     "outputs_hidden": false
    }
   },
   "outputs": [
    {
     "name": "stdout",
     "output_type": "stream",
     "text": [
      "Cluster size 24053 broken into 3279 20774 \n",
      "Cluster size 3279 broken into 1434 1845 \n",
      "Done cluster 1434 \n",
      "Cluster size 1845 broken into 232 1613 \n",
      "Done cluster 232 \n",
      "Cluster size 1613 broken into 675 938 \n",
      "Done cluster 675 \n",
      "Done cluster 938 \n",
      "Done cluster 1613 \n",
      "Done cluster 1845 \n",
      "Done cluster 3279 \n",
      "Cluster size 20774 broken into 19193 1581 \n",
      "Cluster size 19193 broken into 11288 7905 \n",
      "Cluster size 11288 broken into 5290 5998 \n",
      "Cluster size 5290 broken into 4322 968 \n",
      "Cluster size 4322 broken into 921 3401 \n",
      "Done cluster 921 \n",
      "Cluster size 3401 broken into 1723 1678 \n",
      "Cluster size 1723 broken into 1438 285 \n",
      "Done cluster 1438 \n",
      "Done cluster 285 \n",
      "Done cluster 1723 \n",
      "Cluster size 1678 broken into 922 756 \n",
      "Done cluster 922 \n",
      "Done cluster 756 \n",
      "Done cluster 1678 \n",
      "Done cluster 3401 \n",
      "Done cluster 4322 \n",
      "Done cluster 968 \n",
      "Done cluster 5290 \n",
      "Cluster size 5998 broken into 2207 3791 \n",
      "Cluster size 2207 broken into 1353 854 \n",
      "Done cluster 1353 \n",
      "Done cluster 854 \n",
      "Done cluster 2207 \n",
      "Cluster size 3791 broken into 1114 2677 \n",
      "Done cluster 1114 \n",
      "Cluster size 2677 broken into 2390 287 \n",
      "Cluster size 2390 broken into 883 1507 \n",
      "Done cluster 883 \n",
      "Cluster size 1507 broken into 1158 349 \n",
      "Done cluster 1158 \n",
      "Done cluster 349 \n",
      "Done cluster 1507 \n",
      "Done cluster 2390 \n",
      "Done cluster 287 \n",
      "Done cluster 2677 \n",
      "Done cluster 3791 \n",
      "Done cluster 5998 \n",
      "Done cluster 11288 \n",
      "Cluster size 7905 broken into 3627 4278 \n",
      "Cluster size 3627 broken into 502 3125 \n",
      "Done cluster 502 \n",
      "Cluster size 3125 broken into 794 2331 \n",
      "Done cluster 794 \n",
      "Cluster size 2331 broken into 575 1756 \n",
      "Done cluster 575 \n",
      "Cluster size 1756 broken into 1703 53 \n",
      "Cluster size 1703 broken into 279 1424 \n",
      "Done cluster 279 \n",
      "Done cluster 1424 \n",
      "Done cluster 1703 \n",
      "Done cluster 53 \n",
      "Done cluster 1756 \n",
      "Done cluster 2331 \n",
      "Done cluster 3125 \n",
      "Done cluster 3627 \n",
      "Cluster size 4278 broken into 2579 1699 \n",
      "Cluster size 2579 broken into 97 2482 \n",
      "Done cluster 97 \n",
      "Cluster size 2482 broken into 236 2246 \n",
      "Done cluster 236 \n",
      "Cluster size 2246 broken into 1860 386 \n",
      "Cluster size 1860 broken into 847 1013 \n",
      "Done cluster 847 \n",
      "Done cluster 1013 \n",
      "Done cluster 1860 \n",
      "Done cluster 386 \n",
      "Done cluster 2246 \n",
      "Done cluster 2482 \n",
      "Done cluster 2579 \n",
      "Cluster size 1699 broken into 424 1275 \n",
      "Done cluster 424 \n",
      "Done cluster 1275 \n",
      "Done cluster 1699 \n",
      "Done cluster 4278 \n",
      "Done cluster 7905 \n",
      "Done cluster 19193 \n",
      "Cluster size 1581 broken into 1338 243 \n",
      "Done cluster 1338 \n",
      "Done cluster 243 \n",
      "Done cluster 1581 \n",
      "Done cluster 20774 \n"
     ]
    }
   ],
   "source": [
    "nki.impute <- impute.knn (nki.data, k=12)"
   ]
  },
  {
   "cell_type": "code",
   "execution_count": 21,
   "metadata": {
    "tags": []
   },
   "outputs": [
    {
     "data": {
      "text/html": [
       "FALSE"
      ],
      "text/latex": [
       "FALSE"
      ],
      "text/markdown": [
       "FALSE"
      ],
      "text/plain": [
       "[1] FALSE"
      ]
     },
     "metadata": {},
     "output_type": "display_data"
    }
   ],
   "source": [
    "any (is.na(nki.impute$data))"
   ]
  },
  {
   "cell_type": "code",
   "execution_count": 22,
   "metadata": {},
   "outputs": [
    {
     "name": "stdout",
     "output_type": "stream",
     "text": [
      "Cluster size 24053 broken into 9161 14892 \n",
      "Cluster size 9161 broken into 6884 2277 \n",
      "Cluster size 6884 broken into 1005 5879 \n",
      "Done cluster 1005 \n",
      "Cluster size 5879 broken into 3695 2184 \n",
      "Cluster size 3695 broken into 2077 1618 \n",
      "Cluster size 2077 broken into 1605 472 \n",
      "Cluster size 1605 broken into 82 1523 \n",
      "Done cluster 82 \n",
      "Cluster size 1523 broken into 1521 2 \n",
      "Cluster size 1521 broken into 1034 487 \n",
      "Done cluster 1034 \n",
      "Done cluster 487 \n",
      "Done cluster 1521 \n",
      "Done cluster 2 \n",
      "Done cluster 1523 \n",
      "Done cluster 1605 \n",
      "Done cluster 472 \n",
      "Done cluster 2077 \n",
      "Cluster size 1618 broken into 1039 579 \n",
      "Done cluster 1039 \n",
      "Done cluster 579 \n",
      "Done cluster 1618 \n",
      "Done cluster 3695 \n",
      "Cluster size 2184 broken into 834 1350 \n",
      "Done cluster 834 \n",
      "Done cluster 1350 \n",
      "Done cluster 2184 \n",
      "Done cluster 5879 \n",
      "Done cluster 6884 \n",
      "Cluster size 2277 broken into 2190 87 \n",
      "Cluster size 2190 broken into 624 1566 \n",
      "Done cluster 624 \n",
      "Cluster size 1566 broken into 1190 376 \n",
      "Done cluster 1190 \n",
      "Done cluster 376 \n",
      "Done cluster 1566 \n",
      "Done cluster 2190 \n",
      "Done cluster 87 \n",
      "Done cluster 2277 \n",
      "Done cluster 9161 \n",
      "Cluster size 14892 broken into 1613 13279 \n",
      "Cluster size 1613 broken into 697 916 \n",
      "Done cluster 697 \n",
      "Done cluster 916 \n",
      "Done cluster 1613 \n",
      "Cluster size 13279 broken into 3521 9758 \n",
      "Cluster size 3521 broken into 1669 1852 \n",
      "Cluster size 1669 broken into 239 1430 \n",
      "Done cluster 239 \n",
      "Done cluster 1430 \n",
      "Done cluster 1669 \n",
      "Cluster size 1852 broken into 504 1348 \n",
      "Done cluster 504 \n",
      "Done cluster 1348 \n",
      "Done cluster 1852 \n",
      "Done cluster 3521 \n",
      "Cluster size 9758 broken into 4687 5071 \n",
      "Cluster size 4687 broken into 500 4187 \n",
      "Done cluster 500 \n",
      "Cluster size 4187 broken into 1461 2726 \n",
      "Done cluster 1461 \n",
      "Cluster size 2726 broken into 1 2725 \n",
      "Done cluster 1 \n",
      "Cluster size 2725 broken into 721 2004 \n",
      "Done cluster 721 \n",
      "Cluster size 2004 broken into 7 1997 \n",
      "Done cluster 7 \n",
      "Cluster size 1997 broken into 1992 5 \n",
      "Cluster size 1992 broken into 746 1246 \n",
      "Done cluster 746 \n",
      "Done cluster 1246 \n",
      "Done cluster 1992 \n",
      "Done cluster 5 \n",
      "Done cluster 1997 \n",
      "Done cluster 2004 \n",
      "Done cluster 2725 \n",
      "Done cluster 2726 \n",
      "Done cluster 4187 \n",
      "Done cluster 4687 \n",
      "Cluster size 5071 broken into 4200 871 \n",
      "Cluster size 4200 broken into 2650 1550 \n",
      "Cluster size 2650 broken into 1821 829 \n",
      "Cluster size 1821 broken into 414 1407 \n",
      "Done cluster 414 \n",
      "Done cluster 1407 \n",
      "Done cluster 1821 \n",
      "Done cluster 829 \n",
      "Done cluster 2650 \n",
      "Cluster size 1550 broken into 1212 338 \n",
      "Done cluster 1212 \n",
      "Done cluster 338 \n",
      "Done cluster 1550 \n",
      "Done cluster 4200 \n",
      "Done cluster 871 \n",
      "Done cluster 5071 \n",
      "Done cluster 9758 \n",
      "Done cluster 13279 \n",
      "Done cluster 14892 \n"
     ]
    }
   ],
   "source": [
    "# impute the test set\n",
    "nki2.impute <- impute.knn (nki2.data, k=12)"
   ]
  },
  {
   "cell_type": "markdown",
   "metadata": {},
   "source": [
    "## 4. k-NN\n",
    "Build predictive models using our training data (nki.data).\n",
    "Test data = nki2.data\n",
    "Install R package “class”."
   ]
  },
  {
   "cell_type": "code",
   "execution_count": 23,
   "metadata": {
    "tags": []
   },
   "outputs": [],
   "source": [
    "library (class)"
   ]
  },
  {
   "cell_type": "code",
   "execution_count": 24,
   "metadata": {},
   "outputs": [
    {
     "data": {
      "text/html": [
       "75"
      ],
      "text/latex": [
       "75"
      ],
      "text/markdown": [
       "75"
      ],
      "text/plain": [
       "[1] 75"
      ]
     },
     "metadata": {},
     "output_type": "display_data"
    }
   ],
   "source": [
    "length (nki.prognosis)"
   ]
  },
  {
   "cell_type": "code",
   "execution_count": 25,
   "metadata": {},
   "outputs": [
    {
     "data": {
      "text/html": [
       "<style>\n",
       ".list-inline {list-style: none; margin:0; padding: 0}\n",
       ".list-inline>li {display: inline-block}\n",
       ".list-inline>li:not(:last-child)::after {content: \"\\00b7\"; padding: 0 .5ex}\n",
       "</style>\n",
       "<ol class=list-inline><li>1</li><li>1</li><li>1</li><li>1</li><li>1</li><li>1</li><li>1</li><li>1</li><li>1</li><li>1</li><li>1</li><li>1</li><li>1</li><li>1</li><li>1</li><li>1</li><li>1</li><li>0</li><li>0</li><li>1</li><li>1</li><li>1</li><li>1</li><li>0</li><li>1</li><li>0</li><li>0</li><li>0</li><li>1</li><li>0</li><li>0</li><li>0</li><li>1</li><li>0</li><li>0</li><li>0</li><li>0</li><li>0</li><li>1</li><li>1</li><li>1</li><li>1</li><li>1</li><li>1</li><li>1</li><li>0</li><li>1</li><li>0</li><li>1</li><li>0</li><li>1</li><li>1</li><li>1</li><li>0</li><li>0</li><li>0</li><li>1</li><li>0</li><li>0</li><li>1</li><li>0</li><li>0</li><li>1</li><li>1</li><li>1</li><li>0</li><li>1</li><li>1</li><li>1</li><li>0</li><li>1</li><li>1</li><li>1</li><li>1</li><li>1</li></ol>\n"
      ],
      "text/latex": [
       "\\begin{enumerate*}\n",
       "\\item 1\n",
       "\\item 1\n",
       "\\item 1\n",
       "\\item 1\n",
       "\\item 1\n",
       "\\item 1\n",
       "\\item 1\n",
       "\\item 1\n",
       "\\item 1\n",
       "\\item 1\n",
       "\\item 1\n",
       "\\item 1\n",
       "\\item 1\n",
       "\\item 1\n",
       "\\item 1\n",
       "\\item 1\n",
       "\\item 1\n",
       "\\item 0\n",
       "\\item 0\n",
       "\\item 1\n",
       "\\item 1\n",
       "\\item 1\n",
       "\\item 1\n",
       "\\item 0\n",
       "\\item 1\n",
       "\\item 0\n",
       "\\item 0\n",
       "\\item 0\n",
       "\\item 1\n",
       "\\item 0\n",
       "\\item 0\n",
       "\\item 0\n",
       "\\item 1\n",
       "\\item 0\n",
       "\\item 0\n",
       "\\item 0\n",
       "\\item 0\n",
       "\\item 0\n",
       "\\item 1\n",
       "\\item 1\n",
       "\\item 1\n",
       "\\item 1\n",
       "\\item 1\n",
       "\\item 1\n",
       "\\item 1\n",
       "\\item 0\n",
       "\\item 1\n",
       "\\item 0\n",
       "\\item 1\n",
       "\\item 0\n",
       "\\item 1\n",
       "\\item 1\n",
       "\\item 1\n",
       "\\item 0\n",
       "\\item 0\n",
       "\\item 0\n",
       "\\item 1\n",
       "\\item 0\n",
       "\\item 0\n",
       "\\item 1\n",
       "\\item 0\n",
       "\\item 0\n",
       "\\item 1\n",
       "\\item 1\n",
       "\\item 1\n",
       "\\item 0\n",
       "\\item 1\n",
       "\\item 1\n",
       "\\item 1\n",
       "\\item 0\n",
       "\\item 1\n",
       "\\item 1\n",
       "\\item 1\n",
       "\\item 1\n",
       "\\item 1\n",
       "\\end{enumerate*}\n"
      ],
      "text/markdown": [
       "1. 1\n",
       "2. 1\n",
       "3. 1\n",
       "4. 1\n",
       "5. 1\n",
       "6. 1\n",
       "7. 1\n",
       "8. 1\n",
       "9. 1\n",
       "10. 1\n",
       "11. 1\n",
       "12. 1\n",
       "13. 1\n",
       "14. 1\n",
       "15. 1\n",
       "16. 1\n",
       "17. 1\n",
       "18. 0\n",
       "19. 0\n",
       "20. 1\n",
       "21. 1\n",
       "22. 1\n",
       "23. 1\n",
       "24. 0\n",
       "25. 1\n",
       "26. 0\n",
       "27. 0\n",
       "28. 0\n",
       "29. 1\n",
       "30. 0\n",
       "31. 0\n",
       "32. 0\n",
       "33. 1\n",
       "34. 0\n",
       "35. 0\n",
       "36. 0\n",
       "37. 0\n",
       "38. 0\n",
       "39. 1\n",
       "40. 1\n",
       "41. 1\n",
       "42. 1\n",
       "43. 1\n",
       "44. 1\n",
       "45. 1\n",
       "46. 0\n",
       "47. 1\n",
       "48. 0\n",
       "49. 1\n",
       "50. 0\n",
       "51. 1\n",
       "52. 1\n",
       "53. 1\n",
       "54. 0\n",
       "55. 0\n",
       "56. 0\n",
       "57. 1\n",
       "58. 0\n",
       "59. 0\n",
       "60. 1\n",
       "61. 0\n",
       "62. 0\n",
       "63. 1\n",
       "64. 1\n",
       "65. 1\n",
       "66. 0\n",
       "67. 1\n",
       "68. 1\n",
       "69. 1\n",
       "70. 0\n",
       "71. 1\n",
       "72. 1\n",
       "73. 1\n",
       "74. 1\n",
       "75. 1\n",
       "\n",
       "\n"
      ],
      "text/plain": [
       " [1] 1 1 1 1 1 1 1 1 1 1 1 1 1 1 1 1 1 0 0 1 1 1 1 0 1 0 0 0 1 0 0 0 1 0 0 0 0 0\n",
       "[39] 1 1 1 1 1 1 1 0 1 0 1 0 1 1 1 0 0 0 1 0 0 1 0 0 1 1 1 0 1 1 1 0 1 1 1 1 1"
      ]
     },
     "metadata": {},
     "output_type": "display_data"
    }
   ],
   "source": [
    "nki.prognosis"
   ]
  },
  {
   "cell_type": "code",
   "execution_count": 26,
   "metadata": {},
   "outputs": [
    {
     "data": {
      "text/html": [
       "71"
      ],
      "text/latex": [
       "71"
      ],
      "text/markdown": [
       "71"
      ],
      "text/plain": [
       "[1] 71"
      ]
     },
     "metadata": {},
     "output_type": "display_data"
    }
   ],
   "source": [
    "nki.prognosis <- nki.prognosis[-rm.expt.ind]\n",
    "length (nki.prognosis)"
   ]
  },
  {
   "cell_type": "code",
   "execution_count": 27,
   "metadata": {},
   "outputs": [
    {
     "data": {
      "text/html": [
       "<style>\n",
       ".list-inline {list-style: none; margin:0; padding: 0}\n",
       ".list-inline>li {display: inline-block}\n",
       ".list-inline>li:not(:last-child)::after {content: \"\\00b7\"; padding: 0 .5ex}\n",
       "</style>\n",
       "<ol class=list-inline><li>1</li><li>1</li><li>1</li><li>1</li><li>1</li><li>1</li><li>1</li><li>1</li><li>1</li><li>1</li><li>1</li><li>1</li><li>1</li><li>1</li><li>1</li><li>0</li><li>0</li><li>1</li><li>1</li><li>1</li><li>0</li><li>1</li><li>0</li><li>0</li><li>0</li><li>1</li><li>0</li><li>0</li><li>0</li><li>1</li><li>0</li><li>0</li><li>0</li><li>0</li><li>0</li><li>1</li><li>1</li><li>1</li><li>1</li><li>1</li><li>1</li><li>1</li><li>0</li><li>1</li><li>0</li><li>1</li><li>0</li><li>1</li><li>1</li><li>0</li><li>0</li><li>0</li><li>1</li><li>0</li><li>0</li><li>1</li><li>0</li><li>0</li><li>1</li><li>1</li><li>1</li><li>0</li><li>1</li><li>1</li><li>1</li><li>0</li><li>1</li><li>1</li><li>1</li><li>1</li><li>1</li></ol>\n"
      ],
      "text/latex": [
       "\\begin{enumerate*}\n",
       "\\item 1\n",
       "\\item 1\n",
       "\\item 1\n",
       "\\item 1\n",
       "\\item 1\n",
       "\\item 1\n",
       "\\item 1\n",
       "\\item 1\n",
       "\\item 1\n",
       "\\item 1\n",
       "\\item 1\n",
       "\\item 1\n",
       "\\item 1\n",
       "\\item 1\n",
       "\\item 1\n",
       "\\item 0\n",
       "\\item 0\n",
       "\\item 1\n",
       "\\item 1\n",
       "\\item 1\n",
       "\\item 0\n",
       "\\item 1\n",
       "\\item 0\n",
       "\\item 0\n",
       "\\item 0\n",
       "\\item 1\n",
       "\\item 0\n",
       "\\item 0\n",
       "\\item 0\n",
       "\\item 1\n",
       "\\item 0\n",
       "\\item 0\n",
       "\\item 0\n",
       "\\item 0\n",
       "\\item 0\n",
       "\\item 1\n",
       "\\item 1\n",
       "\\item 1\n",
       "\\item 1\n",
       "\\item 1\n",
       "\\item 1\n",
       "\\item 1\n",
       "\\item 0\n",
       "\\item 1\n",
       "\\item 0\n",
       "\\item 1\n",
       "\\item 0\n",
       "\\item 1\n",
       "\\item 1\n",
       "\\item 0\n",
       "\\item 0\n",
       "\\item 0\n",
       "\\item 1\n",
       "\\item 0\n",
       "\\item 0\n",
       "\\item 1\n",
       "\\item 0\n",
       "\\item 0\n",
       "\\item 1\n",
       "\\item 1\n",
       "\\item 1\n",
       "\\item 0\n",
       "\\item 1\n",
       "\\item 1\n",
       "\\item 1\n",
       "\\item 0\n",
       "\\item 1\n",
       "\\item 1\n",
       "\\item 1\n",
       "\\item 1\n",
       "\\item 1\n",
       "\\end{enumerate*}\n"
      ],
      "text/markdown": [
       "1. 1\n",
       "2. 1\n",
       "3. 1\n",
       "4. 1\n",
       "5. 1\n",
       "6. 1\n",
       "7. 1\n",
       "8. 1\n",
       "9. 1\n",
       "10. 1\n",
       "11. 1\n",
       "12. 1\n",
       "13. 1\n",
       "14. 1\n",
       "15. 1\n",
       "16. 0\n",
       "17. 0\n",
       "18. 1\n",
       "19. 1\n",
       "20. 1\n",
       "21. 0\n",
       "22. 1\n",
       "23. 0\n",
       "24. 0\n",
       "25. 0\n",
       "26. 1\n",
       "27. 0\n",
       "28. 0\n",
       "29. 0\n",
       "30. 1\n",
       "31. 0\n",
       "32. 0\n",
       "33. 0\n",
       "34. 0\n",
       "35. 0\n",
       "36. 1\n",
       "37. 1\n",
       "38. 1\n",
       "39. 1\n",
       "40. 1\n",
       "41. 1\n",
       "42. 1\n",
       "43. 0\n",
       "44. 1\n",
       "45. 0\n",
       "46. 1\n",
       "47. 0\n",
       "48. 1\n",
       "49. 1\n",
       "50. 0\n",
       "51. 0\n",
       "52. 0\n",
       "53. 1\n",
       "54. 0\n",
       "55. 0\n",
       "56. 1\n",
       "57. 0\n",
       "58. 0\n",
       "59. 1\n",
       "60. 1\n",
       "61. 1\n",
       "62. 0\n",
       "63. 1\n",
       "64. 1\n",
       "65. 1\n",
       "66. 0\n",
       "67. 1\n",
       "68. 1\n",
       "69. 1\n",
       "70. 1\n",
       "71. 1\n",
       "\n",
       "\n"
      ],
      "text/plain": [
       " [1] 1 1 1 1 1 1 1 1 1 1 1 1 1 1 1 0 0 1 1 1 0 1 0 0 0 1 0 0 0 1 0 0 0 0 0 1 1 1\n",
       "[39] 1 1 1 1 0 1 0 1 0 1 1 0 0 0 1 0 0 1 0 0 1 1 1 0 1 1 1 0 1 1 1 1 1"
      ]
     },
     "metadata": {},
     "output_type": "display_data"
    }
   ],
   "source": [
    "nki.prognosis"
   ]
  },
  {
   "cell_type": "code",
   "execution_count": 28,
   "metadata": {},
   "outputs": [
    {
     "data": {
      "text/html": [
       "\n",
       "<table width=\"100%\" summary=\"page for knn {class}\"><tr><td>knn {class}</td><td style=\"text-align: right;\">R Documentation</td></tr></table>\n",
       "\n",
       "<h2>\n",
       "k-Nearest Neighbour Classification\n",
       "</h2>\n",
       "\n",
       "<h3>Description</h3>\n",
       "\n",
       "<p>k-nearest neighbour classification for test set from training set. For\n",
       "each row of the test set, the <code>k</code> nearest (in Euclidean distance)\n",
       "training set vectors are found, and the classification is decided by\n",
       "majority vote, with ties broken at random. If there are ties for the\n",
       "<code>k</code>th nearest vector, all candidates are included in the vote.\n",
       "</p>\n",
       "\n",
       "\n",
       "<h3>Usage</h3>\n",
       "\n",
       "<pre>\n",
       "knn(train, test, cl, k = 1, l = 0, prob = FALSE, use.all = TRUE)\n",
       "</pre>\n",
       "\n",
       "\n",
       "<h3>Arguments</h3>\n",
       "\n",
       "<table summary=\"R argblock\">\n",
       "<tr valign=\"top\"><td><code>train</code></td>\n",
       "<td>\n",
       "\n",
       "<p>matrix or data frame of training set cases.\n",
       "</p>\n",
       "</td></tr>\n",
       "<tr valign=\"top\"><td><code>test</code></td>\n",
       "<td>\n",
       "\n",
       "<p>matrix or data frame of test set cases. A vector will be interpreted\n",
       "as a row vector for a single case.\n",
       "</p>\n",
       "</td></tr>\n",
       "<tr valign=\"top\"><td><code>cl</code></td>\n",
       "<td>\n",
       "\n",
       "<p>factor of true classifications of training set\n",
       "</p>\n",
       "</td></tr>\n",
       "<tr valign=\"top\"><td><code>k</code></td>\n",
       "<td>\n",
       "\n",
       "<p>number of neighbours considered.\n",
       "</p>\n",
       "</td></tr>\n",
       "<tr valign=\"top\"><td><code>l</code></td>\n",
       "<td>\n",
       "\n",
       "<p>minimum vote for definite decision, otherwise <code>doubt</code>. (More\n",
       "precisely, less than <code>k-l</code> dissenting votes are allowed, even if <code>k</code>\n",
       "is increased by ties.)\n",
       "</p>\n",
       "</td></tr>\n",
       "<tr valign=\"top\"><td><code>prob</code></td>\n",
       "<td>\n",
       "\n",
       "<p>If this is true, the proportion of the votes for the winning class\n",
       "are returned as attribute <code>prob</code>.\n",
       "</p>\n",
       "</td></tr>\n",
       "<tr valign=\"top\"><td><code>use.all</code></td>\n",
       "<td>\n",
       "\n",
       "<p>controls handling of ties. If true, all distances equal to the <code>k</code>th\n",
       "largest are included. If false, a random selection of distances\n",
       "equal to the <code>k</code>th is chosen to use exactly <code>k</code> neighbours.\n",
       "</p>\n",
       "</td></tr></table>\n",
       "\n",
       "\n",
       "<h3>Value</h3>\n",
       "\n",
       "<p>Factor of classifications of test set. <code>doubt</code> will be returned as <code>NA</code>.\n",
       "</p>\n",
       "\n",
       "\n",
       "<h3>References</h3>\n",
       "\n",
       "<p>Ripley, B. D. (1996)\n",
       "<em>Pattern Recognition and Neural Networks.</em> Cambridge.\n",
       "</p>\n",
       "<p>Venables, W. N. and Ripley, B. D. (2002)\n",
       "<em>Modern Applied Statistics with S.</em> Fourth edition.  Springer.\n",
       "</p>\n",
       "\n",
       "\n",
       "<h3>See Also</h3>\n",
       "\n",
       "<p><code>knn1</code>, <code>knn.cv</code>\n",
       "</p>\n",
       "\n",
       "\n",
       "<h3>Examples</h3>\n",
       "\n",
       "<pre>\n",
       "train &lt;- rbind(iris3[1:25,,1], iris3[1:25,,2], iris3[1:25,,3])\n",
       "test &lt;- rbind(iris3[26:50,,1], iris3[26:50,,2], iris3[26:50,,3])\n",
       "cl &lt;- factor(c(rep(\"s\",25), rep(\"c\",25), rep(\"v\",25)))\n",
       "knn(train, test, cl, k = 3, prob=TRUE)\n",
       "attributes(.Last.value)\n",
       "</pre>\n",
       "\n",
       "<hr /><div style=\"text-align: center;\">[Package <em>class</em> version 7.3-21 ]</div>"
      ],
      "text/latex": [
       "\\inputencoding{utf8}\n",
       "\\HeaderA{knn}{k-Nearest Neighbour Classification}{knn}\n",
       "\\keyword{classif}{knn}\n",
       "%\n",
       "\\begin{Description}\\relax\n",
       "k-nearest neighbour classification for test set from training set. For\n",
       "each row of the test set, the \\code{k} nearest (in Euclidean distance)\n",
       "training set vectors are found, and the classification is decided by\n",
       "majority vote, with ties broken at random. If there are ties for the\n",
       "\\code{k}th nearest vector, all candidates are included in the vote.\n",
       "\\end{Description}\n",
       "%\n",
       "\\begin{Usage}\n",
       "\\begin{verbatim}\n",
       "knn(train, test, cl, k = 1, l = 0, prob = FALSE, use.all = TRUE)\n",
       "\\end{verbatim}\n",
       "\\end{Usage}\n",
       "%\n",
       "\\begin{Arguments}\n",
       "\\begin{ldescription}\n",
       "\\item[\\code{train}] \n",
       "matrix or data frame of training set cases.\n",
       "\n",
       "\\item[\\code{test}] \n",
       "matrix or data frame of test set cases. A vector will be interpreted\n",
       "as a row vector for a single case.\n",
       "\n",
       "\\item[\\code{cl}] \n",
       "factor of true classifications of training set\n",
       "\n",
       "\\item[\\code{k}] \n",
       "number of neighbours considered.\n",
       "\n",
       "\\item[\\code{l}] \n",
       "minimum vote for definite decision, otherwise \\code{doubt}. (More\n",
       "precisely, less than \\code{k-l} dissenting votes are allowed, even if \\code{k}\n",
       "is increased by ties.)\n",
       "\n",
       "\\item[\\code{prob}] \n",
       "If this is true, the proportion of the votes for the winning class\n",
       "are returned as attribute \\code{prob}.\n",
       "\n",
       "\\item[\\code{use.all}] \n",
       "controls handling of ties. If true, all distances equal to the \\code{k}th\n",
       "largest are included. If false, a random selection of distances\n",
       "equal to the \\code{k}th is chosen to use exactly \\code{k} neighbours.\n",
       "\\end{ldescription}\n",
       "\\end{Arguments}\n",
       "%\n",
       "\\begin{Value}\n",
       "Factor of classifications of test set. \\code{doubt} will be returned as \\code{NA}.\n",
       "\\end{Value}\n",
       "%\n",
       "\\begin{References}\\relax\n",
       "Ripley, B. D. (1996)\n",
       "\\emph{Pattern Recognition and Neural Networks.} Cambridge.\n",
       "\n",
       "Venables, W. N. and Ripley, B. D. (2002)\n",
       "\\emph{Modern Applied Statistics with S.} Fourth edition.  Springer.\n",
       "\\end{References}\n",
       "%\n",
       "\\begin{SeeAlso}\\relax\n",
       "\\code{\\LinkA{knn1}{knn1}}, \\code{\\LinkA{knn.cv}{knn.cv}}\n",
       "\\end{SeeAlso}\n",
       "%\n",
       "\\begin{Examples}\n",
       "\\begin{ExampleCode}\n",
       "train <- rbind(iris3[1:25,,1], iris3[1:25,,2], iris3[1:25,,3])\n",
       "test <- rbind(iris3[26:50,,1], iris3[26:50,,2], iris3[26:50,,3])\n",
       "cl <- factor(c(rep(\"s\",25), rep(\"c\",25), rep(\"v\",25)))\n",
       "knn(train, test, cl, k = 3, prob=TRUE)\n",
       "attributes(.Last.value)\n",
       "\\end{ExampleCode}\n",
       "\\end{Examples}"
      ],
      "text/plain": [
       "knn                   package:class                    R Documentation\n",
       "\n",
       "_\bk-_\bN_\be_\ba_\br_\be_\bs_\bt _\bN_\be_\bi_\bg_\bh_\bb_\bo_\bu_\br _\bC_\bl_\ba_\bs_\bs_\bi_\bf_\bi_\bc_\ba_\bt_\bi_\bo_\bn\n",
       "\n",
       "_\bD_\be_\bs_\bc_\br_\bi_\bp_\bt_\bi_\bo_\bn:\n",
       "\n",
       "     k-nearest neighbour classification for test set from training set.\n",
       "     For each row of the test set, the ‘k’ nearest (in Euclidean\n",
       "     distance) training set vectors are found, and the classification\n",
       "     is decided by majority vote, with ties broken at random. If there\n",
       "     are ties for the ‘k’th nearest vector, all candidates are included\n",
       "     in the vote.\n",
       "\n",
       "_\bU_\bs_\ba_\bg_\be:\n",
       "\n",
       "     knn(train, test, cl, k = 1, l = 0, prob = FALSE, use.all = TRUE)\n",
       "     \n",
       "_\bA_\br_\bg_\bu_\bm_\be_\bn_\bt_\bs:\n",
       "\n",
       "   train: matrix or data frame of training set cases.\n",
       "\n",
       "    test: matrix or data frame of test set cases. A vector will be\n",
       "          interpreted as a row vector for a single case.\n",
       "\n",
       "      cl: factor of true classifications of training set\n",
       "\n",
       "       k: number of neighbours considered.\n",
       "\n",
       "       l: minimum vote for definite decision, otherwise ‘doubt’. (More\n",
       "          precisely, less than ‘k-l’ dissenting votes are allowed, even\n",
       "          if ‘k’ is increased by ties.)\n",
       "\n",
       "    prob: If this is true, the proportion of the votes for the winning\n",
       "          class are returned as attribute ‘prob’.\n",
       "\n",
       " use.all: controls handling of ties. If true, all distances equal to\n",
       "          the ‘k’th largest are included. If false, a random selection\n",
       "          of distances equal to the ‘k’th is chosen to use exactly ‘k’\n",
       "          neighbours.\n",
       "\n",
       "_\bV_\ba_\bl_\bu_\be:\n",
       "\n",
       "     Factor of classifications of test set. ‘doubt’ will be returned as\n",
       "     ‘NA’.\n",
       "\n",
       "_\bR_\be_\bf_\be_\br_\be_\bn_\bc_\be_\bs:\n",
       "\n",
       "     Ripley, B. D. (1996) _Pattern Recognition and Neural Networks._\n",
       "     Cambridge.\n",
       "\n",
       "     Venables, W. N. and Ripley, B. D. (2002) _Modern Applied\n",
       "     Statistics with S._ Fourth edition.  Springer.\n",
       "\n",
       "_\bS_\be_\be _\bA_\bl_\bs_\bo:\n",
       "\n",
       "     ‘knn1’, ‘knn.cv’\n",
       "\n",
       "_\bE_\bx_\ba_\bm_\bp_\bl_\be_\bs:\n",
       "\n",
       "     train <- rbind(iris3[1:25,,1], iris3[1:25,,2], iris3[1:25,,3])\n",
       "     test <- rbind(iris3[26:50,,1], iris3[26:50,,2], iris3[26:50,,3])\n",
       "     cl <- factor(c(rep(\"s\",25), rep(\"c\",25), rep(\"v\",25)))\n",
       "     knn(train, test, cl, k = 3, prob=TRUE)\n",
       "     attributes(.Last.value)\n",
       "     "
      ]
     },
     "metadata": {},
     "output_type": "display_data"
    }
   ],
   "source": [
    "help (knn)"
   ]
  },
  {
   "cell_type": "code",
   "execution_count": 29,
   "metadata": {},
   "outputs": [],
   "source": [
    "ret.knn <- knn (train=t(nki.impute$data), test=t(nki2.impute$data), cl=nki.prognosis, k=5)"
   ]
  },
  {
   "cell_type": "code",
   "execution_count": 30,
   "metadata": {},
   "outputs": [
    {
     "data": {
      "text/html": [
       "<style>\n",
       ".list-inline {list-style: none; margin:0; padding: 0}\n",
       ".list-inline>li {display: inline-block}\n",
       ".list-inline>li:not(:last-child)::after {content: \"\\00b7\"; padding: 0 .5ex}\n",
       "</style>\n",
       "<ol class=list-inline><li>1</li><li>1</li><li>1</li><li>1</li><li>1</li><li>0</li><li>0</li><li>1</li><li>1</li><li>0</li><li>0</li><li>1</li><li>1</li><li>1</li><li>0</li><li>1</li><li>1</li><li>0</li><li>1</li><li>1</li><li>1</li><li>1</li><li>1</li><li>1</li><li>1</li><li>1</li><li>1</li><li>0</li><li>1</li><li>1</li><li>1</li><li>1</li><li>0</li><li>0</li><li>1</li><li>1</li><li>1</li><li>1</li><li>1</li><li>1</li><li>1</li><li>0</li><li>1</li><li>0</li><li>1</li><li>0</li><li>1</li><li>1</li><li>1</li><li>1</li><li>0</li><li>1</li><li>0</li><li>1</li><li>1</li><li>1</li><li>1</li><li>1</li><li>1</li><li>1</li><li>1</li><li>0</li><li>1</li><li>1</li><li>1</li><li>1</li><li>1</li><li>1</li><li>0</li><li>1</li><li>0</li><li>1</li><li>1</li><li>1</li><li>1</li><li>0</li><li>1</li><li>1</li><li>0</li><li>0</li><li>1</li><li>1</li><li>1</li><li>1</li><li>1</li><li>0</li><li>1</li><li>1</li><li>1</li><li>1</li><li>1</li><li>1</li><li>1</li><li>0</li><li>1</li><li>1</li><li>1</li><li>1</li><li>1</li><li>1</li><li>0</li><li>1</li><li>1</li><li>0</li><li>0</li><li>0</li><li>1</li><li>1</li><li>1</li><li>1</li><li>1</li><li>0</li><li>1</li><li>1</li><li>1</li><li>1</li><li>1</li><li>1</li><li>1</li><li>1</li><li>1</li><li>1</li><li>1</li><li>1</li><li>1</li><li>1</li><li>1</li><li>1</li><li>1</li><li>1</li><li>1</li><li>1</li><li>1</li><li>1</li><li>1</li><li>1</li><li>1</li><li>1</li><li>0</li><li>1</li><li>1</li><li>0</li><li>1</li><li>1</li><li>1</li><li>1</li><li>1</li><li>1</li><li>1</li><li>1</li><li>1</li><li>1</li><li>1</li><li>0</li><li>1</li><li>0</li><li>1</li><li>1</li><li>1</li><li>0</li><li>1</li><li>0</li><li>0</li><li>1</li><li>0</li><li>1</li><li>1</li><li>0</li><li>1</li><li>1</li><li>0</li><li>1</li><li>0</li><li>1</li><li>1</li><li>1</li><li>1</li><li>1</li><li>0</li><li>1</li><li>1</li><li>1</li><li>1</li><li>1</li><li>1</li><li>1</li><li>1</li><li>1</li><li>1</li><li>1</li><li>1</li><li>1</li><li>1</li><li>1</li><li>1</li><li>0</li><li>1</li><li>0</li><li>1</li><li>1</li><li>1</li><li>1</li><li>0</li><li>1</li><li>1</li><li>1</li><li>1</li><li>1</li><li>1</li><li>1</li><li>1</li><li>1</li><li>1</li><li>1</li><li>1</li><li>1</li><li>1</li><li>0</li><li>1</li><li>1</li></ol>\n",
       "\n",
       "<details>\n",
       "\t<summary style=display:list-item;cursor:pointer>\n",
       "\t\t<strong>Levels</strong>:\n",
       "\t</summary>\n",
       "\t<style>\n",
       "\t.list-inline {list-style: none; margin:0; padding: 0}\n",
       "\t.list-inline>li {display: inline-block}\n",
       "\t.list-inline>li:not(:last-child)::after {content: \"\\00b7\"; padding: 0 .5ex}\n",
       "\t</style>\n",
       "\t<ol class=list-inline><li>'0'</li><li>'1'</li></ol>\n",
       "</details>"
      ],
      "text/latex": [
       "\\begin{enumerate*}\n",
       "\\item 1\n",
       "\\item 1\n",
       "\\item 1\n",
       "\\item 1\n",
       "\\item 1\n",
       "\\item 0\n",
       "\\item 0\n",
       "\\item 1\n",
       "\\item 1\n",
       "\\item 0\n",
       "\\item 0\n",
       "\\item 1\n",
       "\\item 1\n",
       "\\item 1\n",
       "\\item 0\n",
       "\\item 1\n",
       "\\item 1\n",
       "\\item 0\n",
       "\\item 1\n",
       "\\item 1\n",
       "\\item 1\n",
       "\\item 1\n",
       "\\item 1\n",
       "\\item 1\n",
       "\\item 1\n",
       "\\item 1\n",
       "\\item 1\n",
       "\\item 0\n",
       "\\item 1\n",
       "\\item 1\n",
       "\\item 1\n",
       "\\item 1\n",
       "\\item 0\n",
       "\\item 0\n",
       "\\item 1\n",
       "\\item 1\n",
       "\\item 1\n",
       "\\item 1\n",
       "\\item 1\n",
       "\\item 1\n",
       "\\item 1\n",
       "\\item 0\n",
       "\\item 1\n",
       "\\item 0\n",
       "\\item 1\n",
       "\\item 0\n",
       "\\item 1\n",
       "\\item 1\n",
       "\\item 1\n",
       "\\item 1\n",
       "\\item 0\n",
       "\\item 1\n",
       "\\item 0\n",
       "\\item 1\n",
       "\\item 1\n",
       "\\item 1\n",
       "\\item 1\n",
       "\\item 1\n",
       "\\item 1\n",
       "\\item 1\n",
       "\\item 1\n",
       "\\item 0\n",
       "\\item 1\n",
       "\\item 1\n",
       "\\item 1\n",
       "\\item 1\n",
       "\\item 1\n",
       "\\item 1\n",
       "\\item 0\n",
       "\\item 1\n",
       "\\item 0\n",
       "\\item 1\n",
       "\\item 1\n",
       "\\item 1\n",
       "\\item 1\n",
       "\\item 0\n",
       "\\item 1\n",
       "\\item 1\n",
       "\\item 0\n",
       "\\item 0\n",
       "\\item 1\n",
       "\\item 1\n",
       "\\item 1\n",
       "\\item 1\n",
       "\\item 1\n",
       "\\item 0\n",
       "\\item 1\n",
       "\\item 1\n",
       "\\item 1\n",
       "\\item 1\n",
       "\\item 1\n",
       "\\item 1\n",
       "\\item 1\n",
       "\\item 0\n",
       "\\item 1\n",
       "\\item 1\n",
       "\\item 1\n",
       "\\item 1\n",
       "\\item 1\n",
       "\\item 1\n",
       "\\item 0\n",
       "\\item 1\n",
       "\\item 1\n",
       "\\item 0\n",
       "\\item 0\n",
       "\\item 0\n",
       "\\item 1\n",
       "\\item 1\n",
       "\\item 1\n",
       "\\item 1\n",
       "\\item 1\n",
       "\\item 0\n",
       "\\item 1\n",
       "\\item 1\n",
       "\\item 1\n",
       "\\item 1\n",
       "\\item 1\n",
       "\\item 1\n",
       "\\item 1\n",
       "\\item 1\n",
       "\\item 1\n",
       "\\item 1\n",
       "\\item 1\n",
       "\\item 1\n",
       "\\item 1\n",
       "\\item 1\n",
       "\\item 1\n",
       "\\item 1\n",
       "\\item 1\n",
       "\\item 1\n",
       "\\item 1\n",
       "\\item 1\n",
       "\\item 1\n",
       "\\item 1\n",
       "\\item 1\n",
       "\\item 1\n",
       "\\item 1\n",
       "\\item 1\n",
       "\\item 0\n",
       "\\item 1\n",
       "\\item 1\n",
       "\\item 0\n",
       "\\item 1\n",
       "\\item 1\n",
       "\\item 1\n",
       "\\item 1\n",
       "\\item 1\n",
       "\\item 1\n",
       "\\item 1\n",
       "\\item 1\n",
       "\\item 1\n",
       "\\item 1\n",
       "\\item 1\n",
       "\\item 0\n",
       "\\item 1\n",
       "\\item 0\n",
       "\\item 1\n",
       "\\item 1\n",
       "\\item 1\n",
       "\\item 0\n",
       "\\item 1\n",
       "\\item 0\n",
       "\\item 0\n",
       "\\item 1\n",
       "\\item 0\n",
       "\\item 1\n",
       "\\item 1\n",
       "\\item 0\n",
       "\\item 1\n",
       "\\item 1\n",
       "\\item 0\n",
       "\\item 1\n",
       "\\item 0\n",
       "\\item 1\n",
       "\\item 1\n",
       "\\item 1\n",
       "\\item 1\n",
       "\\item 1\n",
       "\\item 0\n",
       "\\item 1\n",
       "\\item 1\n",
       "\\item 1\n",
       "\\item 1\n",
       "\\item 1\n",
       "\\item 1\n",
       "\\item 1\n",
       "\\item 1\n",
       "\\item 1\n",
       "\\item 1\n",
       "\\item 1\n",
       "\\item 1\n",
       "\\item 1\n",
       "\\item 1\n",
       "\\item 1\n",
       "\\item 1\n",
       "\\item 0\n",
       "\\item 1\n",
       "\\item 0\n",
       "\\item 1\n",
       "\\item 1\n",
       "\\item 1\n",
       "\\item 1\n",
       "\\item 0\n",
       "\\item 1\n",
       "\\item 1\n",
       "\\item 1\n",
       "\\item 1\n",
       "\\item 1\n",
       "\\item 1\n",
       "\\item 1\n",
       "\\item 1\n",
       "\\item 1\n",
       "\\item 1\n",
       "\\item 1\n",
       "\\item 1\n",
       "\\item 1\n",
       "\\item 1\n",
       "\\item 0\n",
       "\\item 1\n",
       "\\item 1\n",
       "\\end{enumerate*}\n",
       "\n",
       "\\emph{Levels}: \\begin{enumerate*}\n",
       "\\item '0'\n",
       "\\item '1'\n",
       "\\end{enumerate*}\n"
      ],
      "text/markdown": [
       "1. 1\n",
       "2. 1\n",
       "3. 1\n",
       "4. 1\n",
       "5. 1\n",
       "6. 0\n",
       "7. 0\n",
       "8. 1\n",
       "9. 1\n",
       "10. 0\n",
       "11. 0\n",
       "12. 1\n",
       "13. 1\n",
       "14. 1\n",
       "15. 0\n",
       "16. 1\n",
       "17. 1\n",
       "18. 0\n",
       "19. 1\n",
       "20. 1\n",
       "21. 1\n",
       "22. 1\n",
       "23. 1\n",
       "24. 1\n",
       "25. 1\n",
       "26. 1\n",
       "27. 1\n",
       "28. 0\n",
       "29. 1\n",
       "30. 1\n",
       "31. 1\n",
       "32. 1\n",
       "33. 0\n",
       "34. 0\n",
       "35. 1\n",
       "36. 1\n",
       "37. 1\n",
       "38. 1\n",
       "39. 1\n",
       "40. 1\n",
       "41. 1\n",
       "42. 0\n",
       "43. 1\n",
       "44. 0\n",
       "45. 1\n",
       "46. 0\n",
       "47. 1\n",
       "48. 1\n",
       "49. 1\n",
       "50. 1\n",
       "51. 0\n",
       "52. 1\n",
       "53. 0\n",
       "54. 1\n",
       "55. 1\n",
       "56. 1\n",
       "57. 1\n",
       "58. 1\n",
       "59. 1\n",
       "60. 1\n",
       "61. 1\n",
       "62. 0\n",
       "63. 1\n",
       "64. 1\n",
       "65. 1\n",
       "66. 1\n",
       "67. 1\n",
       "68. 1\n",
       "69. 0\n",
       "70. 1\n",
       "71. 0\n",
       "72. 1\n",
       "73. 1\n",
       "74. 1\n",
       "75. 1\n",
       "76. 0\n",
       "77. 1\n",
       "78. 1\n",
       "79. 0\n",
       "80. 0\n",
       "81. 1\n",
       "82. 1\n",
       "83. 1\n",
       "84. 1\n",
       "85. 1\n",
       "86. 0\n",
       "87. 1\n",
       "88. 1\n",
       "89. 1\n",
       "90. 1\n",
       "91. 1\n",
       "92. 1\n",
       "93. 1\n",
       "94. 0\n",
       "95. 1\n",
       "96. 1\n",
       "97. 1\n",
       "98. 1\n",
       "99. 1\n",
       "100. 1\n",
       "101. 0\n",
       "102. 1\n",
       "103. 1\n",
       "104. 0\n",
       "105. 0\n",
       "106. 0\n",
       "107. 1\n",
       "108. 1\n",
       "109. 1\n",
       "110. 1\n",
       "111. 1\n",
       "112. 0\n",
       "113. 1\n",
       "114. 1\n",
       "115. 1\n",
       "116. 1\n",
       "117. 1\n",
       "118. 1\n",
       "119. 1\n",
       "120. 1\n",
       "121. 1\n",
       "122. 1\n",
       "123. 1\n",
       "124. 1\n",
       "125. 1\n",
       "126. 1\n",
       "127. 1\n",
       "128. 1\n",
       "129. 1\n",
       "130. 1\n",
       "131. 1\n",
       "132. 1\n",
       "133. 1\n",
       "134. 1\n",
       "135. 1\n",
       "136. 1\n",
       "137. 1\n",
       "138. 1\n",
       "139. 0\n",
       "140. 1\n",
       "141. 1\n",
       "142. 0\n",
       "143. 1\n",
       "144. 1\n",
       "145. 1\n",
       "146. 1\n",
       "147. 1\n",
       "148. 1\n",
       "149. 1\n",
       "150. 1\n",
       "151. 1\n",
       "152. 1\n",
       "153. 1\n",
       "154. 0\n",
       "155. 1\n",
       "156. 0\n",
       "157. 1\n",
       "158. 1\n",
       "159. 1\n",
       "160. 0\n",
       "161. 1\n",
       "162. 0\n",
       "163. 0\n",
       "164. 1\n",
       "165. 0\n",
       "166. 1\n",
       "167. 1\n",
       "168. 0\n",
       "169. 1\n",
       "170. 1\n",
       "171. 0\n",
       "172. 1\n",
       "173. 0\n",
       "174. 1\n",
       "175. 1\n",
       "176. 1\n",
       "177. 1\n",
       "178. 1\n",
       "179. 0\n",
       "180. 1\n",
       "181. 1\n",
       "182. 1\n",
       "183. 1\n",
       "184. 1\n",
       "185. 1\n",
       "186. 1\n",
       "187. 1\n",
       "188. 1\n",
       "189. 1\n",
       "190. 1\n",
       "191. 1\n",
       "192. 1\n",
       "193. 1\n",
       "194. 1\n",
       "195. 1\n",
       "196. 0\n",
       "197. 1\n",
       "198. 0\n",
       "199. 1\n",
       "200. 1\n",
       "201. 1\n",
       "202. 1\n",
       "203. 0\n",
       "204. 1\n",
       "205. 1\n",
       "206. 1\n",
       "207. 1\n",
       "208. 1\n",
       "209. 1\n",
       "210. 1\n",
       "211. 1\n",
       "212. 1\n",
       "213. 1\n",
       "214. 1\n",
       "215. 1\n",
       "216. 1\n",
       "217. 1\n",
       "218. 0\n",
       "219. 1\n",
       "220. 1\n",
       "\n",
       "\n",
       "\n",
       "**Levels**: 1. '0'\n",
       "2. '1'\n",
       "\n",
       "\n"
      ],
      "text/plain": [
       "  [1] 1 1 1 1 1 0 0 1 1 0 0 1 1 1 0 1 1 0 1 1 1 1 1 1 1 1 1 0 1 1 1 1 0 0 1 1 1\n",
       " [38] 1 1 1 1 0 1 0 1 0 1 1 1 1 0 1 0 1 1 1 1 1 1 1 1 0 1 1 1 1 1 1 0 1 0 1 1 1\n",
       " [75] 1 0 1 1 0 0 1 1 1 1 1 0 1 1 1 1 1 1 1 0 1 1 1 1 1 1 0 1 1 0 0 0 1 1 1 1 1\n",
       "[112] 0 1 1 1 1 1 1 1 1 1 1 1 1 1 1 1 1 1 1 1 1 1 1 1 1 1 1 0 1 1 0 1 1 1 1 1 1\n",
       "[149] 1 1 1 1 1 0 1 0 1 1 1 0 1 0 0 1 0 1 1 0 1 1 0 1 0 1 1 1 1 1 0 1 1 1 1 1 1\n",
       "[186] 1 1 1 1 1 1 1 1 1 1 0 1 0 1 1 1 1 0 1 1 1 1 1 1 1 1 1 1 1 1 1 1 0 1 1\n",
       "Levels: 0 1"
      ]
     },
     "metadata": {},
     "output_type": "display_data"
    }
   ],
   "source": [
    "ret.knn"
   ]
  },
  {
   "cell_type": "code",
   "execution_count": 31,
   "metadata": {},
   "outputs": [
    {
     "data": {
      "text/html": [
       "220"
      ],
      "text/latex": [
       "220"
      ],
      "text/markdown": [
       "220"
      ],
      "text/plain": [
       "[1] 220"
      ]
     },
     "metadata": {},
     "output_type": "display_data"
    }
   ],
   "source": [
    "length (ret.knn)"
   ]
  },
  {
   "cell_type": "code",
   "execution_count": 32,
   "metadata": {},
   "outputs": [
    {
     "data": {
      "text/plain": [
       "       nki2.prognosis\n",
       "ret.knn   0   1\n",
       "      0  16  27\n",
       "      1  21 156"
      ]
     },
     "metadata": {},
     "output_type": "display_data"
    }
   ],
   "source": [
    "table (ret.knn, nki2.prognosis)"
   ]
  },
  {
   "cell_type": "code",
   "execution_count": 33,
   "metadata": {},
   "outputs": [
    {
     "data": {
      "text/html": [
       "0.218181818181818"
      ],
      "text/latex": [
       "0.218181818181818"
      ],
      "text/markdown": [
       "0.218181818181818"
      ],
      "text/plain": [
       "[1] 0.2181818"
      ]
     },
     "metadata": {},
     "output_type": "display_data"
    }
   ],
   "source": [
    "(27 + 21)/220"
   ]
  },
  {
   "cell_type": "markdown",
   "metadata": {},
   "source": [
    "#### error rate is 22%, accuracy is 78%"
   ]
  },
  {
   "cell_type": "markdown",
   "metadata": {},
   "source": [
    "# Your task: to experiment with a different feature selection method, such as t.test, or correlation using a different threshold"
   ]
  },
  {
   "cell_type": "markdown",
   "metadata": {},
   "source": [
    "## Idea 1: Use correlation as a univariate feature selection method\n",
    "### compute the correlation of each gene vector with the class label\n",
    "#### note that only the training data (nki.impute) and its labels are used"
   ]
  },
  {
   "cell_type": "code",
   "execution_count": 34,
   "metadata": {},
   "outputs": [],
   "source": [
    "cor.vec <- apply (nki.impute$data, 1, function (x){cor(x, nki.prognosis)})"
   ]
  },
  {
   "cell_type": "code",
   "execution_count": 35,
   "metadata": {},
   "outputs": [
    {
     "data": {
      "image/png": "[encoded data removed]",
      "text/plain": [
       "Plot with title “Histogram of cor.vec”"
      ]
     },
     "metadata": {
      "image/png": {
       "height": 420,
       "width": 420
      }
     },
     "output_type": "display_data"
    }
   ],
   "source": [
    "hist (cor.vec)"
   ]
  },
  {
   "cell_type": "code",
   "execution_count": 36,
   "metadata": {},
   "outputs": [
    {
     "data": {
      "text/html": [
       "<style>\n",
       ".dl-inline {width: auto; margin:0; padding: 0}\n",
       ".dl-inline>dt, .dl-inline>dd {float: none; width: auto; display: inline-block}\n",
       ".dl-inline>dt::after {content: \":\\0020\"; padding-right: .5ex}\n",
       ".dl-inline>dt:not(:first-of-type) {padding-left: .5ex}\n",
       "</style><dl class=dl-inline><dt>0%</dt><dd>-0.595862998420341</dd><dt>10%</dt><dd>-0.217852918908627</dd><dt>25%</dt><dd>-0.124310234829215</dd><dt>50%</dt><dd>-0.0230116746189058</dd><dt>75%</dt><dd>0.0839245259255487</dd><dt>90%</dt><dd>0.185159332379525</dd><dt>100%</dt><dd>0.573991529211595</dd></dl>\n"
      ],
      "text/latex": [
       "\\begin{description*}\n",
       "\\item[0\\textbackslash{}\\%] -0.595862998420341\n",
       "\\item[10\\textbackslash{}\\%] -0.217852918908627\n",
       "\\item[25\\textbackslash{}\\%] -0.124310234829215\n",
       "\\item[50\\textbackslash{}\\%] -0.0230116746189058\n",
       "\\item[75\\textbackslash{}\\%] 0.0839245259255487\n",
       "\\item[90\\textbackslash{}\\%] 0.185159332379525\n",
       "\\item[100\\textbackslash{}\\%] 0.573991529211595\n",
       "\\end{description*}\n"
      ],
      "text/markdown": [
       "0%\n",
       ":   -0.59586299842034110%\n",
       ":   -0.21785291890862725%\n",
       ":   -0.12431023482921550%\n",
       ":   -0.023011674618905875%\n",
       ":   0.083924525925548790%\n",
       ":   0.185159332379525100%\n",
       ":   0.573991529211595\n",
       "\n"
      ],
      "text/plain": [
       "         0%         10%         25%         50%         75%         90% \n",
       "-0.59586300 -0.21785292 -0.12431023 -0.02301167  0.08392453  0.18515933 \n",
       "       100% \n",
       " 0.57399153 "
      ]
     },
     "metadata": {},
     "output_type": "display_data"
    }
   ],
   "source": [
    "quantile (cor.vec, probs=c(0, 0.1, 0.25, 0.5, 0.75, 0.9, 1))"
   ]
  },
  {
   "cell_type": "code",
   "execution_count": 37,
   "metadata": {},
   "outputs": [
    {
     "data": {
      "text/html": [
       "619"
      ],
      "text/latex": [
       "619"
      ],
      "text/markdown": [
       "619"
      ],
      "text/plain": [
       "[1] 619"
      ]
     },
     "metadata": {},
     "output_type": "display_data"
    }
   ],
   "source": [
    "sum (cor.vec > 0.3)"
   ]
  },
  {
   "cell_type": "code",
   "execution_count": 38,
   "metadata": {},
   "outputs": [
    {
     "data": {
      "text/html": [
       "865"
      ],
      "text/latex": [
       "865"
      ],
      "text/markdown": [
       "865"
      ],
      "text/plain": [
       "[1] 865"
      ]
     },
     "metadata": {},
     "output_type": "display_data"
    }
   ],
   "source": [
    "sum (cor.vec < -0.3)"
   ]
  },
  {
   "cell_type": "code",
   "execution_count": 39,
   "metadata": {},
   "outputs": [
    {
     "data": {
      "text/html": [
       "1484"
      ],
      "text/latex": [
       "1484"
      ],
      "text/markdown": [
       "1484"
      ],
      "text/plain": [
       "[1] 1484"
      ]
     },
     "metadata": {},
     "output_type": "display_data"
    }
   ],
   "source": [
    "# Find the indices of genes with either very high correlation or very low correlation\n",
    "gene.ind <- c(which(cor.vec > 0.3), which(cor.vec < -0.3))\n",
    "length (gene.ind)"
   ]
  },
  {
   "cell_type": "code",
   "execution_count": 40,
   "metadata": {},
   "outputs": [
    {
     "data": {
      "text/html": [
       "<style>\n",
       ".list-inline {list-style: none; margin:0; padding: 0}\n",
       ".list-inline>li {display: inline-block}\n",
       ".list-inline>li:not(:last-child)::after {content: \"\\00b7\"; padding: 0 .5ex}\n",
       "</style>\n",
       "<ol class=list-inline><li>1</li><li>1</li><li>1</li><li>1</li><li>1</li><li>0</li><li>0</li><li>1</li><li>1</li><li>0</li><li>0</li><li>1</li><li>1</li><li>1</li><li>0</li><li>1</li><li>1</li><li>0</li><li>1</li><li>0</li><li>1</li><li>1</li><li>1</li><li>1</li><li>1</li><li>1</li><li>1</li><li>0</li><li>1</li><li>1</li><li>1</li><li>0</li><li>0</li><li>0</li><li>0</li><li>1</li><li>1</li><li>1</li><li>1</li><li>1</li><li>1</li><li>0</li><li>1</li><li>0</li><li>1</li><li>0</li><li>0</li><li>0</li><li>1</li><li>1</li><li>0</li><li>1</li><li>0</li><li>1</li><li>1</li><li>0</li><li>1</li><li>1</li><li>1</li><li>1</li><li>1</li><li>0</li><li>1</li><li>1</li><li>1</li><li>1</li><li>1</li><li>1</li><li>0</li><li>1</li><li>1</li><li>1</li><li>0</li><li>1</li><li>0</li><li>0</li><li>0</li><li>1</li><li>0</li><li>0</li><li>1</li><li>1</li><li>1</li><li>1</li><li>1</li><li>0</li><li>1</li><li>1</li><li>0</li><li>0</li><li>1</li><li>1</li><li>1</li><li>0</li><li>0</li><li>1</li><li>1</li><li>1</li><li>1</li><li>1</li><li>0</li><li>1</li><li>0</li><li>0</li><li>0</li><li>0</li><li>1</li><li>1</li><li>1</li><li>1</li><li>1</li><li>0</li><li>1</li><li>1</li><li>1</li><li>1</li><li>1</li><li>1</li><li>1</li><li>1</li><li>0</li><li>1</li><li>1</li><li>1</li><li>1</li><li>1</li><li>1</li><li>1</li><li>0</li><li>1</li><li>1</li><li>1</li><li>1</li><li>1</li><li>1</li><li>1</li><li>1</li><li>1</li><li>0</li><li>1</li><li>1</li><li>0</li><li>1</li><li>1</li><li>1</li><li>1</li><li>1</li><li>1</li><li>1</li><li>0</li><li>1</li><li>1</li><li>1</li><li>0</li><li>1</li><li>0</li><li>1</li><li>1</li><li>1</li><li>0</li><li>1</li><li>0</li><li>0</li><li>1</li><li>0</li><li>1</li><li>1</li><li>0</li><li>1</li><li>1</li><li>0</li><li>1</li><li>0</li><li>1</li><li>1</li><li>1</li><li>1</li><li>1</li><li>0</li><li>1</li><li>1</li><li>1</li><li>1</li><li>1</li><li>1</li><li>1</li><li>1</li><li>1</li><li>1</li><li>1</li><li>1</li><li>1</li><li>1</li><li>1</li><li>1</li><li>1</li><li>1</li><li>0</li><li>1</li><li>1</li><li>0</li><li>0</li><li>0</li><li>1</li><li>1</li><li>1</li><li>1</li><li>1</li><li>1</li><li>0</li><li>1</li><li>1</li><li>1</li><li>1</li><li>1</li><li>1</li><li>0</li><li>0</li><li>1</li><li>1</li></ol>\n",
       "\n",
       "<details>\n",
       "\t<summary style=display:list-item;cursor:pointer>\n",
       "\t\t<strong>Levels</strong>:\n",
       "\t</summary>\n",
       "\t<style>\n",
       "\t.list-inline {list-style: none; margin:0; padding: 0}\n",
       "\t.list-inline>li {display: inline-block}\n",
       "\t.list-inline>li:not(:last-child)::after {content: \"\\00b7\"; padding: 0 .5ex}\n",
       "\t</style>\n",
       "\t<ol class=list-inline><li>'0'</li><li>'1'</li></ol>\n",
       "</details>"
      ],
      "text/latex": [
       "\\begin{enumerate*}\n",
       "\\item 1\n",
       "\\item 1\n",
       "\\item 1\n",
       "\\item 1\n",
       "\\item 1\n",
       "\\item 0\n",
       "\\item 0\n",
       "\\item 1\n",
       "\\item 1\n",
       "\\item 0\n",
       "\\item 0\n",
       "\\item 1\n",
       "\\item 1\n",
       "\\item 1\n",
       "\\item 0\n",
       "\\item 1\n",
       "\\item 1\n",
       "\\item 0\n",
       "\\item 1\n",
       "\\item 0\n",
       "\\item 1\n",
       "\\item 1\n",
       "\\item 1\n",
       "\\item 1\n",
       "\\item 1\n",
       "\\item 1\n",
       "\\item 1\n",
       "\\item 0\n",
       "\\item 1\n",
       "\\item 1\n",
       "\\item 1\n",
       "\\item 0\n",
       "\\item 0\n",
       "\\item 0\n",
       "\\item 0\n",
       "\\item 1\n",
       "\\item 1\n",
       "\\item 1\n",
       "\\item 1\n",
       "\\item 1\n",
       "\\item 1\n",
       "\\item 0\n",
       "\\item 1\n",
       "\\item 0\n",
       "\\item 1\n",
       "\\item 0\n",
       "\\item 0\n",
       "\\item 0\n",
       "\\item 1\n",
       "\\item 1\n",
       "\\item 0\n",
       "\\item 1\n",
       "\\item 0\n",
       "\\item 1\n",
       "\\item 1\n",
       "\\item 0\n",
       "\\item 1\n",
       "\\item 1\n",
       "\\item 1\n",
       "\\item 1\n",
       "\\item 1\n",
       "\\item 0\n",
       "\\item 1\n",
       "\\item 1\n",
       "\\item 1\n",
       "\\item 1\n",
       "\\item 1\n",
       "\\item 1\n",
       "\\item 0\n",
       "\\item 1\n",
       "\\item 1\n",
       "\\item 1\n",
       "\\item 0\n",
       "\\item 1\n",
       "\\item 0\n",
       "\\item 0\n",
       "\\item 0\n",
       "\\item 1\n",
       "\\item 0\n",
       "\\item 0\n",
       "\\item 1\n",
       "\\item 1\n",
       "\\item 1\n",
       "\\item 1\n",
       "\\item 1\n",
       "\\item 0\n",
       "\\item 1\n",
       "\\item 1\n",
       "\\item 0\n",
       "\\item 0\n",
       "\\item 1\n",
       "\\item 1\n",
       "\\item 1\n",
       "\\item 0\n",
       "\\item 0\n",
       "\\item 1\n",
       "\\item 1\n",
       "\\item 1\n",
       "\\item 1\n",
       "\\item 1\n",
       "\\item 0\n",
       "\\item 1\n",
       "\\item 0\n",
       "\\item 0\n",
       "\\item 0\n",
       "\\item 0\n",
       "\\item 1\n",
       "\\item 1\n",
       "\\item 1\n",
       "\\item 1\n",
       "\\item 1\n",
       "\\item 0\n",
       "\\item 1\n",
       "\\item 1\n",
       "\\item 1\n",
       "\\item 1\n",
       "\\item 1\n",
       "\\item 1\n",
       "\\item 1\n",
       "\\item 1\n",
       "\\item 0\n",
       "\\item 1\n",
       "\\item 1\n",
       "\\item 1\n",
       "\\item 1\n",
       "\\item 1\n",
       "\\item 1\n",
       "\\item 1\n",
       "\\item 0\n",
       "\\item 1\n",
       "\\item 1\n",
       "\\item 1\n",
       "\\item 1\n",
       "\\item 1\n",
       "\\item 1\n",
       "\\item 1\n",
       "\\item 1\n",
       "\\item 1\n",
       "\\item 0\n",
       "\\item 1\n",
       "\\item 1\n",
       "\\item 0\n",
       "\\item 1\n",
       "\\item 1\n",
       "\\item 1\n",
       "\\item 1\n",
       "\\item 1\n",
       "\\item 1\n",
       "\\item 1\n",
       "\\item 0\n",
       "\\item 1\n",
       "\\item 1\n",
       "\\item 1\n",
       "\\item 0\n",
       "\\item 1\n",
       "\\item 0\n",
       "\\item 1\n",
       "\\item 1\n",
       "\\item 1\n",
       "\\item 0\n",
       "\\item 1\n",
       "\\item 0\n",
       "\\item 0\n",
       "\\item 1\n",
       "\\item 0\n",
       "\\item 1\n",
       "\\item 1\n",
       "\\item 0\n",
       "\\item 1\n",
       "\\item 1\n",
       "\\item 0\n",
       "\\item 1\n",
       "\\item 0\n",
       "\\item 1\n",
       "\\item 1\n",
       "\\item 1\n",
       "\\item 1\n",
       "\\item 1\n",
       "\\item 0\n",
       "\\item 1\n",
       "\\item 1\n",
       "\\item 1\n",
       "\\item 1\n",
       "\\item 1\n",
       "\\item 1\n",
       "\\item 1\n",
       "\\item 1\n",
       "\\item 1\n",
       "\\item 1\n",
       "\\item 1\n",
       "\\item 1\n",
       "\\item 1\n",
       "\\item 1\n",
       "\\item 1\n",
       "\\item 1\n",
       "\\item 1\n",
       "\\item 1\n",
       "\\item 0\n",
       "\\item 1\n",
       "\\item 1\n",
       "\\item 0\n",
       "\\item 0\n",
       "\\item 0\n",
       "\\item 1\n",
       "\\item 1\n",
       "\\item 1\n",
       "\\item 1\n",
       "\\item 1\n",
       "\\item 1\n",
       "\\item 0\n",
       "\\item 1\n",
       "\\item 1\n",
       "\\item 1\n",
       "\\item 1\n",
       "\\item 1\n",
       "\\item 1\n",
       "\\item 0\n",
       "\\item 0\n",
       "\\item 1\n",
       "\\item 1\n",
       "\\end{enumerate*}\n",
       "\n",
       "\\emph{Levels}: \\begin{enumerate*}\n",
       "\\item '0'\n",
       "\\item '1'\n",
       "\\end{enumerate*}\n"
      ],
      "text/markdown": [
       "1. 1\n",
       "2. 1\n",
       "3. 1\n",
       "4. 1\n",
       "5. 1\n",
       "6. 0\n",
       "7. 0\n",
       "8. 1\n",
       "9. 1\n",
       "10. 0\n",
       "11. 0\n",
       "12. 1\n",
       "13. 1\n",
       "14. 1\n",
       "15. 0\n",
       "16. 1\n",
       "17. 1\n",
       "18. 0\n",
       "19. 1\n",
       "20. 0\n",
       "21. 1\n",
       "22. 1\n",
       "23. 1\n",
       "24. 1\n",
       "25. 1\n",
       "26. 1\n",
       "27. 1\n",
       "28. 0\n",
       "29. 1\n",
       "30. 1\n",
       "31. 1\n",
       "32. 0\n",
       "33. 0\n",
       "34. 0\n",
       "35. 0\n",
       "36. 1\n",
       "37. 1\n",
       "38. 1\n",
       "39. 1\n",
       "40. 1\n",
       "41. 1\n",
       "42. 0\n",
       "43. 1\n",
       "44. 0\n",
       "45. 1\n",
       "46. 0\n",
       "47. 0\n",
       "48. 0\n",
       "49. 1\n",
       "50. 1\n",
       "51. 0\n",
       "52. 1\n",
       "53. 0\n",
       "54. 1\n",
       "55. 1\n",
       "56. 0\n",
       "57. 1\n",
       "58. 1\n",
       "59. 1\n",
       "60. 1\n",
       "61. 1\n",
       "62. 0\n",
       "63. 1\n",
       "64. 1\n",
       "65. 1\n",
       "66. 1\n",
       "67. 1\n",
       "68. 1\n",
       "69. 0\n",
       "70. 1\n",
       "71. 1\n",
       "72. 1\n",
       "73. 0\n",
       "74. 1\n",
       "75. 0\n",
       "76. 0\n",
       "77. 0\n",
       "78. 1\n",
       "79. 0\n",
       "80. 0\n",
       "81. 1\n",
       "82. 1\n",
       "83. 1\n",
       "84. 1\n",
       "85. 1\n",
       "86. 0\n",
       "87. 1\n",
       "88. 1\n",
       "89. 0\n",
       "90. 0\n",
       "91. 1\n",
       "92. 1\n",
       "93. 1\n",
       "94. 0\n",
       "95. 0\n",
       "96. 1\n",
       "97. 1\n",
       "98. 1\n",
       "99. 1\n",
       "100. 1\n",
       "101. 0\n",
       "102. 1\n",
       "103. 0\n",
       "104. 0\n",
       "105. 0\n",
       "106. 0\n",
       "107. 1\n",
       "108. 1\n",
       "109. 1\n",
       "110. 1\n",
       "111. 1\n",
       "112. 0\n",
       "113. 1\n",
       "114. 1\n",
       "115. 1\n",
       "116. 1\n",
       "117. 1\n",
       "118. 1\n",
       "119. 1\n",
       "120. 1\n",
       "121. 0\n",
       "122. 1\n",
       "123. 1\n",
       "124. 1\n",
       "125. 1\n",
       "126. 1\n",
       "127. 1\n",
       "128. 1\n",
       "129. 0\n",
       "130. 1\n",
       "131. 1\n",
       "132. 1\n",
       "133. 1\n",
       "134. 1\n",
       "135. 1\n",
       "136. 1\n",
       "137. 1\n",
       "138. 1\n",
       "139. 0\n",
       "140. 1\n",
       "141. 1\n",
       "142. 0\n",
       "143. 1\n",
       "144. 1\n",
       "145. 1\n",
       "146. 1\n",
       "147. 1\n",
       "148. 1\n",
       "149. 1\n",
       "150. 0\n",
       "151. 1\n",
       "152. 1\n",
       "153. 1\n",
       "154. 0\n",
       "155. 1\n",
       "156. 0\n",
       "157. 1\n",
       "158. 1\n",
       "159. 1\n",
       "160. 0\n",
       "161. 1\n",
       "162. 0\n",
       "163. 0\n",
       "164. 1\n",
       "165. 0\n",
       "166. 1\n",
       "167. 1\n",
       "168. 0\n",
       "169. 1\n",
       "170. 1\n",
       "171. 0\n",
       "172. 1\n",
       "173. 0\n",
       "174. 1\n",
       "175. 1\n",
       "176. 1\n",
       "177. 1\n",
       "178. 1\n",
       "179. 0\n",
       "180. 1\n",
       "181. 1\n",
       "182. 1\n",
       "183. 1\n",
       "184. 1\n",
       "185. 1\n",
       "186. 1\n",
       "187. 1\n",
       "188. 1\n",
       "189. 1\n",
       "190. 1\n",
       "191. 1\n",
       "192. 1\n",
       "193. 1\n",
       "194. 1\n",
       "195. 1\n",
       "196. 1\n",
       "197. 1\n",
       "198. 0\n",
       "199. 1\n",
       "200. 1\n",
       "201. 0\n",
       "202. 0\n",
       "203. 0\n",
       "204. 1\n",
       "205. 1\n",
       "206. 1\n",
       "207. 1\n",
       "208. 1\n",
       "209. 1\n",
       "210. 0\n",
       "211. 1\n",
       "212. 1\n",
       "213. 1\n",
       "214. 1\n",
       "215. 1\n",
       "216. 1\n",
       "217. 0\n",
       "218. 0\n",
       "219. 1\n",
       "220. 1\n",
       "\n",
       "\n",
       "\n",
       "**Levels**: 1. '0'\n",
       "2. '1'\n",
       "\n",
       "\n"
      ],
      "text/plain": [
       "  [1] 1 1 1 1 1 0 0 1 1 0 0 1 1 1 0 1 1 0 1 0 1 1 1 1 1 1 1 0 1 1 1 0 0 0 0 1 1\n",
       " [38] 1 1 1 1 0 1 0 1 0 0 0 1 1 0 1 0 1 1 0 1 1 1 1 1 0 1 1 1 1 1 1 0 1 1 1 0 1\n",
       " [75] 0 0 0 1 0 0 1 1 1 1 1 0 1 1 0 0 1 1 1 0 0 1 1 1 1 1 0 1 0 0 0 0 1 1 1 1 1\n",
       "[112] 0 1 1 1 1 1 1 1 1 0 1 1 1 1 1 1 1 0 1 1 1 1 1 1 1 1 1 0 1 1 0 1 1 1 1 1 1\n",
       "[149] 1 0 1 1 1 0 1 0 1 1 1 0 1 0 0 1 0 1 1 0 1 1 0 1 0 1 1 1 1 1 0 1 1 1 1 1 1\n",
       "[186] 1 1 1 1 1 1 1 1 1 1 1 1 0 1 1 0 0 0 1 1 1 1 1 1 0 1 1 1 1 1 1 0 0 1 1\n",
       "Levels: 0 1"
      ]
     },
     "metadata": {},
     "output_type": "display_data"
    }
   ],
   "source": [
    "# repeat knn using the subset of genes with high or low correlation with the class label\n",
    "ret.knn2 <- knn (train=t(nki.impute$data[gene.ind, ]), test=t(nki2.impute$data[gene.ind, ]), cl=nki.prognosis, k=5)\n",
    "ret.knn2"
   ]
  },
  {
   "cell_type": "code",
   "execution_count": 41,
   "metadata": {},
   "outputs": [
    {
     "data": {
      "text/plain": [
       "        nki2.prognosis\n",
       "ret.knn2   0   1\n",
       "       0  18  43\n",
       "       1  19 140"
      ]
     },
     "metadata": {},
     "output_type": "display_data"
    }
   ],
   "source": [
    "table (ret.knn2, nki2.prognosis)"
   ]
  },
  {
   "cell_type": "code",
   "execution_count": 42,
   "metadata": {},
   "outputs": [
    {
     "data": {
      "text/html": [
       "0.281818181818182"
      ],
      "text/latex": [
       "0.281818181818182"
      ],
      "text/markdown": [
       "0.281818181818182"
      ],
      "text/plain": [
       "[1] 0.2818182"
      ]
     },
     "metadata": {},
     "output_type": "display_data"
    }
   ],
   "source": [
    "# compute the percentage of error\n",
    "(43 + 19)/220"
   ]
  },
  {
   "cell_type": "markdown",
   "metadata": {},
   "source": [
    "### error rate is ~28%, which means accuracy is around 72%\n",
    "### After doing extra work of feature selection, we are doing worse!"
   ]
  },
  {
   "cell_type": "markdown",
   "metadata": {},
   "source": [
    "## Idea 2: Use t-test as a univariate feature selection method\n",
    "### compute the t-test of each gene vector with the class label\n",
    "#### note that only the training data (nki.impute) and its labels are used"
   ]
  },
  {
   "cell_type": "code",
   "execution_count": 43,
   "metadata": {},
   "outputs": [],
   "source": [
    "ttest.vec <- apply (nki.impute$data, 1, function (x){(t.test(x, nki.prognosis))$p.value})"
   ]
  },
  {
   "cell_type": "code",
   "execution_count": 44,
   "metadata": {},
   "outputs": [
    {
     "data": {
      "text/html": [
       "<style>\n",
       ".dl-inline {width: auto; margin:0; padding: 0}\n",
       ".dl-inline>dt, .dl-inline>dd {float: none; width: auto; display: inline-block}\n",
       ".dl-inline>dt::after {content: \":\\0020\"; padding-right: .5ex}\n",
       ".dl-inline>dt:not(:first-of-type) {padding-left: .5ex}\n",
       "</style><dl class=dl-inline><dt>Contig45645_RC</dt><dd>1.95021196467228e-17</dd><dt>Contig44916_RC</dt><dd>5.12483653337006e-17</dd><dt>D25272</dt><dd>1.16034987085545e-17</dd><dt>J00129</dt><dd>2.57112216663318e-23</dd><dt>Contig29982_RC</dt><dd>1.25668781356563e-20</dd><dt>Contig26811</dt><dd>1.87187045822927e-16</dd><dt>D25274</dt><dd>7.6846901431619e-17</dd><dt>Contig36292</dt><dd>3.88346891051985e-16</dd><dt>Contig42854</dt><dd>1.94684795615586e-20</dd><dt>Contig34839</dt><dd>1.70907079815783e-15</dd></dl>\n"
      ],
      "text/latex": [
       "\\begin{description*}\n",
       "\\item[Contig45645\\textbackslash{}\\_RC] 1.95021196467228e-17\n",
       "\\item[Contig44916\\textbackslash{}\\_RC] 5.12483653337006e-17\n",
       "\\item[D25272] 1.16034987085545e-17\n",
       "\\item[J00129] 2.57112216663318e-23\n",
       "\\item[Contig29982\\textbackslash{}\\_RC] 1.25668781356563e-20\n",
       "\\item[Contig26811] 1.87187045822927e-16\n",
       "\\item[D25274] 7.6846901431619e-17\n",
       "\\item[Contig36292] 3.88346891051985e-16\n",
       "\\item[Contig42854] 1.94684795615586e-20\n",
       "\\item[Contig34839] 1.70907079815783e-15\n",
       "\\end{description*}\n"
      ],
      "text/markdown": [
       "Contig45645_RC\n",
       ":   1.95021196467228e-17Contig44916_RC\n",
       ":   5.12483653337006e-17D25272\n",
       ":   1.16034987085545e-17J00129\n",
       ":   2.57112216663318e-23Contig29982_RC\n",
       ":   1.25668781356563e-20Contig26811\n",
       ":   1.87187045822927e-16D25274\n",
       ":   7.6846901431619e-17Contig36292\n",
       ":   3.88346891051985e-16Contig42854\n",
       ":   1.94684795615586e-20Contig34839\n",
       ":   1.70907079815783e-15\n",
       "\n"
      ],
      "text/plain": [
       "Contig45645_RC Contig44916_RC         D25272         J00129 Contig29982_RC \n",
       "  1.950212e-17   5.124837e-17   1.160350e-17   2.571122e-23   1.256688e-20 \n",
       "   Contig26811         D25274    Contig36292    Contig42854    Contig34839 \n",
       "  1.871870e-16   7.684690e-17   3.883469e-16   1.946848e-20   1.709071e-15 "
      ]
     },
     "metadata": {},
     "output_type": "display_data"
    }
   ],
   "source": [
    "ttest.vec[1:10]"
   ]
  },
  {
   "cell_type": "code",
   "execution_count": 45,
   "metadata": {},
   "outputs": [
    {
     "data": {
      "text/html": [
       "1.71115587746463e-06"
      ],
      "text/latex": [
       "1.71115587746463e-06"
      ],
      "text/markdown": [
       "1.71115587746463e-06"
      ],
      "text/plain": [
       "[1] 1.711156e-06"
      ]
     },
     "metadata": {},
     "output_type": "display_data"
    },
    {
     "data": {
      "text/html": [
       "2.14787929208954e-44"
      ],
      "text/latex": [
       "2.14787929208954e-44"
      ],
      "text/markdown": [
       "2.14787929208954e-44"
      ],
      "text/plain": [
       "[1] 2.147879e-44"
      ]
     },
     "metadata": {},
     "output_type": "display_data"
    }
   ],
   "source": [
    "max (ttest.vec)\n",
    "min (ttest.vec)"
   ]
  },
  {
   "cell_type": "markdown",
   "metadata": {},
   "source": [
    "##### all the p-values are very small, let's do the Bonferroni correction for multiple comparison here"
   ]
  },
  {
   "cell_type": "code",
   "execution_count": 46,
   "metadata": {},
   "outputs": [],
   "source": [
    "adj.ttest.vec <- p.adjust (ttest.vec, method=\"bonferroni\")"
   ]
  },
  {
   "cell_type": "code",
   "execution_count": 47,
   "metadata": {},
   "outputs": [
    {
     "data": {
      "text/html": [
       "0.0411584323206567"
      ],
      "text/latex": [
       "0.0411584323206567"
      ],
      "text/markdown": [
       "0.0411584323206567"
      ],
      "text/plain": [
       "[1] 0.04115843"
      ]
     },
     "metadata": {},
     "output_type": "display_data"
    },
    {
     "data": {
      "text/html": [
       "5.16629406126298e-40"
      ],
      "text/latex": [
       "5.16629406126298e-40"
      ],
      "text/markdown": [
       "5.16629406126298e-40"
      ],
      "text/plain": [
       "[1] 5.166294e-40"
      ]
     },
     "metadata": {},
     "output_type": "display_data"
    }
   ],
   "source": [
    "max (adj.ttest.vec)\n",
    "min (adj.ttest.vec)"
   ]
  },
  {
   "cell_type": "code",
   "execution_count": 48,
   "metadata": {},
   "outputs": [
    {
     "data": {
      "text/html": [
       "24053"
      ],
      "text/latex": [
       "24053"
      ],
      "text/markdown": [
       "24053"
      ],
      "text/plain": [
       "[1] 24053"
      ]
     },
     "metadata": {},
     "output_type": "display_data"
    },
    {
     "data": {
      "text/html": [
       "24050"
      ],
      "text/latex": [
       "24050"
      ],
      "text/markdown": [
       "24050"
      ],
      "text/plain": [
       "[1] 24050"
      ]
     },
     "metadata": {},
     "output_type": "display_data"
    },
    {
     "data": {
      "text/html": [
       "24041"
      ],
      "text/latex": [
       "24041"
      ],
      "text/markdown": [
       "24041"
      ],
      "text/plain": [
       "[1] 24041"
      ]
     },
     "metadata": {},
     "output_type": "display_data"
    }
   ],
   "source": [
    "sum (adj.ttest.vec < 0.05)\n",
    "sum (adj.ttest.vec < 0.01)\n",
    "sum (adj.ttest.vec < 0.0001)"
   ]
  },
  {
   "cell_type": "markdown",
   "metadata": {},
   "source": [
    "##### most genes show differential expression here. let's take the top 100 (with lowest p-values)"
   ]
  },
  {
   "cell_type": "code",
   "execution_count": 49,
   "metadata": {},
   "outputs": [],
   "source": [
    "ret.order <- order (ttest.vec)"
   ]
  },
  {
   "cell_type": "code",
   "execution_count": 50,
   "metadata": {},
   "outputs": [
    {
     "data": {
      "text/html": [
       "<style>\n",
       ".dl-inline {width: auto; margin:0; padding: 0}\n",
       ".dl-inline>dt, .dl-inline>dd {float: none; width: auto; display: inline-block}\n",
       ".dl-inline>dt::after {content: \":\\0020\"; padding-right: .5ex}\n",
       ".dl-inline>dt:not(:first-of-type) {padding-left: .5ex}\n",
       "</style><dl class=dl-inline><dt>NM_000439</dt><dd>2.14787929208954e-44</dd><dt>NM_004291</dt><dd>4.32621326426743e-41</dd><dt>NM_007117</dt><dd>1.92492535504722e-40</dd><dt>NM_001275</dt><dd>6.03772747571494e-39</dd><dt>NM_001871</dt><dd>7.91727931998507e-37</dd><dt>NM_001819</dt><dd>3.84692621253619e-36</dd><dt>M33318</dt><dd>4.6368324632141e-36</dd><dt>U22029</dt><dd>6.69908017114409e-36</dd><dt>NM_000764</dt><dd>7.45846939745649e-36</dd><dt>Contig24609_RC</dt><dd>5.14809880143483e-35</dd></dl>\n"
      ],
      "text/latex": [
       "\\begin{description*}\n",
       "\\item[NM\\textbackslash{}\\_000439] 2.14787929208954e-44\n",
       "\\item[NM\\textbackslash{}\\_004291] 4.32621326426743e-41\n",
       "\\item[NM\\textbackslash{}\\_007117] 1.92492535504722e-40\n",
       "\\item[NM\\textbackslash{}\\_001275] 6.03772747571494e-39\n",
       "\\item[NM\\textbackslash{}\\_001871] 7.91727931998507e-37\n",
       "\\item[NM\\textbackslash{}\\_001819] 3.84692621253619e-36\n",
       "\\item[M33318] 4.6368324632141e-36\n",
       "\\item[U22029] 6.69908017114409e-36\n",
       "\\item[NM\\textbackslash{}\\_000764] 7.45846939745649e-36\n",
       "\\item[Contig24609\\textbackslash{}\\_RC] 5.14809880143483e-35\n",
       "\\end{description*}\n"
      ],
      "text/markdown": [
       "NM_000439\n",
       ":   2.14787929208954e-44NM_004291\n",
       ":   4.32621326426743e-41NM_007117\n",
       ":   1.92492535504722e-40NM_001275\n",
       ":   6.03772747571494e-39NM_001871\n",
       ":   7.91727931998507e-37NM_001819\n",
       ":   3.84692621253619e-36M33318\n",
       ":   4.6368324632141e-36U22029\n",
       ":   6.69908017114409e-36NM_000764\n",
       ":   7.45846939745649e-36Contig24609_RC\n",
       ":   5.14809880143483e-35\n",
       "\n"
      ],
      "text/plain": [
       "     NM_000439      NM_004291      NM_007117      NM_001275      NM_001871 \n",
       "  2.147879e-44   4.326213e-41   1.924925e-40   6.037727e-39   7.917279e-37 \n",
       "     NM_001819         M33318         U22029      NM_000764 Contig24609_RC \n",
       "  3.846926e-36   4.636832e-36   6.699080e-36   7.458469e-36   5.148099e-35 "
      ]
     },
     "metadata": {},
     "output_type": "display_data"
    }
   ],
   "source": [
    "ttest.vec[ret.order[1:10]]"
   ]
  },
  {
   "cell_type": "code",
   "execution_count": 51,
   "metadata": {},
   "outputs": [
    {
     "data": {
      "text/html": [
       "<style>\n",
       ".list-inline {list-style: none; margin:0; padding: 0}\n",
       ".list-inline>li {display: inline-block}\n",
       ".list-inline>li:not(:last-child)::after {content: \"\\00b7\"; padding: 0 .5ex}\n",
       "</style>\n",
       "<ol class=list-inline><li>20962</li><li>4384</li><li>10892</li><li>21822</li><li>2143</li><li>1935</li><li>21437</li><li>828</li><li>23252</li><li>19890</li><li>8946</li><li>11119</li><li>17242</li><li>20232</li><li>23817</li><li>23768</li><li>21147</li><li>10481</li><li>23163</li><li>23077</li><li>20938</li><li>7948</li><li>1347</li><li>52</li><li>9634</li><li>20182</li><li>9397</li><li>1070</li><li>7928</li><li>12032</li><li>893</li><li>3727</li><li>1270</li><li>22650</li><li>8697</li><li>15247</li><li>22393</li><li>20127</li><li>12881</li><li>23255</li><li>23904</li><li>11021</li><li>840</li><li>18847</li><li>1216</li><li>14175</li><li>1381</li><li>16369</li><li>16069</li><li>9585</li><li>17362</li><li>13233</li><li>22426</li><li>15394</li><li>581</li><li>5926</li><li>15818</li><li>20185</li><li>538</li><li>23816</li><li>6284</li><li>4097</li><li>21041</li><li>10747</li><li>20892</li><li>5628</li><li>1099</li><li>14270</li><li>20909</li><li>14264</li><li>5575</li><li>8289</li><li>10442</li><li>5079</li><li>3389</li><li>23029</li><li>616</li><li>7755</li><li>2888</li><li>4784</li><li>6283</li><li>16946</li><li>295</li><li>22505</li><li>20263</li><li>12036</li><li>2697</li><li>9244</li><li>7535</li><li>4133</li><li>20897</li><li>1107</li><li>15966</li><li>15598</li><li>13120</li><li>8482</li><li>19036</li><li>1092</li><li>3370</li><li>2617</li></ol>\n"
      ],
      "text/latex": [
       "\\begin{enumerate*}\n",
       "\\item 20962\n",
       "\\item 4384\n",
       "\\item 10892\n",
       "\\item 21822\n",
       "\\item 2143\n",
       "\\item 1935\n",
       "\\item 21437\n",
       "\\item 828\n",
       "\\item 23252\n",
       "\\item 19890\n",
       "\\item 8946\n",
       "\\item 11119\n",
       "\\item 17242\n",
       "\\item 20232\n",
       "\\item 23817\n",
       "\\item 23768\n",
       "\\item 21147\n",
       "\\item 10481\n",
       "\\item 23163\n",
       "\\item 23077\n",
       "\\item 20938\n",
       "\\item 7948\n",
       "\\item 1347\n",
       "\\item 52\n",
       "\\item 9634\n",
       "\\item 20182\n",
       "\\item 9397\n",
       "\\item 1070\n",
       "\\item 7928\n",
       "\\item 12032\n",
       "\\item 893\n",
       "\\item 3727\n",
       "\\item 1270\n",
       "\\item 22650\n",
       "\\item 8697\n",
       "\\item 15247\n",
       "\\item 22393\n",
       "\\item 20127\n",
       "\\item 12881\n",
       "\\item 23255\n",
       "\\item 23904\n",
       "\\item 11021\n",
       "\\item 840\n",
       "\\item 18847\n",
       "\\item 1216\n",
       "\\item 14175\n",
       "\\item 1381\n",
       "\\item 16369\n",
       "\\item 16069\n",
       "\\item 9585\n",
       "\\item 17362\n",
       "\\item 13233\n",
       "\\item 22426\n",
       "\\item 15394\n",
       "\\item 581\n",
       "\\item 5926\n",
       "\\item 15818\n",
       "\\item 20185\n",
       "\\item 538\n",
       "\\item 23816\n",
       "\\item 6284\n",
       "\\item 4097\n",
       "\\item 21041\n",
       "\\item 10747\n",
       "\\item 20892\n",
       "\\item 5628\n",
       "\\item 1099\n",
       "\\item 14270\n",
       "\\item 20909\n",
       "\\item 14264\n",
       "\\item 5575\n",
       "\\item 8289\n",
       "\\item 10442\n",
       "\\item 5079\n",
       "\\item 3389\n",
       "\\item 23029\n",
       "\\item 616\n",
       "\\item 7755\n",
       "\\item 2888\n",
       "\\item 4784\n",
       "\\item 6283\n",
       "\\item 16946\n",
       "\\item 295\n",
       "\\item 22505\n",
       "\\item 20263\n",
       "\\item 12036\n",
       "\\item 2697\n",
       "\\item 9244\n",
       "\\item 7535\n",
       "\\item 4133\n",
       "\\item 20897\n",
       "\\item 1107\n",
       "\\item 15966\n",
       "\\item 15598\n",
       "\\item 13120\n",
       "\\item 8482\n",
       "\\item 19036\n",
       "\\item 1092\n",
       "\\item 3370\n",
       "\\item 2617\n",
       "\\end{enumerate*}\n"
      ],
      "text/markdown": [
       "1. 20962\n",
       "2. 4384\n",
       "3. 10892\n",
       "4. 21822\n",
       "5. 2143\n",
       "6. 1935\n",
       "7. 21437\n",
       "8. 828\n",
       "9. 23252\n",
       "10. 19890\n",
       "11. 8946\n",
       "12. 11119\n",
       "13. 17242\n",
       "14. 20232\n",
       "15. 23817\n",
       "16. 23768\n",
       "17. 21147\n",
       "18. 10481\n",
       "19. 23163\n",
       "20. 23077\n",
       "21. 20938\n",
       "22. 7948\n",
       "23. 1347\n",
       "24. 52\n",
       "25. 9634\n",
       "26. 20182\n",
       "27. 9397\n",
       "28. 1070\n",
       "29. 7928\n",
       "30. 12032\n",
       "31. 893\n",
       "32. 3727\n",
       "33. 1270\n",
       "34. 22650\n",
       "35. 8697\n",
       "36. 15247\n",
       "37. 22393\n",
       "38. 20127\n",
       "39. 12881\n",
       "40. 23255\n",
       "41. 23904\n",
       "42. 11021\n",
       "43. 840\n",
       "44. 18847\n",
       "45. 1216\n",
       "46. 14175\n",
       "47. 1381\n",
       "48. 16369\n",
       "49. 16069\n",
       "50. 9585\n",
       "51. 17362\n",
       "52. 13233\n",
       "53. 22426\n",
       "54. 15394\n",
       "55. 581\n",
       "56. 5926\n",
       "57. 15818\n",
       "58. 20185\n",
       "59. 538\n",
       "60. 23816\n",
       "61. 6284\n",
       "62. 4097\n",
       "63. 21041\n",
       "64. 10747\n",
       "65. 20892\n",
       "66. 5628\n",
       "67. 1099\n",
       "68. 14270\n",
       "69. 20909\n",
       "70. 14264\n",
       "71. 5575\n",
       "72. 8289\n",
       "73. 10442\n",
       "74. 5079\n",
       "75. 3389\n",
       "76. 23029\n",
       "77. 616\n",
       "78. 7755\n",
       "79. 2888\n",
       "80. 4784\n",
       "81. 6283\n",
       "82. 16946\n",
       "83. 295\n",
       "84. 22505\n",
       "85. 20263\n",
       "86. 12036\n",
       "87. 2697\n",
       "88. 9244\n",
       "89. 7535\n",
       "90. 4133\n",
       "91. 20897\n",
       "92. 1107\n",
       "93. 15966\n",
       "94. 15598\n",
       "95. 13120\n",
       "96. 8482\n",
       "97. 19036\n",
       "98. 1092\n",
       "99. 3370\n",
       "100. 2617\n",
       "\n",
       "\n"
      ],
      "text/plain": [
       "  [1] 20962  4384 10892 21822  2143  1935 21437   828 23252 19890  8946 11119\n",
       " [13] 17242 20232 23817 23768 21147 10481 23163 23077 20938  7948  1347    52\n",
       " [25]  9634 20182  9397  1070  7928 12032   893  3727  1270 22650  8697 15247\n",
       " [37] 22393 20127 12881 23255 23904 11021   840 18847  1216 14175  1381 16369\n",
       " [49] 16069  9585 17362 13233 22426 15394   581  5926 15818 20185   538 23816\n",
       " [61]  6284  4097 21041 10747 20892  5628  1099 14270 20909 14264  5575  8289\n",
       " [73] 10442  5079  3389 23029   616  7755  2888  4784  6283 16946   295 22505\n",
       " [85] 20263 12036  2697  9244  7535  4133 20897  1107 15966 15598 13120  8482\n",
       " [97] 19036  1092  3370  2617"
      ]
     },
     "metadata": {},
     "output_type": "display_data"
    }
   ],
   "source": [
    "gene.ind2 <- ret.order[1:100]\n",
    "gene.ind2"
   ]
  },
  {
   "cell_type": "code",
   "execution_count": 52,
   "metadata": {},
   "outputs": [
    {
     "data": {
      "text/html": [
       "<style>\n",
       ".list-inline {list-style: none; margin:0; padding: 0}\n",
       ".list-inline>li {display: inline-block}\n",
       ".list-inline>li:not(:last-child)::after {content: \"\\00b7\"; padding: 0 .5ex}\n",
       "</style>\n",
       "<ol class=list-inline><li>1</li><li>1</li><li>1</li><li>1</li><li>1</li><li>0</li><li>0</li><li>0</li><li>1</li><li>0</li><li>0</li><li>0</li><li>1</li><li>1</li><li>0</li><li>0</li><li>1</li><li>0</li><li>1</li><li>0</li><li>0</li><li>0</li><li>1</li><li>1</li><li>1</li><li>0</li><li>1</li><li>0</li><li>1</li><li>1</li><li>1</li><li>0</li><li>0</li><li>0</li><li>0</li><li>1</li><li>1</li><li>1</li><li>1</li><li>0</li><li>1</li><li>0</li><li>1</li><li>0</li><li>1</li><li>0</li><li>0</li><li>0</li><li>0</li><li>1</li><li>0</li><li>1</li><li>0</li><li>1</li><li>1</li><li>0</li><li>1</li><li>1</li><li>1</li><li>1</li><li>1</li><li>0</li><li>0</li><li>0</li><li>1</li><li>0</li><li>1</li><li>1</li><li>0</li><li>1</li><li>1</li><li>1</li><li>1</li><li>1</li><li>1</li><li>0</li><li>1</li><li>1</li><li>0</li><li>0</li><li>0</li><li>0</li><li>1</li><li>0</li><li>1</li><li>0</li><li>1</li><li>0</li><li>1</li><li>0</li><li>1</li><li>1</li><li>1</li><li>0</li><li>0</li><li>0</li><li>1</li><li>0</li><li>1</li><li>1</li><li>0</li><li>0</li><li>1</li><li>0</li><li>0</li><li>0</li><li>1</li><li>0</li><li>0</li><li>1</li><li>1</li><li>0</li><li>1</li><li>1</li><li>1</li><li>1</li><li>1</li><li>1</li><li>1</li><li>1</li><li>1</li><li>1</li><li>1</li><li>1</li><li>1</li><li>1</li><li>1</li><li>1</li><li>0</li><li>1</li><li>1</li><li>0</li><li>1</li><li>1</li><li>0</li><li>0</li><li>1</li><li>1</li><li>0</li><li>1</li><li>1</li><li>0</li><li>1</li><li>1</li><li>0</li><li>0</li><li>1</li><li>1</li><li>1</li><li>1</li><li>0</li><li>1</li><li>1</li><li>0</li><li>0</li><li>1</li><li>0</li><li>1</li><li>1</li><li>0</li><li>1</li><li>0</li><li>0</li><li>1</li><li>0</li><li>1</li><li>1</li><li>0</li><li>1</li><li>1</li><li>0</li><li>1</li><li>0</li><li>1</li><li>1</li><li>1</li><li>1</li><li>1</li><li>0</li><li>0</li><li>1</li><li>1</li><li>1</li><li>1</li><li>0</li><li>1</li><li>1</li><li>1</li><li>1</li><li>1</li><li>1</li><li>1</li><li>0</li><li>1</li><li>0</li><li>0</li><li>0</li><li>0</li><li>1</li><li>1</li><li>0</li><li>0</li><li>0</li><li>0</li><li>0</li><li>1</li><li>1</li><li>1</li><li>1</li><li>1</li><li>1</li><li>1</li><li>0</li><li>1</li><li>1</li><li>1</li><li>0</li><li>0</li><li>1</li><li>1</li></ol>\n",
       "\n",
       "<details>\n",
       "\t<summary style=display:list-item;cursor:pointer>\n",
       "\t\t<strong>Levels</strong>:\n",
       "\t</summary>\n",
       "\t<style>\n",
       "\t.list-inline {list-style: none; margin:0; padding: 0}\n",
       "\t.list-inline>li {display: inline-block}\n",
       "\t.list-inline>li:not(:last-child)::after {content: \"\\00b7\"; padding: 0 .5ex}\n",
       "\t</style>\n",
       "\t<ol class=list-inline><li>'0'</li><li>'1'</li></ol>\n",
       "</details>"
      ],
      "text/latex": [
       "\\begin{enumerate*}\n",
       "\\item 1\n",
       "\\item 1\n",
       "\\item 1\n",
       "\\item 1\n",
       "\\item 1\n",
       "\\item 0\n",
       "\\item 0\n",
       "\\item 0\n",
       "\\item 1\n",
       "\\item 0\n",
       "\\item 0\n",
       "\\item 0\n",
       "\\item 1\n",
       "\\item 1\n",
       "\\item 0\n",
       "\\item 0\n",
       "\\item 1\n",
       "\\item 0\n",
       "\\item 1\n",
       "\\item 0\n",
       "\\item 0\n",
       "\\item 0\n",
       "\\item 1\n",
       "\\item 1\n",
       "\\item 1\n",
       "\\item 0\n",
       "\\item 1\n",
       "\\item 0\n",
       "\\item 1\n",
       "\\item 1\n",
       "\\item 1\n",
       "\\item 0\n",
       "\\item 0\n",
       "\\item 0\n",
       "\\item 0\n",
       "\\item 1\n",
       "\\item 1\n",
       "\\item 1\n",
       "\\item 1\n",
       "\\item 0\n",
       "\\item 1\n",
       "\\item 0\n",
       "\\item 1\n",
       "\\item 0\n",
       "\\item 1\n",
       "\\item 0\n",
       "\\item 0\n",
       "\\item 0\n",
       "\\item 0\n",
       "\\item 1\n",
       "\\item 0\n",
       "\\item 1\n",
       "\\item 0\n",
       "\\item 1\n",
       "\\item 1\n",
       "\\item 0\n",
       "\\item 1\n",
       "\\item 1\n",
       "\\item 1\n",
       "\\item 1\n",
       "\\item 1\n",
       "\\item 0\n",
       "\\item 0\n",
       "\\item 0\n",
       "\\item 1\n",
       "\\item 0\n",
       "\\item 1\n",
       "\\item 1\n",
       "\\item 0\n",
       "\\item 1\n",
       "\\item 1\n",
       "\\item 1\n",
       "\\item 1\n",
       "\\item 1\n",
       "\\item 1\n",
       "\\item 0\n",
       "\\item 1\n",
       "\\item 1\n",
       "\\item 0\n",
       "\\item 0\n",
       "\\item 0\n",
       "\\item 0\n",
       "\\item 1\n",
       "\\item 0\n",
       "\\item 1\n",
       "\\item 0\n",
       "\\item 1\n",
       "\\item 0\n",
       "\\item 1\n",
       "\\item 0\n",
       "\\item 1\n",
       "\\item 1\n",
       "\\item 1\n",
       "\\item 0\n",
       "\\item 0\n",
       "\\item 0\n",
       "\\item 1\n",
       "\\item 0\n",
       "\\item 1\n",
       "\\item 1\n",
       "\\item 0\n",
       "\\item 0\n",
       "\\item 1\n",
       "\\item 0\n",
       "\\item 0\n",
       "\\item 0\n",
       "\\item 1\n",
       "\\item 0\n",
       "\\item 0\n",
       "\\item 1\n",
       "\\item 1\n",
       "\\item 0\n",
       "\\item 1\n",
       "\\item 1\n",
       "\\item 1\n",
       "\\item 1\n",
       "\\item 1\n",
       "\\item 1\n",
       "\\item 1\n",
       "\\item 1\n",
       "\\item 1\n",
       "\\item 1\n",
       "\\item 1\n",
       "\\item 1\n",
       "\\item 1\n",
       "\\item 1\n",
       "\\item 1\n",
       "\\item 1\n",
       "\\item 0\n",
       "\\item 1\n",
       "\\item 1\n",
       "\\item 0\n",
       "\\item 1\n",
       "\\item 1\n",
       "\\item 0\n",
       "\\item 0\n",
       "\\item 1\n",
       "\\item 1\n",
       "\\item 0\n",
       "\\item 1\n",
       "\\item 1\n",
       "\\item 0\n",
       "\\item 1\n",
       "\\item 1\n",
       "\\item 0\n",
       "\\item 0\n",
       "\\item 1\n",
       "\\item 1\n",
       "\\item 1\n",
       "\\item 1\n",
       "\\item 0\n",
       "\\item 1\n",
       "\\item 1\n",
       "\\item 0\n",
       "\\item 0\n",
       "\\item 1\n",
       "\\item 0\n",
       "\\item 1\n",
       "\\item 1\n",
       "\\item 0\n",
       "\\item 1\n",
       "\\item 0\n",
       "\\item 0\n",
       "\\item 1\n",
       "\\item 0\n",
       "\\item 1\n",
       "\\item 1\n",
       "\\item 0\n",
       "\\item 1\n",
       "\\item 1\n",
       "\\item 0\n",
       "\\item 1\n",
       "\\item 0\n",
       "\\item 1\n",
       "\\item 1\n",
       "\\item 1\n",
       "\\item 1\n",
       "\\item 1\n",
       "\\item 0\n",
       "\\item 0\n",
       "\\item 1\n",
       "\\item 1\n",
       "\\item 1\n",
       "\\item 1\n",
       "\\item 0\n",
       "\\item 1\n",
       "\\item 1\n",
       "\\item 1\n",
       "\\item 1\n",
       "\\item 1\n",
       "\\item 1\n",
       "\\item 1\n",
       "\\item 0\n",
       "\\item 1\n",
       "\\item 0\n",
       "\\item 0\n",
       "\\item 0\n",
       "\\item 0\n",
       "\\item 1\n",
       "\\item 1\n",
       "\\item 0\n",
       "\\item 0\n",
       "\\item 0\n",
       "\\item 0\n",
       "\\item 0\n",
       "\\item 1\n",
       "\\item 1\n",
       "\\item 1\n",
       "\\item 1\n",
       "\\item 1\n",
       "\\item 1\n",
       "\\item 1\n",
       "\\item 0\n",
       "\\item 1\n",
       "\\item 1\n",
       "\\item 1\n",
       "\\item 0\n",
       "\\item 0\n",
       "\\item 1\n",
       "\\item 1\n",
       "\\end{enumerate*}\n",
       "\n",
       "\\emph{Levels}: \\begin{enumerate*}\n",
       "\\item '0'\n",
       "\\item '1'\n",
       "\\end{enumerate*}\n"
      ],
      "text/markdown": [
       "1. 1\n",
       "2. 1\n",
       "3. 1\n",
       "4. 1\n",
       "5. 1\n",
       "6. 0\n",
       "7. 0\n",
       "8. 0\n",
       "9. 1\n",
       "10. 0\n",
       "11. 0\n",
       "12. 0\n",
       "13. 1\n",
       "14. 1\n",
       "15. 0\n",
       "16. 0\n",
       "17. 1\n",
       "18. 0\n",
       "19. 1\n",
       "20. 0\n",
       "21. 0\n",
       "22. 0\n",
       "23. 1\n",
       "24. 1\n",
       "25. 1\n",
       "26. 0\n",
       "27. 1\n",
       "28. 0\n",
       "29. 1\n",
       "30. 1\n",
       "31. 1\n",
       "32. 0\n",
       "33. 0\n",
       "34. 0\n",
       "35. 0\n",
       "36. 1\n",
       "37. 1\n",
       "38. 1\n",
       "39. 1\n",
       "40. 0\n",
       "41. 1\n",
       "42. 0\n",
       "43. 1\n",
       "44. 0\n",
       "45. 1\n",
       "46. 0\n",
       "47. 0\n",
       "48. 0\n",
       "49. 0\n",
       "50. 1\n",
       "51. 0\n",
       "52. 1\n",
       "53. 0\n",
       "54. 1\n",
       "55. 1\n",
       "56. 0\n",
       "57. 1\n",
       "58. 1\n",
       "59. 1\n",
       "60. 1\n",
       "61. 1\n",
       "62. 0\n",
       "63. 0\n",
       "64. 0\n",
       "65. 1\n",
       "66. 0\n",
       "67. 1\n",
       "68. 1\n",
       "69. 0\n",
       "70. 1\n",
       "71. 1\n",
       "72. 1\n",
       "73. 1\n",
       "74. 1\n",
       "75. 1\n",
       "76. 0\n",
       "77. 1\n",
       "78. 1\n",
       "79. 0\n",
       "80. 0\n",
       "81. 0\n",
       "82. 0\n",
       "83. 1\n",
       "84. 0\n",
       "85. 1\n",
       "86. 0\n",
       "87. 1\n",
       "88. 0\n",
       "89. 1\n",
       "90. 0\n",
       "91. 1\n",
       "92. 1\n",
       "93. 1\n",
       "94. 0\n",
       "95. 0\n",
       "96. 0\n",
       "97. 1\n",
       "98. 0\n",
       "99. 1\n",
       "100. 1\n",
       "101. 0\n",
       "102. 0\n",
       "103. 1\n",
       "104. 0\n",
       "105. 0\n",
       "106. 0\n",
       "107. 1\n",
       "108. 0\n",
       "109. 0\n",
       "110. 1\n",
       "111. 1\n",
       "112. 0\n",
       "113. 1\n",
       "114. 1\n",
       "115. 1\n",
       "116. 1\n",
       "117. 1\n",
       "118. 1\n",
       "119. 1\n",
       "120. 1\n",
       "121. 1\n",
       "122. 1\n",
       "123. 1\n",
       "124. 1\n",
       "125. 1\n",
       "126. 1\n",
       "127. 1\n",
       "128. 1\n",
       "129. 0\n",
       "130. 1\n",
       "131. 1\n",
       "132. 0\n",
       "133. 1\n",
       "134. 1\n",
       "135. 0\n",
       "136. 0\n",
       "137. 1\n",
       "138. 1\n",
       "139. 0\n",
       "140. 1\n",
       "141. 1\n",
       "142. 0\n",
       "143. 1\n",
       "144. 1\n",
       "145. 0\n",
       "146. 0\n",
       "147. 1\n",
       "148. 1\n",
       "149. 1\n",
       "150. 1\n",
       "151. 0\n",
       "152. 1\n",
       "153. 1\n",
       "154. 0\n",
       "155. 0\n",
       "156. 1\n",
       "157. 0\n",
       "158. 1\n",
       "159. 1\n",
       "160. 0\n",
       "161. 1\n",
       "162. 0\n",
       "163. 0\n",
       "164. 1\n",
       "165. 0\n",
       "166. 1\n",
       "167. 1\n",
       "168. 0\n",
       "169. 1\n",
       "170. 1\n",
       "171. 0\n",
       "172. 1\n",
       "173. 0\n",
       "174. 1\n",
       "175. 1\n",
       "176. 1\n",
       "177. 1\n",
       "178. 1\n",
       "179. 0\n",
       "180. 0\n",
       "181. 1\n",
       "182. 1\n",
       "183. 1\n",
       "184. 1\n",
       "185. 0\n",
       "186. 1\n",
       "187. 1\n",
       "188. 1\n",
       "189. 1\n",
       "190. 1\n",
       "191. 1\n",
       "192. 1\n",
       "193. 0\n",
       "194. 1\n",
       "195. 0\n",
       "196. 0\n",
       "197. 0\n",
       "198. 0\n",
       "199. 1\n",
       "200. 1\n",
       "201. 0\n",
       "202. 0\n",
       "203. 0\n",
       "204. 0\n",
       "205. 0\n",
       "206. 1\n",
       "207. 1\n",
       "208. 1\n",
       "209. 1\n",
       "210. 1\n",
       "211. 1\n",
       "212. 1\n",
       "213. 0\n",
       "214. 1\n",
       "215. 1\n",
       "216. 1\n",
       "217. 0\n",
       "218. 0\n",
       "219. 1\n",
       "220. 1\n",
       "\n",
       "\n",
       "\n",
       "**Levels**: 1. '0'\n",
       "2. '1'\n",
       "\n",
       "\n"
      ],
      "text/plain": [
       "  [1] 1 1 1 1 1 0 0 0 1 0 0 0 1 1 0 0 1 0 1 0 0 0 1 1 1 0 1 0 1 1 1 0 0 0 0 1 1\n",
       " [38] 1 1 0 1 0 1 0 1 0 0 0 0 1 0 1 0 1 1 0 1 1 1 1 1 0 0 0 1 0 1 1 0 1 1 1 1 1\n",
       " [75] 1 0 1 1 0 0 0 0 1 0 1 0 1 0 1 0 1 1 1 0 0 0 1 0 1 1 0 0 1 0 0 0 1 0 0 1 1\n",
       "[112] 0 1 1 1 1 1 1 1 1 1 1 1 1 1 1 1 1 0 1 1 0 1 1 0 0 1 1 0 1 1 0 1 1 0 0 1 1\n",
       "[149] 1 1 0 1 1 0 0 1 0 1 1 0 1 0 0 1 0 1 1 0 1 1 0 1 0 1 1 1 1 1 0 0 1 1 1 1 0\n",
       "[186] 1 1 1 1 1 1 1 0 1 0 0 0 0 1 1 0 0 0 0 0 1 1 1 1 1 1 1 0 1 1 1 0 0 1 1\n",
       "Levels: 0 1"
      ]
     },
     "metadata": {},
     "output_type": "display_data"
    }
   ],
   "source": [
    "ret.knn3 <- knn (train=t(nki.impute$data[gene.ind2, ]), test=t(nki2.impute$data[gene.ind2, ]), cl=nki.prognosis, k=5)\n",
    "ret.knn3"
   ]
  },
  {
   "cell_type": "code",
   "execution_count": 53,
   "metadata": {},
   "outputs": [
    {
     "data": {
      "text/plain": [
       "        nki2.prognosis\n",
       "ret.knn3   0   1\n",
       "       0  21  68\n",
       "       1  16 115"
      ]
     },
     "metadata": {},
     "output_type": "display_data"
    }
   ],
   "source": [
    "table (ret.knn3, nki2.prognosis)"
   ]
  },
  {
   "cell_type": "code",
   "execution_count": 54,
   "metadata": {},
   "outputs": [
    {
     "data": {
      "text/html": [
       "0.381818181818182"
      ],
      "text/latex": [
       "0.381818181818182"
      ],
      "text/markdown": [
       "0.381818181818182"
      ],
      "text/plain": [
       "[1] 0.3818182"
      ]
     },
     "metadata": {},
     "output_type": "display_data"
    }
   ],
   "source": [
    "# compute rate of error\n",
    "(68+16)/220"
   ]
  },
  {
   "cell_type": "markdown",
   "metadata": {},
   "source": [
    "### 38% error. Much worse than before!!"
   ]
  },
  {
   "cell_type": "code",
   "execution_count": 55,
   "metadata": {},
   "outputs": [
    {
     "data": {
      "text/html": [
       "0.272727272727273"
      ],
      "text/latex": [
       "0.272727272727273"
      ],
      "text/markdown": [
       "0.272727272727273"
      ],
      "text/plain": [
       "[1] 0.2727273"
      ]
     },
     "metadata": {},
     "output_type": "display_data"
    }
   ],
   "source": [
    "(44+16)/220"
   ]
  },
  {
   "cell_type": "markdown",
   "metadata": {},
   "source": [
    "### 28% error similar to using correlation as the univariate feature selection method. worse than no feature selection!"
   ]
  },
  {
   "cell_type": "markdown",
   "metadata": {},
   "source": [
    "Feb 22, 2023"
   ]
  },
  {
   "cell_type": "code",
   "execution_count": 56,
   "metadata": {},
   "outputs": [],
   "source": [
    "# help(svm)"
   ]
  },
  {
   "cell_type": "code",
   "execution_count": 58,
   "metadata": {},
   "outputs": [],
   "source": [
    "library(e1071)"
   ]
  },
  {
   "cell_type": "code",
   "execution_count": 59,
   "metadata": {},
   "outputs": [],
   "source": [
    "# bukd a SVM Classifier using the imputed training data and labels of the training data\n",
    "ret.svm <- svm (t(nki.impute$data), nki.prognosis)"
   ]
  },
  {
   "cell_type": "code",
   "execution_count": 60,
   "metadata": {},
   "outputs": [],
   "source": [
    "#use the SCM Classifier to predict the labels in the test set\n",
    "pred <- predict(ret.svm, t(nki2.impute$data))"
   ]
  },
  {
   "cell_type": "code",
   "execution_count": 61,
   "metadata": {},
   "outputs": [
    {
     "data": {
      "text/plain": [
       "   nki2.prognosis\n",
       "      0   1\n",
       "  0  12  21\n",
       "  1  25 162"
      ]
     },
     "metadata": {},
     "output_type": "display_data"
    }
   ],
   "source": [
    "table (round(pred), nki2.prognosis)"
   ]
  },
  {
   "cell_type": "code",
   "execution_count": 62,
   "metadata": {},
   "outputs": [
    {
     "data": {
      "text/html": [
       "0.209090909090909"
      ],
      "text/latex": [
       "0.209090909090909"
      ],
      "text/markdown": [
       "0.209090909090909"
      ],
      "text/plain": [
       "[1] 0.2090909"
      ]
     },
     "metadata": {},
     "output_type": "display_data"
    }
   ],
   "source": [
    "(21+25)/220"
   ]
  },
  {
   "cell_type": "markdown",
   "metadata": {},
   "source": [
    "### Using all the genes as features, SVM produces fewer errors than KNN, is doing better than KNN"
   ]
  },
  {
   "cell_type": "markdown",
   "metadata": {},
   "source": [
    "## homework: try to vary arguments for the \"svm\" function\n",
    "## Also try to run SVM using features(genes) selected using correlation or t-test."
   ]
  },
  {
   "cell_type": "code",
   "execution_count": 63,
   "metadata": {},
   "outputs": [
    {
     "name": "stderr",
     "output_type": "stream",
     "text": [
      "'getOption(\"repos\")' replaces Bioconductor standard repositories, see\n",
      "'?repositories' for details\n",
      "\n",
      "replacement repositories:\n",
      "    CRAN: https://cran.r-project.org\n",
      "\n",
      "\n",
      "Bioconductor version 3.14 (BiocManager 1.30.19), R 4.1.1 (2021-08-10)\n",
      "\n",
      "Installing package(s) 'randomForest'\n",
      "\n",
      "Updating HTML index of packages in '.Library'\n",
      "\n",
      "Making 'packages.html' ...\n",
      " done\n",
      "\n",
      "Old packages: 'arkhe', 'brew', 'broom', 'caret', 'classInt', 'cli',\n",
      "  'codetools', 'colorspace', 'conflicted', 'covr', 'credentials', 'curl',\n",
      "  'data.table', 'dbplyr', 'devtools', 'dplyr', 'DT', 'evaluate', 'expm',\n",
      "  'fansi', 'FNN', 'fontawesome', 'forcats', 'forecast', 'fracdiff', 'fs',\n",
      "  'future', 'gargle', 'gert', 'ggplot2', 'ggrepel', 'gh', 'git2r', 'gitcreds',\n",
      "  'gower', 'gstat', 'gtools', 'highr', 'htmlwidgets', 'httpuv', 'IRdisplay',\n",
      "  'IRkernel', 'isoband', 'janitor', 'keras', 'knitr', 'lava', 'lhs', 'lmtest',\n",
      "  'lubridate', 'markdown', 'MASS', 'Matrix', 'mgcv', 'modeldata', 'nlme',\n",
      "  'nloptr', 'nnet', 'parallelly', 'pbdZMQ', 'pkgbuild', 'plyr', 'png',\n",
      "  'progressr', 'proxy', 'purrr', 'quantmod', 'raster', 'Rcpp', 'RcppArmadillo',\n",
      "  'RcppTOML', 'RCurl', 'readr', 'readxl', 'recipes', 'remotes', 'repr',\n",
      "  'reticulate', 'rex', 'rmarkdown', 'RODBC', 'roxygen2', 'rpart', 'RSQLite',\n",
      "  'rversions', 's2', 'sass', 'sessioninfo', 'skimr', 'sourcetools', 'sp',\n",
      "  'spatial', 'spatialreg', 'spdep', 'spiderbar', 'stringi', 'survival',\n",
      "  'tensorflow', 'terra', 'tidyr', 'tidyverse', 'timechange', 'timeDate',\n",
      "  'tinytex', 'tseries', 'TTR', 'units', 'urca', 'usethis', 'utf8', 'vctrs',\n",
      "  'visdat', 'vroom', 'whisker', 'wk', 'workflows', 'xfun', 'xts', 'yaml',\n",
      "  'zip', 'zoo'\n",
      "\n"
     ]
    }
   ],
   "source": [
    "BiocManager::install(\"randomForest\")\n"
   ]
  },
  {
   "cell_type": "code",
   "execution_count": 66,
   "metadata": {},
   "outputs": [
    {
     "ename": "ERROR",
     "evalue": "Error in randomForest(as.factor(nki.prognosis) ~ ., data = x): could not find function \"randomForest\"\n",
     "output_type": "error",
     "traceback": [
      "Error in randomForest(as.factor(nki.prognosis) ~ ., data = x): could not find function \"randomForest\"\nTraceback:\n"
     ]
    }
   ],
   "source": [
    "# build a random forest classifier using all genes in the training data\n",
    "x <- cbind(t(nki.impute$data[gene.ind, ]), nki.prognosis)\n",
    "ret.rf <- randomForest (as.factor (nki.prognosis) ~ ., data=x)"
   ]
  },
  {
   "cell_type": "markdown",
   "metadata": {},
   "source": [
    "\"Error in randomForest(as.factor(nki.prognosis) ~ ., data = x): could not find function \"randomForest\"\n",
    "Traceback:\" wat.\n"
   ]
  },
  {
   "cell_type": "code",
   "execution_count": null,
   "metadata": {},
   "outputs": [],
   "source": []
  }
 ],
 "metadata": {
  "kernelspec": {
   "display_name": "R",
   "language": "R",
   "name": "ir"
  },
  "language_info": {
   "codemirror_mode": "r",
   "file_extension": ".r",
   "mimetype": "text/x-r-source",
   "name": "R",
   "pygments_lexer": "r",
   "version": "4.1.1"
  }
 },
 "nbformat": 4,
 "nbformat_minor": 4
}

{
 "cells": [
  {
   "cell_type": "markdown",
   "metadata": {},
   "source": [
    "# TCSS 478/588 In-class Exercise: Data distribution and correlation"
   ]
  },
  {
   "cell_type": "markdown",
   "metadata": {},
   "source": [
    "These exercises will be used to illustrate how to perform data analyses using R.\n",
    "Alternatively, you can use R or Rstudio. \n",
    "I assume you will learn basic R commands on your own.\n",
    "\n",
    "Credit: The data and ideas behind these exercises and homeworks are from the NIH LINCS DCIC Crowdsourcing Portal and Ma’ayan Lab @ Mt Sinai, New York.\n",
    "http://www.maayanlab.net/crowdsourcing/megatask1.php\n",
    "\n",
    "The overarching goal is to predict adverse drug reactions. But we will take this task step by step. You will learn more about the meanings of these data in future lectures. For illustrative purposes in today’s class, just treat these data as numbers in a matrix."
   ]
  },
  {
   "cell_type": "markdown",
   "metadata": {},
   "source": [
    "## 1. Download and read in data\n",
    "Download the data “gene_expression_n438x978.txt” from canvas to your computer.  I have removed the first character (#) and an ‘ from the input file to make R happy."
   ]
  },
  {
   "cell_type": "code",
   "execution_count": 2,
   "metadata": {
    "collapsed": false,
    "jupyter": {
     "outputs_hidden": false
    }
   },
   "outputs": [
    {
     "data": {
      "text/html": [
       "'/home/jovyan'"
      ],
      "text/latex": [
       "'/home/jovyan'"
      ],
      "text/markdown": [
       "'/home/jovyan'"
      ],
      "text/plain": [
       "[1] \"/home/jovyan\""
      ]
     },
     "metadata": {},
     "output_type": "display_data"
    }
   ],
   "source": [
    "getwd()"
   ]
  },
  {
   "cell_type": "code",
   "execution_count": 3,
   "metadata": {
    "tags": []
   },
   "outputs": [],
   "source": [
    "my.data <- read.table (\"gene_expression_n438x978.txt\", sep=\"\\t\", header=T)"
   ]
  },
  {
   "cell_type": "code",
   "execution_count": 4,
   "metadata": {
    "collapsed": false,
    "jupyter": {
     "outputs_hidden": false
    }
   },
   "outputs": [
    {
     "data": {
      "text/html": [
       "<style>\n",
       ".list-inline {list-style: none; margin:0; padding: 0}\n",
       ".list-inline>li {display: inline-block}\n",
       ".list-inline>li:not(:last-child)::after {content: \"\\00b7\"; padding: 0 .5ex}\n",
       "</style>\n",
       "<ol class=list-inline><li>438</li><li>979</li></ol>\n"
      ],
      "text/latex": [
       "\\begin{enumerate*}\n",
       "\\item 438\n",
       "\\item 979\n",
       "\\end{enumerate*}\n"
      ],
      "text/markdown": [
       "1. 438\n",
       "2. 979\n",
       "\n",
       "\n"
      ],
      "text/plain": [
       "[1] 438 979"
      ]
     },
     "metadata": {},
     "output_type": "display_data"
    }
   ],
   "source": [
    "# dim = dimention\n",
    "dim (my.data)"
   ]
  },
  {
   "cell_type": "code",
   "execution_count": 5,
   "metadata": {
    "collapsed": false,
    "jupyter": {
     "outputs_hidden": false
    }
   },
   "outputs": [
    {
     "data": {
      "text/html": [
       "<table class=\"dataframe\">\n",
       "<caption>A data.frame: 5 × 6</caption>\n",
       "<thead>\n",
       "\t<tr><th></th><th scope=col>X</th><th scope=col>PSME1</th><th scope=col>ATF1</th><th scope=col>RHEB</th><th scope=col>FOXO3</th><th scope=col>RHOA</th></tr>\n",
       "\t<tr><th></th><th scope=col>&lt;chr&gt;</th><th scope=col>&lt;dbl&gt;</th><th scope=col>&lt;dbl&gt;</th><th scope=col>&lt;dbl&gt;</th><th scope=col>&lt;dbl&gt;</th><th scope=col>&lt;dbl&gt;</th></tr>\n",
       "</thead>\n",
       "<tbody>\n",
       "\t<tr><th scope=row>1</th><td>ACETAZOLAMIDE      </td><td>-0.015159099</td><td>-0.031470528</td><td>-0.004733488</td><td> 0.02591061</td><td> 0.0056296773</td></tr>\n",
       "\t<tr><th scope=row>2</th><td>IRBESARTAN         </td><td>-0.026811981</td><td> 0.012151979</td><td>-0.025550148</td><td>-0.02401181</td><td>-0.0106717396</td></tr>\n",
       "\t<tr><th scope=row>3</th><td>IPRATROPIUM BROMIDE</td><td> 0.001017958</td><td>-0.008650622</td><td>-0.018128698</td><td>-0.02079971</td><td>-0.0002722781</td></tr>\n",
       "\t<tr><th scope=row>4</th><td>EFAVIRENZ          </td><td>-0.004398264</td><td> 0.055387992</td><td> 0.004658520</td><td> 0.01380732</td><td>-0.0340697348</td></tr>\n",
       "\t<tr><th scope=row>5</th><td>THIAMINE           </td><td> 0.001838965</td><td>-0.018079188</td><td>-0.011855532</td><td>-0.03705033</td><td>-0.0133954959</td></tr>\n",
       "</tbody>\n",
       "</table>\n"
      ],
      "text/latex": [
       "A data.frame: 5 × 6\n",
       "\\begin{tabular}{r|llllll}\n",
       "  & X & PSME1 & ATF1 & RHEB & FOXO3 & RHOA\\\\\n",
       "  & <chr> & <dbl> & <dbl> & <dbl> & <dbl> & <dbl>\\\\\n",
       "\\hline\n",
       "\t1 & ACETAZOLAMIDE       & -0.015159099 & -0.031470528 & -0.004733488 &  0.02591061 &  0.0056296773\\\\\n",
       "\t2 & IRBESARTAN          & -0.026811981 &  0.012151979 & -0.025550148 & -0.02401181 & -0.0106717396\\\\\n",
       "\t3 & IPRATROPIUM BROMIDE &  0.001017958 & -0.008650622 & -0.018128698 & -0.02079971 & -0.0002722781\\\\\n",
       "\t4 & EFAVIRENZ           & -0.004398264 &  0.055387992 &  0.004658520 &  0.01380732 & -0.0340697348\\\\\n",
       "\t5 & THIAMINE            &  0.001838965 & -0.018079188 & -0.011855532 & -0.03705033 & -0.0133954959\\\\\n",
       "\\end{tabular}\n"
      ],
      "text/markdown": [
       "\n",
       "A data.frame: 5 × 6\n",
       "\n",
       "| <!--/--> | X &lt;chr&gt; | PSME1 &lt;dbl&gt; | ATF1 &lt;dbl&gt; | RHEB &lt;dbl&gt; | FOXO3 &lt;dbl&gt; | RHOA &lt;dbl&gt; |\n",
       "|---|---|---|---|---|---|---|\n",
       "| 1 | ACETAZOLAMIDE       | -0.015159099 | -0.031470528 | -0.004733488 |  0.02591061 |  0.0056296773 |\n",
       "| 2 | IRBESARTAN          | -0.026811981 |  0.012151979 | -0.025550148 | -0.02401181 | -0.0106717396 |\n",
       "| 3 | IPRATROPIUM BROMIDE |  0.001017958 | -0.008650622 | -0.018128698 | -0.02079971 | -0.0002722781 |\n",
       "| 4 | EFAVIRENZ           | -0.004398264 |  0.055387992 |  0.004658520 |  0.01380732 | -0.0340697348 |\n",
       "| 5 | THIAMINE            |  0.001838965 | -0.018079188 | -0.011855532 | -0.03705033 | -0.0133954959 |\n",
       "\n"
      ],
      "text/plain": [
       "  X                   PSME1        ATF1         RHEB         FOXO3      \n",
       "1 ACETAZOLAMIDE       -0.015159099 -0.031470528 -0.004733488  0.02591061\n",
       "2 IRBESARTAN          -0.026811981  0.012151979 -0.025550148 -0.02401181\n",
       "3 IPRATROPIUM BROMIDE  0.001017958 -0.008650622 -0.018128698 -0.02079971\n",
       "4 EFAVIRENZ           -0.004398264  0.055387992  0.004658520  0.01380732\n",
       "5 THIAMINE             0.001838965 -0.018079188 -0.011855532 -0.03705033\n",
       "  RHOA         \n",
       "1  0.0056296773\n",
       "2 -0.0106717396\n",
       "3 -0.0002722781\n",
       "4 -0.0340697348\n",
       "5 -0.0133954959"
      ]
     },
     "metadata": {},
     "output_type": "display_data"
    }
   ],
   "source": [
    "my.data[1:5, 1:6]"
   ]
  },
  {
   "cell_type": "code",
   "execution_count": 6,
   "metadata": {
    "collapsed": false,
    "jupyter": {
     "outputs_hidden": false
    }
   },
   "outputs": [
    {
     "data": {
      "text/html": [
       "<table class=\"dataframe\">\n",
       "<caption>A data.frame: 5 × 6</caption>\n",
       "<thead>\n",
       "\t<tr><th></th><th scope=col>PSME1</th><th scope=col>ATF1</th><th scope=col>RHEB</th><th scope=col>FOXO3</th><th scope=col>RHOA</th><th scope=col>IL1B</th></tr>\n",
       "\t<tr><th></th><th scope=col>&lt;dbl&gt;</th><th scope=col>&lt;dbl&gt;</th><th scope=col>&lt;dbl&gt;</th><th scope=col>&lt;dbl&gt;</th><th scope=col>&lt;dbl&gt;</th><th scope=col>&lt;dbl&gt;</th></tr>\n",
       "</thead>\n",
       "<tbody>\n",
       "\t<tr><th scope=row>ACETAZOLAMIDE</th><td>-0.015159099</td><td>-0.031470528</td><td>-0.004733488</td><td> 0.02591061</td><td> 0.0056296773</td><td>-0.007325439</td></tr>\n",
       "\t<tr><th scope=row>IRBESARTAN</th><td>-0.026811981</td><td> 0.012151979</td><td>-0.025550148</td><td>-0.02401181</td><td>-0.0106717396</td><td> 0.070951154</td></tr>\n",
       "\t<tr><th scope=row>IPRATROPIUM BROMIDE</th><td> 0.001017958</td><td>-0.008650622</td><td>-0.018128698</td><td>-0.02079971</td><td>-0.0002722781</td><td> 0.025003360</td></tr>\n",
       "\t<tr><th scope=row>EFAVIRENZ</th><td>-0.004398264</td><td> 0.055387992</td><td> 0.004658520</td><td> 0.01380732</td><td>-0.0340697348</td><td> 0.024005885</td></tr>\n",
       "\t<tr><th scope=row>THIAMINE</th><td> 0.001838965</td><td>-0.018079188</td><td>-0.011855532</td><td>-0.03705033</td><td>-0.0133954959</td><td>-0.001752450</td></tr>\n",
       "</tbody>\n",
       "</table>\n"
      ],
      "text/latex": [
       "A data.frame: 5 × 6\n",
       "\\begin{tabular}{r|llllll}\n",
       "  & PSME1 & ATF1 & RHEB & FOXO3 & RHOA & IL1B\\\\\n",
       "  & <dbl> & <dbl> & <dbl> & <dbl> & <dbl> & <dbl>\\\\\n",
       "\\hline\n",
       "\tACETAZOLAMIDE & -0.015159099 & -0.031470528 & -0.004733488 &  0.02591061 &  0.0056296773 & -0.007325439\\\\\n",
       "\tIRBESARTAN & -0.026811981 &  0.012151979 & -0.025550148 & -0.02401181 & -0.0106717396 &  0.070951154\\\\\n",
       "\tIPRATROPIUM BROMIDE &  0.001017958 & -0.008650622 & -0.018128698 & -0.02079971 & -0.0002722781 &  0.025003360\\\\\n",
       "\tEFAVIRENZ & -0.004398264 &  0.055387992 &  0.004658520 &  0.01380732 & -0.0340697348 &  0.024005885\\\\\n",
       "\tTHIAMINE &  0.001838965 & -0.018079188 & -0.011855532 & -0.03705033 & -0.0133954959 & -0.001752450\\\\\n",
       "\\end{tabular}\n"
      ],
      "text/markdown": [
       "\n",
       "A data.frame: 5 × 6\n",
       "\n",
       "| <!--/--> | PSME1 &lt;dbl&gt; | ATF1 &lt;dbl&gt; | RHEB &lt;dbl&gt; | FOXO3 &lt;dbl&gt; | RHOA &lt;dbl&gt; | IL1B &lt;dbl&gt; |\n",
       "|---|---|---|---|---|---|---|\n",
       "| ACETAZOLAMIDE | -0.015159099 | -0.031470528 | -0.004733488 |  0.02591061 |  0.0056296773 | -0.007325439 |\n",
       "| IRBESARTAN | -0.026811981 |  0.012151979 | -0.025550148 | -0.02401181 | -0.0106717396 |  0.070951154 |\n",
       "| IPRATROPIUM BROMIDE |  0.001017958 | -0.008650622 | -0.018128698 | -0.02079971 | -0.0002722781 |  0.025003360 |\n",
       "| EFAVIRENZ | -0.004398264 |  0.055387992 |  0.004658520 |  0.01380732 | -0.0340697348 |  0.024005885 |\n",
       "| THIAMINE |  0.001838965 | -0.018079188 | -0.011855532 | -0.03705033 | -0.0133954959 | -0.001752450 |\n",
       "\n"
      ],
      "text/plain": [
       "                    PSME1        ATF1         RHEB         FOXO3      \n",
       "ACETAZOLAMIDE       -0.015159099 -0.031470528 -0.004733488  0.02591061\n",
       "IRBESARTAN          -0.026811981  0.012151979 -0.025550148 -0.02401181\n",
       "IPRATROPIUM BROMIDE  0.001017958 -0.008650622 -0.018128698 -0.02079971\n",
       "EFAVIRENZ           -0.004398264  0.055387992  0.004658520  0.01380732\n",
       "THIAMINE             0.001838965 -0.018079188 -0.011855532 -0.03705033\n",
       "                    RHOA          IL1B        \n",
       "ACETAZOLAMIDE        0.0056296773 -0.007325439\n",
       "IRBESARTAN          -0.0106717396  0.070951154\n",
       "IPRATROPIUM BROMIDE -0.0002722781  0.025003360\n",
       "EFAVIRENZ           -0.0340697348  0.024005885\n",
       "THIAMINE            -0.0133954959 -0.001752450"
      ]
     },
     "metadata": {},
     "output_type": "display_data"
    }
   ],
   "source": [
    "# assign the first column of my.data to become rownames\n",
    "dimnames(my.data)[[1]] <- my.data[,1]\n",
    "#get rid of column 1 in my.data\n",
    "my.data <- my.data[, -1]\n",
    "my.data[1:5, 1:6]"
   ]
  },
  {
   "cell_type": "code",
   "execution_count": 33,
   "metadata": {
    "collapsed": false,
    "jupyter": {
     "outputs_hidden": false
    }
   },
   "outputs": [
    {
     "data": {
      "text/html": [
       "<style>\n",
       ".list-inline {list-style: none; margin:0; padding: 0}\n",
       ".list-inline>li {display: inline-block}\n",
       ".list-inline>li:not(:last-child)::after {content: \"\\00b7\"; padding: 0 .5ex}\n",
       "</style>\n",
       "<ol class=list-inline><li>438</li><li>978</li></ol>\n"
      ],
      "text/latex": [
       "\\begin{enumerate*}\n",
       "\\item 438\n",
       "\\item 978\n",
       "\\end{enumerate*}\n"
      ],
      "text/markdown": [
       "1. 438\n",
       "2. 978\n",
       "\n",
       "\n"
      ],
      "text/plain": [
       "[1] 438 978"
      ]
     },
     "metadata": {},
     "output_type": "display_data"
    }
   ],
   "source": [
    "dim (my.data)"
   ]
  },
  {
   "cell_type": "code",
   "execution_count": null,
   "metadata": {},
   "outputs": [],
   "source": []
  },
  {
   "cell_type": "code",
   "execution_count": null,
   "metadata": {},
   "outputs": [],
   "source": []
  },
  {
   "cell_type": "code",
   "execution_count": null,
   "metadata": {},
   "outputs": [],
   "source": []
  },
  {
   "cell_type": "markdown",
   "metadata": {},
   "source": [
    "## 2. Plot a histogram "
   ]
  },
  {
   "cell_type": "code",
   "execution_count": null,
   "metadata": {},
   "outputs": [],
   "source": [
    "hist(my.data) #hist(my.data) doesnt work because the x must be a vector of values, but the my.data is a matrix."
   ]
  },
  {
   "cell_type": "code",
   "execution_count": 19,
   "metadata": {},
   "outputs": [],
   "source": [
    "temp <- as.vector (unlist(my.data), mode=\"numeric\")"
   ]
  },
  {
   "cell_type": "code",
   "execution_count": 20,
   "metadata": {},
   "outputs": [
    {
     "data": {
      "image/png": "[encoded data removed]",
      "text/plain": [
       "Plot with title “Histogram of temp”"
      ]
     },
     "metadata": {
      "image/png": {
       "height": 420,
       "width": 420
      }
     },
     "output_type": "display_data"
    }
   ],
   "source": [
    "hist(temp, nclass=100)"
   ]
  },
  {
   "cell_type": "markdown",
   "metadata": {},
   "source": [
    "## Your task 1: Plot a histogram of gene ATF1.  After you are done, check with your neighbors. "
   ]
  },
  {
   "cell_type": "code",
   "execution_count": 22,
   "metadata": {},
   "outputs": [
    {
     "data": {
      "text/html": [
       "<strong>png:</strong> 2"
      ],
      "text/latex": [
       "\\textbf{png:} 2"
      ],
      "text/markdown": [
       "**png:** 2"
      ],
      "text/plain": [
       "png \n",
       "  2 "
      ]
     },
     "metadata": {},
     "output_type": "display_data"
    }
   ],
   "source": [
    "# want to save the histogram as a png file\n",
    "png(\"hist1.png\")\n",
    "hist(temp, nclass=100)\n",
    "dev.off()"
   ]
  },
  {
   "cell_type": "code",
   "execution_count": 42,
   "metadata": {},
   "outputs": [
    {
     "data": {
      "image/png": "[encoded data removed]",
      "text/plain": [
       "Plot with title “Histogram of my.data[, \"ATF1\"]”"
      ]
     },
     "metadata": {
      "image/png": {
       "height": 420,
       "width": 420
      }
     },
     "output_type": "display_data"
    }
   ],
   "source": [
    "#temp2 <- as.vector (unlist(my.data[,2]), mode=\"numeric\")\n",
    "#hist(temp2, nclass=100)\n",
    "#hist (my.data[,2])\n",
    "hist (my.data[,\"ATF1\"])"
   ]
  },
  {
   "cell_type": "code",
   "execution_count": null,
   "metadata": {},
   "outputs": [],
   "source": []
  },
  {
   "cell_type": "markdown",
   "metadata": {},
   "source": [
    "## 3. Check the range of the data."
   ]
  },
  {
   "cell_type": "code",
   "execution_count": 36,
   "metadata": {},
   "outputs": [
    {
     "data": {
      "text/html": [
       "0.444958750204"
      ],
      "text/latex": [
       "0.444958750204"
      ],
      "text/markdown": [
       "0.444958750204"
      ],
      "text/plain": [
       "[1] 0.4449588"
      ]
     },
     "metadata": {},
     "output_type": "display_data"
    }
   ],
   "source": [
    "max(my.data)"
   ]
  },
  {
   "cell_type": "code",
   "execution_count": 37,
   "metadata": {},
   "outputs": [
    {
     "data": {
      "text/html": [
       "-0.445891840096"
      ],
      "text/latex": [
       "-0.445891840096"
      ],
      "text/markdown": [
       "-0.445891840096"
      ],
      "text/plain": [
       "[1] -0.4458918"
      ]
     },
     "metadata": {},
     "output_type": "display_data"
    }
   ],
   "source": [
    "min(my.data)"
   ]
  },
  {
   "cell_type": "code",
   "execution_count": 39,
   "metadata": {},
   "outputs": [
    {
     "name": "stderr",
     "output_type": "stream",
     "text": [
      "Warning message in mean.default(my.data):\n",
      "“argument is not numeric or logical: returning NA”\n"
     ]
    },
    {
     "data": {
      "text/html": [
       "&lt;NA&gt;"
      ],
      "text/latex": [
       "<NA>"
      ],
      "text/markdown": [
       "&lt;NA&gt;"
      ],
      "text/plain": [
       "[1] NA"
      ]
     },
     "metadata": {},
     "output_type": "display_data"
    }
   ],
   "source": [
    "mean(my.data)"
   ]
  },
  {
   "cell_type": "code",
   "execution_count": 38,
   "metadata": {},
   "outputs": [
    {
     "data": {
      "text/html": [
       "1.09154068343743e-17"
      ],
      "text/latex": [
       "1.09154068343743e-17"
      ],
      "text/markdown": [
       "1.09154068343743e-17"
      ],
      "text/plain": [
       "[1] 1.091541e-17"
      ]
     },
     "metadata": {},
     "output_type": "display_data"
    }
   ],
   "source": [
    "mean(temp)"
   ]
  },
  {
   "cell_type": "markdown",
   "metadata": {},
   "source": [
    "## 4. Boxplot"
   ]
  },
  {
   "cell_type": "code",
   "execution_count": 8,
   "metadata": {
    "collapsed": false,
    "jupyter": {
     "outputs_hidden": false
    }
   },
   "outputs": [
    {
     "data": {
      "image/png": "[encoded data removed]",
      "text/plain": [
       "plot without title"
      ]
     },
     "metadata": {
      "image/png": {
       "height": 420,
       "width": 420
      }
     },
     "output_type": "display_data"
    }
   ],
   "source": [
    "boxplot (my.data[, 1:3])"
   ]
  },
  {
   "cell_type": "code",
   "execution_count": 43,
   "metadata": {
    "tags": []
   },
   "outputs": [
    {
     "data": {
      "text/html": [
       "1"
      ],
      "text/latex": [
       "1"
      ],
      "text/markdown": [
       "1"
      ],
      "text/plain": [
       "[1] 1"
      ]
     },
     "metadata": {},
     "output_type": "display_data"
    }
   ],
   "source": [
    "X <- c(1, 0, -1, 0) #c stands for concatenate\n",
    "W <- c(2, 0, -2, 0)\n",
    "cor (X, W)"
   ]
  },
  {
   "cell_type": "code",
   "execution_count": 44,
   "metadata": {},
   "outputs": [
    {
     "data": {
      "text/html": [
       "<table class=\"dataframe\">\n",
       "<caption>A data.frame: 2 × 6</caption>\n",
       "<thead>\n",
       "\t<tr><th></th><th scope=col>PSME1</th><th scope=col>ATF1</th><th scope=col>RHEB</th><th scope=col>FOXO3</th><th scope=col>RHOA</th><th scope=col>IL1B</th></tr>\n",
       "\t<tr><th></th><th scope=col>&lt;dbl&gt;</th><th scope=col>&lt;dbl&gt;</th><th scope=col>&lt;dbl&gt;</th><th scope=col>&lt;dbl&gt;</th><th scope=col>&lt;dbl&gt;</th><th scope=col>&lt;dbl&gt;</th></tr>\n",
       "</thead>\n",
       "<tbody>\n",
       "\t<tr><th scope=row>ACETAZOLAMIDE</th><td>-0.01515910</td><td>-0.03147053</td><td>-0.004733488</td><td> 0.02591061</td><td> 0.005629677</td><td>-0.007325439</td></tr>\n",
       "\t<tr><th scope=row>IRBESARTAN</th><td>-0.02681198</td><td> 0.01215198</td><td>-0.025550148</td><td>-0.02401181</td><td>-0.010671740</td><td> 0.070951154</td></tr>\n",
       "</tbody>\n",
       "</table>\n"
      ],
      "text/latex": [
       "A data.frame: 2 × 6\n",
       "\\begin{tabular}{r|llllll}\n",
       "  & PSME1 & ATF1 & RHEB & FOXO3 & RHOA & IL1B\\\\\n",
       "  & <dbl> & <dbl> & <dbl> & <dbl> & <dbl> & <dbl>\\\\\n",
       "\\hline\n",
       "\tACETAZOLAMIDE & -0.01515910 & -0.03147053 & -0.004733488 &  0.02591061 &  0.005629677 & -0.007325439\\\\\n",
       "\tIRBESARTAN & -0.02681198 &  0.01215198 & -0.025550148 & -0.02401181 & -0.010671740 &  0.070951154\\\\\n",
       "\\end{tabular}\n"
      ],
      "text/markdown": [
       "\n",
       "A data.frame: 2 × 6\n",
       "\n",
       "| <!--/--> | PSME1 &lt;dbl&gt; | ATF1 &lt;dbl&gt; | RHEB &lt;dbl&gt; | FOXO3 &lt;dbl&gt; | RHOA &lt;dbl&gt; | IL1B &lt;dbl&gt; |\n",
       "|---|---|---|---|---|---|---|\n",
       "| ACETAZOLAMIDE | -0.01515910 | -0.03147053 | -0.004733488 |  0.02591061 |  0.005629677 | -0.007325439 |\n",
       "| IRBESARTAN | -0.02681198 |  0.01215198 | -0.025550148 | -0.02401181 | -0.010671740 |  0.070951154 |\n",
       "\n"
      ],
      "text/plain": [
       "              PSME1       ATF1        RHEB         FOXO3       RHOA        \n",
       "ACETAZOLAMIDE -0.01515910 -0.03147053 -0.004733488  0.02591061  0.005629677\n",
       "IRBESARTAN    -0.02681198  0.01215198 -0.025550148 -0.02401181 -0.010671740\n",
       "              IL1B        \n",
       "ACETAZOLAMIDE -0.007325439\n",
       "IRBESARTAN     0.070951154"
      ]
     },
     "metadata": {},
     "output_type": "display_data"
    }
   ],
   "source": [
    "my.data[1:2, 1:6]"
   ]
  },
  {
   "cell_type": "code",
   "execution_count": 45,
   "metadata": {},
   "outputs": [
    {
     "data": {
      "text/html": [
       "0.0266996630323925"
      ],
      "text/latex": [
       "0.0266996630323925"
      ],
      "text/markdown": [
       "0.0266996630323925"
      ],
      "text/plain": [
       "[1] 0.02669966"
      ]
     },
     "metadata": {},
     "output_type": "display_data"
    }
   ],
   "source": [
    "cor(my.data[, 1], my.data[,2])"
   ]
  },
  {
   "cell_type": "code",
   "execution_count": 46,
   "metadata": {},
   "outputs": [
    {
     "data": {
      "text/html": [
       "0.0266996630323925"
      ],
      "text/latex": [
       "0.0266996630323925"
      ],
      "text/markdown": [
       "0.0266996630323925"
      ],
      "text/plain": [
       "[1] 0.02669966"
      ]
     },
     "metadata": {},
     "output_type": "display_data"
    }
   ],
   "source": [
    "# compute the correlation between PSME1 and ATF1\n",
    "cor(my.data[, \"PSME1\"], my.data[,\"ATF1\"])"
   ]
  },
  {
   "cell_type": "markdown",
   "metadata": {},
   "source": [
    "## Task 2: What is the correlation coefficient among all possible pairs of genes? How about the minimum correlation? Can you do this without a double nested loop?"
   ]
  },
  {
   "cell_type": "code",
   "execution_count": 47,
   "metadata": {},
   "outputs": [],
   "source": [
    "correlation <- cor(my.data)"
   ]
  },
  {
   "cell_type": "code",
   "execution_count": 48,
   "metadata": {},
   "outputs": [
    {
     "data": {
      "text/html": [
       "<table class=\"dataframe\">\n",
       "<caption>A matrix: 978 × 978 of type dbl</caption>\n",
       "<thead>\n",
       "\t<tr><th></th><th scope=col>PSME1</th><th scope=col>ATF1</th><th scope=col>RHEB</th><th scope=col>FOXO3</th><th scope=col>RHOA</th><th scope=col>IL1B</th><th scope=col>ASAH1</th><th scope=col>RALA</th><th scope=col>ARHGEF12</th><th scope=col>SOX2</th><th scope=col>⋯</th><th scope=col>CCP110</th><th scope=col>STK10</th><th scope=col>UGDH</th><th scope=col>SQRDL</th><th scope=col>HEBP1</th><th scope=col>ATP11B</th><th scope=col>CD320</th><th scope=col>MLLT11</th><th scope=col>CEBPZ</th><th scope=col>CBR3</th></tr>\n",
       "</thead>\n",
       "<tbody>\n",
       "\t<tr><th scope=row>PSME1</th><td> 1.000000000</td><td> 0.026699663</td><td> 0.033151809</td><td>-0.0126188574</td><td> 0.001813023</td><td>-0.009108597</td><td>-0.096497245</td><td>-0.0124094731</td><td>-0.070925659</td><td>-0.084706615</td><td>⋯</td><td> 0.042738018</td><td> 0.012158864</td><td>-0.057234496</td><td> 0.0834504033</td><td> 0.0911128163</td><td>-0.089824204</td><td> 0.0988864406</td><td>-0.0070067323</td><td> 0.122991723</td><td> 0.031592811</td></tr>\n",
       "\t<tr><th scope=row>ATF1</th><td> 0.026699663</td><td> 1.000000000</td><td> 0.127226603</td><td>-0.1147250388</td><td> 0.015006002</td><td>-0.048410774</td><td> 0.199088611</td><td> 0.1398941247</td><td>-0.064300902</td><td>-0.103227257</td><td>⋯</td><td> 0.046980102</td><td> 0.008251743</td><td>-0.056920101</td><td>-0.0380388622</td><td> 0.0822461928</td><td>-0.106877537</td><td>-0.0507805586</td><td>-0.0216718324</td><td>-0.038651009</td><td>-0.052192689</td></tr>\n",
       "\t<tr><th scope=row>RHEB</th><td> 0.033151809</td><td> 0.127226603</td><td> 1.000000000</td><td>-0.0486450461</td><td> 0.119331159</td><td>-0.179658776</td><td> 0.112075730</td><td>-0.1013062598</td><td> 0.029579953</td><td>-0.063637341</td><td>⋯</td><td>-0.058862480</td><td>-0.083351286</td><td>-0.098929430</td><td> 0.0681689931</td><td>-0.0125830126</td><td> 0.007603139</td><td> 0.1921010203</td><td> 0.0340342318</td><td> 0.016455065</td><td> 0.046751823</td></tr>\n",
       "\t<tr><th scope=row>FOXO3</th><td>-0.012618857</td><td>-0.114725039</td><td>-0.048645046</td><td> 1.0000000000</td><td> 0.088304142</td><td>-0.076713613</td><td> 0.003838180</td><td>-0.1035809440</td><td>-0.086347594</td><td>-0.055620098</td><td>⋯</td><td>-0.065246913</td><td>-0.113148420</td><td> 0.028609748</td><td> 0.0508215002</td><td>-0.0273243604</td><td>-0.099437697</td><td> 0.0666928696</td><td>-0.0347831063</td><td> 0.013061700</td><td>-0.032662765</td></tr>\n",
       "\t<tr><th scope=row>RHOA</th><td> 0.001813023</td><td> 0.015006002</td><td> 0.119331159</td><td> 0.0883041419</td><td> 1.000000000</td><td>-0.061326215</td><td> 0.012853942</td><td>-0.1147142613</td><td> 0.151936855</td><td> 0.034189136</td><td>⋯</td><td>-0.097409682</td><td>-0.073421955</td><td>-0.074858390</td><td>-0.0356639356</td><td>-0.0698902063</td><td>-0.012397679</td><td> 0.0555489723</td><td> 0.0788979597</td><td>-0.014487375</td><td>-0.021919466</td></tr>\n",
       "\t<tr><th scope=row>IL1B</th><td>-0.009108597</td><td>-0.048410774</td><td>-0.179658776</td><td>-0.0767136128</td><td>-0.061326215</td><td> 1.000000000</td><td>-0.032400635</td><td> 0.1861702712</td><td> 0.130771768</td><td> 0.060919093</td><td>⋯</td><td> 0.041705687</td><td> 0.136906695</td><td> 0.028085435</td><td> 0.0001252603</td><td>-0.0080207924</td><td> 0.012838278</td><td>-0.1020530993</td><td> 0.0008126548</td><td>-0.093737307</td><td> 0.060929604</td></tr>\n",
       "\t<tr><th scope=row>ASAH1</th><td>-0.096497245</td><td> 0.199088611</td><td> 0.112075730</td><td> 0.0038381796</td><td> 0.012853942</td><td>-0.032400635</td><td> 1.000000000</td><td> 0.0313473397</td><td>-0.024305277</td><td>-0.050899126</td><td>⋯</td><td> 0.028769321</td><td>-0.036443473</td><td>-0.042174030</td><td>-0.0445758464</td><td> 0.0546031456</td><td> 0.032890532</td><td>-0.0102470965</td><td>-0.0213449653</td><td>-0.097685834</td><td> 0.001502064</td></tr>\n",
       "\t<tr><th scope=row>RALA</th><td>-0.012409473</td><td> 0.139894125</td><td>-0.101306260</td><td>-0.1035809440</td><td>-0.114714261</td><td> 0.186170271</td><td> 0.031347340</td><td> 1.0000000000</td><td> 0.098216372</td><td>-0.028158856</td><td>⋯</td><td> 0.048815669</td><td> 0.132883922</td><td> 0.035655743</td><td>-0.0468366202</td><td> 0.0081508850</td><td> 0.003997155</td><td>-0.0992862186</td><td> 0.0430569283</td><td>-0.074800562</td><td>-0.064888023</td></tr>\n",
       "\t<tr><th scope=row>ARHGEF12</th><td>-0.070925659</td><td>-0.064300902</td><td> 0.029579953</td><td>-0.0863475938</td><td> 0.151936855</td><td> 0.130771768</td><td>-0.024305277</td><td> 0.0982163720</td><td> 1.000000000</td><td> 0.094736250</td><td>⋯</td><td> 0.018371281</td><td> 0.080467813</td><td>-0.005804338</td><td>-0.0061944314</td><td>-0.0546184649</td><td> 0.009761368</td><td> 0.0135681336</td><td> 0.0974630071</td><td>-0.138608394</td><td>-0.058862510</td></tr>\n",
       "\t<tr><th scope=row>SOX2</th><td>-0.084706615</td><td>-0.103227257</td><td>-0.063637341</td><td>-0.0556200975</td><td> 0.034189136</td><td> 0.060919093</td><td>-0.050899126</td><td>-0.0281588559</td><td> 0.094736250</td><td> 1.000000000</td><td>⋯</td><td> 0.007617399</td><td> 0.018755871</td><td>-0.017344488</td><td>-0.0503841331</td><td>-0.0951958648</td><td>-0.020100638</td><td>-0.0808933613</td><td> 0.0237314981</td><td>-0.001808223</td><td> 0.028759423</td></tr>\n",
       "\t<tr><th scope=row>SERPINE1</th><td>-0.046855628</td><td> 0.001324413</td><td> 0.038816161</td><td> 0.0517187324</td><td>-0.025756263</td><td> 0.025919932</td><td> 0.027074632</td><td>-0.0209574007</td><td> 0.074263645</td><td> 0.044007368</td><td>⋯</td><td>-0.088034807</td><td>-0.055305273</td><td>-0.087209068</td><td> 0.0771029983</td><td>-0.0286948686</td><td> 0.050358883</td><td> 0.0204152616</td><td>-0.0606152377</td><td>-0.085318241</td><td>-0.088305683</td></tr>\n",
       "\t<tr><th scope=row>HLA.DMA</th><td>-0.120916400</td><td>-0.096855685</td><td> 0.049948620</td><td> 0.0879424137</td><td> 0.106252755</td><td>-0.057545791</td><td>-0.017277187</td><td>-0.1202375629</td><td> 0.040260227</td><td> 0.108017453</td><td>⋯</td><td>-0.106699799</td><td>-0.049158002</td><td>-0.009562406</td><td>-0.0851998725</td><td>-0.0587181290</td><td>-0.003926070</td><td> 0.0334636354</td><td> 0.1065219875</td><td>-0.057458463</td><td>-0.105975337</td></tr>\n",
       "\t<tr><th scope=row>EGF</th><td>-0.012225738</td><td>-0.056897660</td><td> 0.010903129</td><td>-0.0344866120</td><td>-0.066517819</td><td>-0.028055294</td><td> 0.035036518</td><td>-0.0387879698</td><td> 0.097860634</td><td> 0.088733356</td><td>⋯</td><td> 0.048687078</td><td> 0.037841035</td><td>-0.029984617</td><td> 0.0706398530</td><td>-0.0569939628</td><td>-0.035768743</td><td> 0.0002836256</td><td>-0.0658502143</td><td>-0.023315576</td><td> 0.003521268</td></tr>\n",
       "\t<tr><th scope=row>APP</th><td>-0.004136425</td><td> 0.072823848</td><td> 0.066806653</td><td> 0.0406934668</td><td>-0.075371604</td><td>-0.004854556</td><td> 0.121237408</td><td>-0.0252648933</td><td> 0.058594816</td><td>-0.084231645</td><td>⋯</td><td> 0.055800146</td><td> 0.029608717</td><td>-0.014724476</td><td> 0.0328791661</td><td>-0.0134035093</td><td> 0.048591427</td><td> 0.0506293222</td><td>-0.0024782382</td><td> 0.002413651</td><td>-0.134808144</td></tr>\n",
       "\t<tr><th scope=row>NOS3</th><td>-0.097641269</td><td>-0.100700796</td><td>-0.005113953</td><td>-0.0016491297</td><td>-0.016161121</td><td> 0.081814250</td><td> 0.006365814</td><td> 0.0299417123</td><td> 0.063451202</td><td>-0.002215155</td><td>⋯</td><td>-0.004056811</td><td> 0.019943589</td><td>-0.027417107</td><td> 0.0511394804</td><td>-0.0115315696</td><td> 0.080415001</td><td>-0.0443222897</td><td> 0.0259621275</td><td>-0.036918552</td><td> 0.010069324</td></tr>\n",
       "\t<tr><th scope=row>CSNK1A1</th><td>-0.015157547</td><td> 0.046306417</td><td> 0.112585292</td><td> 0.1729851255</td><td> 0.120722942</td><td> 0.108072425</td><td> 0.081392259</td><td> 0.0939447788</td><td>-0.002166658</td><td> 0.001756689</td><td>⋯</td><td>-0.108169370</td><td>-0.063420040</td><td>-0.001481881</td><td> 0.0441338011</td><td> 0.0223333802</td><td> 0.039643122</td><td> 0.0588569703</td><td>-0.0160983842</td><td>-0.077973622</td><td> 0.035046231</td></tr>\n",
       "\t<tr><th scope=row>NFATC4</th><td>-0.188677073</td><td>-0.145530409</td><td>-0.216865677</td><td>-0.0497404195</td><td>-0.104424219</td><td> 0.219522503</td><td> 0.023961256</td><td> 0.0165558968</td><td> 0.208993143</td><td> 0.210974724</td><td>⋯</td><td> 0.027451063</td><td> 0.080946040</td><td> 0.025410724</td><td>-0.0209438527</td><td>-0.0980481716</td><td> 0.052635465</td><td>-0.1340446929</td><td>-0.0448160198</td><td>-0.068337250</td><td> 0.055139210</td></tr>\n",
       "\t<tr><th scope=row>TBP</th><td> 0.144313538</td><td> 0.086453907</td><td> 0.180716021</td><td>-0.0394624985</td><td> 0.230474073</td><td>-0.075011229</td><td> 0.037785790</td><td>-0.0054165484</td><td>-0.034180758</td><td>-0.040759507</td><td>⋯</td><td> 0.094880969</td><td>-0.045750641</td><td>-0.071122530</td><td> 0.0466982635</td><td>-0.0727619379</td><td>-0.065492941</td><td> 0.0155141219</td><td>-0.0083139855</td><td> 0.078768961</td><td> 0.085428149</td></tr>\n",
       "\t<tr><th scope=row>BRCA1</th><td>-0.004109635</td><td> 0.128306217</td><td>-0.031451259</td><td>-0.1057762201</td><td>-0.139581116</td><td>-0.039277416</td><td>-0.077243967</td><td>-0.0003010217</td><td> 0.040845255</td><td> 0.074799704</td><td>⋯</td><td> 0.130975419</td><td>-0.025097557</td><td>-0.005377954</td><td> 0.0130383670</td><td> 0.0094329996</td><td>-0.160004780</td><td>-0.0261420259</td><td> 0.0731529273</td><td> 0.035059294</td><td> 0.042953872</td></tr>\n",
       "\t<tr><th scope=row>PSMD4</th><td>-0.052660763</td><td>-0.071321285</td><td> 0.068972920</td><td> 0.0919611863</td><td> 0.063728851</td><td> 0.055562310</td><td> 0.109808830</td><td>-0.0260605773</td><td> 0.071682860</td><td> 0.026221101</td><td>⋯</td><td>-0.001647434</td><td> 0.024219532</td><td>-0.029630690</td><td> 0.0807277924</td><td>-0.1294936655</td><td> 0.039565533</td><td> 0.0948134548</td><td>-0.0253919810</td><td>-0.023423100</td><td> 0.077098652</td></tr>\n",
       "\t<tr><th scope=row>ETV1</th><td>-0.047409449</td><td> 0.019648970</td><td>-0.061367185</td><td> 0.0076237158</td><td> 0.029535180</td><td> 0.054684426</td><td>-0.036720136</td><td> 0.0378191029</td><td> 0.089677224</td><td> 0.184622216</td><td>⋯</td><td> 0.003025370</td><td> 0.090472397</td><td> 0.019783231</td><td>-0.0307724131</td><td>-0.0815578956</td><td> 0.056172658</td><td>-0.0251018029</td><td> 0.0604260982</td><td>-0.039245070</td><td>-0.054455966</td></tr>\n",
       "\t<tr><th scope=row>TERT</th><td>-0.115113973</td><td>-0.176913212</td><td>-0.059650869</td><td> 0.0244466575</td><td>-0.012067568</td><td> 0.032440893</td><td> 0.012122247</td><td>-0.0649882566</td><td> 0.017201893</td><td> 0.145867212</td><td>⋯</td><td> 0.012404285</td><td>-0.037485452</td><td> 0.038319873</td><td> 0.0565442751</td><td>-0.1663140576</td><td> 0.015503632</td><td>-0.0852510474</td><td>-0.0143773656</td><td>-0.017771432</td><td>-0.049675827</td></tr>\n",
       "\t<tr><th scope=row>EED</th><td> 0.021870570</td><td> 0.222615622</td><td>-0.060221584</td><td>-0.1512907638</td><td>-0.065748553</td><td> 0.046627300</td><td>-0.027931321</td><td> 0.1613174880</td><td>-0.021162766</td><td>-0.014882171</td><td>⋯</td><td> 0.127033631</td><td> 0.046531053</td><td> 0.066354720</td><td>-0.1065299265</td><td> 0.0461107461</td><td>-0.116140022</td><td>-0.0373462230</td><td> 0.0780338480</td><td>-0.011932781</td><td>-0.074883523</td></tr>\n",
       "\t<tr><th scope=row>PTK2B</th><td>-0.154568091</td><td>-0.103779364</td><td>-0.094596202</td><td>-0.0392968712</td><td>-0.009973579</td><td> 0.215512188</td><td> 0.076280642</td><td> 0.0557380498</td><td> 0.207324461</td><td> 0.142335300</td><td>⋯</td><td> 0.004923694</td><td> 0.092281261</td><td>-0.009576292</td><td>-0.0277625036</td><td>-0.1196540515</td><td> 0.120599138</td><td>-0.0885693030</td><td>-0.0218041302</td><td>-0.044556334</td><td>-0.145272846</td></tr>\n",
       "\t<tr><th scope=row>HSPB1</th><td>-0.042768695</td><td>-0.111000682</td><td> 0.006417008</td><td> 0.1653509780</td><td> 0.012047157</td><td>-0.010302435</td><td>-0.049704487</td><td>-0.0831548032</td><td>-0.094716844</td><td>-0.065712179</td><td>⋯</td><td>-0.126336224</td><td>-0.057919678</td><td>-0.031190532</td><td>-0.0159387943</td><td>-0.0340118272</td><td>-0.054028897</td><td>-0.0242147882</td><td>-0.0758962634</td><td>-0.008515247</td><td>-0.020681195</td></tr>\n",
       "\t<tr><th scope=row>PIK3C3</th><td>-0.005880439</td><td> 0.061510733</td><td>-0.055269288</td><td> 0.0148787057</td><td>-0.125286811</td><td> 0.095131846</td><td> 0.068020648</td><td> 0.1159490818</td><td>-0.015604166</td><td> 0.121792314</td><td>⋯</td><td>-0.039660633</td><td>-0.024766395</td><td> 0.037282917</td><td> 0.0697439786</td><td> 0.0005761354</td><td> 0.059820428</td><td>-0.1106737896</td><td>-0.0083038759</td><td>-0.035207729</td><td> 0.071199871</td></tr>\n",
       "\t<tr><th scope=row>CBLB</th><td>-0.110123623</td><td>-0.009481546</td><td>-0.030009866</td><td> 0.0173645378</td><td> 0.081425367</td><td> 0.161618342</td><td>-0.002641835</td><td> 0.1319846788</td><td> 0.138264699</td><td> 0.006360179</td><td>⋯</td><td>-0.008635339</td><td> 0.005195762</td><td> 0.064921998</td><td> 0.0483660243</td><td>-0.0331859284</td><td> 0.072051561</td><td>-0.0812557589</td><td>-0.0028524107</td><td>-0.049317067</td><td>-0.055583480</td></tr>\n",
       "\t<tr><th scope=row>DFFB</th><td>-0.005251343</td><td> 0.023098458</td><td>-0.007162509</td><td>-0.0009275593</td><td> 0.014144204</td><td>-0.059539331</td><td> 0.028461846</td><td> 0.0410760868</td><td> 0.026135464</td><td>-0.013952171</td><td>⋯</td><td>-0.029625604</td><td>-0.045968370</td><td> 0.020121652</td><td>-0.0168035263</td><td>-0.0270014775</td><td> 0.030455699</td><td> 0.0029721422</td><td>-0.0730058832</td><td>-0.004904219</td><td>-0.047733574</td></tr>\n",
       "\t<tr><th scope=row>TGFB3</th><td>-0.149988181</td><td>-0.135667972</td><td>-0.093704037</td><td>-0.0719410459</td><td> 0.015826163</td><td> 0.356456364</td><td> 0.031510632</td><td> 0.1049341288</td><td> 0.325754108</td><td> 0.190255303</td><td>⋯</td><td>-0.018741642</td><td> 0.163028631</td><td>-0.031726059</td><td>-0.0147075701</td><td>-0.0131464675</td><td> 0.068125240</td><td>-0.0005366414</td><td> 0.0056995914</td><td>-0.119260687</td><td> 0.090724716</td></tr>\n",
       "\t<tr><th scope=row>PRKX</th><td>-0.067830410</td><td>-0.050654917</td><td>-0.139737539</td><td> 0.0074975511</td><td>-0.044065324</td><td> 0.076644019</td><td> 0.002618275</td><td>-0.0141406031</td><td> 0.112133450</td><td> 0.081864342</td><td>⋯</td><td> 0.105018396</td><td> 0.017539236</td><td>-0.019247011</td><td>-0.0058783243</td><td>-0.0600411736</td><td>-0.015932690</td><td>-0.0633655878</td><td>-0.0536765880</td><td> 0.022812862</td><td>-0.039707120</td></tr>\n",
       "\t<tr><th scope=row>⋮</th><td>⋮</td><td>⋮</td><td>⋮</td><td>⋮</td><td>⋮</td><td>⋮</td><td>⋮</td><td>⋮</td><td>⋮</td><td>⋮</td><td>⋱</td><td>⋮</td><td>⋮</td><td>⋮</td><td>⋮</td><td>⋮</td><td>⋮</td><td>⋮</td><td>⋮</td><td>⋮</td><td>⋮</td></tr>\n",
       "\t<tr><th scope=row>KLHL9</th><td>-0.0654497296</td><td> 0.018953831</td><td> 0.1516068027</td><td>-0.035327306</td><td> 0.090859524</td><td> 0.0118109435</td><td> 0.032910420</td><td>-0.056568151</td><td>-0.046977513</td><td>-0.094821558</td><td>⋯</td><td>-0.0404139068</td><td>-0.0419298863</td><td>-0.0330354915</td><td> 0.058091691</td><td>-0.0442777225</td><td>-0.051115934</td><td> 0.0496926085</td><td> 0.069605509</td><td>-0.0217861844</td><td> 0.0004046269</td></tr>\n",
       "\t<tr><th scope=row>UBE2J1</th><td>-0.0855841503</td><td>-0.156537777</td><td>-0.0598789027</td><td> 0.032298059</td><td>-0.036976631</td><td>-0.0177636030</td><td>-0.006205697</td><td> 0.020563392</td><td> 0.111824065</td><td>-0.066569747</td><td>⋯</td><td>-0.0510850881</td><td>-0.0462665913</td><td>-0.0387895492</td><td>-0.004317357</td><td>-0.0350770220</td><td> 0.078425698</td><td> 0.0706449725</td><td> 0.036098400</td><td>-0.0754120949</td><td> 0.0507346338</td></tr>\n",
       "\t<tr><th scope=row>SLC37A4</th><td> 0.1227208319</td><td>-0.022025682</td><td>-0.0003446413</td><td>-0.009959304</td><td> 0.006270311</td><td>-0.0442066283</td><td>-0.022145261</td><td>-0.100808804</td><td>-0.007109636</td><td>-0.054386794</td><td>⋯</td><td> 0.1299473519</td><td>-0.0076735807</td><td>-0.0635464751</td><td> 0.067175665</td><td> 0.0417579898</td><td>-0.014212259</td><td> 0.0042701579</td><td> 0.101705477</td><td> 0.1636754368</td><td> 0.0514269283</td></tr>\n",
       "\t<tr><th scope=row>NPRL2</th><td> 0.0116398271</td><td>-0.083323493</td><td>-0.0465747073</td><td>-0.019312562</td><td> 0.024263478</td><td> 0.0829416389</td><td>-0.047383677</td><td>-0.041777747</td><td> 0.050874216</td><td>-0.047510195</td><td>⋯</td><td> 0.0288103144</td><td> 0.0223150151</td><td> 0.0222247806</td><td> 0.026588560</td><td>-0.0258339434</td><td> 0.082739062</td><td> 0.0253059797</td><td>-0.041236716</td><td> 0.0227619073</td><td> 0.0171490793</td></tr>\n",
       "\t<tr><th scope=row>PWP1</th><td>-0.0470632701</td><td>-0.068103625</td><td> 0.0063926635</td><td> 0.004013542</td><td> 0.087980451</td><td>-0.0739412927</td><td>-0.064723724</td><td>-0.059665419</td><td>-0.079565970</td><td>-0.046357731</td><td>⋯</td><td> 0.0110631247</td><td>-0.0459983819</td><td> 0.0643012460</td><td>-0.022184045</td><td>-0.0653509359</td><td> 0.062224292</td><td> 0.0388103294</td><td>-0.066406596</td><td> 0.1415593679</td><td> 0.0999646348</td></tr>\n",
       "\t<tr><th scope=row>PLEKHM1</th><td>-0.0047278696</td><td>-0.066545661</td><td>-0.0959666392</td><td> 0.049139970</td><td>-0.116344395</td><td> 0.1181079638</td><td>-0.025832713</td><td> 0.028545111</td><td>-0.072418773</td><td>-0.081931940</td><td>⋯</td><td> 0.0085088970</td><td> 0.0578999427</td><td> 0.0506877967</td><td> 0.048934234</td><td>-0.0522683293</td><td> 0.090077281</td><td> 0.0298209228</td><td>-0.058547810</td><td> 0.0578075291</td><td> 0.0544073172</td></tr>\n",
       "\t<tr><th scope=row>VAT1</th><td> 0.0785244986</td><td>-0.037989732</td><td> 0.0150176767</td><td> 0.041020959</td><td>-0.035100467</td><td>-0.0603513778</td><td> 0.008319434</td><td>-0.071581789</td><td>-0.026282937</td><td>-0.101749697</td><td>⋯</td><td>-0.0749913874</td><td>-0.0002258213</td><td>-0.0210586160</td><td> 0.071779948</td><td> 0.0362667907</td><td> 0.005669000</td><td>-0.0097763419</td><td> 0.039620082</td><td>-0.0277138961</td><td> 0.0259036565</td></tr>\n",
       "\t<tr><th scope=row>KIF20A</th><td> 0.0152660294</td><td> 0.045486815</td><td> 0.1596098074</td><td>-0.038296798</td><td> 0.147290426</td><td>-0.1930484779</td><td> 0.003361108</td><td>-0.138279640</td><td>-0.019376368</td><td>-0.023080744</td><td>⋯</td><td>-0.0685458996</td><td>-0.0785836790</td><td>-0.0876176013</td><td>-0.102345513</td><td> 0.0267258325</td><td>-0.028579640</td><td> 0.0339292982</td><td>-0.025594974</td><td>-0.0168086340</td><td> 0.0363648170</td></tr>\n",
       "\t<tr><th scope=row>CDH3</th><td>-0.0022342553</td><td>-0.064894289</td><td>-0.0061040891</td><td> 0.011038792</td><td>-0.069802561</td><td>-0.0133838936</td><td>-0.005403694</td><td> 0.058820955</td><td>-0.095818811</td><td>-0.042606921</td><td>⋯</td><td>-0.0577883201</td><td>-0.0644594935</td><td>-0.0644409788</td><td> 0.035514971</td><td>-0.0160840201</td><td> 0.048919000</td><td> 0.0348939842</td><td> 0.018565169</td><td> 0.0070227042</td><td>-0.0207975960</td></tr>\n",
       "\t<tr><th scope=row>SSBP2</th><td>-0.0904016242</td><td> 0.005237222</td><td>-0.0596462235</td><td>-0.049311904</td><td> 0.043502746</td><td> 0.0005813900</td><td>-0.003270894</td><td>-0.003478161</td><td> 0.068683819</td><td>-0.024377383</td><td>⋯</td><td> 0.0479808875</td><td> 0.0509650774</td><td> 0.0654344256</td><td> 0.064390264</td><td> 0.0241574839</td><td> 0.186976374</td><td> 0.0455695425</td><td>-0.014960720</td><td>-0.0142763431</td><td> 0.0211518726</td></tr>\n",
       "\t<tr><th scope=row>SNX11</th><td>-0.0106758812</td><td> 0.001392690</td><td> 0.0376923792</td><td> 0.082295888</td><td> 0.108736370</td><td>-0.0718238296</td><td> 0.023933110</td><td> 0.069340800</td><td> 0.096184749</td><td>-0.073492302</td><td>⋯</td><td>-0.0654752860</td><td>-0.0593460330</td><td>-0.0189235747</td><td>-0.060423276</td><td>-0.0268212720</td><td>-0.002220998</td><td>-0.0091173073</td><td> 0.035033508</td><td>-0.0541149772</td><td> 0.0063148340</td></tr>\n",
       "\t<tr><th scope=row>SFN</th><td>-0.1380508677</td><td>-0.087106333</td><td> 0.0388347251</td><td>-0.020320593</td><td> 0.098994495</td><td> 0.0034723338</td><td>-0.045757960</td><td> 0.016928234</td><td> 0.104992104</td><td>-0.089242075</td><td>⋯</td><td>-0.0942070908</td><td>-0.0491654335</td><td> 0.0023031820</td><td> 0.025690783</td><td>-0.0558051888</td><td> 0.008667825</td><td> 0.0322881341</td><td> 0.045220366</td><td>-0.1202273416</td><td>-0.0480187594</td></tr>\n",
       "\t<tr><th scope=row>RFX5</th><td> 0.1353906168</td><td> 0.015047651</td><td>-0.0222076321</td><td> 0.147215948</td><td>-0.076851982</td><td>-0.0132642191</td><td> 0.085966930</td><td>-0.076306085</td><td>-0.135066959</td><td>-0.037598378</td><td>⋯</td><td> 0.0253114601</td><td> 0.0079530264</td><td>-0.0172816297</td><td> 0.040478215</td><td> 0.0620089989</td><td>-0.028271876</td><td>-0.1006366949</td><td>-0.026923366</td><td> 0.0002643095</td><td> 0.0664592857</td></tr>\n",
       "\t<tr><th scope=row>PKIG</th><td> 0.0430838848</td><td> 0.061698005</td><td>-0.0803004718</td><td>-0.013555781</td><td> 0.025402724</td><td> 0.0700157525</td><td>-0.050471466</td><td> 0.032150570</td><td>-0.151076225</td><td> 0.018174510</td><td>⋯</td><td>-0.0438904279</td><td> 0.0223331107</td><td> 0.0216795843</td><td>-0.059968139</td><td> 0.0037429985</td><td>-0.011257132</td><td> 0.0241343642</td><td>-0.011235622</td><td> 0.0984954692</td><td> 0.0507555966</td></tr>\n",
       "\t<tr><th scope=row>FSD1</th><td>-0.0610166937</td><td>-0.107024983</td><td>-0.1017861151</td><td>-0.039174137</td><td>-0.037271055</td><td>-0.0441692030</td><td>-0.060811109</td><td>-0.065810457</td><td>-0.087151927</td><td> 0.057896931</td><td>⋯</td><td> 0.0495986913</td><td> 0.0095632203</td><td> 0.0036525735</td><td> 0.002497071</td><td> 0.0057422973</td><td> 0.083737696</td><td> 0.0425124509</td><td>-0.054413599</td><td>-0.0058675411</td><td> 0.0030160677</td></tr>\n",
       "\t<tr><th scope=row>ATP6V1D</th><td>-0.0153969538</td><td>-0.075786116</td><td>-0.0311669318</td><td> 0.106483343</td><td> 0.106253338</td><td> 0.0112341017</td><td> 0.074453425</td><td> 0.005736284</td><td> 0.062278239</td><td>-0.007925272</td><td>⋯</td><td> 0.0701428315</td><td>-0.0708004541</td><td> 0.0729676867</td><td>-0.036574018</td><td>-0.0103457131</td><td> 0.070146511</td><td>-0.0078188604</td><td>-0.024931446</td><td> 0.0648355482</td><td> 0.0143721607</td></tr>\n",
       "\t<tr><th scope=row>CDC45</th><td>-0.0480722364</td><td>-0.017374800</td><td> 0.0444589404</td><td>-0.025508326</td><td> 0.049790807</td><td> 0.0198310037</td><td>-0.044553408</td><td>-0.048643642</td><td> 0.024699569</td><td> 0.094944037</td><td>⋯</td><td>-0.0355555707</td><td> 0.0016330353</td><td> 0.0295337145</td><td>-0.027026923</td><td>-0.0357453700</td><td>-0.066736644</td><td> 0.1207438798</td><td> 0.106757048</td><td> 0.0299671878</td><td> 0.1256214646</td></tr>\n",
       "\t<tr><th scope=row>EDEM1</th><td>-0.0150094485</td><td>-0.055000926</td><td>-0.0052818173</td><td> 0.109118947</td><td> 0.022786119</td><td>-0.0115315863</td><td> 0.036163879</td><td>-0.039533322</td><td>-0.125636176</td><td>-0.020850348</td><td>⋯</td><td> 0.0184570915</td><td>-0.0238503599</td><td>-0.0247061367</td><td>-0.032492586</td><td> 0.0094721166</td><td> 0.002892016</td><td>-0.0001104102</td><td>-0.128200222</td><td> 0.0576213748</td><td>-0.0158601710</td></tr>\n",
       "\t<tr><th scope=row>USP6NL</th><td>-0.0534853450</td><td> 0.048858409</td><td> 0.0136881527</td><td>-0.004294719</td><td> 0.005140586</td><td>-0.0851038881</td><td> 0.042032179</td><td>-0.089461885</td><td> 0.018877902</td><td>-0.046128869</td><td>⋯</td><td> 0.0462412121</td><td>-0.0311478557</td><td> 0.0424134919</td><td> 0.031586525</td><td> 0.0699650062</td><td>-0.017485693</td><td>-0.0534951594</td><td> 0.073115574</td><td>-0.0212135198</td><td> 0.0495723049</td></tr>\n",
       "\t<tr><th scope=row>NT5DC2</th><td>-0.0008391351</td><td>-0.096940175</td><td> 0.0647930163</td><td> 0.001716752</td><td> 0.078607959</td><td>-0.0022292895</td><td>-0.041475552</td><td>-0.072539341</td><td>-0.019239555</td><td> 0.046992573</td><td>⋯</td><td>-0.0004786085</td><td>-0.0675230147</td><td>-0.0089930616</td><td>-0.016051757</td><td>-0.0018127360</td><td>-0.036574757</td><td> 0.0223486169</td><td> 0.006427884</td><td>-0.0453356584</td><td> 0.0481047263</td></tr>\n",
       "\t<tr><th scope=row>CCP110</th><td> 0.0427380182</td><td> 0.046980102</td><td>-0.0588624802</td><td>-0.065246913</td><td>-0.097409682</td><td> 0.0417056874</td><td> 0.028769321</td><td> 0.048815669</td><td> 0.018371281</td><td> 0.007617399</td><td>⋯</td><td> 1.0000000000</td><td> 0.0049021301</td><td> 0.0423178842</td><td>-0.057913666</td><td> 0.0320410013</td><td> 0.041181124</td><td>-0.0392967896</td><td> 0.025440746</td><td> 0.1629026228</td><td>-0.0027218701</td></tr>\n",
       "\t<tr><th scope=row>STK10</th><td> 0.0121588639</td><td> 0.008251743</td><td>-0.0833512858</td><td>-0.113148420</td><td>-0.073421955</td><td> 0.1369066951</td><td>-0.036443473</td><td> 0.132883922</td><td> 0.080467813</td><td> 0.018755871</td><td>⋯</td><td> 0.0049021301</td><td> 1.0000000000</td><td>-0.0687507578</td><td> 0.063813616</td><td> 0.0096795666</td><td>-0.001872262</td><td> 0.0401147114</td><td>-0.070253041</td><td>-0.0449470500</td><td>-0.0414569248</td></tr>\n",
       "\t<tr><th scope=row>UGDH</th><td>-0.0572344963</td><td>-0.056920101</td><td>-0.0989294303</td><td> 0.028609748</td><td>-0.074858390</td><td> 0.0280854350</td><td>-0.042174030</td><td> 0.035655743</td><td>-0.005804338</td><td>-0.017344488</td><td>⋯</td><td> 0.0423178842</td><td>-0.0687507578</td><td> 1.0000000000</td><td>-0.035771782</td><td>-0.0002436362</td><td> 0.110202739</td><td> 0.0172373301</td><td> 0.028893123</td><td> 0.0002653440</td><td>-0.0678865104</td></tr>\n",
       "\t<tr><th scope=row>SQRDL</th><td> 0.0834504033</td><td>-0.038038862</td><td> 0.0681689931</td><td> 0.050821500</td><td>-0.035663936</td><td> 0.0001252603</td><td>-0.044575846</td><td>-0.046836620</td><td>-0.006194431</td><td>-0.050384133</td><td>⋯</td><td>-0.0579136659</td><td> 0.0638136161</td><td>-0.0357717818</td><td> 1.000000000</td><td>-0.0419212847</td><td> 0.076661935</td><td> 0.0007871230</td><td> 0.006812493</td><td>-0.0790188072</td><td>-0.1048450910</td></tr>\n",
       "\t<tr><th scope=row>HEBP1</th><td> 0.0911128163</td><td> 0.082246193</td><td>-0.0125830126</td><td>-0.027324360</td><td>-0.069890206</td><td>-0.0080207924</td><td> 0.054603146</td><td> 0.008150885</td><td>-0.054618465</td><td>-0.095195865</td><td>⋯</td><td> 0.0320410013</td><td> 0.0096795666</td><td>-0.0002436362</td><td>-0.041921285</td><td> 1.0000000000</td><td>-0.115016728</td><td> 0.0655446359</td><td> 0.042270618</td><td> 0.0315598001</td><td> 0.0563042025</td></tr>\n",
       "\t<tr><th scope=row>ATP11B</th><td>-0.0898242040</td><td>-0.106877537</td><td> 0.0076031393</td><td>-0.099437697</td><td>-0.012397679</td><td> 0.0128382782</td><td> 0.032890532</td><td> 0.003997155</td><td> 0.009761368</td><td>-0.020100638</td><td>⋯</td><td> 0.0411811243</td><td>-0.0018722623</td><td> 0.1102027386</td><td> 0.076661935</td><td>-0.1150167285</td><td> 1.000000000</td><td> 0.0302944537</td><td> 0.059268121</td><td> 0.0347526004</td><td> 0.0035208390</td></tr>\n",
       "\t<tr><th scope=row>CD320</th><td> 0.0988864406</td><td>-0.050780559</td><td> 0.1921010203</td><td> 0.066692870</td><td> 0.055548972</td><td>-0.1020530993</td><td>-0.010247096</td><td>-0.099286219</td><td> 0.013568134</td><td>-0.080893361</td><td>⋯</td><td>-0.0392967896</td><td> 0.0401147114</td><td> 0.0172373301</td><td> 0.000787123</td><td> 0.0655446359</td><td> 0.030294454</td><td> 1.0000000000</td><td>-0.062566462</td><td> 0.0435805132</td><td> 0.0200485867</td></tr>\n",
       "\t<tr><th scope=row>MLLT11</th><td>-0.0070067323</td><td>-0.021671832</td><td> 0.0340342318</td><td>-0.034783106</td><td> 0.078897960</td><td> 0.0008126548</td><td>-0.021344965</td><td> 0.043056928</td><td> 0.097463007</td><td> 0.023731498</td><td>⋯</td><td> 0.0254407461</td><td>-0.0702530413</td><td> 0.0288931234</td><td> 0.006812493</td><td> 0.0422706178</td><td> 0.059268121</td><td>-0.0625664619</td><td> 1.000000000</td><td> 0.0958114704</td><td> 0.0032742048</td></tr>\n",
       "\t<tr><th scope=row>CEBPZ</th><td> 0.1229917228</td><td>-0.038651009</td><td> 0.0164550652</td><td> 0.013061700</td><td>-0.014487375</td><td>-0.0937373065</td><td>-0.097685834</td><td>-0.074800562</td><td>-0.138608394</td><td>-0.001808223</td><td>⋯</td><td> 0.1629026228</td><td>-0.0449470500</td><td> 0.0002653440</td><td>-0.079018807</td><td> 0.0315598001</td><td> 0.034752600</td><td> 0.0435805132</td><td> 0.095811470</td><td> 1.0000000000</td><td>-0.0556853341</td></tr>\n",
       "\t<tr><th scope=row>CBR3</th><td> 0.0315928105</td><td>-0.052192689</td><td> 0.0467518234</td><td>-0.032662765</td><td>-0.021919466</td><td> 0.0609296035</td><td> 0.001502064</td><td>-0.064888023</td><td>-0.058862510</td><td> 0.028759423</td><td>⋯</td><td>-0.0027218701</td><td>-0.0414569248</td><td>-0.0678865104</td><td>-0.104845091</td><td> 0.0563042025</td><td> 0.003520839</td><td> 0.0200485867</td><td> 0.003274205</td><td>-0.0556853341</td><td> 1.0000000000</td></tr>\n",
       "</tbody>\n",
       "</table>\n"
      ],
      "text/latex": [
       "A matrix: 978 × 978 of type dbl\n",
       "\\begin{tabular}{r|lllllllllllllllllllll}\n",
       "  & PSME1 & ATF1 & RHEB & FOXO3 & RHOA & IL1B & ASAH1 & RALA & ARHGEF12 & SOX2 & ⋯ & CCP110 & STK10 & UGDH & SQRDL & HEBP1 & ATP11B & CD320 & MLLT11 & CEBPZ & CBR3\\\\\n",
       "\\hline\n",
       "\tPSME1 &  1.000000000 &  0.026699663 &  0.033151809 & -0.0126188574 &  0.001813023 & -0.009108597 & -0.096497245 & -0.0124094731 & -0.070925659 & -0.084706615 & ⋯ &  0.042738018 &  0.012158864 & -0.057234496 &  0.0834504033 &  0.0911128163 & -0.089824204 &  0.0988864406 & -0.0070067323 &  0.122991723 &  0.031592811\\\\\n",
       "\tATF1 &  0.026699663 &  1.000000000 &  0.127226603 & -0.1147250388 &  0.015006002 & -0.048410774 &  0.199088611 &  0.1398941247 & -0.064300902 & -0.103227257 & ⋯ &  0.046980102 &  0.008251743 & -0.056920101 & -0.0380388622 &  0.0822461928 & -0.106877537 & -0.0507805586 & -0.0216718324 & -0.038651009 & -0.052192689\\\\\n",
       "\tRHEB &  0.033151809 &  0.127226603 &  1.000000000 & -0.0486450461 &  0.119331159 & -0.179658776 &  0.112075730 & -0.1013062598 &  0.029579953 & -0.063637341 & ⋯ & -0.058862480 & -0.083351286 & -0.098929430 &  0.0681689931 & -0.0125830126 &  0.007603139 &  0.1921010203 &  0.0340342318 &  0.016455065 &  0.046751823\\\\\n",
       "\tFOXO3 & -0.012618857 & -0.114725039 & -0.048645046 &  1.0000000000 &  0.088304142 & -0.076713613 &  0.003838180 & -0.1035809440 & -0.086347594 & -0.055620098 & ⋯ & -0.065246913 & -0.113148420 &  0.028609748 &  0.0508215002 & -0.0273243604 & -0.099437697 &  0.0666928696 & -0.0347831063 &  0.013061700 & -0.032662765\\\\\n",
       "\tRHOA &  0.001813023 &  0.015006002 &  0.119331159 &  0.0883041419 &  1.000000000 & -0.061326215 &  0.012853942 & -0.1147142613 &  0.151936855 &  0.034189136 & ⋯ & -0.097409682 & -0.073421955 & -0.074858390 & -0.0356639356 & -0.0698902063 & -0.012397679 &  0.0555489723 &  0.0788979597 & -0.014487375 & -0.021919466\\\\\n",
       "\tIL1B & -0.009108597 & -0.048410774 & -0.179658776 & -0.0767136128 & -0.061326215 &  1.000000000 & -0.032400635 &  0.1861702712 &  0.130771768 &  0.060919093 & ⋯ &  0.041705687 &  0.136906695 &  0.028085435 &  0.0001252603 & -0.0080207924 &  0.012838278 & -0.1020530993 &  0.0008126548 & -0.093737307 &  0.060929604\\\\\n",
       "\tASAH1 & -0.096497245 &  0.199088611 &  0.112075730 &  0.0038381796 &  0.012853942 & -0.032400635 &  1.000000000 &  0.0313473397 & -0.024305277 & -0.050899126 & ⋯ &  0.028769321 & -0.036443473 & -0.042174030 & -0.0445758464 &  0.0546031456 &  0.032890532 & -0.0102470965 & -0.0213449653 & -0.097685834 &  0.001502064\\\\\n",
       "\tRALA & -0.012409473 &  0.139894125 & -0.101306260 & -0.1035809440 & -0.114714261 &  0.186170271 &  0.031347340 &  1.0000000000 &  0.098216372 & -0.028158856 & ⋯ &  0.048815669 &  0.132883922 &  0.035655743 & -0.0468366202 &  0.0081508850 &  0.003997155 & -0.0992862186 &  0.0430569283 & -0.074800562 & -0.064888023\\\\\n",
       "\tARHGEF12 & -0.070925659 & -0.064300902 &  0.029579953 & -0.0863475938 &  0.151936855 &  0.130771768 & -0.024305277 &  0.0982163720 &  1.000000000 &  0.094736250 & ⋯ &  0.018371281 &  0.080467813 & -0.005804338 & -0.0061944314 & -0.0546184649 &  0.009761368 &  0.0135681336 &  0.0974630071 & -0.138608394 & -0.058862510\\\\\n",
       "\tSOX2 & -0.084706615 & -0.103227257 & -0.063637341 & -0.0556200975 &  0.034189136 &  0.060919093 & -0.050899126 & -0.0281588559 &  0.094736250 &  1.000000000 & ⋯ &  0.007617399 &  0.018755871 & -0.017344488 & -0.0503841331 & -0.0951958648 & -0.020100638 & -0.0808933613 &  0.0237314981 & -0.001808223 &  0.028759423\\\\\n",
       "\tSERPINE1 & -0.046855628 &  0.001324413 &  0.038816161 &  0.0517187324 & -0.025756263 &  0.025919932 &  0.027074632 & -0.0209574007 &  0.074263645 &  0.044007368 & ⋯ & -0.088034807 & -0.055305273 & -0.087209068 &  0.0771029983 & -0.0286948686 &  0.050358883 &  0.0204152616 & -0.0606152377 & -0.085318241 & -0.088305683\\\\\n",
       "\tHLA.DMA & -0.120916400 & -0.096855685 &  0.049948620 &  0.0879424137 &  0.106252755 & -0.057545791 & -0.017277187 & -0.1202375629 &  0.040260227 &  0.108017453 & ⋯ & -0.106699799 & -0.049158002 & -0.009562406 & -0.0851998725 & -0.0587181290 & -0.003926070 &  0.0334636354 &  0.1065219875 & -0.057458463 & -0.105975337\\\\\n",
       "\tEGF & -0.012225738 & -0.056897660 &  0.010903129 & -0.0344866120 & -0.066517819 & -0.028055294 &  0.035036518 & -0.0387879698 &  0.097860634 &  0.088733356 & ⋯ &  0.048687078 &  0.037841035 & -0.029984617 &  0.0706398530 & -0.0569939628 & -0.035768743 &  0.0002836256 & -0.0658502143 & -0.023315576 &  0.003521268\\\\\n",
       "\tAPP & -0.004136425 &  0.072823848 &  0.066806653 &  0.0406934668 & -0.075371604 & -0.004854556 &  0.121237408 & -0.0252648933 &  0.058594816 & -0.084231645 & ⋯ &  0.055800146 &  0.029608717 & -0.014724476 &  0.0328791661 & -0.0134035093 &  0.048591427 &  0.0506293222 & -0.0024782382 &  0.002413651 & -0.134808144\\\\\n",
       "\tNOS3 & -0.097641269 & -0.100700796 & -0.005113953 & -0.0016491297 & -0.016161121 &  0.081814250 &  0.006365814 &  0.0299417123 &  0.063451202 & -0.002215155 & ⋯ & -0.004056811 &  0.019943589 & -0.027417107 &  0.0511394804 & -0.0115315696 &  0.080415001 & -0.0443222897 &  0.0259621275 & -0.036918552 &  0.010069324\\\\\n",
       "\tCSNK1A1 & -0.015157547 &  0.046306417 &  0.112585292 &  0.1729851255 &  0.120722942 &  0.108072425 &  0.081392259 &  0.0939447788 & -0.002166658 &  0.001756689 & ⋯ & -0.108169370 & -0.063420040 & -0.001481881 &  0.0441338011 &  0.0223333802 &  0.039643122 &  0.0588569703 & -0.0160983842 & -0.077973622 &  0.035046231\\\\\n",
       "\tNFATC4 & -0.188677073 & -0.145530409 & -0.216865677 & -0.0497404195 & -0.104424219 &  0.219522503 &  0.023961256 &  0.0165558968 &  0.208993143 &  0.210974724 & ⋯ &  0.027451063 &  0.080946040 &  0.025410724 & -0.0209438527 & -0.0980481716 &  0.052635465 & -0.1340446929 & -0.0448160198 & -0.068337250 &  0.055139210\\\\\n",
       "\tTBP &  0.144313538 &  0.086453907 &  0.180716021 & -0.0394624985 &  0.230474073 & -0.075011229 &  0.037785790 & -0.0054165484 & -0.034180758 & -0.040759507 & ⋯ &  0.094880969 & -0.045750641 & -0.071122530 &  0.0466982635 & -0.0727619379 & -0.065492941 &  0.0155141219 & -0.0083139855 &  0.078768961 &  0.085428149\\\\\n",
       "\tBRCA1 & -0.004109635 &  0.128306217 & -0.031451259 & -0.1057762201 & -0.139581116 & -0.039277416 & -0.077243967 & -0.0003010217 &  0.040845255 &  0.074799704 & ⋯ &  0.130975419 & -0.025097557 & -0.005377954 &  0.0130383670 &  0.0094329996 & -0.160004780 & -0.0261420259 &  0.0731529273 &  0.035059294 &  0.042953872\\\\\n",
       "\tPSMD4 & -0.052660763 & -0.071321285 &  0.068972920 &  0.0919611863 &  0.063728851 &  0.055562310 &  0.109808830 & -0.0260605773 &  0.071682860 &  0.026221101 & ⋯ & -0.001647434 &  0.024219532 & -0.029630690 &  0.0807277924 & -0.1294936655 &  0.039565533 &  0.0948134548 & -0.0253919810 & -0.023423100 &  0.077098652\\\\\n",
       "\tETV1 & -0.047409449 &  0.019648970 & -0.061367185 &  0.0076237158 &  0.029535180 &  0.054684426 & -0.036720136 &  0.0378191029 &  0.089677224 &  0.184622216 & ⋯ &  0.003025370 &  0.090472397 &  0.019783231 & -0.0307724131 & -0.0815578956 &  0.056172658 & -0.0251018029 &  0.0604260982 & -0.039245070 & -0.054455966\\\\\n",
       "\tTERT & -0.115113973 & -0.176913212 & -0.059650869 &  0.0244466575 & -0.012067568 &  0.032440893 &  0.012122247 & -0.0649882566 &  0.017201893 &  0.145867212 & ⋯ &  0.012404285 & -0.037485452 &  0.038319873 &  0.0565442751 & -0.1663140576 &  0.015503632 & -0.0852510474 & -0.0143773656 & -0.017771432 & -0.049675827\\\\\n",
       "\tEED &  0.021870570 &  0.222615622 & -0.060221584 & -0.1512907638 & -0.065748553 &  0.046627300 & -0.027931321 &  0.1613174880 & -0.021162766 & -0.014882171 & ⋯ &  0.127033631 &  0.046531053 &  0.066354720 & -0.1065299265 &  0.0461107461 & -0.116140022 & -0.0373462230 &  0.0780338480 & -0.011932781 & -0.074883523\\\\\n",
       "\tPTK2B & -0.154568091 & -0.103779364 & -0.094596202 & -0.0392968712 & -0.009973579 &  0.215512188 &  0.076280642 &  0.0557380498 &  0.207324461 &  0.142335300 & ⋯ &  0.004923694 &  0.092281261 & -0.009576292 & -0.0277625036 & -0.1196540515 &  0.120599138 & -0.0885693030 & -0.0218041302 & -0.044556334 & -0.145272846\\\\\n",
       "\tHSPB1 & -0.042768695 & -0.111000682 &  0.006417008 &  0.1653509780 &  0.012047157 & -0.010302435 & -0.049704487 & -0.0831548032 & -0.094716844 & -0.065712179 & ⋯ & -0.126336224 & -0.057919678 & -0.031190532 & -0.0159387943 & -0.0340118272 & -0.054028897 & -0.0242147882 & -0.0758962634 & -0.008515247 & -0.020681195\\\\\n",
       "\tPIK3C3 & -0.005880439 &  0.061510733 & -0.055269288 &  0.0148787057 & -0.125286811 &  0.095131846 &  0.068020648 &  0.1159490818 & -0.015604166 &  0.121792314 & ⋯ & -0.039660633 & -0.024766395 &  0.037282917 &  0.0697439786 &  0.0005761354 &  0.059820428 & -0.1106737896 & -0.0083038759 & -0.035207729 &  0.071199871\\\\\n",
       "\tCBLB & -0.110123623 & -0.009481546 & -0.030009866 &  0.0173645378 &  0.081425367 &  0.161618342 & -0.002641835 &  0.1319846788 &  0.138264699 &  0.006360179 & ⋯ & -0.008635339 &  0.005195762 &  0.064921998 &  0.0483660243 & -0.0331859284 &  0.072051561 & -0.0812557589 & -0.0028524107 & -0.049317067 & -0.055583480\\\\\n",
       "\tDFFB & -0.005251343 &  0.023098458 & -0.007162509 & -0.0009275593 &  0.014144204 & -0.059539331 &  0.028461846 &  0.0410760868 &  0.026135464 & -0.013952171 & ⋯ & -0.029625604 & -0.045968370 &  0.020121652 & -0.0168035263 & -0.0270014775 &  0.030455699 &  0.0029721422 & -0.0730058832 & -0.004904219 & -0.047733574\\\\\n",
       "\tTGFB3 & -0.149988181 & -0.135667972 & -0.093704037 & -0.0719410459 &  0.015826163 &  0.356456364 &  0.031510632 &  0.1049341288 &  0.325754108 &  0.190255303 & ⋯ & -0.018741642 &  0.163028631 & -0.031726059 & -0.0147075701 & -0.0131464675 &  0.068125240 & -0.0005366414 &  0.0056995914 & -0.119260687 &  0.090724716\\\\\n",
       "\tPRKX & -0.067830410 & -0.050654917 & -0.139737539 &  0.0074975511 & -0.044065324 &  0.076644019 &  0.002618275 & -0.0141406031 &  0.112133450 &  0.081864342 & ⋯ &  0.105018396 &  0.017539236 & -0.019247011 & -0.0058783243 & -0.0600411736 & -0.015932690 & -0.0633655878 & -0.0536765880 &  0.022812862 & -0.039707120\\\\\n",
       "\t⋮ & ⋮ & ⋮ & ⋮ & ⋮ & ⋮ & ⋮ & ⋮ & ⋮ & ⋮ & ⋮ & ⋱ & ⋮ & ⋮ & ⋮ & ⋮ & ⋮ & ⋮ & ⋮ & ⋮ & ⋮ & ⋮\\\\\n",
       "\tKLHL9 & -0.0654497296 &  0.018953831 &  0.1516068027 & -0.035327306 &  0.090859524 &  0.0118109435 &  0.032910420 & -0.056568151 & -0.046977513 & -0.094821558 & ⋯ & -0.0404139068 & -0.0419298863 & -0.0330354915 &  0.058091691 & -0.0442777225 & -0.051115934 &  0.0496926085 &  0.069605509 & -0.0217861844 &  0.0004046269\\\\\n",
       "\tUBE2J1 & -0.0855841503 & -0.156537777 & -0.0598789027 &  0.032298059 & -0.036976631 & -0.0177636030 & -0.006205697 &  0.020563392 &  0.111824065 & -0.066569747 & ⋯ & -0.0510850881 & -0.0462665913 & -0.0387895492 & -0.004317357 & -0.0350770220 &  0.078425698 &  0.0706449725 &  0.036098400 & -0.0754120949 &  0.0507346338\\\\\n",
       "\tSLC37A4 &  0.1227208319 & -0.022025682 & -0.0003446413 & -0.009959304 &  0.006270311 & -0.0442066283 & -0.022145261 & -0.100808804 & -0.007109636 & -0.054386794 & ⋯ &  0.1299473519 & -0.0076735807 & -0.0635464751 &  0.067175665 &  0.0417579898 & -0.014212259 &  0.0042701579 &  0.101705477 &  0.1636754368 &  0.0514269283\\\\\n",
       "\tNPRL2 &  0.0116398271 & -0.083323493 & -0.0465747073 & -0.019312562 &  0.024263478 &  0.0829416389 & -0.047383677 & -0.041777747 &  0.050874216 & -0.047510195 & ⋯ &  0.0288103144 &  0.0223150151 &  0.0222247806 &  0.026588560 & -0.0258339434 &  0.082739062 &  0.0253059797 & -0.041236716 &  0.0227619073 &  0.0171490793\\\\\n",
       "\tPWP1 & -0.0470632701 & -0.068103625 &  0.0063926635 &  0.004013542 &  0.087980451 & -0.0739412927 & -0.064723724 & -0.059665419 & -0.079565970 & -0.046357731 & ⋯ &  0.0110631247 & -0.0459983819 &  0.0643012460 & -0.022184045 & -0.0653509359 &  0.062224292 &  0.0388103294 & -0.066406596 &  0.1415593679 &  0.0999646348\\\\\n",
       "\tPLEKHM1 & -0.0047278696 & -0.066545661 & -0.0959666392 &  0.049139970 & -0.116344395 &  0.1181079638 & -0.025832713 &  0.028545111 & -0.072418773 & -0.081931940 & ⋯ &  0.0085088970 &  0.0578999427 &  0.0506877967 &  0.048934234 & -0.0522683293 &  0.090077281 &  0.0298209228 & -0.058547810 &  0.0578075291 &  0.0544073172\\\\\n",
       "\tVAT1 &  0.0785244986 & -0.037989732 &  0.0150176767 &  0.041020959 & -0.035100467 & -0.0603513778 &  0.008319434 & -0.071581789 & -0.026282937 & -0.101749697 & ⋯ & -0.0749913874 & -0.0002258213 & -0.0210586160 &  0.071779948 &  0.0362667907 &  0.005669000 & -0.0097763419 &  0.039620082 & -0.0277138961 &  0.0259036565\\\\\n",
       "\tKIF20A &  0.0152660294 &  0.045486815 &  0.1596098074 & -0.038296798 &  0.147290426 & -0.1930484779 &  0.003361108 & -0.138279640 & -0.019376368 & -0.023080744 & ⋯ & -0.0685458996 & -0.0785836790 & -0.0876176013 & -0.102345513 &  0.0267258325 & -0.028579640 &  0.0339292982 & -0.025594974 & -0.0168086340 &  0.0363648170\\\\\n",
       "\tCDH3 & -0.0022342553 & -0.064894289 & -0.0061040891 &  0.011038792 & -0.069802561 & -0.0133838936 & -0.005403694 &  0.058820955 & -0.095818811 & -0.042606921 & ⋯ & -0.0577883201 & -0.0644594935 & -0.0644409788 &  0.035514971 & -0.0160840201 &  0.048919000 &  0.0348939842 &  0.018565169 &  0.0070227042 & -0.0207975960\\\\\n",
       "\tSSBP2 & -0.0904016242 &  0.005237222 & -0.0596462235 & -0.049311904 &  0.043502746 &  0.0005813900 & -0.003270894 & -0.003478161 &  0.068683819 & -0.024377383 & ⋯ &  0.0479808875 &  0.0509650774 &  0.0654344256 &  0.064390264 &  0.0241574839 &  0.186976374 &  0.0455695425 & -0.014960720 & -0.0142763431 &  0.0211518726\\\\\n",
       "\tSNX11 & -0.0106758812 &  0.001392690 &  0.0376923792 &  0.082295888 &  0.108736370 & -0.0718238296 &  0.023933110 &  0.069340800 &  0.096184749 & -0.073492302 & ⋯ & -0.0654752860 & -0.0593460330 & -0.0189235747 & -0.060423276 & -0.0268212720 & -0.002220998 & -0.0091173073 &  0.035033508 & -0.0541149772 &  0.0063148340\\\\\n",
       "\tSFN & -0.1380508677 & -0.087106333 &  0.0388347251 & -0.020320593 &  0.098994495 &  0.0034723338 & -0.045757960 &  0.016928234 &  0.104992104 & -0.089242075 & ⋯ & -0.0942070908 & -0.0491654335 &  0.0023031820 &  0.025690783 & -0.0558051888 &  0.008667825 &  0.0322881341 &  0.045220366 & -0.1202273416 & -0.0480187594\\\\\n",
       "\tRFX5 &  0.1353906168 &  0.015047651 & -0.0222076321 &  0.147215948 & -0.076851982 & -0.0132642191 &  0.085966930 & -0.076306085 & -0.135066959 & -0.037598378 & ⋯ &  0.0253114601 &  0.0079530264 & -0.0172816297 &  0.040478215 &  0.0620089989 & -0.028271876 & -0.1006366949 & -0.026923366 &  0.0002643095 &  0.0664592857\\\\\n",
       "\tPKIG &  0.0430838848 &  0.061698005 & -0.0803004718 & -0.013555781 &  0.025402724 &  0.0700157525 & -0.050471466 &  0.032150570 & -0.151076225 &  0.018174510 & ⋯ & -0.0438904279 &  0.0223331107 &  0.0216795843 & -0.059968139 &  0.0037429985 & -0.011257132 &  0.0241343642 & -0.011235622 &  0.0984954692 &  0.0507555966\\\\\n",
       "\tFSD1 & -0.0610166937 & -0.107024983 & -0.1017861151 & -0.039174137 & -0.037271055 & -0.0441692030 & -0.060811109 & -0.065810457 & -0.087151927 &  0.057896931 & ⋯ &  0.0495986913 &  0.0095632203 &  0.0036525735 &  0.002497071 &  0.0057422973 &  0.083737696 &  0.0425124509 & -0.054413599 & -0.0058675411 &  0.0030160677\\\\\n",
       "\tATP6V1D & -0.0153969538 & -0.075786116 & -0.0311669318 &  0.106483343 &  0.106253338 &  0.0112341017 &  0.074453425 &  0.005736284 &  0.062278239 & -0.007925272 & ⋯ &  0.0701428315 & -0.0708004541 &  0.0729676867 & -0.036574018 & -0.0103457131 &  0.070146511 & -0.0078188604 & -0.024931446 &  0.0648355482 &  0.0143721607\\\\\n",
       "\tCDC45 & -0.0480722364 & -0.017374800 &  0.0444589404 & -0.025508326 &  0.049790807 &  0.0198310037 & -0.044553408 & -0.048643642 &  0.024699569 &  0.094944037 & ⋯ & -0.0355555707 &  0.0016330353 &  0.0295337145 & -0.027026923 & -0.0357453700 & -0.066736644 &  0.1207438798 &  0.106757048 &  0.0299671878 &  0.1256214646\\\\\n",
       "\tEDEM1 & -0.0150094485 & -0.055000926 & -0.0052818173 &  0.109118947 &  0.022786119 & -0.0115315863 &  0.036163879 & -0.039533322 & -0.125636176 & -0.020850348 & ⋯ &  0.0184570915 & -0.0238503599 & -0.0247061367 & -0.032492586 &  0.0094721166 &  0.002892016 & -0.0001104102 & -0.128200222 &  0.0576213748 & -0.0158601710\\\\\n",
       "\tUSP6NL & -0.0534853450 &  0.048858409 &  0.0136881527 & -0.004294719 &  0.005140586 & -0.0851038881 &  0.042032179 & -0.089461885 &  0.018877902 & -0.046128869 & ⋯ &  0.0462412121 & -0.0311478557 &  0.0424134919 &  0.031586525 &  0.0699650062 & -0.017485693 & -0.0534951594 &  0.073115574 & -0.0212135198 &  0.0495723049\\\\\n",
       "\tNT5DC2 & -0.0008391351 & -0.096940175 &  0.0647930163 &  0.001716752 &  0.078607959 & -0.0022292895 & -0.041475552 & -0.072539341 & -0.019239555 &  0.046992573 & ⋯ & -0.0004786085 & -0.0675230147 & -0.0089930616 & -0.016051757 & -0.0018127360 & -0.036574757 &  0.0223486169 &  0.006427884 & -0.0453356584 &  0.0481047263\\\\\n",
       "\tCCP110 &  0.0427380182 &  0.046980102 & -0.0588624802 & -0.065246913 & -0.097409682 &  0.0417056874 &  0.028769321 &  0.048815669 &  0.018371281 &  0.007617399 & ⋯ &  1.0000000000 &  0.0049021301 &  0.0423178842 & -0.057913666 &  0.0320410013 &  0.041181124 & -0.0392967896 &  0.025440746 &  0.1629026228 & -0.0027218701\\\\\n",
       "\tSTK10 &  0.0121588639 &  0.008251743 & -0.0833512858 & -0.113148420 & -0.073421955 &  0.1369066951 & -0.036443473 &  0.132883922 &  0.080467813 &  0.018755871 & ⋯ &  0.0049021301 &  1.0000000000 & -0.0687507578 &  0.063813616 &  0.0096795666 & -0.001872262 &  0.0401147114 & -0.070253041 & -0.0449470500 & -0.0414569248\\\\\n",
       "\tUGDH & -0.0572344963 & -0.056920101 & -0.0989294303 &  0.028609748 & -0.074858390 &  0.0280854350 & -0.042174030 &  0.035655743 & -0.005804338 & -0.017344488 & ⋯ &  0.0423178842 & -0.0687507578 &  1.0000000000 & -0.035771782 & -0.0002436362 &  0.110202739 &  0.0172373301 &  0.028893123 &  0.0002653440 & -0.0678865104\\\\\n",
       "\tSQRDL &  0.0834504033 & -0.038038862 &  0.0681689931 &  0.050821500 & -0.035663936 &  0.0001252603 & -0.044575846 & -0.046836620 & -0.006194431 & -0.050384133 & ⋯ & -0.0579136659 &  0.0638136161 & -0.0357717818 &  1.000000000 & -0.0419212847 &  0.076661935 &  0.0007871230 &  0.006812493 & -0.0790188072 & -0.1048450910\\\\\n",
       "\tHEBP1 &  0.0911128163 &  0.082246193 & -0.0125830126 & -0.027324360 & -0.069890206 & -0.0080207924 &  0.054603146 &  0.008150885 & -0.054618465 & -0.095195865 & ⋯ &  0.0320410013 &  0.0096795666 & -0.0002436362 & -0.041921285 &  1.0000000000 & -0.115016728 &  0.0655446359 &  0.042270618 &  0.0315598001 &  0.0563042025\\\\\n",
       "\tATP11B & -0.0898242040 & -0.106877537 &  0.0076031393 & -0.099437697 & -0.012397679 &  0.0128382782 &  0.032890532 &  0.003997155 &  0.009761368 & -0.020100638 & ⋯ &  0.0411811243 & -0.0018722623 &  0.1102027386 &  0.076661935 & -0.1150167285 &  1.000000000 &  0.0302944537 &  0.059268121 &  0.0347526004 &  0.0035208390\\\\\n",
       "\tCD320 &  0.0988864406 & -0.050780559 &  0.1921010203 &  0.066692870 &  0.055548972 & -0.1020530993 & -0.010247096 & -0.099286219 &  0.013568134 & -0.080893361 & ⋯ & -0.0392967896 &  0.0401147114 &  0.0172373301 &  0.000787123 &  0.0655446359 &  0.030294454 &  1.0000000000 & -0.062566462 &  0.0435805132 &  0.0200485867\\\\\n",
       "\tMLLT11 & -0.0070067323 & -0.021671832 &  0.0340342318 & -0.034783106 &  0.078897960 &  0.0008126548 & -0.021344965 &  0.043056928 &  0.097463007 &  0.023731498 & ⋯ &  0.0254407461 & -0.0702530413 &  0.0288931234 &  0.006812493 &  0.0422706178 &  0.059268121 & -0.0625664619 &  1.000000000 &  0.0958114704 &  0.0032742048\\\\\n",
       "\tCEBPZ &  0.1229917228 & -0.038651009 &  0.0164550652 &  0.013061700 & -0.014487375 & -0.0937373065 & -0.097685834 & -0.074800562 & -0.138608394 & -0.001808223 & ⋯ &  0.1629026228 & -0.0449470500 &  0.0002653440 & -0.079018807 &  0.0315598001 &  0.034752600 &  0.0435805132 &  0.095811470 &  1.0000000000 & -0.0556853341\\\\\n",
       "\tCBR3 &  0.0315928105 & -0.052192689 &  0.0467518234 & -0.032662765 & -0.021919466 &  0.0609296035 &  0.001502064 & -0.064888023 & -0.058862510 &  0.028759423 & ⋯ & -0.0027218701 & -0.0414569248 & -0.0678865104 & -0.104845091 &  0.0563042025 &  0.003520839 &  0.0200485867 &  0.003274205 & -0.0556853341 &  1.0000000000\\\\\n",
       "\\end{tabular}\n"
      ],
      "text/markdown": [
       "\n",
       "A matrix: 978 × 978 of type dbl\n",
       "\n",
       "| <!--/--> | PSME1 | ATF1 | RHEB | FOXO3 | RHOA | IL1B | ASAH1 | RALA | ARHGEF12 | SOX2 | ⋯ | CCP110 | STK10 | UGDH | SQRDL | HEBP1 | ATP11B | CD320 | MLLT11 | CEBPZ | CBR3 |\n",
       "|---|---|---|---|---|---|---|---|---|---|---|---|---|---|---|---|---|---|---|---|---|---|\n",
       "| PSME1 |  1.000000000 |  0.026699663 |  0.033151809 | -0.0126188574 |  0.001813023 | -0.009108597 | -0.096497245 | -0.0124094731 | -0.070925659 | -0.084706615 | ⋯ |  0.042738018 |  0.012158864 | -0.057234496 |  0.0834504033 |  0.0911128163 | -0.089824204 |  0.0988864406 | -0.0070067323 |  0.122991723 |  0.031592811 |\n",
       "| ATF1 |  0.026699663 |  1.000000000 |  0.127226603 | -0.1147250388 |  0.015006002 | -0.048410774 |  0.199088611 |  0.1398941247 | -0.064300902 | -0.103227257 | ⋯ |  0.046980102 |  0.008251743 | -0.056920101 | -0.0380388622 |  0.0822461928 | -0.106877537 | -0.0507805586 | -0.0216718324 | -0.038651009 | -0.052192689 |\n",
       "| RHEB |  0.033151809 |  0.127226603 |  1.000000000 | -0.0486450461 |  0.119331159 | -0.179658776 |  0.112075730 | -0.1013062598 |  0.029579953 | -0.063637341 | ⋯ | -0.058862480 | -0.083351286 | -0.098929430 |  0.0681689931 | -0.0125830126 |  0.007603139 |  0.1921010203 |  0.0340342318 |  0.016455065 |  0.046751823 |\n",
       "| FOXO3 | -0.012618857 | -0.114725039 | -0.048645046 |  1.0000000000 |  0.088304142 | -0.076713613 |  0.003838180 | -0.1035809440 | -0.086347594 | -0.055620098 | ⋯ | -0.065246913 | -0.113148420 |  0.028609748 |  0.0508215002 | -0.0273243604 | -0.099437697 |  0.0666928696 | -0.0347831063 |  0.013061700 | -0.032662765 |\n",
       "| RHOA |  0.001813023 |  0.015006002 |  0.119331159 |  0.0883041419 |  1.000000000 | -0.061326215 |  0.012853942 | -0.1147142613 |  0.151936855 |  0.034189136 | ⋯ | -0.097409682 | -0.073421955 | -0.074858390 | -0.0356639356 | -0.0698902063 | -0.012397679 |  0.0555489723 |  0.0788979597 | -0.014487375 | -0.021919466 |\n",
       "| IL1B | -0.009108597 | -0.048410774 | -0.179658776 | -0.0767136128 | -0.061326215 |  1.000000000 | -0.032400635 |  0.1861702712 |  0.130771768 |  0.060919093 | ⋯ |  0.041705687 |  0.136906695 |  0.028085435 |  0.0001252603 | -0.0080207924 |  0.012838278 | -0.1020530993 |  0.0008126548 | -0.093737307 |  0.060929604 |\n",
       "| ASAH1 | -0.096497245 |  0.199088611 |  0.112075730 |  0.0038381796 |  0.012853942 | -0.032400635 |  1.000000000 |  0.0313473397 | -0.024305277 | -0.050899126 | ⋯ |  0.028769321 | -0.036443473 | -0.042174030 | -0.0445758464 |  0.0546031456 |  0.032890532 | -0.0102470965 | -0.0213449653 | -0.097685834 |  0.001502064 |\n",
       "| RALA | -0.012409473 |  0.139894125 | -0.101306260 | -0.1035809440 | -0.114714261 |  0.186170271 |  0.031347340 |  1.0000000000 |  0.098216372 | -0.028158856 | ⋯ |  0.048815669 |  0.132883922 |  0.035655743 | -0.0468366202 |  0.0081508850 |  0.003997155 | -0.0992862186 |  0.0430569283 | -0.074800562 | -0.064888023 |\n",
       "| ARHGEF12 | -0.070925659 | -0.064300902 |  0.029579953 | -0.0863475938 |  0.151936855 |  0.130771768 | -0.024305277 |  0.0982163720 |  1.000000000 |  0.094736250 | ⋯ |  0.018371281 |  0.080467813 | -0.005804338 | -0.0061944314 | -0.0546184649 |  0.009761368 |  0.0135681336 |  0.0974630071 | -0.138608394 | -0.058862510 |\n",
       "| SOX2 | -0.084706615 | -0.103227257 | -0.063637341 | -0.0556200975 |  0.034189136 |  0.060919093 | -0.050899126 | -0.0281588559 |  0.094736250 |  1.000000000 | ⋯ |  0.007617399 |  0.018755871 | -0.017344488 | -0.0503841331 | -0.0951958648 | -0.020100638 | -0.0808933613 |  0.0237314981 | -0.001808223 |  0.028759423 |\n",
       "| SERPINE1 | -0.046855628 |  0.001324413 |  0.038816161 |  0.0517187324 | -0.025756263 |  0.025919932 |  0.027074632 | -0.0209574007 |  0.074263645 |  0.044007368 | ⋯ | -0.088034807 | -0.055305273 | -0.087209068 |  0.0771029983 | -0.0286948686 |  0.050358883 |  0.0204152616 | -0.0606152377 | -0.085318241 | -0.088305683 |\n",
       "| HLA.DMA | -0.120916400 | -0.096855685 |  0.049948620 |  0.0879424137 |  0.106252755 | -0.057545791 | -0.017277187 | -0.1202375629 |  0.040260227 |  0.108017453 | ⋯ | -0.106699799 | -0.049158002 | -0.009562406 | -0.0851998725 | -0.0587181290 | -0.003926070 |  0.0334636354 |  0.1065219875 | -0.057458463 | -0.105975337 |\n",
       "| EGF | -0.012225738 | -0.056897660 |  0.010903129 | -0.0344866120 | -0.066517819 | -0.028055294 |  0.035036518 | -0.0387879698 |  0.097860634 |  0.088733356 | ⋯ |  0.048687078 |  0.037841035 | -0.029984617 |  0.0706398530 | -0.0569939628 | -0.035768743 |  0.0002836256 | -0.0658502143 | -0.023315576 |  0.003521268 |\n",
       "| APP | -0.004136425 |  0.072823848 |  0.066806653 |  0.0406934668 | -0.075371604 | -0.004854556 |  0.121237408 | -0.0252648933 |  0.058594816 | -0.084231645 | ⋯ |  0.055800146 |  0.029608717 | -0.014724476 |  0.0328791661 | -0.0134035093 |  0.048591427 |  0.0506293222 | -0.0024782382 |  0.002413651 | -0.134808144 |\n",
       "| NOS3 | -0.097641269 | -0.100700796 | -0.005113953 | -0.0016491297 | -0.016161121 |  0.081814250 |  0.006365814 |  0.0299417123 |  0.063451202 | -0.002215155 | ⋯ | -0.004056811 |  0.019943589 | -0.027417107 |  0.0511394804 | -0.0115315696 |  0.080415001 | -0.0443222897 |  0.0259621275 | -0.036918552 |  0.010069324 |\n",
       "| CSNK1A1 | -0.015157547 |  0.046306417 |  0.112585292 |  0.1729851255 |  0.120722942 |  0.108072425 |  0.081392259 |  0.0939447788 | -0.002166658 |  0.001756689 | ⋯ | -0.108169370 | -0.063420040 | -0.001481881 |  0.0441338011 |  0.0223333802 |  0.039643122 |  0.0588569703 | -0.0160983842 | -0.077973622 |  0.035046231 |\n",
       "| NFATC4 | -0.188677073 | -0.145530409 | -0.216865677 | -0.0497404195 | -0.104424219 |  0.219522503 |  0.023961256 |  0.0165558968 |  0.208993143 |  0.210974724 | ⋯ |  0.027451063 |  0.080946040 |  0.025410724 | -0.0209438527 | -0.0980481716 |  0.052635465 | -0.1340446929 | -0.0448160198 | -0.068337250 |  0.055139210 |\n",
       "| TBP |  0.144313538 |  0.086453907 |  0.180716021 | -0.0394624985 |  0.230474073 | -0.075011229 |  0.037785790 | -0.0054165484 | -0.034180758 | -0.040759507 | ⋯ |  0.094880969 | -0.045750641 | -0.071122530 |  0.0466982635 | -0.0727619379 | -0.065492941 |  0.0155141219 | -0.0083139855 |  0.078768961 |  0.085428149 |\n",
       "| BRCA1 | -0.004109635 |  0.128306217 | -0.031451259 | -0.1057762201 | -0.139581116 | -0.039277416 | -0.077243967 | -0.0003010217 |  0.040845255 |  0.074799704 | ⋯ |  0.130975419 | -0.025097557 | -0.005377954 |  0.0130383670 |  0.0094329996 | -0.160004780 | -0.0261420259 |  0.0731529273 |  0.035059294 |  0.042953872 |\n",
       "| PSMD4 | -0.052660763 | -0.071321285 |  0.068972920 |  0.0919611863 |  0.063728851 |  0.055562310 |  0.109808830 | -0.0260605773 |  0.071682860 |  0.026221101 | ⋯ | -0.001647434 |  0.024219532 | -0.029630690 |  0.0807277924 | -0.1294936655 |  0.039565533 |  0.0948134548 | -0.0253919810 | -0.023423100 |  0.077098652 |\n",
       "| ETV1 | -0.047409449 |  0.019648970 | -0.061367185 |  0.0076237158 |  0.029535180 |  0.054684426 | -0.036720136 |  0.0378191029 |  0.089677224 |  0.184622216 | ⋯ |  0.003025370 |  0.090472397 |  0.019783231 | -0.0307724131 | -0.0815578956 |  0.056172658 | -0.0251018029 |  0.0604260982 | -0.039245070 | -0.054455966 |\n",
       "| TERT | -0.115113973 | -0.176913212 | -0.059650869 |  0.0244466575 | -0.012067568 |  0.032440893 |  0.012122247 | -0.0649882566 |  0.017201893 |  0.145867212 | ⋯ |  0.012404285 | -0.037485452 |  0.038319873 |  0.0565442751 | -0.1663140576 |  0.015503632 | -0.0852510474 | -0.0143773656 | -0.017771432 | -0.049675827 |\n",
       "| EED |  0.021870570 |  0.222615622 | -0.060221584 | -0.1512907638 | -0.065748553 |  0.046627300 | -0.027931321 |  0.1613174880 | -0.021162766 | -0.014882171 | ⋯ |  0.127033631 |  0.046531053 |  0.066354720 | -0.1065299265 |  0.0461107461 | -0.116140022 | -0.0373462230 |  0.0780338480 | -0.011932781 | -0.074883523 |\n",
       "| PTK2B | -0.154568091 | -0.103779364 | -0.094596202 | -0.0392968712 | -0.009973579 |  0.215512188 |  0.076280642 |  0.0557380498 |  0.207324461 |  0.142335300 | ⋯ |  0.004923694 |  0.092281261 | -0.009576292 | -0.0277625036 | -0.1196540515 |  0.120599138 | -0.0885693030 | -0.0218041302 | -0.044556334 | -0.145272846 |\n",
       "| HSPB1 | -0.042768695 | -0.111000682 |  0.006417008 |  0.1653509780 |  0.012047157 | -0.010302435 | -0.049704487 | -0.0831548032 | -0.094716844 | -0.065712179 | ⋯ | -0.126336224 | -0.057919678 | -0.031190532 | -0.0159387943 | -0.0340118272 | -0.054028897 | -0.0242147882 | -0.0758962634 | -0.008515247 | -0.020681195 |\n",
       "| PIK3C3 | -0.005880439 |  0.061510733 | -0.055269288 |  0.0148787057 | -0.125286811 |  0.095131846 |  0.068020648 |  0.1159490818 | -0.015604166 |  0.121792314 | ⋯ | -0.039660633 | -0.024766395 |  0.037282917 |  0.0697439786 |  0.0005761354 |  0.059820428 | -0.1106737896 | -0.0083038759 | -0.035207729 |  0.071199871 |\n",
       "| CBLB | -0.110123623 | -0.009481546 | -0.030009866 |  0.0173645378 |  0.081425367 |  0.161618342 | -0.002641835 |  0.1319846788 |  0.138264699 |  0.006360179 | ⋯ | -0.008635339 |  0.005195762 |  0.064921998 |  0.0483660243 | -0.0331859284 |  0.072051561 | -0.0812557589 | -0.0028524107 | -0.049317067 | -0.055583480 |\n",
       "| DFFB | -0.005251343 |  0.023098458 | -0.007162509 | -0.0009275593 |  0.014144204 | -0.059539331 |  0.028461846 |  0.0410760868 |  0.026135464 | -0.013952171 | ⋯ | -0.029625604 | -0.045968370 |  0.020121652 | -0.0168035263 | -0.0270014775 |  0.030455699 |  0.0029721422 | -0.0730058832 | -0.004904219 | -0.047733574 |\n",
       "| TGFB3 | -0.149988181 | -0.135667972 | -0.093704037 | -0.0719410459 |  0.015826163 |  0.356456364 |  0.031510632 |  0.1049341288 |  0.325754108 |  0.190255303 | ⋯ | -0.018741642 |  0.163028631 | -0.031726059 | -0.0147075701 | -0.0131464675 |  0.068125240 | -0.0005366414 |  0.0056995914 | -0.119260687 |  0.090724716 |\n",
       "| PRKX | -0.067830410 | -0.050654917 | -0.139737539 |  0.0074975511 | -0.044065324 |  0.076644019 |  0.002618275 | -0.0141406031 |  0.112133450 |  0.081864342 | ⋯ |  0.105018396 |  0.017539236 | -0.019247011 | -0.0058783243 | -0.0600411736 | -0.015932690 | -0.0633655878 | -0.0536765880 |  0.022812862 | -0.039707120 |\n",
       "| ⋮ | ⋮ | ⋮ | ⋮ | ⋮ | ⋮ | ⋮ | ⋮ | ⋮ | ⋮ | ⋮ | ⋱ | ⋮ | ⋮ | ⋮ | ⋮ | ⋮ | ⋮ | ⋮ | ⋮ | ⋮ | ⋮ |\n",
       "| KLHL9 | -0.0654497296 |  0.018953831 |  0.1516068027 | -0.035327306 |  0.090859524 |  0.0118109435 |  0.032910420 | -0.056568151 | -0.046977513 | -0.094821558 | ⋯ | -0.0404139068 | -0.0419298863 | -0.0330354915 |  0.058091691 | -0.0442777225 | -0.051115934 |  0.0496926085 |  0.069605509 | -0.0217861844 |  0.0004046269 |\n",
       "| UBE2J1 | -0.0855841503 | -0.156537777 | -0.0598789027 |  0.032298059 | -0.036976631 | -0.0177636030 | -0.006205697 |  0.020563392 |  0.111824065 | -0.066569747 | ⋯ | -0.0510850881 | -0.0462665913 | -0.0387895492 | -0.004317357 | -0.0350770220 |  0.078425698 |  0.0706449725 |  0.036098400 | -0.0754120949 |  0.0507346338 |\n",
       "| SLC37A4 |  0.1227208319 | -0.022025682 | -0.0003446413 | -0.009959304 |  0.006270311 | -0.0442066283 | -0.022145261 | -0.100808804 | -0.007109636 | -0.054386794 | ⋯ |  0.1299473519 | -0.0076735807 | -0.0635464751 |  0.067175665 |  0.0417579898 | -0.014212259 |  0.0042701579 |  0.101705477 |  0.1636754368 |  0.0514269283 |\n",
       "| NPRL2 |  0.0116398271 | -0.083323493 | -0.0465747073 | -0.019312562 |  0.024263478 |  0.0829416389 | -0.047383677 | -0.041777747 |  0.050874216 | -0.047510195 | ⋯ |  0.0288103144 |  0.0223150151 |  0.0222247806 |  0.026588560 | -0.0258339434 |  0.082739062 |  0.0253059797 | -0.041236716 |  0.0227619073 |  0.0171490793 |\n",
       "| PWP1 | -0.0470632701 | -0.068103625 |  0.0063926635 |  0.004013542 |  0.087980451 | -0.0739412927 | -0.064723724 | -0.059665419 | -0.079565970 | -0.046357731 | ⋯ |  0.0110631247 | -0.0459983819 |  0.0643012460 | -0.022184045 | -0.0653509359 |  0.062224292 |  0.0388103294 | -0.066406596 |  0.1415593679 |  0.0999646348 |\n",
       "| PLEKHM1 | -0.0047278696 | -0.066545661 | -0.0959666392 |  0.049139970 | -0.116344395 |  0.1181079638 | -0.025832713 |  0.028545111 | -0.072418773 | -0.081931940 | ⋯ |  0.0085088970 |  0.0578999427 |  0.0506877967 |  0.048934234 | -0.0522683293 |  0.090077281 |  0.0298209228 | -0.058547810 |  0.0578075291 |  0.0544073172 |\n",
       "| VAT1 |  0.0785244986 | -0.037989732 |  0.0150176767 |  0.041020959 | -0.035100467 | -0.0603513778 |  0.008319434 | -0.071581789 | -0.026282937 | -0.101749697 | ⋯ | -0.0749913874 | -0.0002258213 | -0.0210586160 |  0.071779948 |  0.0362667907 |  0.005669000 | -0.0097763419 |  0.039620082 | -0.0277138961 |  0.0259036565 |\n",
       "| KIF20A |  0.0152660294 |  0.045486815 |  0.1596098074 | -0.038296798 |  0.147290426 | -0.1930484779 |  0.003361108 | -0.138279640 | -0.019376368 | -0.023080744 | ⋯ | -0.0685458996 | -0.0785836790 | -0.0876176013 | -0.102345513 |  0.0267258325 | -0.028579640 |  0.0339292982 | -0.025594974 | -0.0168086340 |  0.0363648170 |\n",
       "| CDH3 | -0.0022342553 | -0.064894289 | -0.0061040891 |  0.011038792 | -0.069802561 | -0.0133838936 | -0.005403694 |  0.058820955 | -0.095818811 | -0.042606921 | ⋯ | -0.0577883201 | -0.0644594935 | -0.0644409788 |  0.035514971 | -0.0160840201 |  0.048919000 |  0.0348939842 |  0.018565169 |  0.0070227042 | -0.0207975960 |\n",
       "| SSBP2 | -0.0904016242 |  0.005237222 | -0.0596462235 | -0.049311904 |  0.043502746 |  0.0005813900 | -0.003270894 | -0.003478161 |  0.068683819 | -0.024377383 | ⋯ |  0.0479808875 |  0.0509650774 |  0.0654344256 |  0.064390264 |  0.0241574839 |  0.186976374 |  0.0455695425 | -0.014960720 | -0.0142763431 |  0.0211518726 |\n",
       "| SNX11 | -0.0106758812 |  0.001392690 |  0.0376923792 |  0.082295888 |  0.108736370 | -0.0718238296 |  0.023933110 |  0.069340800 |  0.096184749 | -0.073492302 | ⋯ | -0.0654752860 | -0.0593460330 | -0.0189235747 | -0.060423276 | -0.0268212720 | -0.002220998 | -0.0091173073 |  0.035033508 | -0.0541149772 |  0.0063148340 |\n",
       "| SFN | -0.1380508677 | -0.087106333 |  0.0388347251 | -0.020320593 |  0.098994495 |  0.0034723338 | -0.045757960 |  0.016928234 |  0.104992104 | -0.089242075 | ⋯ | -0.0942070908 | -0.0491654335 |  0.0023031820 |  0.025690783 | -0.0558051888 |  0.008667825 |  0.0322881341 |  0.045220366 | -0.1202273416 | -0.0480187594 |\n",
       "| RFX5 |  0.1353906168 |  0.015047651 | -0.0222076321 |  0.147215948 | -0.076851982 | -0.0132642191 |  0.085966930 | -0.076306085 | -0.135066959 | -0.037598378 | ⋯ |  0.0253114601 |  0.0079530264 | -0.0172816297 |  0.040478215 |  0.0620089989 | -0.028271876 | -0.1006366949 | -0.026923366 |  0.0002643095 |  0.0664592857 |\n",
       "| PKIG |  0.0430838848 |  0.061698005 | -0.0803004718 | -0.013555781 |  0.025402724 |  0.0700157525 | -0.050471466 |  0.032150570 | -0.151076225 |  0.018174510 | ⋯ | -0.0438904279 |  0.0223331107 |  0.0216795843 | -0.059968139 |  0.0037429985 | -0.011257132 |  0.0241343642 | -0.011235622 |  0.0984954692 |  0.0507555966 |\n",
       "| FSD1 | -0.0610166937 | -0.107024983 | -0.1017861151 | -0.039174137 | -0.037271055 | -0.0441692030 | -0.060811109 | -0.065810457 | -0.087151927 |  0.057896931 | ⋯ |  0.0495986913 |  0.0095632203 |  0.0036525735 |  0.002497071 |  0.0057422973 |  0.083737696 |  0.0425124509 | -0.054413599 | -0.0058675411 |  0.0030160677 |\n",
       "| ATP6V1D | -0.0153969538 | -0.075786116 | -0.0311669318 |  0.106483343 |  0.106253338 |  0.0112341017 |  0.074453425 |  0.005736284 |  0.062278239 | -0.007925272 | ⋯ |  0.0701428315 | -0.0708004541 |  0.0729676867 | -0.036574018 | -0.0103457131 |  0.070146511 | -0.0078188604 | -0.024931446 |  0.0648355482 |  0.0143721607 |\n",
       "| CDC45 | -0.0480722364 | -0.017374800 |  0.0444589404 | -0.025508326 |  0.049790807 |  0.0198310037 | -0.044553408 | -0.048643642 |  0.024699569 |  0.094944037 | ⋯ | -0.0355555707 |  0.0016330353 |  0.0295337145 | -0.027026923 | -0.0357453700 | -0.066736644 |  0.1207438798 |  0.106757048 |  0.0299671878 |  0.1256214646 |\n",
       "| EDEM1 | -0.0150094485 | -0.055000926 | -0.0052818173 |  0.109118947 |  0.022786119 | -0.0115315863 |  0.036163879 | -0.039533322 | -0.125636176 | -0.020850348 | ⋯ |  0.0184570915 | -0.0238503599 | -0.0247061367 | -0.032492586 |  0.0094721166 |  0.002892016 | -0.0001104102 | -0.128200222 |  0.0576213748 | -0.0158601710 |\n",
       "| USP6NL | -0.0534853450 |  0.048858409 |  0.0136881527 | -0.004294719 |  0.005140586 | -0.0851038881 |  0.042032179 | -0.089461885 |  0.018877902 | -0.046128869 | ⋯ |  0.0462412121 | -0.0311478557 |  0.0424134919 |  0.031586525 |  0.0699650062 | -0.017485693 | -0.0534951594 |  0.073115574 | -0.0212135198 |  0.0495723049 |\n",
       "| NT5DC2 | -0.0008391351 | -0.096940175 |  0.0647930163 |  0.001716752 |  0.078607959 | -0.0022292895 | -0.041475552 | -0.072539341 | -0.019239555 |  0.046992573 | ⋯ | -0.0004786085 | -0.0675230147 | -0.0089930616 | -0.016051757 | -0.0018127360 | -0.036574757 |  0.0223486169 |  0.006427884 | -0.0453356584 |  0.0481047263 |\n",
       "| CCP110 |  0.0427380182 |  0.046980102 | -0.0588624802 | -0.065246913 | -0.097409682 |  0.0417056874 |  0.028769321 |  0.048815669 |  0.018371281 |  0.007617399 | ⋯ |  1.0000000000 |  0.0049021301 |  0.0423178842 | -0.057913666 |  0.0320410013 |  0.041181124 | -0.0392967896 |  0.025440746 |  0.1629026228 | -0.0027218701 |\n",
       "| STK10 |  0.0121588639 |  0.008251743 | -0.0833512858 | -0.113148420 | -0.073421955 |  0.1369066951 | -0.036443473 |  0.132883922 |  0.080467813 |  0.018755871 | ⋯ |  0.0049021301 |  1.0000000000 | -0.0687507578 |  0.063813616 |  0.0096795666 | -0.001872262 |  0.0401147114 | -0.070253041 | -0.0449470500 | -0.0414569248 |\n",
       "| UGDH | -0.0572344963 | -0.056920101 | -0.0989294303 |  0.028609748 | -0.074858390 |  0.0280854350 | -0.042174030 |  0.035655743 | -0.005804338 | -0.017344488 | ⋯ |  0.0423178842 | -0.0687507578 |  1.0000000000 | -0.035771782 | -0.0002436362 |  0.110202739 |  0.0172373301 |  0.028893123 |  0.0002653440 | -0.0678865104 |\n",
       "| SQRDL |  0.0834504033 | -0.038038862 |  0.0681689931 |  0.050821500 | -0.035663936 |  0.0001252603 | -0.044575846 | -0.046836620 | -0.006194431 | -0.050384133 | ⋯ | -0.0579136659 |  0.0638136161 | -0.0357717818 |  1.000000000 | -0.0419212847 |  0.076661935 |  0.0007871230 |  0.006812493 | -0.0790188072 | -0.1048450910 |\n",
       "| HEBP1 |  0.0911128163 |  0.082246193 | -0.0125830126 | -0.027324360 | -0.069890206 | -0.0080207924 |  0.054603146 |  0.008150885 | -0.054618465 | -0.095195865 | ⋯ |  0.0320410013 |  0.0096795666 | -0.0002436362 | -0.041921285 |  1.0000000000 | -0.115016728 |  0.0655446359 |  0.042270618 |  0.0315598001 |  0.0563042025 |\n",
       "| ATP11B | -0.0898242040 | -0.106877537 |  0.0076031393 | -0.099437697 | -0.012397679 |  0.0128382782 |  0.032890532 |  0.003997155 |  0.009761368 | -0.020100638 | ⋯ |  0.0411811243 | -0.0018722623 |  0.1102027386 |  0.076661935 | -0.1150167285 |  1.000000000 |  0.0302944537 |  0.059268121 |  0.0347526004 |  0.0035208390 |\n",
       "| CD320 |  0.0988864406 | -0.050780559 |  0.1921010203 |  0.066692870 |  0.055548972 | -0.1020530993 | -0.010247096 | -0.099286219 |  0.013568134 | -0.080893361 | ⋯ | -0.0392967896 |  0.0401147114 |  0.0172373301 |  0.000787123 |  0.0655446359 |  0.030294454 |  1.0000000000 | -0.062566462 |  0.0435805132 |  0.0200485867 |\n",
       "| MLLT11 | -0.0070067323 | -0.021671832 |  0.0340342318 | -0.034783106 |  0.078897960 |  0.0008126548 | -0.021344965 |  0.043056928 |  0.097463007 |  0.023731498 | ⋯ |  0.0254407461 | -0.0702530413 |  0.0288931234 |  0.006812493 |  0.0422706178 |  0.059268121 | -0.0625664619 |  1.000000000 |  0.0958114704 |  0.0032742048 |\n",
       "| CEBPZ |  0.1229917228 | -0.038651009 |  0.0164550652 |  0.013061700 | -0.014487375 | -0.0937373065 | -0.097685834 | -0.074800562 | -0.138608394 | -0.001808223 | ⋯ |  0.1629026228 | -0.0449470500 |  0.0002653440 | -0.079018807 |  0.0315598001 |  0.034752600 |  0.0435805132 |  0.095811470 |  1.0000000000 | -0.0556853341 |\n",
       "| CBR3 |  0.0315928105 | -0.052192689 |  0.0467518234 | -0.032662765 | -0.021919466 |  0.0609296035 |  0.001502064 | -0.064888023 | -0.058862510 |  0.028759423 | ⋯ | -0.0027218701 | -0.0414569248 | -0.0678865104 | -0.104845091 |  0.0563042025 |  0.003520839 |  0.0200485867 |  0.003274205 | -0.0556853341 |  1.0000000000 |\n",
       "\n"
      ],
      "text/plain": [
       "         PSME1         ATF1         RHEB          FOXO3         RHOA        \n",
       "PSME1     1.000000000   0.026699663  0.033151809  -0.0126188574  0.001813023\n",
       "ATF1      0.026699663   1.000000000  0.127226603  -0.1147250388  0.015006002\n",
       "RHEB      0.033151809   0.127226603  1.000000000  -0.0486450461  0.119331159\n",
       "FOXO3    -0.012618857  -0.114725039 -0.048645046   1.0000000000  0.088304142\n",
       "RHOA      0.001813023   0.015006002  0.119331159   0.0883041419  1.000000000\n",
       "IL1B     -0.009108597  -0.048410774 -0.179658776  -0.0767136128 -0.061326215\n",
       "ASAH1    -0.096497245   0.199088611  0.112075730   0.0038381796  0.012853942\n",
       "RALA     -0.012409473   0.139894125 -0.101306260  -0.1035809440 -0.114714261\n",
       "ARHGEF12 -0.070925659  -0.064300902  0.029579953  -0.0863475938  0.151936855\n",
       "SOX2     -0.084706615  -0.103227257 -0.063637341  -0.0556200975  0.034189136\n",
       "SERPINE1 -0.046855628   0.001324413  0.038816161   0.0517187324 -0.025756263\n",
       "HLA.DMA  -0.120916400  -0.096855685  0.049948620   0.0879424137  0.106252755\n",
       "EGF      -0.012225738  -0.056897660  0.010903129  -0.0344866120 -0.066517819\n",
       "APP      -0.004136425   0.072823848  0.066806653   0.0406934668 -0.075371604\n",
       "NOS3     -0.097641269  -0.100700796 -0.005113953  -0.0016491297 -0.016161121\n",
       "CSNK1A1  -0.015157547   0.046306417  0.112585292   0.1729851255  0.120722942\n",
       "NFATC4   -0.188677073  -0.145530409 -0.216865677  -0.0497404195 -0.104424219\n",
       "TBP       0.144313538   0.086453907  0.180716021  -0.0394624985  0.230474073\n",
       "BRCA1    -0.004109635   0.128306217 -0.031451259  -0.1057762201 -0.139581116\n",
       "PSMD4    -0.052660763  -0.071321285  0.068972920   0.0919611863  0.063728851\n",
       "ETV1     -0.047409449   0.019648970 -0.061367185   0.0076237158  0.029535180\n",
       "TERT     -0.115113973  -0.176913212 -0.059650869   0.0244466575 -0.012067568\n",
       "EED       0.021870570   0.222615622 -0.060221584  -0.1512907638 -0.065748553\n",
       "PTK2B    -0.154568091  -0.103779364 -0.094596202  -0.0392968712 -0.009973579\n",
       "HSPB1    -0.042768695  -0.111000682  0.006417008   0.1653509780  0.012047157\n",
       "PIK3C3   -0.005880439   0.061510733 -0.055269288   0.0148787057 -0.125286811\n",
       "CBLB     -0.110123623  -0.009481546 -0.030009866   0.0173645378  0.081425367\n",
       "DFFB     -0.005251343   0.023098458 -0.007162509  -0.0009275593  0.014144204\n",
       "TGFB3    -0.149988181  -0.135667972 -0.093704037  -0.0719410459  0.015826163\n",
       "PRKX     -0.067830410  -0.050654917 -0.139737539   0.0074975511 -0.044065324\n",
       "⋮        ⋮             ⋮            ⋮             ⋮             ⋮           \n",
       "KLHL9    -0.0654497296  0.018953831  0.1516068027 -0.035327306   0.090859524\n",
       "UBE2J1   -0.0855841503 -0.156537777 -0.0598789027  0.032298059  -0.036976631\n",
       "SLC37A4   0.1227208319 -0.022025682 -0.0003446413 -0.009959304   0.006270311\n",
       "NPRL2     0.0116398271 -0.083323493 -0.0465747073 -0.019312562   0.024263478\n",
       "PWP1     -0.0470632701 -0.068103625  0.0063926635  0.004013542   0.087980451\n",
       "PLEKHM1  -0.0047278696 -0.066545661 -0.0959666392  0.049139970  -0.116344395\n",
       "VAT1      0.0785244986 -0.037989732  0.0150176767  0.041020959  -0.035100467\n",
       "KIF20A    0.0152660294  0.045486815  0.1596098074 -0.038296798   0.147290426\n",
       "CDH3     -0.0022342553 -0.064894289 -0.0061040891  0.011038792  -0.069802561\n",
       "SSBP2    -0.0904016242  0.005237222 -0.0596462235 -0.049311904   0.043502746\n",
       "SNX11    -0.0106758812  0.001392690  0.0376923792  0.082295888   0.108736370\n",
       "SFN      -0.1380508677 -0.087106333  0.0388347251 -0.020320593   0.098994495\n",
       "RFX5      0.1353906168  0.015047651 -0.0222076321  0.147215948  -0.076851982\n",
       "PKIG      0.0430838848  0.061698005 -0.0803004718 -0.013555781   0.025402724\n",
       "FSD1     -0.0610166937 -0.107024983 -0.1017861151 -0.039174137  -0.037271055\n",
       "ATP6V1D  -0.0153969538 -0.075786116 -0.0311669318  0.106483343   0.106253338\n",
       "CDC45    -0.0480722364 -0.017374800  0.0444589404 -0.025508326   0.049790807\n",
       "EDEM1    -0.0150094485 -0.055000926 -0.0052818173  0.109118947   0.022786119\n",
       "USP6NL   -0.0534853450  0.048858409  0.0136881527 -0.004294719   0.005140586\n",
       "NT5DC2   -0.0008391351 -0.096940175  0.0647930163  0.001716752   0.078607959\n",
       "CCP110    0.0427380182  0.046980102 -0.0588624802 -0.065246913  -0.097409682\n",
       "STK10     0.0121588639  0.008251743 -0.0833512858 -0.113148420  -0.073421955\n",
       "UGDH     -0.0572344963 -0.056920101 -0.0989294303  0.028609748  -0.074858390\n",
       "SQRDL     0.0834504033 -0.038038862  0.0681689931  0.050821500  -0.035663936\n",
       "HEBP1     0.0911128163  0.082246193 -0.0125830126 -0.027324360  -0.069890206\n",
       "ATP11B   -0.0898242040 -0.106877537  0.0076031393 -0.099437697  -0.012397679\n",
       "CD320     0.0988864406 -0.050780559  0.1921010203  0.066692870   0.055548972\n",
       "MLLT11   -0.0070067323 -0.021671832  0.0340342318 -0.034783106   0.078897960\n",
       "CEBPZ     0.1229917228 -0.038651009  0.0164550652  0.013061700  -0.014487375\n",
       "CBR3      0.0315928105 -0.052192689  0.0467518234 -0.032662765  -0.021919466\n",
       "         IL1B          ASAH1        RALA          ARHGEF12     SOX2         ⋯\n",
       "PSME1    -0.009108597  -0.096497245 -0.0124094731 -0.070925659 -0.084706615 ⋯\n",
       "ATF1     -0.048410774   0.199088611  0.1398941247 -0.064300902 -0.103227257 ⋯\n",
       "RHEB     -0.179658776   0.112075730 -0.1013062598  0.029579953 -0.063637341 ⋯\n",
       "FOXO3    -0.076713613   0.003838180 -0.1035809440 -0.086347594 -0.055620098 ⋯\n",
       "RHOA     -0.061326215   0.012853942 -0.1147142613  0.151936855  0.034189136 ⋯\n",
       "IL1B      1.000000000  -0.032400635  0.1861702712  0.130771768  0.060919093 ⋯\n",
       "ASAH1    -0.032400635   1.000000000  0.0313473397 -0.024305277 -0.050899126 ⋯\n",
       "RALA      0.186170271   0.031347340  1.0000000000  0.098216372 -0.028158856 ⋯\n",
       "ARHGEF12  0.130771768  -0.024305277  0.0982163720  1.000000000  0.094736250 ⋯\n",
       "SOX2      0.060919093  -0.050899126 -0.0281588559  0.094736250  1.000000000 ⋯\n",
       "SERPINE1  0.025919932   0.027074632 -0.0209574007  0.074263645  0.044007368 ⋯\n",
       "HLA.DMA  -0.057545791  -0.017277187 -0.1202375629  0.040260227  0.108017453 ⋯\n",
       "EGF      -0.028055294   0.035036518 -0.0387879698  0.097860634  0.088733356 ⋯\n",
       "APP      -0.004854556   0.121237408 -0.0252648933  0.058594816 -0.084231645 ⋯\n",
       "NOS3      0.081814250   0.006365814  0.0299417123  0.063451202 -0.002215155 ⋯\n",
       "CSNK1A1   0.108072425   0.081392259  0.0939447788 -0.002166658  0.001756689 ⋯\n",
       "NFATC4    0.219522503   0.023961256  0.0165558968  0.208993143  0.210974724 ⋯\n",
       "TBP      -0.075011229   0.037785790 -0.0054165484 -0.034180758 -0.040759507 ⋯\n",
       "BRCA1    -0.039277416  -0.077243967 -0.0003010217  0.040845255  0.074799704 ⋯\n",
       "PSMD4     0.055562310   0.109808830 -0.0260605773  0.071682860  0.026221101 ⋯\n",
       "ETV1      0.054684426  -0.036720136  0.0378191029  0.089677224  0.184622216 ⋯\n",
       "TERT      0.032440893   0.012122247 -0.0649882566  0.017201893  0.145867212 ⋯\n",
       "EED       0.046627300  -0.027931321  0.1613174880 -0.021162766 -0.014882171 ⋯\n",
       "PTK2B     0.215512188   0.076280642  0.0557380498  0.207324461  0.142335300 ⋯\n",
       "HSPB1    -0.010302435  -0.049704487 -0.0831548032 -0.094716844 -0.065712179 ⋯\n",
       "PIK3C3    0.095131846   0.068020648  0.1159490818 -0.015604166  0.121792314 ⋯\n",
       "CBLB      0.161618342  -0.002641835  0.1319846788  0.138264699  0.006360179 ⋯\n",
       "DFFB     -0.059539331   0.028461846  0.0410760868  0.026135464 -0.013952171 ⋯\n",
       "TGFB3     0.356456364   0.031510632  0.1049341288  0.325754108  0.190255303 ⋯\n",
       "PRKX      0.076644019   0.002618275 -0.0141406031  0.112133450  0.081864342 ⋯\n",
       "⋮        ⋮             ⋮            ⋮             ⋮            ⋮            ⋱\n",
       "KLHL9     0.0118109435  0.032910420 -0.056568151  -0.046977513 -0.094821558 ⋯\n",
       "UBE2J1   -0.0177636030 -0.006205697  0.020563392   0.111824065 -0.066569747 ⋯\n",
       "SLC37A4  -0.0442066283 -0.022145261 -0.100808804  -0.007109636 -0.054386794 ⋯\n",
       "NPRL2     0.0829416389 -0.047383677 -0.041777747   0.050874216 -0.047510195 ⋯\n",
       "PWP1     -0.0739412927 -0.064723724 -0.059665419  -0.079565970 -0.046357731 ⋯\n",
       "PLEKHM1   0.1181079638 -0.025832713  0.028545111  -0.072418773 -0.081931940 ⋯\n",
       "VAT1     -0.0603513778  0.008319434 -0.071581789  -0.026282937 -0.101749697 ⋯\n",
       "KIF20A   -0.1930484779  0.003361108 -0.138279640  -0.019376368 -0.023080744 ⋯\n",
       "CDH3     -0.0133838936 -0.005403694  0.058820955  -0.095818811 -0.042606921 ⋯\n",
       "SSBP2     0.0005813900 -0.003270894 -0.003478161   0.068683819 -0.024377383 ⋯\n",
       "SNX11    -0.0718238296  0.023933110  0.069340800   0.096184749 -0.073492302 ⋯\n",
       "SFN       0.0034723338 -0.045757960  0.016928234   0.104992104 -0.089242075 ⋯\n",
       "RFX5     -0.0132642191  0.085966930 -0.076306085  -0.135066959 -0.037598378 ⋯\n",
       "PKIG      0.0700157525 -0.050471466  0.032150570  -0.151076225  0.018174510 ⋯\n",
       "FSD1     -0.0441692030 -0.060811109 -0.065810457  -0.087151927  0.057896931 ⋯\n",
       "ATP6V1D   0.0112341017  0.074453425  0.005736284   0.062278239 -0.007925272 ⋯\n",
       "CDC45     0.0198310037 -0.044553408 -0.048643642   0.024699569  0.094944037 ⋯\n",
       "EDEM1    -0.0115315863  0.036163879 -0.039533322  -0.125636176 -0.020850348 ⋯\n",
       "USP6NL   -0.0851038881  0.042032179 -0.089461885   0.018877902 -0.046128869 ⋯\n",
       "NT5DC2   -0.0022292895 -0.041475552 -0.072539341  -0.019239555  0.046992573 ⋯\n",
       "CCP110    0.0417056874  0.028769321  0.048815669   0.018371281  0.007617399 ⋯\n",
       "STK10     0.1369066951 -0.036443473  0.132883922   0.080467813  0.018755871 ⋯\n",
       "UGDH      0.0280854350 -0.042174030  0.035655743  -0.005804338 -0.017344488 ⋯\n",
       "SQRDL     0.0001252603 -0.044575846 -0.046836620  -0.006194431 -0.050384133 ⋯\n",
       "HEBP1    -0.0080207924  0.054603146  0.008150885  -0.054618465 -0.095195865 ⋯\n",
       "ATP11B    0.0128382782  0.032890532  0.003997155   0.009761368 -0.020100638 ⋯\n",
       "CD320    -0.1020530993 -0.010247096 -0.099286219   0.013568134 -0.080893361 ⋯\n",
       "MLLT11    0.0008126548 -0.021344965  0.043056928   0.097463007  0.023731498 ⋯\n",
       "CEBPZ    -0.0937373065 -0.097685834 -0.074800562  -0.138608394 -0.001808223 ⋯\n",
       "CBR3      0.0609296035  0.001502064 -0.064888023  -0.058862510  0.028759423 ⋯\n",
       "         CCP110        STK10         UGDH          SQRDL         HEBP1        \n",
       "PSME1     0.042738018   0.012158864  -0.057234496   0.0834504033  0.0911128163\n",
       "ATF1      0.046980102   0.008251743  -0.056920101  -0.0380388622  0.0822461928\n",
       "RHEB     -0.058862480  -0.083351286  -0.098929430   0.0681689931 -0.0125830126\n",
       "FOXO3    -0.065246913  -0.113148420   0.028609748   0.0508215002 -0.0273243604\n",
       "RHOA     -0.097409682  -0.073421955  -0.074858390  -0.0356639356 -0.0698902063\n",
       "IL1B      0.041705687   0.136906695   0.028085435   0.0001252603 -0.0080207924\n",
       "ASAH1     0.028769321  -0.036443473  -0.042174030  -0.0445758464  0.0546031456\n",
       "RALA      0.048815669   0.132883922   0.035655743  -0.0468366202  0.0081508850\n",
       "ARHGEF12  0.018371281   0.080467813  -0.005804338  -0.0061944314 -0.0546184649\n",
       "SOX2      0.007617399   0.018755871  -0.017344488  -0.0503841331 -0.0951958648\n",
       "SERPINE1 -0.088034807  -0.055305273  -0.087209068   0.0771029983 -0.0286948686\n",
       "HLA.DMA  -0.106699799  -0.049158002  -0.009562406  -0.0851998725 -0.0587181290\n",
       "EGF       0.048687078   0.037841035  -0.029984617   0.0706398530 -0.0569939628\n",
       "APP       0.055800146   0.029608717  -0.014724476   0.0328791661 -0.0134035093\n",
       "NOS3     -0.004056811   0.019943589  -0.027417107   0.0511394804 -0.0115315696\n",
       "CSNK1A1  -0.108169370  -0.063420040  -0.001481881   0.0441338011  0.0223333802\n",
       "NFATC4    0.027451063   0.080946040   0.025410724  -0.0209438527 -0.0980481716\n",
       "TBP       0.094880969  -0.045750641  -0.071122530   0.0466982635 -0.0727619379\n",
       "BRCA1     0.130975419  -0.025097557  -0.005377954   0.0130383670  0.0094329996\n",
       "PSMD4    -0.001647434   0.024219532  -0.029630690   0.0807277924 -0.1294936655\n",
       "ETV1      0.003025370   0.090472397   0.019783231  -0.0307724131 -0.0815578956\n",
       "TERT      0.012404285  -0.037485452   0.038319873   0.0565442751 -0.1663140576\n",
       "EED       0.127033631   0.046531053   0.066354720  -0.1065299265  0.0461107461\n",
       "PTK2B     0.004923694   0.092281261  -0.009576292  -0.0277625036 -0.1196540515\n",
       "HSPB1    -0.126336224  -0.057919678  -0.031190532  -0.0159387943 -0.0340118272\n",
       "PIK3C3   -0.039660633  -0.024766395   0.037282917   0.0697439786  0.0005761354\n",
       "CBLB     -0.008635339   0.005195762   0.064921998   0.0483660243 -0.0331859284\n",
       "DFFB     -0.029625604  -0.045968370   0.020121652  -0.0168035263 -0.0270014775\n",
       "TGFB3    -0.018741642   0.163028631  -0.031726059  -0.0147075701 -0.0131464675\n",
       "PRKX      0.105018396   0.017539236  -0.019247011  -0.0058783243 -0.0600411736\n",
       "⋮        ⋮             ⋮             ⋮             ⋮             ⋮            \n",
       "KLHL9    -0.0404139068 -0.0419298863 -0.0330354915  0.058091691  -0.0442777225\n",
       "UBE2J1   -0.0510850881 -0.0462665913 -0.0387895492 -0.004317357  -0.0350770220\n",
       "SLC37A4   0.1299473519 -0.0076735807 -0.0635464751  0.067175665   0.0417579898\n",
       "NPRL2     0.0288103144  0.0223150151  0.0222247806  0.026588560  -0.0258339434\n",
       "PWP1      0.0110631247 -0.0459983819  0.0643012460 -0.022184045  -0.0653509359\n",
       "PLEKHM1   0.0085088970  0.0578999427  0.0506877967  0.048934234  -0.0522683293\n",
       "VAT1     -0.0749913874 -0.0002258213 -0.0210586160  0.071779948   0.0362667907\n",
       "KIF20A   -0.0685458996 -0.0785836790 -0.0876176013 -0.102345513   0.0267258325\n",
       "CDH3     -0.0577883201 -0.0644594935 -0.0644409788  0.035514971  -0.0160840201\n",
       "SSBP2     0.0479808875  0.0509650774  0.0654344256  0.064390264   0.0241574839\n",
       "SNX11    -0.0654752860 -0.0593460330 -0.0189235747 -0.060423276  -0.0268212720\n",
       "SFN      -0.0942070908 -0.0491654335  0.0023031820  0.025690783  -0.0558051888\n",
       "RFX5      0.0253114601  0.0079530264 -0.0172816297  0.040478215   0.0620089989\n",
       "PKIG     -0.0438904279  0.0223331107  0.0216795843 -0.059968139   0.0037429985\n",
       "FSD1      0.0495986913  0.0095632203  0.0036525735  0.002497071   0.0057422973\n",
       "ATP6V1D   0.0701428315 -0.0708004541  0.0729676867 -0.036574018  -0.0103457131\n",
       "CDC45    -0.0355555707  0.0016330353  0.0295337145 -0.027026923  -0.0357453700\n",
       "EDEM1     0.0184570915 -0.0238503599 -0.0247061367 -0.032492586   0.0094721166\n",
       "USP6NL    0.0462412121 -0.0311478557  0.0424134919  0.031586525   0.0699650062\n",
       "NT5DC2   -0.0004786085 -0.0675230147 -0.0089930616 -0.016051757  -0.0018127360\n",
       "CCP110    1.0000000000  0.0049021301  0.0423178842 -0.057913666   0.0320410013\n",
       "STK10     0.0049021301  1.0000000000 -0.0687507578  0.063813616   0.0096795666\n",
       "UGDH      0.0423178842 -0.0687507578  1.0000000000 -0.035771782  -0.0002436362\n",
       "SQRDL    -0.0579136659  0.0638136161 -0.0357717818  1.000000000  -0.0419212847\n",
       "HEBP1     0.0320410013  0.0096795666 -0.0002436362 -0.041921285   1.0000000000\n",
       "ATP11B    0.0411811243 -0.0018722623  0.1102027386  0.076661935  -0.1150167285\n",
       "CD320    -0.0392967896  0.0401147114  0.0172373301  0.000787123   0.0655446359\n",
       "MLLT11    0.0254407461 -0.0702530413  0.0288931234  0.006812493   0.0422706178\n",
       "CEBPZ     0.1629026228 -0.0449470500  0.0002653440 -0.079018807   0.0315598001\n",
       "CBR3     -0.0027218701 -0.0414569248 -0.0678865104 -0.104845091   0.0563042025\n",
       "         ATP11B       CD320         MLLT11        CEBPZ         CBR3         \n",
       "PSME1    -0.089824204  0.0988864406 -0.0070067323  0.122991723   0.031592811 \n",
       "ATF1     -0.106877537 -0.0507805586 -0.0216718324 -0.038651009  -0.052192689 \n",
       "RHEB      0.007603139  0.1921010203  0.0340342318  0.016455065   0.046751823 \n",
       "FOXO3    -0.099437697  0.0666928696 -0.0347831063  0.013061700  -0.032662765 \n",
       "RHOA     -0.012397679  0.0555489723  0.0788979597 -0.014487375  -0.021919466 \n",
       "IL1B      0.012838278 -0.1020530993  0.0008126548 -0.093737307   0.060929604 \n",
       "ASAH1     0.032890532 -0.0102470965 -0.0213449653 -0.097685834   0.001502064 \n",
       "RALA      0.003997155 -0.0992862186  0.0430569283 -0.074800562  -0.064888023 \n",
       "ARHGEF12  0.009761368  0.0135681336  0.0974630071 -0.138608394  -0.058862510 \n",
       "SOX2     -0.020100638 -0.0808933613  0.0237314981 -0.001808223   0.028759423 \n",
       "SERPINE1  0.050358883  0.0204152616 -0.0606152377 -0.085318241  -0.088305683 \n",
       "HLA.DMA  -0.003926070  0.0334636354  0.1065219875 -0.057458463  -0.105975337 \n",
       "EGF      -0.035768743  0.0002836256 -0.0658502143 -0.023315576   0.003521268 \n",
       "APP       0.048591427  0.0506293222 -0.0024782382  0.002413651  -0.134808144 \n",
       "NOS3      0.080415001 -0.0443222897  0.0259621275 -0.036918552   0.010069324 \n",
       "CSNK1A1   0.039643122  0.0588569703 -0.0160983842 -0.077973622   0.035046231 \n",
       "NFATC4    0.052635465 -0.1340446929 -0.0448160198 -0.068337250   0.055139210 \n",
       "TBP      -0.065492941  0.0155141219 -0.0083139855  0.078768961   0.085428149 \n",
       "BRCA1    -0.160004780 -0.0261420259  0.0731529273  0.035059294   0.042953872 \n",
       "PSMD4     0.039565533  0.0948134548 -0.0253919810 -0.023423100   0.077098652 \n",
       "ETV1      0.056172658 -0.0251018029  0.0604260982 -0.039245070  -0.054455966 \n",
       "TERT      0.015503632 -0.0852510474 -0.0143773656 -0.017771432  -0.049675827 \n",
       "EED      -0.116140022 -0.0373462230  0.0780338480 -0.011932781  -0.074883523 \n",
       "PTK2B     0.120599138 -0.0885693030 -0.0218041302 -0.044556334  -0.145272846 \n",
       "HSPB1    -0.054028897 -0.0242147882 -0.0758962634 -0.008515247  -0.020681195 \n",
       "PIK3C3    0.059820428 -0.1106737896 -0.0083038759 -0.035207729   0.071199871 \n",
       "CBLB      0.072051561 -0.0812557589 -0.0028524107 -0.049317067  -0.055583480 \n",
       "DFFB      0.030455699  0.0029721422 -0.0730058832 -0.004904219  -0.047733574 \n",
       "TGFB3     0.068125240 -0.0005366414  0.0056995914 -0.119260687   0.090724716 \n",
       "PRKX     -0.015932690 -0.0633655878 -0.0536765880  0.022812862  -0.039707120 \n",
       "⋮        ⋮            ⋮             ⋮             ⋮             ⋮            \n",
       "KLHL9    -0.051115934  0.0496926085  0.069605509  -0.0217861844  0.0004046269\n",
       "UBE2J1    0.078425698  0.0706449725  0.036098400  -0.0754120949  0.0507346338\n",
       "SLC37A4  -0.014212259  0.0042701579  0.101705477   0.1636754368  0.0514269283\n",
       "NPRL2     0.082739062  0.0253059797 -0.041236716   0.0227619073  0.0171490793\n",
       "PWP1      0.062224292  0.0388103294 -0.066406596   0.1415593679  0.0999646348\n",
       "PLEKHM1   0.090077281  0.0298209228 -0.058547810   0.0578075291  0.0544073172\n",
       "VAT1      0.005669000 -0.0097763419  0.039620082  -0.0277138961  0.0259036565\n",
       "KIF20A   -0.028579640  0.0339292982 -0.025594974  -0.0168086340  0.0363648170\n",
       "CDH3      0.048919000  0.0348939842  0.018565169   0.0070227042 -0.0207975960\n",
       "SSBP2     0.186976374  0.0455695425 -0.014960720  -0.0142763431  0.0211518726\n",
       "SNX11    -0.002220998 -0.0091173073  0.035033508  -0.0541149772  0.0063148340\n",
       "SFN       0.008667825  0.0322881341  0.045220366  -0.1202273416 -0.0480187594\n",
       "RFX5     -0.028271876 -0.1006366949 -0.026923366   0.0002643095  0.0664592857\n",
       "PKIG     -0.011257132  0.0241343642 -0.011235622   0.0984954692  0.0507555966\n",
       "FSD1      0.083737696  0.0425124509 -0.054413599  -0.0058675411  0.0030160677\n",
       "ATP6V1D   0.070146511 -0.0078188604 -0.024931446   0.0648355482  0.0143721607\n",
       "CDC45    -0.066736644  0.1207438798  0.106757048   0.0299671878  0.1256214646\n",
       "EDEM1     0.002892016 -0.0001104102 -0.128200222   0.0576213748 -0.0158601710\n",
       "USP6NL   -0.017485693 -0.0534951594  0.073115574  -0.0212135198  0.0495723049\n",
       "NT5DC2   -0.036574757  0.0223486169  0.006427884  -0.0453356584  0.0481047263\n",
       "CCP110    0.041181124 -0.0392967896  0.025440746   0.1629026228 -0.0027218701\n",
       "STK10    -0.001872262  0.0401147114 -0.070253041  -0.0449470500 -0.0414569248\n",
       "UGDH      0.110202739  0.0172373301  0.028893123   0.0002653440 -0.0678865104\n",
       "SQRDL     0.076661935  0.0007871230  0.006812493  -0.0790188072 -0.1048450910\n",
       "HEBP1    -0.115016728  0.0655446359  0.042270618   0.0315598001  0.0563042025\n",
       "ATP11B    1.000000000  0.0302944537  0.059268121   0.0347526004  0.0035208390\n",
       "CD320     0.030294454  1.0000000000 -0.062566462   0.0435805132  0.0200485867\n",
       "MLLT11    0.059268121 -0.0625664619  1.000000000   0.0958114704  0.0032742048\n",
       "CEBPZ     0.034752600  0.0435805132  0.095811470   1.0000000000 -0.0556853341\n",
       "CBR3      0.003520839  0.0200485867  0.003274205  -0.0556853341  1.0000000000"
      ]
     },
     "metadata": {},
     "output_type": "display_data"
    }
   ],
   "source": [
    "correlation"
   ]
  },
  {
   "cell_type": "code",
   "execution_count": 56,
   "metadata": {},
   "outputs": [
    {
     "data": {
      "text/html": [
       "<style>\n",
       ".list-inline {list-style: none; margin:0; padding: 0}\n",
       ".list-inline>li {display: inline-block}\n",
       ".list-inline>li:not(:last-child)::after {content: \"\\00b7\"; padding: 0 .5ex}\n",
       "</style>\n",
       "<ol class=list-inline><li>978</li><li>978</li></ol>\n"
      ],
      "text/latex": [
       "\\begin{enumerate*}\n",
       "\\item 978\n",
       "\\item 978\n",
       "\\end{enumerate*}\n"
      ],
      "text/markdown": [
       "1. 978\n",
       "2. 978\n",
       "\n",
       "\n"
      ],
      "text/plain": [
       "[1] 978 978"
      ]
     },
     "metadata": {},
     "output_type": "display_data"
    }
   ],
   "source": [
    "dim (correlation)"
   ]
  },
  {
   "cell_type": "code",
   "execution_count": 57,
   "metadata": {},
   "outputs": [
    {
     "data": {
      "text/html": [
       "1"
      ],
      "text/latex": [
       "1"
      ],
      "text/markdown": [
       "1"
      ],
      "text/plain": [
       "[1] 1"
      ]
     },
     "metadata": {},
     "output_type": "display_data"
    },
    {
     "data": {
      "text/html": [
       "-0.765502866721526"
      ],
      "text/latex": [
       "-0.765502866721526"
      ],
      "text/markdown": [
       "-0.765502866721526"
      ],
      "text/plain": [
       "[1] -0.7655029"
      ]
     },
     "metadata": {},
     "output_type": "display_data"
    }
   ],
   "source": [
    "max(correlation)\n",
    "min(correlation)"
   ]
  },
  {
   "cell_type": "code",
   "execution_count": null,
   "metadata": {},
   "outputs": [],
   "source": [
    "curr.max <- -1\n",
    "curr.min <- 1\n",
    "for(i in 1:ncol(my.data)) {\n",
    "    ret.cor <- apply (my.data[,-i], 2, function(x) {cor(my.data[, i], x)})\n",
    "    curr.max <- max (c(curr.max, ret.cor))\n",
    "    curr.min <- min (c(curr.min, ret.cor))\n",
    "    }"
   ]
  },
  {
   "cell_type": "code",
   "execution_count": 55,
   "metadata": {},
   "outputs": [
    {
     "data": {
      "text/html": [
       "0.52272128511618"
      ],
      "text/latex": [
       "0.52272128511618"
      ],
      "text/markdown": [
       "0.52272128511618"
      ],
      "text/plain": [
       "[1] 0.5227213"
      ]
     },
     "metadata": {},
     "output_type": "display_data"
    },
    {
     "data": {
      "text/html": [
       "-0.765502866721526"
      ],
      "text/latex": [
       "-0.765502866721526"
      ],
      "text/markdown": [
       "-0.765502866721526"
      ],
      "text/plain": [
       "[1] -0.7655029"
      ]
     },
     "metadata": {},
     "output_type": "display_data"
    }
   ],
   "source": [
    "curr.max\n",
    "curr.min"
   ]
  },
  {
   "cell_type": "code",
   "execution_count": 58,
   "metadata": {},
   "outputs": [],
   "source": [
    "# replace the diagonal entries in \"correlation\"\n",
    "for (i in 1:ncol(correlation)) {\n",
    "    correlation[i, i] <- -2\n",
    "    }"
   ]
  },
  {
   "cell_type": "code",
   "execution_count": 59,
   "metadata": {},
   "outputs": [
    {
     "data": {
      "text/html": [
       "0.52272128511618"
      ],
      "text/latex": [
       "0.52272128511618"
      ],
      "text/markdown": [
       "0.52272128511618"
      ],
      "text/plain": [
       "[1] 0.5227213"
      ]
     },
     "metadata": {},
     "output_type": "display_data"
    }
   ],
   "source": [
    "max(correlation)"
   ]
  },
  {
   "cell_type": "code",
   "execution_count": null,
   "metadata": {},
   "outputs": [],
   "source": []
  }
 ],
 "metadata": {
  "kernelspec": {
   "display_name": "R",
   "language": "R",
   "name": "ir"
  },
  "language_info": {
   "codemirror_mode": "r",
   "file_extension": ".r",
   "mimetype": "text/x-r-source",
   "name": "R",
   "pygments_lexer": "r",
   "version": "4.1.1"
  }
 },
 "nbformat": 4,
 "nbformat_minor": 4
}

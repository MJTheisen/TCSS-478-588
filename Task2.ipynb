{
 "cells": [
  {
   "cell_type": "markdown",
   "id": "4612bc1e-fba2-44f4-9bef-f956c4e42ae7",
   "metadata": {},
   "source": [
    "Task 2 "
   ]
  },
  {
   "cell_type": "markdown",
   "id": "21d02637-3ce4-4c64-8b1f-0498988fe15b",
   "metadata": {},
   "source": [
    "Check out one of the datasets available at https://www.ncbi.nlm.nih.gov/geo/query/acc.cgi?acc=GSE122517. \n",
    "Which dataset(s) did you check out? \n",
    "\n",
    "Let's start with GSE122505 for now. "
   ]
  },
  {
   "cell_type": "markdown",
   "id": "06d56c44-5ac1-4917-ba20-77d0b830be36",
   "metadata": {},
   "source": [
    "I'm going to start by installing Bioconductor the way we did it in the class lab."
   ]
  },
  {
   "cell_type": "code",
   "execution_count": 2,
   "id": "46e4eca0-274e-4e4a-b0aa-0b87bc5fb235",
   "metadata": {},
   "outputs": [
    {
     "name": "stderr",
     "output_type": "stream",
     "text": [
      "Bioconductor version '3.14' is out-of-date; the current release version '3.16'\n",
      "  is available with R version '4.2'; see https://bioconductor.org/install\n",
      "\n",
      "'getOption(\"repos\")' replaces Bioconductor standard repositories, see\n",
      "'?repositories' for details\n",
      "\n",
      "replacement repositories:\n",
      "    CRAN: https://cran.r-project.org\n",
      "\n",
      "\n",
      "Bioconductor version 3.14 (BiocManager 1.30.19), R 4.1.1 (2021-08-10)\n",
      "\n",
      "Old packages: 'arkhe', 'brew', 'broom', 'caret', 'class', 'classInt', 'cli',\n",
      "  'codetools', 'colorspace', 'conflicted', 'covr', 'credentials', 'curl',\n",
      "  'data.table', 'dbplyr', 'devtools', 'dplyr', 'DT', 'e1071', 'evaluate',\n",
      "  'expm', 'fansi', 'FNN', 'fontawesome', 'forcats', 'forecast', 'fracdiff',\n",
      "  'fs', 'future', 'gargle', 'gert', 'ggplot2', 'ggrepel', 'gh', 'git2r',\n",
      "  'gitcreds', 'gower', 'gstat', 'gtools', 'highr', 'htmlwidgets', 'httpuv',\n",
      "  'IRdisplay', 'IRkernel', 'isoband', 'janitor', 'keras', 'knitr', 'lava',\n",
      "  'lhs', 'lmtest', 'lubridate', 'markdown', 'MASS', 'Matrix', 'mgcv',\n",
      "  'modeldata', 'nlme', 'nloptr', 'nnet', 'parallelly', 'pbdZMQ', 'pkgbuild',\n",
      "  'plyr', 'png', 'progressr', 'proxy', 'purrr', 'quantmod', 'randomForest',\n",
      "  'raster', 'Rcpp', 'RcppArmadillo', 'RcppTOML', 'RCurl', 'readr', 'readxl',\n",
      "  'recipes', 'remotes', 'repr', 'reticulate', 'rex', 'rmarkdown', 'RODBC',\n",
      "  'roxygen2', 'rpart', 'RSQLite', 'rversions', 's2', 'sass', 'sessioninfo',\n",
      "  'skimr', 'sourcetools', 'sp', 'spatial', 'spatialreg', 'spdep', 'spiderbar',\n",
      "  'stringi', 'survival', 'tensorflow', 'terra', 'tidyr', 'timechange',\n",
      "  'timeDate', 'tinytex', 'tseries', 'TTR', 'units', 'urca', 'usethis', 'utf8',\n",
      "  'vctrs', 'visdat', 'vroom', 'whisker', 'wk', 'xfun', 'xts', 'yaml', 'zip',\n",
      "  'zoo'\n",
      "\n"
     ]
    }
   ],
   "source": [
    "# The installation instructions from http://bioconductor.org/install/ (version 3.16 of Bioconductor requires R 4.2)\n",
    "# Since the UW JupyterHub has R version 4.1, we are installing version 3.14 of Bioconductor instead.\n",
    "if (!require(\"BiocManager\", quietly = TRUE))\n",
    "    install.packages(\"BiocManager\")\n",
    "BiocManager::install(version = \"3.14\")"
   ]
  },
  {
   "cell_type": "markdown",
   "id": "bad96bc7-dde0-43f4-b9be-1746a4f9ea07",
   "metadata": {},
   "source": [
    "After that installation is finished, we need to download the data from GEO (Gene Expression Omnibus). We can do this by going to the website and finding the name of the data set we want. First, we need to install GEOquery inorder to be able to download the gene expression data."
   ]
  },
  {
   "cell_type": "code",
   "execution_count": 3,
   "id": "8340b3f2-659b-4e74-ab71-8cd0927d151e",
   "metadata": {},
   "outputs": [
    {
     "name": "stderr",
     "output_type": "stream",
     "text": [
      "'getOption(\"repos\")' replaces Bioconductor standard repositories, see\n",
      "'?repositories' for details\n",
      "\n",
      "replacement repositories:\n",
      "    CRAN: https://cran.r-project.org\n",
      "\n",
      "\n",
      "Bioconductor version 3.14 (BiocManager 1.30.19), R 4.1.1 (2021-08-10)\n",
      "\n",
      "Warning message:\n",
      "“package(s) not installed when version(s) same as or greater than current; use\n",
      "  `force = TRUE` to re-install: 'GEOquery'”\n",
      "Old packages: 'arkhe', 'brew', 'broom', 'caret', 'class', 'classInt', 'cli',\n",
      "  'codetools', 'colorspace', 'conflicted', 'covr', 'credentials', 'curl',\n",
      "  'data.table', 'dbplyr', 'devtools', 'dplyr', 'DT', 'e1071', 'evaluate',\n",
      "  'expm', 'fansi', 'FNN', 'fontawesome', 'forcats', 'forecast', 'fracdiff',\n",
      "  'fs', 'future', 'gargle', 'gert', 'ggplot2', 'ggrepel', 'gh', 'git2r',\n",
      "  'gitcreds', 'gower', 'gstat', 'gtools', 'highr', 'htmlwidgets', 'httpuv',\n",
      "  'IRdisplay', 'IRkernel', 'isoband', 'janitor', 'keras', 'knitr', 'lava',\n",
      "  'lhs', 'lmtest', 'lubridate', 'markdown', 'MASS', 'Matrix', 'mgcv',\n",
      "  'modeldata', 'nlme', 'nloptr', 'nnet', 'parallelly', 'pbdZMQ', 'pkgbuild',\n",
      "  'plyr', 'png', 'progressr', 'proxy', 'purrr', 'quantmod', 'randomForest',\n",
      "  'raster', 'Rcpp', 'RcppArmadillo', 'RcppTOML', 'RCurl', 'readr', 'readxl',\n",
      "  'recipes', 'remotes', 'repr', 'reticulate', 'rex', 'rmarkdown', 'RODBC',\n",
      "  'roxygen2', 'rpart', 'RSQLite', 'rversions', 's2', 'sass', 'sessioninfo',\n",
      "  'skimr', 'sourcetools', 'sp', 'spatial', 'spatialreg', 'spdep', 'spiderbar',\n",
      "  'stringi', 'survival', 'tensorflow', 'terra', 'tidyr', 'timechange',\n",
      "  'timeDate', 'tinytex', 'tseries', 'TTR', 'units', 'urca', 'usethis', 'utf8',\n",
      "  'vctrs', 'visdat', 'vroom', 'whisker', 'wk', 'xfun', 'xts', 'yaml', 'zip',\n",
      "  'zoo'\n",
      "\n",
      "Loading required package: Biobase\n",
      "\n",
      "Loading required package: BiocGenerics\n",
      "\n",
      "\n",
      "Attaching package: ‘BiocGenerics’\n",
      "\n",
      "\n",
      "The following objects are masked from ‘package:stats’:\n",
      "\n",
      "    IQR, mad, sd, var, xtabs\n",
      "\n",
      "\n",
      "The following objects are masked from ‘package:base’:\n",
      "\n",
      "    anyDuplicated, append, as.data.frame, basename, cbind, colnames,\n",
      "    dirname, do.call, duplicated, eval, evalq, Filter, Find, get, grep,\n",
      "    grepl, intersect, is.unsorted, lapply, Map, mapply, match, mget,\n",
      "    order, paste, pmax, pmax.int, pmin, pmin.int, Position, rank,\n",
      "    rbind, Reduce, rownames, sapply, setdiff, sort, table, tapply,\n",
      "    union, unique, unsplit, which.max, which.min\n",
      "\n",
      "\n",
      "Welcome to Bioconductor\n",
      "\n",
      "    Vignettes contain introductory material; view with\n",
      "    'browseVignettes()'. To cite Bioconductor, see\n",
      "    'citation(\"Biobase\")', and for packages 'citation(\"pkgname\")'.\n",
      "\n",
      "\n",
      "Setting options('download.file.method.GEOquery'='auto')\n",
      "\n",
      "Setting options('GEOquery.inmemory.gpl'=FALSE)\n",
      "\n"
     ]
    }
   ],
   "source": [
    "BiocManager::install(\"GEOquery\")\n",
    "library(GEOquery)"
   ]
  },
  {
   "cell_type": "code",
   "execution_count": 13,
   "id": "63376a23-75f8-42cd-9e0e-26dc4e59b93e",
   "metadata": {},
   "outputs": [
    {
     "ename": "ERROR",
     "evalue": "Error in curl::curl_download(url, destfile, mode = mode, quiet = quiet, : HTTP error 404.\n",
     "output_type": "error",
     "traceback": [
      "Error in curl::curl_download(url, destfile, mode = mode, quiet = quiet, : HTTP error 404.\nTraceback:\n",
      "1. getGEOfile(\"GSE122505_family.soft\")",
      "2. downloadFile(myurl, destfile, mode)",
      "3. tryCatch({\n .     curl::curl_download(url, destfile, mode = mode, quiet = quiet, \n .         handle = h)\n .     return(TRUE)\n . }, error = function(e) {\n .     message(e)\n .     return(FALSE)\n . })",
      "4. tryCatchList(expr, classes, parentenv, handlers)",
      "5. tryCatchOne(expr, names, parentenv, handlers[[1L]])",
      "6. value[[3L]](cond)",
      "7. message(e)",
      "8. withRestarts({\n .     signalCondition(cond)\n .     defaultHandler(cond)\n . }, muffleMessage = function() NULL)",
      "9. withOneRestart(expr, restarts[[1L]])",
      "10. doWithOneRestart(return(expr), restart)"
     ]
    }
   ],
   "source": [
    "geoD <- getGEOfile(\"GSE122505_family.soft\")\n",
    "\n",
    "\n",
    "mat <- exprs (geoD[[1]])\n",
    "dim (mat)\n",
    "\n",
    "\n",
    "p.mat <- pData (geoD[[1]])\n",
    "dim (p.mat)\n"
   ]
  },
  {
   "cell_type": "code",
   "execution_count": 9,
   "id": "f84723fc-3b12-4160-82e9-f188357abb0c",
   "metadata": {},
   "outputs": [],
   "source": [
    "# https://www.bioconductor.org/packages/devel/bioc/vignettes/GEOquery/inst/doc/GEOquery.html\n",
    "#\"\n",
    "\n",
    "# If you have network access, the more typical way to do this\n",
    "# would be to use this:\n",
    "# gds <- getGEO(\"GSM11805\")\n",
    "# gsm <- getGEO(filename=system.file(\"extdata/GSM11805.txt.gz\",package=\"GEOquery\"))\n",
    "\n",
    "# If you have network access, the more typical way to do this\n",
    "# would be to use this:\n",
    "# gds <- getGEO(\"GDS507\")\n",
    "# gds <- getGEO(filename=system.file(\"extdata/GDS507.soft.gz\",package=\"GEOquery\"))\n",
    "#\"\n",
    "\n",
    "# geoD<- getGEO('GSE122505') # This does not work. There is no data in the file.\n",
    "# geoD<- getGEO('GSE122505_Dataset_1_matrix.txt.gz') # That didn't work either.\n",
    "# geoD <- getGEO(filename=system.file(\"https://ftp.ncbi.nlm.nih.gov/geo/series/GSE122nnn/GSE122505/suppl/GSE122505_Dataset_1_matrix.txt.gz\",package=\"GEOquery\"))\n",
    "# geoD <- getGEO(filename=system.file(\"GSE122505_Dataset_1_matrix.txt.gz\",package=\"GEOquery\"))\n",
    "# geoD <- getGEO('GSE122505')\n",
    "# geoD <- getGEO(filename=system.file(\"/geo/series/GSE122nnn/GSE122505/soft/GSE122505_family.soft.gz\",package=\"GEOquery\"))\n",
    "# geoD <- getGEO(filename=system.file(\"GSE122505_family.soft.gz\",package=\"GEOquery\"))\n",
    "\n",
    "\n",
    "# my.data <- read.table (\"GSE122505_Dataset_1_matrix.txt\", sep=\"\\t\", header=T)\n",
    "# dimnames(my.data)[[1]] <- my.data[,1]\n",
    "# my.data <- my.data[, -1]\n",
    "# my.data[1:5, 1:6]\n",
    "# dim(my.data)\n",
    "\n",
    "###################################################\n",
    "\n",
    "# get phenotype matrix from geoD\n",
    "# geoD<- getGEO('GSE36133')\n",
    "#\"mat[1:6, 1:5]\"\n",
    "# get the expression data from geoD\n",
    "# mat <- exprs (geoD[[1]])\n",
    "# dim (mat)\n",
    "\n",
    "#p.my.data <- pData (\"GSE122505_Dataset_1_matrix.txt\", sep=\"\\t\", header=T)\n",
    "#dim (p.my.data)\n",
    "# If you have network access, the more typical way to do this\n",
    "# would be to use this:\n",
    "# gds <- getGEO(\"GSE122505\")\n",
    "#geoD <- filePath/GSE122505/\n",
    "#geoD <- getGEO(filename=system.file(\"GSE122505/GSE122505.txt.gz\",package=\"GEOquery\"))\n",
    "#geoD <- getGEOfile(\"https://ftp.ncbi.nlm.nih.gov/geo/series/GSE122nnn/GSE122505/suppl/GSE122505_Dataset_1_matrix.txt.gz\")\n",
    "#gse <- getGEO(\"GSE122505\", GSEMatrix = TRUE)\n",
    "#show(gse)\n",
    "#this is not prprocessed expression data. The supplemental data could literally hold anything.\n",
    "\n",
    "\n"
   ]
  },
  {
   "cell_type": "code",
   "execution_count": null,
   "id": "e85b6e7a-1e9c-4c07-b002-36810b06b58d",
   "metadata": {},
   "outputs": [],
   "source": []
  },
  {
   "cell_type": "code",
   "execution_count": null,
   "id": "195210e2-a3e8-46e9-923e-ef1321afc412",
   "metadata": {},
   "outputs": [],
   "source": []
  },
  {
   "cell_type": "code",
   "execution_count": null,
   "id": "09dd3d79-ba3e-43b1-96b7-bfb02a562702",
   "metadata": {},
   "outputs": [],
   "source": []
  },
  {
   "cell_type": "code",
   "execution_count": null,
   "id": "79d9f7e9-a277-49dc-9cf9-0e291f17d674",
   "metadata": {},
   "outputs": [],
   "source": []
  },
  {
   "cell_type": "code",
   "execution_count": null,
   "id": "11a881d5-22cd-447a-a0f1-dde245614959",
   "metadata": {},
   "outputs": [],
   "source": []
  }
 ],
 "metadata": {
  "kernelspec": {
   "display_name": "R",
   "language": "R",
   "name": "ir"
  },
  "language_info": {
   "codemirror_mode": "r",
   "file_extension": ".r",
   "mimetype": "text/x-r-source",
   "name": "R",
   "pygments_lexer": "r",
   "version": "4.1.1"
  }
 },
 "nbformat": 4,
 "nbformat_minor": 5
}

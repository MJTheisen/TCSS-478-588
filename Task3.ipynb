{
 "cells": [
  {
   "cell_type": "markdown",
   "id": "7ff2fe84-f2a6-40e0-ace7-e307e729ec67",
   "metadata": {},
   "source": [
    "## Try and see if you can import some of the functions and code from GitHub and Docker for the final project.\n"
   ]
  },
  {
   "cell_type": "code",
   "execution_count": null,
   "id": "6f882a93-785c-46f6-94e2-09274a6c8d24",
   "metadata": {},
   "outputs": [],
   "source": []
  }
 ],
 "metadata": {
  "kernelspec": {
   "display_name": "R",
   "language": "R",
   "name": "ir"
  },
  "language_info": {
   "codemirror_mode": "r",
   "file_extension": ".r",
   "mimetype": "text/x-r-source",
   "name": "R",
   "pygments_lexer": "r",
   "version": "4.1.1"
  }
 },
 "nbformat": 4,
 "nbformat_minor": 5
}

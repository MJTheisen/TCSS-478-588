{
 "cells": [
  {
   "cell_type": "markdown",
   "metadata": {},
   "source": [
    "# TCSS 478/588 In-class Exercise: Logistic regression"
   ]
  },
  {
   "cell_type": "markdown",
   "metadata": {},
   "source": [
    "These exercises will be used to illustrate how to perform data analyses using R.\n",
    "Alternatively, you can use R or Rstudio. \n",
    "I assume you will learn basic R commands on your own.\n",
    "\n",
    "Credit: The data and ideas behind these exercises and homeworks are from the NIH LINCS DCIC Crowdsourcing Portal and Ma’ayan Lab @ Mt Sinai, New York.\n",
    "http://www.maayanlab.net/crowdsourcing/megatask1.php\n",
    "\n",
    "The overarching goal is to predict adverse drug reactions. But we will take this task step by step. You will learn more about the meanings of these data in future lectures. For illustrative purposes in today’s class, just treat these data as numbers in a matrix."
   ]
  },
  {
   "cell_type": "markdown",
   "metadata": {},
   "source": [
    "## 1. Download and read in gene expression data (same as last week)\n",
    "Download the data “gene_expression_n438x978.txt” from canvas to your computer.  I have removed the first character (#) and an ‘ from the input file to make R happy."
   ]
  },
  {
   "cell_type": "code",
   "execution_count": 21,
   "metadata": {
    "collapsed": false,
    "jupyter": {
     "outputs_hidden": false
    }
   },
   "outputs": [
    {
     "data": {
      "text/html": [
       "'/home/jovyan'"
      ],
      "text/latex": [
       "'/home/jovyan'"
      ],
      "text/markdown": [
       "'/home/jovyan'"
      ],
      "text/plain": [
       "[1] \"/home/jovyan\""
      ]
     },
     "metadata": {},
     "output_type": "display_data"
    }
   ],
   "source": [
    "getwd()"
   ]
  },
  {
   "cell_type": "code",
   "execution_count": 22,
   "metadata": {
    "collapsed": false,
    "jupyter": {
     "outputs_hidden": false
    }
   },
   "outputs": [
    {
     "data": {
      "text/html": [
       "<table class=\"dataframe\">\n",
       "<caption>A data.frame: 5 × 6</caption>\n",
       "<thead>\n",
       "\t<tr><th></th><th scope=col>PSME1</th><th scope=col>ATF1</th><th scope=col>RHEB</th><th scope=col>FOXO3</th><th scope=col>RHOA</th><th scope=col>IL1B</th></tr>\n",
       "\t<tr><th></th><th scope=col>&lt;dbl&gt;</th><th scope=col>&lt;dbl&gt;</th><th scope=col>&lt;dbl&gt;</th><th scope=col>&lt;dbl&gt;</th><th scope=col>&lt;dbl&gt;</th><th scope=col>&lt;dbl&gt;</th></tr>\n",
       "</thead>\n",
       "<tbody>\n",
       "\t<tr><th scope=row>ACETAZOLAMIDE</th><td>-0.015159099</td><td>-0.031470528</td><td>-0.004733488</td><td> 0.02591061</td><td> 0.0056296773</td><td>-0.007325439</td></tr>\n",
       "\t<tr><th scope=row>IRBESARTAN</th><td>-0.026811981</td><td> 0.012151979</td><td>-0.025550148</td><td>-0.02401181</td><td>-0.0106717396</td><td> 0.070951154</td></tr>\n",
       "\t<tr><th scope=row>IPRATROPIUM BROMIDE</th><td> 0.001017958</td><td>-0.008650622</td><td>-0.018128698</td><td>-0.02079971</td><td>-0.0002722781</td><td> 0.025003360</td></tr>\n",
       "\t<tr><th scope=row>EFAVIRENZ</th><td>-0.004398264</td><td> 0.055387992</td><td> 0.004658520</td><td> 0.01380732</td><td>-0.0340697348</td><td> 0.024005885</td></tr>\n",
       "\t<tr><th scope=row>THIAMINE</th><td> 0.001838965</td><td>-0.018079188</td><td>-0.011855532</td><td>-0.03705033</td><td>-0.0133954959</td><td>-0.001752450</td></tr>\n",
       "</tbody>\n",
       "</table>\n"
      ],
      "text/latex": [
       "A data.frame: 5 × 6\n",
       "\\begin{tabular}{r|llllll}\n",
       "  & PSME1 & ATF1 & RHEB & FOXO3 & RHOA & IL1B\\\\\n",
       "  & <dbl> & <dbl> & <dbl> & <dbl> & <dbl> & <dbl>\\\\\n",
       "\\hline\n",
       "\tACETAZOLAMIDE & -0.015159099 & -0.031470528 & -0.004733488 &  0.02591061 &  0.0056296773 & -0.007325439\\\\\n",
       "\tIRBESARTAN & -0.026811981 &  0.012151979 & -0.025550148 & -0.02401181 & -0.0106717396 &  0.070951154\\\\\n",
       "\tIPRATROPIUM BROMIDE &  0.001017958 & -0.008650622 & -0.018128698 & -0.02079971 & -0.0002722781 &  0.025003360\\\\\n",
       "\tEFAVIRENZ & -0.004398264 &  0.055387992 &  0.004658520 &  0.01380732 & -0.0340697348 &  0.024005885\\\\\n",
       "\tTHIAMINE &  0.001838965 & -0.018079188 & -0.011855532 & -0.03705033 & -0.0133954959 & -0.001752450\\\\\n",
       "\\end{tabular}\n"
      ],
      "text/markdown": [
       "\n",
       "A data.frame: 5 × 6\n",
       "\n",
       "| <!--/--> | PSME1 &lt;dbl&gt; | ATF1 &lt;dbl&gt; | RHEB &lt;dbl&gt; | FOXO3 &lt;dbl&gt; | RHOA &lt;dbl&gt; | IL1B &lt;dbl&gt; |\n",
       "|---|---|---|---|---|---|---|\n",
       "| ACETAZOLAMIDE | -0.015159099 | -0.031470528 | -0.004733488 |  0.02591061 |  0.0056296773 | -0.007325439 |\n",
       "| IRBESARTAN | -0.026811981 |  0.012151979 | -0.025550148 | -0.02401181 | -0.0106717396 |  0.070951154 |\n",
       "| IPRATROPIUM BROMIDE |  0.001017958 | -0.008650622 | -0.018128698 | -0.02079971 | -0.0002722781 |  0.025003360 |\n",
       "| EFAVIRENZ | -0.004398264 |  0.055387992 |  0.004658520 |  0.01380732 | -0.0340697348 |  0.024005885 |\n",
       "| THIAMINE |  0.001838965 | -0.018079188 | -0.011855532 | -0.03705033 | -0.0133954959 | -0.001752450 |\n",
       "\n"
      ],
      "text/plain": [
       "                    PSME1        ATF1         RHEB         FOXO3      \n",
       "ACETAZOLAMIDE       -0.015159099 -0.031470528 -0.004733488  0.02591061\n",
       "IRBESARTAN          -0.026811981  0.012151979 -0.025550148 -0.02401181\n",
       "IPRATROPIUM BROMIDE  0.001017958 -0.008650622 -0.018128698 -0.02079971\n",
       "EFAVIRENZ           -0.004398264  0.055387992  0.004658520  0.01380732\n",
       "THIAMINE             0.001838965 -0.018079188 -0.011855532 -0.03705033\n",
       "                    RHOA          IL1B        \n",
       "ACETAZOLAMIDE        0.0056296773 -0.007325439\n",
       "IRBESARTAN          -0.0106717396  0.070951154\n",
       "IPRATROPIUM BROMIDE -0.0002722781  0.025003360\n",
       "EFAVIRENZ           -0.0340697348  0.024005885\n",
       "THIAMINE            -0.0133954959 -0.001752450"
      ]
     },
     "metadata": {},
     "output_type": "display_data"
    }
   ],
   "source": [
    "my.data <- read.table (\"gene_expression_n438x978.txt\", sep=\"\\t\", header=T)\n",
    "dimnames(my.data)[[1]] <- my.data[,1]\n",
    "my.data <- my.data[, -1]\n",
    "my.data[1:5, 1:6]"
   ]
  },
  {
   "cell_type": "code",
   "execution_count": 23,
   "metadata": {
    "collapsed": false,
    "jupyter": {
     "outputs_hidden": false
    }
   },
   "outputs": [
    {
     "data": {
      "text/html": [
       "<style>\n",
       ".list-inline {list-style: none; margin:0; padding: 0}\n",
       ".list-inline>li {display: inline-block}\n",
       ".list-inline>li:not(:last-child)::after {content: \"\\00b7\"; padding: 0 .5ex}\n",
       "</style>\n",
       "<ol class=list-inline><li>438</li><li>978</li></ol>\n"
      ],
      "text/latex": [
       "\\begin{enumerate*}\n",
       "\\item 438\n",
       "\\item 978\n",
       "\\end{enumerate*}\n"
      ],
      "text/markdown": [
       "1. 438\n",
       "2. 978\n",
       "\n",
       "\n"
      ],
      "text/plain": [
       "[1] 438 978"
      ]
     },
     "metadata": {},
     "output_type": "display_data"
    }
   ],
   "source": [
    "dim (my.data)"
   ]
  },
  {
   "cell_type": "markdown",
   "metadata": {},
   "source": [
    "# 2. NEW: Download and read in the adverse drug reaction (ADR) data which represesent 0/1 responses for each side effect across drugs\n",
    "Download the dataset \"ADRs_HLGT_n438x232.txt\" from Canvas and upload to the JupyterHub."
   ]
  },
  {
   "cell_type": "code",
   "execution_count": 24,
   "metadata": {
    "collapsed": false,
    "jupyter": {
     "outputs_hidden": false
    }
   },
   "outputs": [
    {
     "data": {
      "text/html": [
       "<style>\n",
       ".list-inline {list-style: none; margin:0; padding: 0}\n",
       ".list-inline>li {display: inline-block}\n",
       ".list-inline>li:not(:last-child)::after {content: \"\\00b7\"; padding: 0 .5ex}\n",
       "</style>\n",
       "<ol class=list-inline><li>438</li><li>232</li></ol>\n"
      ],
      "text/latex": [
       "\\begin{enumerate*}\n",
       "\\item 438\n",
       "\\item 232\n",
       "\\end{enumerate*}\n"
      ],
      "text/markdown": [
       "1. 438\n",
       "2. 232\n",
       "\n",
       "\n"
      ],
      "text/plain": [
       "[1] 438 232"
      ]
     },
     "metadata": {},
     "output_type": "display_data"
    },
    {
     "data": {
      "text/html": [
       "<table class=\"dataframe\">\n",
       "<caption>A data.frame: 5 × 6</caption>\n",
       "<thead>\n",
       "\t<tr><th></th><th scope=col>Abdominal.hernias.and.other.abdominal.wall.conditions</th><th scope=col>Abortions.and.stillbirth</th><th scope=col>Acid.base.disorders</th><th scope=col>Administration.site.reactions</th><th scope=col>Adrenal.gland.disorders</th><th scope=col>Age.related.factors</th></tr>\n",
       "\t<tr><th></th><th scope=col>&lt;int&gt;</th><th scope=col>&lt;int&gt;</th><th scope=col>&lt;int&gt;</th><th scope=col>&lt;int&gt;</th><th scope=col>&lt;int&gt;</th><th scope=col>&lt;int&gt;</th></tr>\n",
       "</thead>\n",
       "<tbody>\n",
       "\t<tr><th scope=row>ACETAZOLAMIDE</th><td>0</td><td>0</td><td>1</td><td>1</td><td>0</td><td>0</td></tr>\n",
       "\t<tr><th scope=row>IRBESARTAN</th><td>0</td><td>0</td><td>0</td><td>0</td><td>1</td><td>0</td></tr>\n",
       "\t<tr><th scope=row>IPRATROPIUM BROMIDE</th><td>0</td><td>0</td><td>0</td><td>0</td><td>1</td><td>0</td></tr>\n",
       "\t<tr><th scope=row>EFAVIRENZ</th><td>0</td><td>0</td><td>0</td><td>0</td><td>1</td><td>1</td></tr>\n",
       "\t<tr><th scope=row>THIAMINE</th><td>0</td><td>0</td><td>0</td><td>0</td><td>0</td><td>0</td></tr>\n",
       "</tbody>\n",
       "</table>\n"
      ],
      "text/latex": [
       "A data.frame: 5 × 6\n",
       "\\begin{tabular}{r|llllll}\n",
       "  & Abdominal.hernias.and.other.abdominal.wall.conditions & Abortions.and.stillbirth & Acid.base.disorders & Administration.site.reactions & Adrenal.gland.disorders & Age.related.factors\\\\\n",
       "  & <int> & <int> & <int> & <int> & <int> & <int>\\\\\n",
       "\\hline\n",
       "\tACETAZOLAMIDE & 0 & 0 & 1 & 1 & 0 & 0\\\\\n",
       "\tIRBESARTAN & 0 & 0 & 0 & 0 & 1 & 0\\\\\n",
       "\tIPRATROPIUM BROMIDE & 0 & 0 & 0 & 0 & 1 & 0\\\\\n",
       "\tEFAVIRENZ & 0 & 0 & 0 & 0 & 1 & 1\\\\\n",
       "\tTHIAMINE & 0 & 0 & 0 & 0 & 0 & 0\\\\\n",
       "\\end{tabular}\n"
      ],
      "text/markdown": [
       "\n",
       "A data.frame: 5 × 6\n",
       "\n",
       "| <!--/--> | Abdominal.hernias.and.other.abdominal.wall.conditions &lt;int&gt; | Abortions.and.stillbirth &lt;int&gt; | Acid.base.disorders &lt;int&gt; | Administration.site.reactions &lt;int&gt; | Adrenal.gland.disorders &lt;int&gt; | Age.related.factors &lt;int&gt; |\n",
       "|---|---|---|---|---|---|---|\n",
       "| ACETAZOLAMIDE | 0 | 0 | 1 | 1 | 0 | 0 |\n",
       "| IRBESARTAN | 0 | 0 | 0 | 0 | 1 | 0 |\n",
       "| IPRATROPIUM BROMIDE | 0 | 0 | 0 | 0 | 1 | 0 |\n",
       "| EFAVIRENZ | 0 | 0 | 0 | 0 | 1 | 1 |\n",
       "| THIAMINE | 0 | 0 | 0 | 0 | 0 | 0 |\n",
       "\n"
      ],
      "text/plain": [
       "                    Abdominal.hernias.and.other.abdominal.wall.conditions\n",
       "ACETAZOLAMIDE       0                                                    \n",
       "IRBESARTAN          0                                                    \n",
       "IPRATROPIUM BROMIDE 0                                                    \n",
       "EFAVIRENZ           0                                                    \n",
       "THIAMINE            0                                                    \n",
       "                    Abortions.and.stillbirth Acid.base.disorders\n",
       "ACETAZOLAMIDE       0                        1                  \n",
       "IRBESARTAN          0                        0                  \n",
       "IPRATROPIUM BROMIDE 0                        0                  \n",
       "EFAVIRENZ           0                        0                  \n",
       "THIAMINE            0                        0                  \n",
       "                    Administration.site.reactions Adrenal.gland.disorders\n",
       "ACETAZOLAMIDE       1                             0                      \n",
       "IRBESARTAN          0                             1                      \n",
       "IPRATROPIUM BROMIDE 0                             1                      \n",
       "EFAVIRENZ           0                             1                      \n",
       "THIAMINE            0                             0                      \n",
       "                    Age.related.factors\n",
       "ACETAZOLAMIDE       0                  \n",
       "IRBESARTAN          0                  \n",
       "IPRATROPIUM BROMIDE 0                  \n",
       "EFAVIRENZ           1                  \n",
       "THIAMINE            0                  "
      ]
     },
     "metadata": {},
     "output_type": "display_data"
    }
   ],
   "source": [
    "adr.mat <- read.table (\"ADRs_HLGT_n438x232.txt\", sep=\"\\t\", header=T)\n",
    "dimnames(adr.mat)[[1]] <- adr.mat [, 1]\n",
    "adr.mat <- adr.mat[, -1]\n",
    "dim (adr.mat)\n",
    "adr.mat[1:5, 1:6]"
   ]
  },
  {
   "cell_type": "markdown",
   "metadata": {},
   "source": [
    "## 3. Question: how would you explore this adr.mat matrix? This is a binary matrix. \n",
    "### How sparse is this matrix? In other words, what is the percentage of 1's?"
   ]
  },
  {
   "cell_type": "code",
   "execution_count": 25,
   "metadata": {
    "collapsed": false,
    "jupyter": {
     "outputs_hidden": false
    }
   },
   "outputs": [
    {
     "data": {
      "text/html": [
       "0.267497244528421"
      ],
      "text/latex": [
       "0.267497244528421"
      ],
      "text/markdown": [
       "0.267497244528421"
      ],
      "text/plain": [
       "[1] 0.2674972"
      ]
     },
     "metadata": {},
     "output_type": "display_data"
    }
   ],
   "source": [
    "sum(adr.mat)/(438*232)"
   ]
  },
  {
   "cell_type": "markdown",
   "metadata": {},
   "source": [
    "### Approx 27% of the data in adr.mat are 1's"
   ]
  },
  {
   "cell_type": "markdown",
   "metadata": {},
   "source": [
    "## Are there drugs that are associated with many side effects? Are there drugs that are associated with very few side effects?"
   ]
  },
  {
   "cell_type": "code",
   "execution_count": 26,
   "metadata": {},
   "outputs": [
    {
     "data": {
      "text/html": [
       "438"
      ],
      "text/latex": [
       "438"
      ],
      "text/markdown": [
       "438"
      ],
      "text/plain": [
       "[1] 438"
      ]
     },
     "metadata": {},
     "output_type": "display_data"
    }
   ],
   "source": [
    "# compute row sums in the ADR matrix\n",
    "num.side.effects.per.drug <- apply (adr.mat, 1, sum) # 1 is for rows\n",
    "length (num.side.effects.per.drug)"
   ]
  },
  {
   "cell_type": "code",
   "execution_count": 27,
   "metadata": {
    "collapsed": false,
    "jupyter": {
     "outputs_hidden": false
    }
   },
   "outputs": [
    {
     "data": {
      "text/html": [
       "232"
      ],
      "text/latex": [
       "232"
      ],
      "text/markdown": [
       "232"
      ],
      "text/plain": [
       "[1] 232"
      ]
     },
     "metadata": {},
     "output_type": "display_data"
    }
   ],
   "source": [
    "# compute column sums in the ADR matrix\n",
    "num.drugs.with.adr <- apply (adr.mat, 2, sum) # 2 is for column\n",
    "length (num.drugs.with.adr)"
   ]
  },
  {
   "cell_type": "code",
   "execution_count": 28,
   "metadata": {
    "collapsed": false,
    "jupyter": {
     "outputs_hidden": false
    }
   },
   "outputs": [
    {
     "data": {
      "text/html": [
       "<style>\n",
       ".dl-inline {width: auto; margin:0; padding: 0}\n",
       ".dl-inline>dt, .dl-inline>dd {float: none; width: auto; display: inline-block}\n",
       ".dl-inline>dt::after {content: \":\\0020\"; padding-right: .5ex}\n",
       ".dl-inline>dt:not(:first-of-type) {padding-left: .5ex}\n",
       "</style><dl class=dl-inline><dt>0%</dt><dd>7</dd><dt>10%</dt><dd>17</dd><dt>25%</dt><dd>32</dd><dt>50%</dt><dd>85</dd><dt>75%</dt><dd>188.5</dd><dt>90%</dt><dd>262.7</dd><dt>100%</dt><dd>379</dd></dl>\n"
      ],
      "text/latex": [
       "\\begin{description*}\n",
       "\\item[0\\textbackslash{}\\%] 7\n",
       "\\item[10\\textbackslash{}\\%] 17\n",
       "\\item[25\\textbackslash{}\\%] 32\n",
       "\\item[50\\textbackslash{}\\%] 85\n",
       "\\item[75\\textbackslash{}\\%] 188.5\n",
       "\\item[90\\textbackslash{}\\%] 262.7\n",
       "\\item[100\\textbackslash{}\\%] 379\n",
       "\\end{description*}\n"
      ],
      "text/markdown": [
       "0%\n",
       ":   710%\n",
       ":   1725%\n",
       ":   3250%\n",
       ":   8575%\n",
       ":   188.590%\n",
       ":   262.7100%\n",
       ":   379\n",
       "\n"
      ],
      "text/plain": [
       "   0%   10%   25%   50%   75%   90%  100% \n",
       "  7.0  17.0  32.0  85.0 188.5 262.7 379.0 "
      ]
     },
     "metadata": {},
     "output_type": "display_data"
    }
   ],
   "source": [
    "quantile (num.drugs.with.adr, probs=c(0, 0.1, 0.25, 0.5, 0.75, 0.9, 1))"
   ]
  },
  {
   "cell_type": "code",
   "execution_count": 29,
   "metadata": {
    "collapsed": false,
    "jupyter": {
     "outputs_hidden": false
    }
   },
   "outputs": [
    {
     "data": {
      "image/png": "[encoded data removed]",
      "text/plain": [
       "Plot with title “Histogram of num.drugs.with.adr”"
      ]
     },
     "metadata": {
      "image/png": {
       "height": 420,
       "width": 420
      }
     },
     "output_type": "display_data"
    }
   ],
   "source": [
    "hist (num.drugs.with.adr)"
   ]
  },
  {
   "cell_type": "code",
   "execution_count": 30,
   "metadata": {
    "collapsed": false,
    "jupyter": {
     "outputs_hidden": false
    }
   },
   "outputs": [
    {
     "data": {
      "text/html": [
       "<style>\n",
       ".dl-inline {width: auto; margin:0; padding: 0}\n",
       ".dl-inline>dt, .dl-inline>dd {float: none; width: auto; display: inline-block}\n",
       ".dl-inline>dt::after {content: \":\\0020\"; padding-right: .5ex}\n",
       ".dl-inline>dt:not(:first-of-type) {padding-left: .5ex}\n",
       "</style><dl class=dl-inline><dt>Allergic.conditions</dt><dd>7</dd><dt>Angioedema.and.urticaria</dt><dd>12</dd></dl>\n"
      ],
      "text/latex": [
       "\\begin{description*}\n",
       "\\item[Allergic.conditions] 7\n",
       "\\item[Angioedema.and.urticaria] 12\n",
       "\\end{description*}\n"
      ],
      "text/markdown": [
       "Allergic.conditions\n",
       ":   7Angioedema.and.urticaria\n",
       ":   12\n",
       "\n"
      ],
      "text/plain": [
       "     Allergic.conditions Angioedema.and.urticaria \n",
       "                       7                       12 "
      ]
     },
     "metadata": {},
     "output_type": "display_data"
    }
   ],
   "source": [
    "which (num.drugs.with.adr == 379)"
   ]
  },
  {
   "cell_type": "code",
   "execution_count": 31,
   "metadata": {
    "collapsed": false,
    "jupyter": {
     "outputs_hidden": false
    }
   },
   "outputs": [
    {
     "data": {
      "text/html": [
       "<strong>Gastrointestinal.tract.disorders.congenital:</strong> 88"
      ],
      "text/latex": [
       "\\textbf{Gastrointestinal.tract.disorders.congenital:} 88"
      ],
      "text/markdown": [
       "**Gastrointestinal.tract.disorders.congenital:** 88"
      ],
      "text/plain": [
       "Gastrointestinal.tract.disorders.congenital \n",
       "                                         88 "
      ]
     },
     "metadata": {},
     "output_type": "display_data"
    }
   ],
   "source": [
    "which (num.drugs.with.adr == 7)"
   ]
  },
  {
   "cell_type": "code",
   "execution_count": null,
   "metadata": {
    "collapsed": true,
    "jupyter": {
     "outputs_hidden": true
    }
   },
   "outputs": [],
   "source": []
  },
  {
   "cell_type": "code",
   "execution_count": null,
   "metadata": {
    "collapsed": true,
    "jupyter": {
     "outputs_hidden": true
    }
   },
   "outputs": [],
   "source": []
  },
  {
   "cell_type": "markdown",
   "metadata": {},
   "source": [
    "# 5. Logistic regression"
   ]
  },
  {
   "cell_type": "markdown",
   "metadata": {},
   "source": [
    "## Is CDK1 predictive of heart failures?"
   ]
  },
  {
   "cell_type": "code",
   "execution_count": 32,
   "metadata": {
    "collapsed": false,
    "jupyter": {
     "outputs_hidden": false
    }
   },
   "outputs": [
    {
     "data": {
      "text/html": [
       "<table class=\"dataframe\">\n",
       "<caption>A data.frame: 3 × 4</caption>\n",
       "<thead>\n",
       "\t<tr><th></th><th scope=col>Hearing.disorders</th><th scope=col>Heart.failures</th><th scope=col>Hepatobiliary.investigations</th><th scope=col>Hepatobiliary.neoplasms</th></tr>\n",
       "\t<tr><th></th><th scope=col>&lt;int&gt;</th><th scope=col>&lt;int&gt;</th><th scope=col>&lt;int&gt;</th><th scope=col>&lt;int&gt;</th></tr>\n",
       "</thead>\n",
       "<tbody>\n",
       "\t<tr><th scope=row>ACETAZOLAMIDE</th><td>0</td><td>0</td><td>0</td><td>0</td></tr>\n",
       "\t<tr><th scope=row>IRBESARTAN</th><td>0</td><td>1</td><td>1</td><td>0</td></tr>\n",
       "\t<tr><th scope=row>IPRATROPIUM BROMIDE</th><td>0</td><td>0</td><td>0</td><td>0</td></tr>\n",
       "</tbody>\n",
       "</table>\n"
      ],
      "text/latex": [
       "A data.frame: 3 × 4\n",
       "\\begin{tabular}{r|llll}\n",
       "  & Hearing.disorders & Heart.failures & Hepatobiliary.investigations & Hepatobiliary.neoplasms\\\\\n",
       "  & <int> & <int> & <int> & <int>\\\\\n",
       "\\hline\n",
       "\tACETAZOLAMIDE & 0 & 0 & 0 & 0\\\\\n",
       "\tIRBESARTAN & 0 & 1 & 1 & 0\\\\\n",
       "\tIPRATROPIUM BROMIDE & 0 & 0 & 0 & 0\\\\\n",
       "\\end{tabular}\n"
      ],
      "text/markdown": [
       "\n",
       "A data.frame: 3 × 4\n",
       "\n",
       "| <!--/--> | Hearing.disorders &lt;int&gt; | Heart.failures &lt;int&gt; | Hepatobiliary.investigations &lt;int&gt; | Hepatobiliary.neoplasms &lt;int&gt; |\n",
       "|---|---|---|---|---|\n",
       "| ACETAZOLAMIDE | 0 | 0 | 0 | 0 |\n",
       "| IRBESARTAN | 0 | 1 | 1 | 0 |\n",
       "| IPRATROPIUM BROMIDE | 0 | 0 | 0 | 0 |\n",
       "\n"
      ],
      "text/plain": [
       "                    Hearing.disorders Heart.failures\n",
       "ACETAZOLAMIDE       0                 0             \n",
       "IRBESARTAN          0                 1             \n",
       "IPRATROPIUM BROMIDE 0                 0             \n",
       "                    Hepatobiliary.investigations Hepatobiliary.neoplasms\n",
       "ACETAZOLAMIDE       0                            0                      \n",
       "IRBESARTAN          1                            0                      \n",
       "IPRATROPIUM BROMIDE 0                            0                      "
      ]
     },
     "metadata": {},
     "output_type": "display_data"
    }
   ],
   "source": [
    "adr.mat[1:3, 99:102]"
   ]
  },
  {
   "cell_type": "code",
   "execution_count": 38,
   "metadata": {
    "tags": []
   },
   "outputs": [],
   "source": [
    "glmFit1 <- glm (adr.mat[,100] ~ my.data$CDK1, family=binomial) # generalized linear model"
   ]
  },
  {
   "cell_type": "code",
   "execution_count": 39,
   "metadata": {
    "collapsed": false,
    "jupyter": {
     "outputs_hidden": false
    }
   },
   "outputs": [
    {
     "data": {
      "text/plain": [
       "\n",
       "Call:\n",
       "glm(formula = adr.mat[, 100] ~ my.data$CDK1, family = binomial)\n",
       "\n",
       "Deviance Residuals: \n",
       "   Min      1Q  Median      3Q     Max  \n",
       "-1.176  -1.161  -1.157   1.193   1.198  \n",
       "\n",
       "Coefficients:\n",
       "             Estimate Std. Error z value Pr(>|z|)\n",
       "(Intercept)  -0.03821    0.09937  -0.384    0.701\n",
       "my.data$CDK1 -0.20154    3.27850  -0.061    0.951\n",
       "\n",
       "(Dispersion parameter for binomial family taken to be 1)\n",
       "\n",
       "    Null deviance: 607.05  on 437  degrees of freedom\n",
       "Residual deviance: 607.05  on 436  degrees of freedom\n",
       "AIC: 611.05\n",
       "\n",
       "Number of Fisher Scoring iterations: 3\n"
      ]
     },
     "metadata": {},
     "output_type": "display_data"
    }
   ],
   "source": [
    "summary (glmFit1)"
   ]
  },
  {
   "cell_type": "code",
   "execution_count": 40,
   "metadata": {
    "collapsed": false,
    "jupyter": {
     "outputs_hidden": false
    }
   },
   "outputs": [
    {
     "data": {
      "text/html": [
       "438"
      ],
      "text/latex": [
       "438"
      ],
      "text/markdown": [
       "438"
      ],
      "text/plain": [
       "[1] 438"
      ]
     },
     "metadata": {},
     "output_type": "display_data"
    },
    {
     "data": {
      "text/html": [
       "<style>\n",
       ".dl-inline {width: auto; margin:0; padding: 0}\n",
       ".dl-inline>dt, .dl-inline>dd {float: none; width: auto; display: inline-block}\n",
       ".dl-inline>dt::after {content: \":\\0020\"; padding-right: .5ex}\n",
       ".dl-inline>dt:not(:first-of-type) {padding-left: .5ex}\n",
       "</style><dl class=dl-inline><dt>1</dt><dd>0.490329154624673</dd><dt>2</dt><dd>0.492062977138163</dd><dt>3</dt><dd>0.49026395543691</dd><dt>4</dt><dd>0.488347039103071</dd><dt>5</dt><dd>0.490071654792327</dd><dt>6</dt><dd>0.48995328016209</dd><dt>7</dt><dd>0.489820076135697</dd><dt>8</dt><dd>0.491165645585605</dd><dt>9</dt><dd>0.491845888372525</dd><dt>10</dt><dd>0.490161754921027</dd></dl>\n"
      ],
      "text/latex": [
       "\\begin{description*}\n",
       "\\item[1] 0.490329154624673\n",
       "\\item[2] 0.492062977138163\n",
       "\\item[3] 0.49026395543691\n",
       "\\item[4] 0.488347039103071\n",
       "\\item[5] 0.490071654792327\n",
       "\\item[6] 0.48995328016209\n",
       "\\item[7] 0.489820076135697\n",
       "\\item[8] 0.491165645585605\n",
       "\\item[9] 0.491845888372525\n",
       "\\item[10] 0.490161754921027\n",
       "\\end{description*}\n"
      ],
      "text/markdown": [
       "1\n",
       ":   0.4903291546246732\n",
       ":   0.4920629771381633\n",
       ":   0.490263955436914\n",
       ":   0.4883470391030715\n",
       ":   0.4900716547923276\n",
       ":   0.489953280162097\n",
       ":   0.4898200761356978\n",
       ":   0.4911656455856059\n",
       ":   0.49184588837252510\n",
       ":   0.490161754921027\n",
       "\n"
      ],
      "text/plain": [
       "        1         2         3         4         5         6         7         8 \n",
       "0.4903292 0.4920630 0.4902640 0.4883470 0.4900717 0.4899533 0.4898201 0.4911656 \n",
       "        9        10 \n",
       "0.4918459 0.4901618 "
      ]
     },
     "metadata": {},
     "output_type": "display_data"
    }
   ],
   "source": [
    "ret.pred <- predict (glmFit1, type=\"response\")\n",
    "length (ret.pred)\n",
    "ret.pred[1:10]"
   ]
  },
  {
   "cell_type": "markdown",
   "metadata": {},
   "source": [
    "### Are these predictions any good? Why and why not?"
   ]
  },
  {
   "cell_type": "markdown",
   "metadata": {},
   "source": [
    "### No good because all the probabilities are around 0.5. We want predicted probabilities to be close to (Y=0) or 1(Y=1)."
   ]
  },
  {
   "cell_type": "markdown",
   "metadata": {},
   "source": [
    "### \"                     \""
   ]
  },
  {
   "cell_type": "markdown",
   "metadata": {},
   "source": [
    "### Derive the prediction using the regression coefficients without using the \"predict\" function"
   ]
  },
  {
   "cell_type": "code",
   "execution_count": 41,
   "metadata": {
    "collapsed": false,
    "jupyter": {
     "outputs_hidden": false
    }
   },
   "outputs": [
    {
     "data": {
      "text/html": [
       "<style>\n",
       ".dl-inline {width: auto; margin:0; padding: 0}\n",
       ".dl-inline>dt, .dl-inline>dd {float: none; width: auto; display: inline-block}\n",
       ".dl-inline>dt::after {content: \":\\0020\"; padding-right: .5ex}\n",
       ".dl-inline>dt:not(:first-of-type) {padding-left: .5ex}\n",
       "</style><dl class=dl-inline><dt>(Intercept)</dt><dd>-0.0382050276074369</dd><dt>my.data$CDK1</dt><dd>-0.201541357488864</dd></dl>\n"
      ],
      "text/latex": [
       "\\begin{description*}\n",
       "\\item[(Intercept)] -0.0382050276074369\n",
       "\\item[my.data\\textbackslash{}\\$CDK1] -0.201541357488864\n",
       "\\end{description*}\n"
      ],
      "text/markdown": [
       "(Intercept)\n",
       ":   -0.0382050276074369my.data$CDK1\n",
       ":   -0.201541357488864\n",
       "\n"
      ],
      "text/plain": [
       " (Intercept) my.data$CDK1 \n",
       " -0.03820503  -0.20154136 "
      ]
     },
     "metadata": {},
     "output_type": "display_data"
    }
   ],
   "source": [
    "# get the regression coefficients\n",
    "coef (glmFit1)"
   ]
  },
  {
   "cell_type": "code",
   "execution_count": 42,
   "metadata": {
    "collapsed": false,
    "jupyter": {
     "outputs_hidden": false
    }
   },
   "outputs": [
    {
     "data": {
      "text/html": [
       "-0.0382050276074369"
      ],
      "text/latex": [
       "-0.0382050276074369"
      ],
      "text/markdown": [
       "-0.0382050276074369"
      ],
      "text/plain": [
       "[1] -0.03820503"
      ]
     },
     "metadata": {},
     "output_type": "display_data"
    },
    {
     "data": {
      "text/html": [
       "-0.201541357488864"
      ],
      "text/latex": [
       "-0.201541357488864"
      ],
      "text/markdown": [
       "-0.201541357488864"
      ],
      "text/plain": [
       "[1] -0.2015414"
      ]
     },
     "metadata": {},
     "output_type": "display_data"
    }
   ],
   "source": [
    "# beta_0 hat\n",
    "coef (glmFit1)[[1]]\n",
    "# beta_1 hat\n",
    "coef (glmFit1)[[2]]"
   ]
  },
  {
   "cell_type": "code",
   "execution_count": 43,
   "metadata": {},
   "outputs": [],
   "source": [
    "# x vector is equal to my.data$CDK1\n",
    "curr.val <- coef (glmFit1)[[1]] + coef (glmFit1)[[2]]*my.data$CDK1"
   ]
  },
  {
   "cell_type": "code",
   "execution_count": 44,
   "metadata": {},
   "outputs": [],
   "source": [
    "curr.exp <- exp (curr.val)\n",
    "my.pred <- curr.exp / (1+ curr.exp)"
   ]
  },
  {
   "cell_type": "code",
   "execution_count": 46,
   "metadata": {},
   "outputs": [
    {
     "data": {
      "text/html": [
       "<style>\n",
       ".list-inline {list-style: none; margin:0; padding: 0}\n",
       ".list-inline>li {display: inline-block}\n",
       ".list-inline>li:not(:last-child)::after {content: \"\\00b7\"; padding: 0 .5ex}\n",
       "</style>\n",
       "<ol class=list-inline><li>0.490329154624673</li><li>0.492062977138163</li><li>0.49026395543691</li><li>0.488347039103071</li><li>0.490071654792327</li><li>0.48995328016209</li><li>0.489820076135697</li><li>0.491165645585605</li><li>0.491845888372525</li><li>0.490161754921027</li></ol>\n"
      ],
      "text/latex": [
       "\\begin{enumerate*}\n",
       "\\item 0.490329154624673\n",
       "\\item 0.492062977138163\n",
       "\\item 0.49026395543691\n",
       "\\item 0.488347039103071\n",
       "\\item 0.490071654792327\n",
       "\\item 0.48995328016209\n",
       "\\item 0.489820076135697\n",
       "\\item 0.491165645585605\n",
       "\\item 0.491845888372525\n",
       "\\item 0.490161754921027\n",
       "\\end{enumerate*}\n"
      ],
      "text/markdown": [
       "1. 0.490329154624673\n",
       "2. 0.492062977138163\n",
       "3. 0.49026395543691\n",
       "4. 0.488347039103071\n",
       "5. 0.490071654792327\n",
       "6. 0.48995328016209\n",
       "7. 0.489820076135697\n",
       "8. 0.491165645585605\n",
       "9. 0.491845888372525\n",
       "10. 0.490161754921027\n",
       "\n",
       "\n"
      ],
      "text/plain": [
       " [1] 0.4903292 0.4920630 0.4902640 0.4883470 0.4900717 0.4899533 0.4898201\n",
       " [8] 0.4911656 0.4918459 0.4901618"
      ]
     },
     "metadata": {},
     "output_type": "display_data"
    }
   ],
   "source": [
    "my.pred[1:10] # Is CDK1 predictive of heart failures? nah, its like 50/50. not a good predictor."
   ]
  },
  {
   "cell_type": "code",
   "execution_count": null,
   "metadata": {},
   "outputs": [],
   "source": []
  },
  {
   "cell_type": "code",
   "execution_count": null,
   "metadata": {},
   "outputs": [],
   "source": []
  },
  {
   "cell_type": "code",
   "execution_count": null,
   "metadata": {},
   "outputs": [],
   "source": []
  },
  {
   "cell_type": "code",
   "execution_count": null,
   "metadata": {},
   "outputs": [],
   "source": []
  },
  {
   "cell_type": "markdown",
   "metadata": {},
   "source": [
    "# 6. Model selection"
   ]
  },
  {
   "cell_type": "markdown",
   "metadata": {},
   "source": [
    "### We have learned that CDK1 is not predictive of heart failure. Our next goal is to find which genes are predictive of heart failure."
   ]
  },
  {
   "cell_type": "code",
   "execution_count": 19,
   "metadata": {
    "collapsed": false,
    "jupyter": {
     "outputs_hidden": false
    }
   },
   "outputs": [
    {
     "data": {
      "text/html": [
       "<table class=\"dataframe\">\n",
       "<caption>A data.frame: 3 × 3</caption>\n",
       "<thead>\n",
       "\t<tr><th></th><th scope=col>my.data.UBE2C</th><th scope=col>my.data.ATF1</th><th scope=col>my.data.RHOA</th></tr>\n",
       "\t<tr><th></th><th scope=col>&lt;dbl&gt;</th><th scope=col>&lt;dbl&gt;</th><th scope=col>&lt;dbl&gt;</th></tr>\n",
       "</thead>\n",
       "<tbody>\n",
       "\t<tr><th scope=row>1</th><td>-0.005222555</td><td>-0.031470528</td><td> 0.0056296773</td></tr>\n",
       "\t<tr><th scope=row>2</th><td>-0.020491565</td><td> 0.012151979</td><td>-0.0106717396</td></tr>\n",
       "\t<tr><th scope=row>3</th><td>-0.024964727</td><td>-0.008650622</td><td>-0.0002722781</td></tr>\n",
       "</tbody>\n",
       "</table>\n"
      ],
      "text/latex": [
       "A data.frame: 3 × 3\n",
       "\\begin{tabular}{r|lll}\n",
       "  & my.data.UBE2C & my.data.ATF1 & my.data.RHOA\\\\\n",
       "  & <dbl> & <dbl> & <dbl>\\\\\n",
       "\\hline\n",
       "\t1 & -0.005222555 & -0.031470528 &  0.0056296773\\\\\n",
       "\t2 & -0.020491565 &  0.012151979 & -0.0106717396\\\\\n",
       "\t3 & -0.024964727 & -0.008650622 & -0.0002722781\\\\\n",
       "\\end{tabular}\n"
      ],
      "text/markdown": [
       "\n",
       "A data.frame: 3 × 3\n",
       "\n",
       "| <!--/--> | my.data.UBE2C &lt;dbl&gt; | my.data.ATF1 &lt;dbl&gt; | my.data.RHOA &lt;dbl&gt; |\n",
       "|---|---|---|---|\n",
       "| 1 | -0.005222555 | -0.031470528 |  0.0056296773 |\n",
       "| 2 | -0.020491565 |  0.012151979 | -0.0106717396 |\n",
       "| 3 | -0.024964727 | -0.008650622 | -0.0002722781 |\n",
       "\n"
      ],
      "text/plain": [
       "  my.data.UBE2C my.data.ATF1 my.data.RHOA \n",
       "1 -0.005222555  -0.031470528  0.0056296773\n",
       "2 -0.020491565   0.012151979 -0.0106717396\n",
       "3 -0.024964727  -0.008650622 -0.0002722781"
      ]
     },
     "metadata": {},
     "output_type": "display_data"
    }
   ],
   "source": [
    "my.data.sub1 <- data.frame (my.data$UBE2C, my.data$ATF1, my.data$RHOA)\n",
    "my.data.sub1[1:3,]"
   ]
  },
  {
   "cell_type": "code",
   "execution_count": null,
   "metadata": {
    "collapsed": false,
    "jupyter": {
     "outputs_hidden": false
    }
   },
   "outputs": [],
   "source": []
  },
  {
   "cell_type": "code",
   "execution_count": null,
   "metadata": {
    "collapsed": false,
    "jupyter": {
     "outputs_hidden": false
    }
   },
   "outputs": [],
   "source": []
  },
  {
   "cell_type": "code",
   "execution_count": null,
   "metadata": {
    "collapsed": false,
    "jupyter": {
     "outputs_hidden": false
    }
   },
   "outputs": [],
   "source": []
  },
  {
   "cell_type": "code",
   "execution_count": null,
   "metadata": {
    "collapsed": false,
    "jupyter": {
     "outputs_hidden": false
    }
   },
   "outputs": [],
   "source": []
  },
  {
   "cell_type": "code",
   "execution_count": null,
   "metadata": {
    "collapsed": false,
    "jupyter": {
     "outputs_hidden": false
    }
   },
   "outputs": [],
   "source": []
  },
  {
   "cell_type": "code",
   "execution_count": null,
   "metadata": {
    "collapsed": false,
    "jupyter": {
     "outputs_hidden": false
    }
   },
   "outputs": [],
   "source": []
  },
  {
   "cell_type": "code",
   "execution_count": null,
   "metadata": {},
   "outputs": [],
   "source": []
  },
  {
   "cell_type": "code",
   "execution_count": null,
   "metadata": {},
   "outputs": [],
   "source": []
  },
  {
   "cell_type": "code",
   "execution_count": null,
   "metadata": {},
   "outputs": [],
   "source": []
  },
  {
   "cell_type": "code",
   "execution_count": null,
   "metadata": {},
   "outputs": [],
   "source": []
  },
  {
   "cell_type": "code",
   "execution_count": null,
   "metadata": {},
   "outputs": [],
   "source": []
  },
  {
   "cell_type": "code",
   "execution_count": null,
   "metadata": {},
   "outputs": [],
   "source": []
  },
  {
   "cell_type": "code",
   "execution_count": null,
   "metadata": {},
   "outputs": [],
   "source": []
  },
  {
   "cell_type": "code",
   "execution_count": null,
   "metadata": {},
   "outputs": [],
   "source": []
  },
  {
   "cell_type": "code",
   "execution_count": null,
   "metadata": {},
   "outputs": [],
   "source": []
  },
  {
   "cell_type": "code",
   "execution_count": null,
   "metadata": {},
   "outputs": [],
   "source": []
  },
  {
   "cell_type": "code",
   "execution_count": null,
   "metadata": {},
   "outputs": [],
   "source": []
  },
  {
   "cell_type": "code",
   "execution_count": null,
   "metadata": {},
   "outputs": [],
   "source": []
  },
  {
   "cell_type": "code",
   "execution_count": null,
   "metadata": {},
   "outputs": [],
   "source": []
  }
 ],
 "metadata": {
  "kernelspec": {
   "display_name": "R",
   "language": "R",
   "name": "ir"
  },
  "language_info": {
   "codemirror_mode": "r",
   "file_extension": ".r",
   "mimetype": "text/x-r-source",
   "name": "R",
   "pygments_lexer": "r",
   "version": "4.1.1"
  }
 },
 "nbformat": 4,
 "nbformat_minor": 4
}

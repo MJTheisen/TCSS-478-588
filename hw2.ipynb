{
 "cells": [
  {
   "cell_type": "markdown",
   "id": "09507272-f585-4d4c-b1ac-bb3b5139f134",
   "metadata": {},
   "source": [
    "# Michael Theisen and Trevor Tomlin"
   ]
  },
  {
   "cell_type": "markdown",
   "id": "7e740a77-1af9-4852-9d6a-7d54f3bc6e7a",
   "metadata": {},
   "source": [
    "# 1)\n",
    "\n",
    "Using the following data “gene_expression_n438x978.txt” and \n",
    "“ADRs_HLGT_n438x232.txt” to answer this question.  \n",
    " \n",
    "In class, we used forward stepwise logistic regression to build predictive models for side \n",
    "effect “heart failure” by considering only the first 20 genes (variables) in \n",
    "“gene_expression_n438x978.txt” and using all 438 drugs.   \n",
    " \n",
    "Answer this question using all 438 drugs."
   ]
  },
  {
   "cell_type": "markdown",
   "id": "79e49d37-bdf8-494c-9d40-842260b20451",
   "metadata": {},
   "source": [
    "# 1a)\n",
    "Start with the NULL model.  Consider the first 50 genes (columns 1:50 in \n",
    "“gene_expression_n438x978.txt”), use forward stepwise logistic regression to build \n",
    "predictive models for each of the 232 side effects in “ADRs_HLGT_n438x232.txt”.   \n",
    "Which side effect can be predicted with the smallest number of errors? What is the \n",
    "corresponding model?\n",
    "Which side effect can be predicted with the smallest AIC?  What is the corresponding \n",
    "model?"
   ]
  },
  {
   "cell_type": "code",
   "execution_count": 17,
   "id": "11e251c3-f55b-4666-a6a0-28a8ead97dde",
   "metadata": {},
   "outputs": [
    {
     "data": {
      "text/html": [
       "<table class=\"dataframe\">\n",
       "<caption>A data.frame: 5 × 6</caption>\n",
       "<thead>\n",
       "\t<tr><th></th><th scope=col>PSME1</th><th scope=col>ATF1</th><th scope=col>RHEB</th><th scope=col>FOXO3</th><th scope=col>RHOA</th><th scope=col>IL1B</th></tr>\n",
       "\t<tr><th></th><th scope=col>&lt;dbl&gt;</th><th scope=col>&lt;dbl&gt;</th><th scope=col>&lt;dbl&gt;</th><th scope=col>&lt;dbl&gt;</th><th scope=col>&lt;dbl&gt;</th><th scope=col>&lt;dbl&gt;</th></tr>\n",
       "</thead>\n",
       "<tbody>\n",
       "\t<tr><th scope=row>ACETAZOLAMIDE</th><td>-0.015159099</td><td>-0.031470528</td><td>-0.004733488</td><td> 0.02591061</td><td> 0.0056296773</td><td>-0.007325439</td></tr>\n",
       "\t<tr><th scope=row>IRBESARTAN</th><td>-0.026811981</td><td> 0.012151979</td><td>-0.025550148</td><td>-0.02401181</td><td>-0.0106717396</td><td> 0.070951154</td></tr>\n",
       "\t<tr><th scope=row>IPRATROPIUM BROMIDE</th><td> 0.001017958</td><td>-0.008650622</td><td>-0.018128698</td><td>-0.02079971</td><td>-0.0002722781</td><td> 0.025003360</td></tr>\n",
       "\t<tr><th scope=row>EFAVIRENZ</th><td>-0.004398264</td><td> 0.055387992</td><td> 0.004658520</td><td> 0.01380732</td><td>-0.0340697348</td><td> 0.024005885</td></tr>\n",
       "\t<tr><th scope=row>THIAMINE</th><td> 0.001838965</td><td>-0.018079188</td><td>-0.011855532</td><td>-0.03705033</td><td>-0.0133954959</td><td>-0.001752450</td></tr>\n",
       "</tbody>\n",
       "</table>\n"
      ],
      "text/latex": [
       "A data.frame: 5 × 6\n",
       "\\begin{tabular}{r|llllll}\n",
       "  & PSME1 & ATF1 & RHEB & FOXO3 & RHOA & IL1B\\\\\n",
       "  & <dbl> & <dbl> & <dbl> & <dbl> & <dbl> & <dbl>\\\\\n",
       "\\hline\n",
       "\tACETAZOLAMIDE & -0.015159099 & -0.031470528 & -0.004733488 &  0.02591061 &  0.0056296773 & -0.007325439\\\\\n",
       "\tIRBESARTAN & -0.026811981 &  0.012151979 & -0.025550148 & -0.02401181 & -0.0106717396 &  0.070951154\\\\\n",
       "\tIPRATROPIUM BROMIDE &  0.001017958 & -0.008650622 & -0.018128698 & -0.02079971 & -0.0002722781 &  0.025003360\\\\\n",
       "\tEFAVIRENZ & -0.004398264 &  0.055387992 &  0.004658520 &  0.01380732 & -0.0340697348 &  0.024005885\\\\\n",
       "\tTHIAMINE &  0.001838965 & -0.018079188 & -0.011855532 & -0.03705033 & -0.0133954959 & -0.001752450\\\\\n",
       "\\end{tabular}\n"
      ],
      "text/markdown": [
       "\n",
       "A data.frame: 5 × 6\n",
       "\n",
       "| <!--/--> | PSME1 &lt;dbl&gt; | ATF1 &lt;dbl&gt; | RHEB &lt;dbl&gt; | FOXO3 &lt;dbl&gt; | RHOA &lt;dbl&gt; | IL1B &lt;dbl&gt; |\n",
       "|---|---|---|---|---|---|---|\n",
       "| ACETAZOLAMIDE | -0.015159099 | -0.031470528 | -0.004733488 |  0.02591061 |  0.0056296773 | -0.007325439 |\n",
       "| IRBESARTAN | -0.026811981 |  0.012151979 | -0.025550148 | -0.02401181 | -0.0106717396 |  0.070951154 |\n",
       "| IPRATROPIUM BROMIDE |  0.001017958 | -0.008650622 | -0.018128698 | -0.02079971 | -0.0002722781 |  0.025003360 |\n",
       "| EFAVIRENZ | -0.004398264 |  0.055387992 |  0.004658520 |  0.01380732 | -0.0340697348 |  0.024005885 |\n",
       "| THIAMINE |  0.001838965 | -0.018079188 | -0.011855532 | -0.03705033 | -0.0133954959 | -0.001752450 |\n",
       "\n"
      ],
      "text/plain": [
       "                    PSME1        ATF1         RHEB         FOXO3      \n",
       "ACETAZOLAMIDE       -0.015159099 -0.031470528 -0.004733488  0.02591061\n",
       "IRBESARTAN          -0.026811981  0.012151979 -0.025550148 -0.02401181\n",
       "IPRATROPIUM BROMIDE  0.001017958 -0.008650622 -0.018128698 -0.02079971\n",
       "EFAVIRENZ           -0.004398264  0.055387992  0.004658520  0.01380732\n",
       "THIAMINE             0.001838965 -0.018079188 -0.011855532 -0.03705033\n",
       "                    RHOA          IL1B        \n",
       "ACETAZOLAMIDE        0.0056296773 -0.007325439\n",
       "IRBESARTAN          -0.0106717396  0.070951154\n",
       "IPRATROPIUM BROMIDE -0.0002722781  0.025003360\n",
       "EFAVIRENZ           -0.0340697348  0.024005885\n",
       "THIAMINE            -0.0133954959 -0.001752450"
      ]
     },
     "metadata": {},
     "output_type": "display_data"
    }
   ],
   "source": [
    "my.data <- read.table (\"gene_expression_n438x978.txt\", sep=\"\\t\", header=T)\n",
    "dimnames(my.data)[[1]] <- my.data[,1]\n",
    "my.data <- my.data[, -1]\n",
    "my.data[1:5, 1:6]"
   ]
  },
  {
   "cell_type": "code",
   "execution_count": 18,
   "id": "be7741aa-d59d-49fb-a333-dce1be19952f",
   "metadata": {},
   "outputs": [
    {
     "data": {
      "text/html": [
       "<table class=\"dataframe\">\n",
       "<caption>A data.frame: 5 × 6</caption>\n",
       "<thead>\n",
       "\t<tr><th></th><th scope=col>Abdominal.hernias.and.other.abdominal.wall.conditions</th><th scope=col>Abortions.and.stillbirth</th><th scope=col>Acid.base.disorders</th><th scope=col>Administration.site.reactions</th><th scope=col>Adrenal.gland.disorders</th><th scope=col>Age.related.factors</th></tr>\n",
       "\t<tr><th></th><th scope=col>&lt;int&gt;</th><th scope=col>&lt;int&gt;</th><th scope=col>&lt;int&gt;</th><th scope=col>&lt;int&gt;</th><th scope=col>&lt;int&gt;</th><th scope=col>&lt;int&gt;</th></tr>\n",
       "</thead>\n",
       "<tbody>\n",
       "\t<tr><th scope=row>ACETAZOLAMIDE</th><td>0</td><td>0</td><td>1</td><td>1</td><td>0</td><td>0</td></tr>\n",
       "\t<tr><th scope=row>IRBESARTAN</th><td>0</td><td>0</td><td>0</td><td>0</td><td>1</td><td>0</td></tr>\n",
       "\t<tr><th scope=row>IPRATROPIUM BROMIDE</th><td>0</td><td>0</td><td>0</td><td>0</td><td>1</td><td>0</td></tr>\n",
       "\t<tr><th scope=row>EFAVIRENZ</th><td>0</td><td>0</td><td>0</td><td>0</td><td>1</td><td>1</td></tr>\n",
       "\t<tr><th scope=row>THIAMINE</th><td>0</td><td>0</td><td>0</td><td>0</td><td>0</td><td>0</td></tr>\n",
       "</tbody>\n",
       "</table>\n"
      ],
      "text/latex": [
       "A data.frame: 5 × 6\n",
       "\\begin{tabular}{r|llllll}\n",
       "  & Abdominal.hernias.and.other.abdominal.wall.conditions & Abortions.and.stillbirth & Acid.base.disorders & Administration.site.reactions & Adrenal.gland.disorders & Age.related.factors\\\\\n",
       "  & <int> & <int> & <int> & <int> & <int> & <int>\\\\\n",
       "\\hline\n",
       "\tACETAZOLAMIDE & 0 & 0 & 1 & 1 & 0 & 0\\\\\n",
       "\tIRBESARTAN & 0 & 0 & 0 & 0 & 1 & 0\\\\\n",
       "\tIPRATROPIUM BROMIDE & 0 & 0 & 0 & 0 & 1 & 0\\\\\n",
       "\tEFAVIRENZ & 0 & 0 & 0 & 0 & 1 & 1\\\\\n",
       "\tTHIAMINE & 0 & 0 & 0 & 0 & 0 & 0\\\\\n",
       "\\end{tabular}\n"
      ],
      "text/markdown": [
       "\n",
       "A data.frame: 5 × 6\n",
       "\n",
       "| <!--/--> | Abdominal.hernias.and.other.abdominal.wall.conditions &lt;int&gt; | Abortions.and.stillbirth &lt;int&gt; | Acid.base.disorders &lt;int&gt; | Administration.site.reactions &lt;int&gt; | Adrenal.gland.disorders &lt;int&gt; | Age.related.factors &lt;int&gt; |\n",
       "|---|---|---|---|---|---|---|\n",
       "| ACETAZOLAMIDE | 0 | 0 | 1 | 1 | 0 | 0 |\n",
       "| IRBESARTAN | 0 | 0 | 0 | 0 | 1 | 0 |\n",
       "| IPRATROPIUM BROMIDE | 0 | 0 | 0 | 0 | 1 | 0 |\n",
       "| EFAVIRENZ | 0 | 0 | 0 | 0 | 1 | 1 |\n",
       "| THIAMINE | 0 | 0 | 0 | 0 | 0 | 0 |\n",
       "\n"
      ],
      "text/plain": [
       "                    Abdominal.hernias.and.other.abdominal.wall.conditions\n",
       "ACETAZOLAMIDE       0                                                    \n",
       "IRBESARTAN          0                                                    \n",
       "IPRATROPIUM BROMIDE 0                                                    \n",
       "EFAVIRENZ           0                                                    \n",
       "THIAMINE            0                                                    \n",
       "                    Abortions.and.stillbirth Acid.base.disorders\n",
       "ACETAZOLAMIDE       0                        1                  \n",
       "IRBESARTAN          0                        0                  \n",
       "IPRATROPIUM BROMIDE 0                        0                  \n",
       "EFAVIRENZ           0                        0                  \n",
       "THIAMINE            0                        0                  \n",
       "                    Administration.site.reactions Adrenal.gland.disorders\n",
       "ACETAZOLAMIDE       1                             0                      \n",
       "IRBESARTAN          0                             1                      \n",
       "IPRATROPIUM BROMIDE 0                             1                      \n",
       "EFAVIRENZ           0                             1                      \n",
       "THIAMINE            0                             0                      \n",
       "                    Age.related.factors\n",
       "ACETAZOLAMIDE       0                  \n",
       "IRBESARTAN          0                  \n",
       "IPRATROPIUM BROMIDE 0                  \n",
       "EFAVIRENZ           1                  \n",
       "THIAMINE            0                  "
      ]
     },
     "metadata": {},
     "output_type": "display_data"
    }
   ],
   "source": [
    "adr.mat <- read.table (\"ADRs_HLGT_n438x232.txt\", sep=\"\\t\", header=T)\n",
    "dimnames(adr.mat)[[1]] <- adr.mat [, 1]\n",
    "adr.mat <- adr.mat[, -1]\n",
    "adr.mat[1:5, 1:6]"
   ]
  },
  {
   "cell_type": "code",
   "execution_count": 19,
   "id": "59d353dc-fc10-4268-a63a-eae78a8397f0",
   "metadata": {},
   "outputs": [],
   "source": [
    "options(warn=-1)"
   ]
  },
  {
   "cell_type": "code",
   "execution_count": 20,
   "id": "c34c1a23-4ed1-46d0-a612-a626a8aa3169",
   "metadata": {},
   "outputs": [
    {
     "data": {
      "text/html": [
       "<table class=\"dataframe\">\n",
       "<caption>A data.frame: 5 × 20</caption>\n",
       "<thead>\n",
       "\t<tr><th></th><th scope=col>PSME1</th><th scope=col>ATF1</th><th scope=col>RHEB</th><th scope=col>FOXO3</th><th scope=col>RHOA</th><th scope=col>IL1B</th><th scope=col>ASAH1</th><th scope=col>RALA</th><th scope=col>ARHGEF12</th><th scope=col>SOX2</th><th scope=col>SERPINE1</th><th scope=col>HLA.DMA</th><th scope=col>EGF</th><th scope=col>APP</th><th scope=col>NOS3</th><th scope=col>CSNK1A1</th><th scope=col>NFATC4</th><th scope=col>TBP</th><th scope=col>BRCA1</th><th scope=col>PSMD4</th></tr>\n",
       "\t<tr><th></th><th scope=col>&lt;dbl&gt;</th><th scope=col>&lt;dbl&gt;</th><th scope=col>&lt;dbl&gt;</th><th scope=col>&lt;dbl&gt;</th><th scope=col>&lt;dbl&gt;</th><th scope=col>&lt;dbl&gt;</th><th scope=col>&lt;dbl&gt;</th><th scope=col>&lt;dbl&gt;</th><th scope=col>&lt;dbl&gt;</th><th scope=col>&lt;dbl&gt;</th><th scope=col>&lt;dbl&gt;</th><th scope=col>&lt;dbl&gt;</th><th scope=col>&lt;dbl&gt;</th><th scope=col>&lt;dbl&gt;</th><th scope=col>&lt;dbl&gt;</th><th scope=col>&lt;dbl&gt;</th><th scope=col>&lt;dbl&gt;</th><th scope=col>&lt;dbl&gt;</th><th scope=col>&lt;dbl&gt;</th><th scope=col>&lt;dbl&gt;</th></tr>\n",
       "</thead>\n",
       "<tbody>\n",
       "\t<tr><th scope=row>ACETAZOLAMIDE</th><td>-0.015159099</td><td>-0.031470528</td><td>-0.004733488</td><td> 0.02591061</td><td> 0.0056296773</td><td>-0.007325439</td><td> 0.011877825</td><td> 0.022163771</td><td>0.015935689</td><td> 0.001867957</td><td> 0.0536455506</td><td> 0.0161696678</td><td>-0.010473857</td><td> 0.006264292</td><td> 0.04489467</td><td>-0.0075977283</td><td> 0.033024746</td><td>-0.009180880</td><td>-0.048011062</td><td>-0.020221419</td></tr>\n",
       "\t<tr><th scope=row>IRBESARTAN</th><td>-0.026811981</td><td> 0.012151979</td><td>-0.025550148</td><td>-0.02401181</td><td>-0.0106717396</td><td> 0.070951154</td><td> 0.003130203</td><td> 0.010251465</td><td>0.064158581</td><td> 0.004275614</td><td>-0.0133962084</td><td>-0.0263783481</td><td>-0.011073187</td><td>-0.007276688</td><td>-0.02599797</td><td>-0.0004622327</td><td> 0.011080955</td><td>-0.018843837</td><td> 0.013304076</td><td>-0.009440527</td></tr>\n",
       "\t<tr><th scope=row>IPRATROPIUM BROMIDE</th><td> 0.001017958</td><td>-0.008650622</td><td>-0.018128698</td><td>-0.02079971</td><td>-0.0002722781</td><td> 0.025003360</td><td>-0.011930075</td><td>-0.001534971</td><td>0.002130394</td><td> 0.013207036</td><td>-0.0367360390</td><td>-0.0001869585</td><td> 0.012464447</td><td>-0.010497377</td><td> 0.00991886</td><td>-0.0110961892</td><td> 0.005871478</td><td> 0.001191925</td><td>-0.003608489</td><td>-0.005478129</td></tr>\n",
       "\t<tr><th scope=row>EFAVIRENZ</th><td>-0.004398264</td><td> 0.055387992</td><td> 0.004658520</td><td> 0.01380732</td><td>-0.0340697348</td><td> 0.024005885</td><td> 0.028270797</td><td> 0.031744732</td><td>0.004021388</td><td>-0.007478017</td><td>-0.0051331342</td><td>-0.0224352845</td><td> 0.002552100</td><td>-0.009437163</td><td> 0.01499500</td><td>-0.0239943786</td><td> 0.010403449</td><td> 0.004904294</td><td> 0.032500218</td><td>-0.009029595</td></tr>\n",
       "\t<tr><th scope=row>THIAMINE</th><td> 0.001838965</td><td>-0.018079188</td><td>-0.011855532</td><td>-0.03705033</td><td>-0.0133954959</td><td>-0.001752450</td><td>-0.005194435</td><td> 0.023154467</td><td>0.046257712</td><td> 0.003875417</td><td> 0.0008968498</td><td>-0.0235725707</td><td> 0.009344182</td><td> 0.004243532</td><td>-0.01223848</td><td>-0.0170609476</td><td>-0.016359751</td><td> 0.013808377</td><td> 0.004106289</td><td>-0.016174886</td></tr>\n",
       "</tbody>\n",
       "</table>\n"
      ],
      "text/latex": [
       "A data.frame: 5 × 20\n",
       "\\begin{tabular}{r|llllllllllllllllllll}\n",
       "  & PSME1 & ATF1 & RHEB & FOXO3 & RHOA & IL1B & ASAH1 & RALA & ARHGEF12 & SOX2 & SERPINE1 & HLA.DMA & EGF & APP & NOS3 & CSNK1A1 & NFATC4 & TBP & BRCA1 & PSMD4\\\\\n",
       "  & <dbl> & <dbl> & <dbl> & <dbl> & <dbl> & <dbl> & <dbl> & <dbl> & <dbl> & <dbl> & <dbl> & <dbl> & <dbl> & <dbl> & <dbl> & <dbl> & <dbl> & <dbl> & <dbl> & <dbl>\\\\\n",
       "\\hline\n",
       "\tACETAZOLAMIDE & -0.015159099 & -0.031470528 & -0.004733488 &  0.02591061 &  0.0056296773 & -0.007325439 &  0.011877825 &  0.022163771 & 0.015935689 &  0.001867957 &  0.0536455506 &  0.0161696678 & -0.010473857 &  0.006264292 &  0.04489467 & -0.0075977283 &  0.033024746 & -0.009180880 & -0.048011062 & -0.020221419\\\\\n",
       "\tIRBESARTAN & -0.026811981 &  0.012151979 & -0.025550148 & -0.02401181 & -0.0106717396 &  0.070951154 &  0.003130203 &  0.010251465 & 0.064158581 &  0.004275614 & -0.0133962084 & -0.0263783481 & -0.011073187 & -0.007276688 & -0.02599797 & -0.0004622327 &  0.011080955 & -0.018843837 &  0.013304076 & -0.009440527\\\\\n",
       "\tIPRATROPIUM BROMIDE &  0.001017958 & -0.008650622 & -0.018128698 & -0.02079971 & -0.0002722781 &  0.025003360 & -0.011930075 & -0.001534971 & 0.002130394 &  0.013207036 & -0.0367360390 & -0.0001869585 &  0.012464447 & -0.010497377 &  0.00991886 & -0.0110961892 &  0.005871478 &  0.001191925 & -0.003608489 & -0.005478129\\\\\n",
       "\tEFAVIRENZ & -0.004398264 &  0.055387992 &  0.004658520 &  0.01380732 & -0.0340697348 &  0.024005885 &  0.028270797 &  0.031744732 & 0.004021388 & -0.007478017 & -0.0051331342 & -0.0224352845 &  0.002552100 & -0.009437163 &  0.01499500 & -0.0239943786 &  0.010403449 &  0.004904294 &  0.032500218 & -0.009029595\\\\\n",
       "\tTHIAMINE &  0.001838965 & -0.018079188 & -0.011855532 & -0.03705033 & -0.0133954959 & -0.001752450 & -0.005194435 &  0.023154467 & 0.046257712 &  0.003875417 &  0.0008968498 & -0.0235725707 &  0.009344182 &  0.004243532 & -0.01223848 & -0.0170609476 & -0.016359751 &  0.013808377 &  0.004106289 & -0.016174886\\\\\n",
       "\\end{tabular}\n"
      ],
      "text/markdown": [
       "\n",
       "A data.frame: 5 × 20\n",
       "\n",
       "| <!--/--> | PSME1 &lt;dbl&gt; | ATF1 &lt;dbl&gt; | RHEB &lt;dbl&gt; | FOXO3 &lt;dbl&gt; | RHOA &lt;dbl&gt; | IL1B &lt;dbl&gt; | ASAH1 &lt;dbl&gt; | RALA &lt;dbl&gt; | ARHGEF12 &lt;dbl&gt; | SOX2 &lt;dbl&gt; | SERPINE1 &lt;dbl&gt; | HLA.DMA &lt;dbl&gt; | EGF &lt;dbl&gt; | APP &lt;dbl&gt; | NOS3 &lt;dbl&gt; | CSNK1A1 &lt;dbl&gt; | NFATC4 &lt;dbl&gt; | TBP &lt;dbl&gt; | BRCA1 &lt;dbl&gt; | PSMD4 &lt;dbl&gt; |\n",
       "|---|---|---|---|---|---|---|---|---|---|---|---|---|---|---|---|---|---|---|---|---|\n",
       "| ACETAZOLAMIDE | -0.015159099 | -0.031470528 | -0.004733488 |  0.02591061 |  0.0056296773 | -0.007325439 |  0.011877825 |  0.022163771 | 0.015935689 |  0.001867957 |  0.0536455506 |  0.0161696678 | -0.010473857 |  0.006264292 |  0.04489467 | -0.0075977283 |  0.033024746 | -0.009180880 | -0.048011062 | -0.020221419 |\n",
       "| IRBESARTAN | -0.026811981 |  0.012151979 | -0.025550148 | -0.02401181 | -0.0106717396 |  0.070951154 |  0.003130203 |  0.010251465 | 0.064158581 |  0.004275614 | -0.0133962084 | -0.0263783481 | -0.011073187 | -0.007276688 | -0.02599797 | -0.0004622327 |  0.011080955 | -0.018843837 |  0.013304076 | -0.009440527 |\n",
       "| IPRATROPIUM BROMIDE |  0.001017958 | -0.008650622 | -0.018128698 | -0.02079971 | -0.0002722781 |  0.025003360 | -0.011930075 | -0.001534971 | 0.002130394 |  0.013207036 | -0.0367360390 | -0.0001869585 |  0.012464447 | -0.010497377 |  0.00991886 | -0.0110961892 |  0.005871478 |  0.001191925 | -0.003608489 | -0.005478129 |\n",
       "| EFAVIRENZ | -0.004398264 |  0.055387992 |  0.004658520 |  0.01380732 | -0.0340697348 |  0.024005885 |  0.028270797 |  0.031744732 | 0.004021388 | -0.007478017 | -0.0051331342 | -0.0224352845 |  0.002552100 | -0.009437163 |  0.01499500 | -0.0239943786 |  0.010403449 |  0.004904294 |  0.032500218 | -0.009029595 |\n",
       "| THIAMINE |  0.001838965 | -0.018079188 | -0.011855532 | -0.03705033 | -0.0133954959 | -0.001752450 | -0.005194435 |  0.023154467 | 0.046257712 |  0.003875417 |  0.0008968498 | -0.0235725707 |  0.009344182 |  0.004243532 | -0.01223848 | -0.0170609476 | -0.016359751 |  0.013808377 |  0.004106289 | -0.016174886 |\n",
       "\n"
      ],
      "text/plain": [
       "                    PSME1        ATF1         RHEB         FOXO3      \n",
       "ACETAZOLAMIDE       -0.015159099 -0.031470528 -0.004733488  0.02591061\n",
       "IRBESARTAN          -0.026811981  0.012151979 -0.025550148 -0.02401181\n",
       "IPRATROPIUM BROMIDE  0.001017958 -0.008650622 -0.018128698 -0.02079971\n",
       "EFAVIRENZ           -0.004398264  0.055387992  0.004658520  0.01380732\n",
       "THIAMINE             0.001838965 -0.018079188 -0.011855532 -0.03705033\n",
       "                    RHOA          IL1B         ASAH1        RALA        \n",
       "ACETAZOLAMIDE        0.0056296773 -0.007325439  0.011877825  0.022163771\n",
       "IRBESARTAN          -0.0106717396  0.070951154  0.003130203  0.010251465\n",
       "IPRATROPIUM BROMIDE -0.0002722781  0.025003360 -0.011930075 -0.001534971\n",
       "EFAVIRENZ           -0.0340697348  0.024005885  0.028270797  0.031744732\n",
       "THIAMINE            -0.0133954959 -0.001752450 -0.005194435  0.023154467\n",
       "                    ARHGEF12    SOX2         SERPINE1      HLA.DMA      \n",
       "ACETAZOLAMIDE       0.015935689  0.001867957  0.0536455506  0.0161696678\n",
       "IRBESARTAN          0.064158581  0.004275614 -0.0133962084 -0.0263783481\n",
       "IPRATROPIUM BROMIDE 0.002130394  0.013207036 -0.0367360390 -0.0001869585\n",
       "EFAVIRENZ           0.004021388 -0.007478017 -0.0051331342 -0.0224352845\n",
       "THIAMINE            0.046257712  0.003875417  0.0008968498 -0.0235725707\n",
       "                    EGF          APP          NOS3        CSNK1A1      \n",
       "ACETAZOLAMIDE       -0.010473857  0.006264292  0.04489467 -0.0075977283\n",
       "IRBESARTAN          -0.011073187 -0.007276688 -0.02599797 -0.0004622327\n",
       "IPRATROPIUM BROMIDE  0.012464447 -0.010497377  0.00991886 -0.0110961892\n",
       "EFAVIRENZ            0.002552100 -0.009437163  0.01499500 -0.0239943786\n",
       "THIAMINE             0.009344182  0.004243532 -0.01223848 -0.0170609476\n",
       "                    NFATC4       TBP          BRCA1        PSMD4       \n",
       "ACETAZOLAMIDE        0.033024746 -0.009180880 -0.048011062 -0.020221419\n",
       "IRBESARTAN           0.011080955 -0.018843837  0.013304076 -0.009440527\n",
       "IPRATROPIUM BROMIDE  0.005871478  0.001191925 -0.003608489 -0.005478129\n",
       "EFAVIRENZ            0.010403449  0.004904294  0.032500218 -0.009029595\n",
       "THIAMINE            -0.016359751  0.013808377  0.004106289 -0.016174886"
      ]
     },
     "metadata": {},
     "output_type": "display_data"
    }
   ],
   "source": [
    "first.20.genes <- data.frame(my.data[ , 1:20]) # start with the subset of the first 20 genes.\n",
    "first.20.genes[1:5,] # sanity check. prints out a table of the first 5 drugs vs the first 20 genes."
   ]
  },
  {
   "cell_type": "code",
   "execution_count": 21,
   "id": "f602c972-8337-48ec-87e3-973dc45fe2fc",
   "metadata": {},
   "outputs": [],
   "source": [
    "min.error <- 1\n",
    "min.aic <- .Machine$integer.max\n",
    "best.model.errors <- 0\n",
    "best.model.aic <- 0\n",
    "best.ind.error <- 0\n",
    "best.ind.aic <- 0\n",
    "\n",
    "for (x in 1:232) {\n",
    "    null.model <- glm (adr.mat[,x] ~ 1, data=first.20.genes, family=binomial)\n",
    "    first.20.genes.model <- glm (adr.mat[,x] ~ ., data=first.20.genes, family=binomial)\n",
    "    model <- step (null.model, trace=0, scope=list(upper=first.20.genes.model), data=first.20.genes, direction=\"forward\")\n",
    "    pred <- predict(model, type=\"response\")\n",
    "    errors <- sum(adr.mat[,x] != round(pred))\n",
    "    \n",
    "    total <- length(adr.mat[,x])\n",
    "    error.percent <- errors/total\n",
    "    \n",
    "    if (error.percent < min.error) {\n",
    "        min.error <- error.percent\n",
    "        best.model.error <- model\n",
    "        best.ind.error <- x\n",
    "    }\n",
    "    \n",
    "    if (model$aic < min.aic) {\n",
    "        min.aic <- model$aic\n",
    "        best.model.aic <- model\n",
    "        best.ind.aic <- x\n",
    "    }\n",
    " \n",
    "}"
   ]
  },
  {
   "cell_type": "code",
   "execution_count": 22,
   "id": "8bac0b27-f6de-4879-a199-374f6f16c098",
   "metadata": {},
   "outputs": [
    {
     "name": "stdout",
     "output_type": "stream",
     "text": [
      "[1] 0.01598174\n",
      "\n",
      "Call:  glm(formula = adr.mat[, x] ~ 1, family = binomial, data = first.20.genes)\n",
      "\n",
      "Coefficients:\n",
      "(Intercept)  \n",
      "      -4.12  \n",
      "\n",
      "Degrees of Freedom: 437 Total (i.e. Null);  437 Residual\n",
      "Null Deviance:\t    71.8 \n",
      "Residual Deviance: 71.8 \tAIC: 73.8\n",
      "   \n",
      "      0\n",
      "  0 431\n",
      "  1   7\n"
     ]
    }
   ],
   "source": [
    "print(min.error)\n",
    "print(best.model.error)\n",
    "pred <- predict(best.model.error, type=\"response\")\n",
    "print(table (adr.mat[,best.ind.error], round(pred)))"
   ]
  },
  {
   "cell_type": "code",
   "execution_count": 23,
   "id": "a931f584-3483-4dde-b449-c3105b77bd69",
   "metadata": {},
   "outputs": [
    {
     "name": "stdout",
     "output_type": "stream",
     "text": [
      "[1] \"Gastrointestinal.tract.disorders.congenital\"\n"
     ]
    }
   ],
   "source": [
    "print(colnames(adr.mat)[[best.ind.error]])"
   ]
  },
  {
   "cell_type": "markdown",
   "id": "3e3787d4-9e9a-4276-947d-cd45eb4aecb6",
   "metadata": {},
   "source": [
    "**Gastrointestinal.tract.disorders.congenital** can calculated with an error rate of 0.01598174.\\\n",
    "The model is uses only the intercept."
   ]
  },
  {
   "cell_type": "code",
   "execution_count": 24,
   "id": "005068d4-a336-4fa3-833e-cdf9b8483b07",
   "metadata": {},
   "outputs": [
    {
     "name": "stdout",
     "output_type": "stream",
     "text": [
      "[1] 73.79585\n",
      "\n",
      "Call:  glm(formula = adr.mat[, x] ~ 1, family = binomial, data = first.20.genes)\n",
      "\n",
      "Coefficients:\n",
      "(Intercept)  \n",
      "      -4.12  \n",
      "\n",
      "Degrees of Freedom: 437 Total (i.e. Null);  437 Residual\n",
      "Null Deviance:\t    71.8 \n",
      "Residual Deviance: 71.8 \tAIC: 73.8\n",
      "   \n",
      "      0\n",
      "  0 431\n",
      "  1   7\n"
     ]
    }
   ],
   "source": [
    "print(min.aic)\n",
    "print(best.model.aic)\n",
    "pred <- predict(best.model.aic, type=\"response\")\n",
    "print(table (adr.mat[,best.ind.aic], round(pred)))"
   ]
  },
  {
   "cell_type": "code",
   "execution_count": 25,
   "id": "c4ad76f5-8282-439a-be6d-3031c08d2f63",
   "metadata": {},
   "outputs": [
    {
     "name": "stdout",
     "output_type": "stream",
     "text": [
      "[1] \"Gastrointestinal.tract.disorders.congenital\"\n"
     ]
    }
   ],
   "source": [
    "print(colnames(adr.mat)[[best.ind.aic]])"
   ]
  },
  {
   "cell_type": "markdown",
   "id": "3dcbe949-a8b3-445e-bcfc-2cbf16775c19",
   "metadata": {},
   "source": [
    "**Gastrointestinal.tract.disorders.congenital** can calculated with an AIC of 73.79585.\\\n",
    "The model is uses only the intercept."
   ]
  },
  {
   "cell_type": "markdown",
   "id": "6f890ae6-8070-4f7e-a3b3-dea96c8ee3c9",
   "metadata": {},
   "source": [
    "# 1b)"
   ]
  },
  {
   "cell_type": "markdown",
   "id": "a4f94955-bb3f-447d-a115-f06b11d4839f",
   "metadata": {},
   "source": [
    "Repeat Question (2a) using backward elimination instead of forward \n",
    "stepwise.  Start with the FULL model.  Consider the first 50 genes (columns 1:50 in \n",
    "“gene_expression_n438x978.txt”), use backward elimination in logistic regression to \n",
    "build predictive models for each of the 232 side effects in \n",
    "“ADRs_HLGT_n438x232.txt”.   \n",
    "Which side effect can be predicted with the smallest number of errors? What is the \n",
    "corresponding model? \n",
    "Which side effect can be predicted with the smallest AIC?  What is the corresponding \n",
    "model? "
   ]
  },
  {
   "cell_type": "code",
   "execution_count": 26,
   "id": "67b50817-46b0-4d62-ae0b-c9d731265260",
   "metadata": {},
   "outputs": [],
   "source": [
    "min.error <- 1\n",
    "min.aic <- .Machine$integer.max\n",
    "best.model.errors <- 0\n",
    "best.model.aic <- 0\n",
    "best.ind.error <- 0\n",
    "best.ind.aic <- 0\n",
    "\n",
    "for (x in 1:232) {\n",
    "    null.model <- glm (adr.mat[,x] ~ 1, data=first.20.genes, family=binomial)\n",
    "    first.20.genes.model <- glm (adr.mat[,x] ~ ., data=first.20.genes, family=binomial)\n",
    "    model <- step (first.20.genes.model, trace=0, data=first.20.genes, direction=\"backward\")\n",
    "    pred <- predict(model, type=\"response\")\n",
    "    errors <- sum(adr.mat[,x] != round(pred))\n",
    "    \n",
    "    total <- length(adr.mat[,x])\n",
    "    error.percent <- errors/total\n",
    "    \n",
    "    if (error.percent < min.error) {\n",
    "        min.error <- error.percent\n",
    "        best.model.error <- model\n",
    "        best.ind.error <- x\n",
    "    }\n",
    "    \n",
    "    if (model$aic < min.aic) {\n",
    "        min.aic <- model$aic\n",
    "        best.model.aic <- model\n",
    "        best.ind.aic <- x\n",
    "    }\n",
    " \n",
    "}"
   ]
  },
  {
   "cell_type": "code",
   "execution_count": 27,
   "id": "66f4b843-667a-48ef-877b-c651844ae967",
   "metadata": {},
   "outputs": [
    {
     "name": "stdout",
     "output_type": "stream",
     "text": [
      "[1] 0.01598174\n",
      "\n",
      "Call:  glm(formula = adr.mat[, x] ~ FOXO3 + ASAH1 + BRCA1 + PSMD4, family = binomial, \n",
      "    data = first.20.genes)\n",
      "\n",
      "Coefficients:\n",
      "(Intercept)        FOXO3        ASAH1        BRCA1        PSMD4  \n",
      "     -4.826       24.141       26.118       27.386      -21.644  \n",
      "\n",
      "Degrees of Freedom: 437 Total (i.e. Null);  433 Residual\n",
      "Null Deviance:\t    71.8 \n",
      "Residual Deviance: 63.76 \tAIC: 73.76\n",
      "   \n",
      "      0\n",
      "  0 431\n",
      "  1   7\n"
     ]
    }
   ],
   "source": [
    "print(min.error)\n",
    "print(best.model.error)\n",
    "pred <- predict(best.model.error, type=\"response\")\n",
    "print(table (adr.mat[,best.ind.error], round(pred)))"
   ]
  },
  {
   "cell_type": "code",
   "execution_count": 28,
   "id": "825282a0-6000-47f6-a56a-1fb3ee1b4061",
   "metadata": {},
   "outputs": [
    {
     "name": "stdout",
     "output_type": "stream",
     "text": [
      "[1] \"Gastrointestinal.tract.disorders.congenital\"\n"
     ]
    }
   ],
   "source": [
    "print(colnames(adr.mat)[[best.ind.error]])"
   ]
  },
  {
   "cell_type": "markdown",
   "id": "db898486-ff9a-4530-b2a0-b01309a15273",
   "metadata": {},
   "source": [
    "**Gastrointestinal.tract.disorders.congenital** can calculated with an error rate of 0.01598174.\\\n",
    "The model is uses the genes: FOXO3, ASAH1, BRCA1, PSMD4."
   ]
  },
  {
   "cell_type": "code",
   "execution_count": 29,
   "id": "302e76b6-8334-4ab0-b909-46e842429248",
   "metadata": {},
   "outputs": [
    {
     "name": "stdout",
     "output_type": "stream",
     "text": [
      "[1] 73.75807\n",
      "\n",
      "Call:  glm(formula = adr.mat[, x] ~ FOXO3 + ASAH1 + BRCA1 + PSMD4, family = binomial, \n",
      "    data = first.20.genes)\n",
      "\n",
      "Coefficients:\n",
      "(Intercept)        FOXO3        ASAH1        BRCA1        PSMD4  \n",
      "     -4.826       24.141       26.118       27.386      -21.644  \n",
      "\n",
      "Degrees of Freedom: 437 Total (i.e. Null);  433 Residual\n",
      "Null Deviance:\t    71.8 \n",
      "Residual Deviance: 63.76 \tAIC: 73.76\n",
      "   \n",
      "      0\n",
      "  0 431\n",
      "  1   7\n"
     ]
    }
   ],
   "source": [
    "print(min.aic)\n",
    "print(best.model.aic)\n",
    "pred <- predict(best.model.aic, type=\"response\")\n",
    "print(table (adr.mat[,best.ind.aic], round(pred)))"
   ]
  },
  {
   "cell_type": "code",
   "execution_count": 30,
   "id": "462a6247-958a-427b-8e61-ca97545bca32",
   "metadata": {},
   "outputs": [
    {
     "name": "stdout",
     "output_type": "stream",
     "text": [
      "[1] \"Gastrointestinal.tract.disorders.congenital\"\n"
     ]
    }
   ],
   "source": [
    "print(colnames(adr.mat)[[best.ind.aic]])"
   ]
  },
  {
   "cell_type": "markdown",
   "id": "a71c28cf-cea4-4e8a-87b9-6025ca2d2940",
   "metadata": {},
   "source": [
    "**Gastrointestinal.tract.disorders.congenital** can calculated with an AIC of 73.79585.\\\n",
    "The model is uses the genes: FOXO3, ASAH1, BRCA1, PSMD4."
   ]
  },
  {
   "cell_type": "markdown",
   "id": "deaab275-7073-420b-9b34-44bfd4d425d9",
   "metadata": {},
   "source": [
    "# 2\n",
    "In class, we discussed many techniques for classification and feature selection in the \n",
    "context of personalized medicine.  We illustrated how to apply these methods to the \n",
    "breast cancer data in class"
   ]
  },
  {
   "cell_type": "markdown",
   "id": "68f8e336-ec0c-4037-854b-cf627d75810a",
   "metadata": {
    "tags": []
   },
   "source": [
    "# 2a)\n",
    "Apply the t-test to the gene expression data and select the 50 most \n",
    "significant (i.e. lowest p-values) genes for each side effect. Repeat backward \n",
    "elimination using these 50 genes."
   ]
  },
  {
   "cell_type": "code",
   "execution_count": 31,
   "id": "54cf3431-fec9-4e82-8f62-d67664120f22",
   "metadata": {},
   "outputs": [],
   "source": [
    "# For each side effect E:\n",
    "#     For each gene G:\n",
    "#         x = vector consisting of gene expression values of gene G with no ADR (i.e. response = 0) for E\n",
    "#         y = vector consisting of gene expression values of gene G with ADR (ie. response = 1) for E\n",
    "#         Apply the t-test. t.test (x,y)\n",
    "\n",
    "best.aic <- .Machine$integer.max\n",
    "best.e <- 0\n",
    "best.model <- 0\n",
    "\n",
    "for (e in 1:232) {\n",
    "    gene.and.pvalues <- matrix(, nrow=0, ncol=2)\n",
    "    \n",
    "    for (g in 1:978) { \n",
    "        no.adr <- my.data[which(adr.mat[,e] == 0),g]\n",
    "        adr <- my.data[which(adr.mat[,e] == 1),g]\n",
    "        p.value <- t.test(no.adr, adr)$p.value\n",
    "        data <- c(g,p.value)\n",
    "        gene.and.pvalues <- rbind(gene.and.pvalues, data)\n",
    "    \n",
    "    } \n",
    "    gene.and.pvalues <- gene.and.pvalues[order(gene.and.pvalues[,2]),][1:20,]\n",
    "    \n",
    "    top.20.gene.matrix <- matrix(, nrow=438, ncol=0)\n",
    "    \n",
    "    for (i in gene.and.pvalues[,1]) {\n",
    "        top.20.gene.matrix <- cbind(my.data[,2], top.20.gene.matrix)\n",
    "    \n",
    "    }\n",
    "    \n",
    "    df <- as.data.frame(top.20.gene.matrix)\n",
    "    colnames(df) <- colnames(my.data)[gene.and.pvalues[,1]]\n",
    "\n",
    "    # Backward step\n",
    "    null.model <- glm (adr.mat[,e] ~ 1, data=df, family=binomial)\n",
    "    top.genes.model <- glm (adr.mat[,e] ~ ., data=df, family=binomial)\n",
    "    model <- step (top.genes.model, trace=0, data=df, direction=\"backward\")\n",
    "    \n",
    "    if (model$aic < best.aic) {\n",
    "        best.aic <- model$aic\n",
    "        best.e <- e\n",
    "        best.model <- model\n",
    "    }\n",
    "\n",
    "}"
   ]
  },
  {
   "cell_type": "code",
   "execution_count": 32,
   "id": "a2ec9803-126a-4418-83b1-8c2102e7fc00",
   "metadata": {},
   "outputs": [
    {
     "name": "stdout",
     "output_type": "stream",
     "text": [
      "[1] 73.79585\n",
      "[1] \"Gastrointestinal.tract.disorders.congenital\"\n",
      "\n",
      "Call:  glm(formula = adr.mat[, e] ~ 1, family = binomial, data = df)\n",
      "\n",
      "Coefficients:\n",
      "(Intercept)  \n",
      "      -4.12  \n",
      "\n",
      "Degrees of Freedom: 437 Total (i.e. Null);  437 Residual\n",
      "Null Deviance:\t    71.8 \n",
      "Residual Deviance: 71.8 \tAIC: 73.8\n"
     ]
    }
   ],
   "source": [
    "print(best.aic)\n",
    "print(colnames(adr.mat)[[best.e]])\n",
    "print(best.model)"
   ]
  },
  {
   "cell_type": "markdown",
   "id": "fc6765d6-b925-4f1f-93af-92904be60b55",
   "metadata": {},
   "source": [
    "# 2b)\n",
    "Compare your answer to Q1(b) and discuss any differences you observed. "
   ]
  },
  {
   "cell_type": "markdown",
   "id": "3f494758-6750-4fbe-a83d-f41ae5f18079",
   "metadata": {},
   "source": [
    "We see that that by using the t-test and selecting the best genes, we get the best model as seen above.  Gastrointestinal.tract.disorders.congenital has the best AIC as seen before. However, this time the NULL model has the same results as the models previously which were based on several genes."
   ]
  },
  {
   "cell_type": "code",
   "execution_count": null,
   "id": "4dd85e8b-b8de-49c2-bed0-a61440fe2bd8",
   "metadata": {},
   "outputs": [],
   "source": []
  }
 ],
 "metadata": {
  "kernelspec": {
   "display_name": "R",
   "language": "R",
   "name": "ir"
  },
  "language_info": {
   "codemirror_mode": "r",
   "file_extension": ".r",
   "mimetype": "text/x-r-source",
   "name": "R",
   "pygments_lexer": "r",
   "version": "4.1.1"
  }
 },
 "nbformat": 4,
 "nbformat_minor": 5
}

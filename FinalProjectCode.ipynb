{
 "cells": [
  {
   "cell_type": "markdown",
   "id": "c0f9407b-018c-4def-a00a-5ae9c8568829",
   "metadata": {},
   "source": [
    "# TCSS 478 Final Project\n",
    "### RNA-seq-freqs \n",
    "Ye Li, Michael Theisen, Trevor Tomlin\n",
    "\n",
    "### Dataset 1 GSE122505"
   ]
  },
  {
   "cell_type": "code",
   "execution_count": 1,
   "id": "ecfe6e01-15fd-4965-8a98-4652389980c8",
   "metadata": {},
   "outputs": [
    {
     "name": "stderr",
     "output_type": "stream",
     "text": [
      "Bioconductor version '3.14' is out-of-date; the current release version '3.16'\n",
      "  is available with R version '4.2'; see https://bioconductor.org/install\n",
      "\n",
      "'getOption(\"repos\")' replaces Bioconductor standard repositories, see\n",
      "'help(\"repositories\", package = \"BiocManager\")' for details.\n",
      "Replacement repositories:\n",
      "    CRAN: https://cran.r-project.org\n",
      "\n",
      "Bioconductor version 3.14 (BiocManager 1.30.20), R 4.1.1 (2021-08-10)\n",
      "\n",
      "Old packages: 'arkhe', 'brew', 'broom', 'cachem', 'caret', 'class', 'classInt',\n",
      "  'cli', 'codetools', 'colorspace', 'conflicted', 'covr', 'credentials',\n",
      "  'curl', 'data.table', 'dbplyr', 'devtools', 'dplyr', 'DT', 'dtplyr', 'e1071',\n",
      "  'evaluate', 'expm', 'fansi', 'fastmap', 'FNN', 'fontawesome', 'forcats',\n",
      "  'forecast', 'fracdiff', 'fs', 'future', 'gargle', 'gert', 'ggplot2',\n",
      "  'ggrepel', 'gh', 'git2r', 'gitcreds', 'gower', 'gstat', 'gtools', 'haven',\n",
      "  'highr', 'htmlwidgets', 'httpuv', 'httr', 'ipred', 'IRdisplay', 'IRkernel',\n",
      "  'isoband', 'janitor', 'keras', 'knitr', 'lava', 'lhs', 'lmtest', 'lubridate',\n",
      "  'markdown', 'MASS', 'Matrix', 'mgcv', 'modeldata', 'modelenv', 'nlme',\n",
      "  'nloptr', 'nnet', 'openssl', 'parallelly', 'parsnip', 'pbdZMQ', 'pkgbuild',\n",
      "  'plyr', 'png', 'progressr', 'proxy', 'purrr', 'quantmod', 'randomForest',\n",
      "  'raster', 'Rcpp', 'RcppArmadillo', 'RcppTOML', 'RCurl', 'readr', 'readxl',\n",
      "  'recipes', 'remotes', 'renv', 'repr', 'reticulate', 'rex', 'rlang',\n",
      "  'rmarkdown', 'RODBC', 'roxygen2', 'rpart', 'RSQLite', 'rversions', 's2',\n",
      "  'sass', 'sessioninfo', 'sf', 'skimr', 'sourcetools', 'sp', 'spatial',\n",
      "  'spatialreg', 'spData', 'spdep', 'spiderbar', 'stringi', 'survival',\n",
      "  'tensorflow', 'terra', 'testthat', 'tibble', 'tidyr', 'tidyverse',\n",
      "  'timechange', 'timeDate', 'tinytex', 'tseries', 'TTR', 'units', 'urca',\n",
      "  'usethis', 'utf8', 'vctrs', 'visdat', 'vroom', 'whisker', 'wk', 'workflows',\n",
      "  'xfun', 'xts', 'yaml', 'zip', 'zoo'\n",
      "\n"
     ]
    }
   ],
   "source": [
    "# installation instructions from http://bioconductor.org/install/\n",
    "if (!require(\"BiocManager\", quietly = TRUE))\n",
    "    install.packages(\"BiocManager\")\n",
    "BiocManager::install(version = \"3.14\")"
   ]
  },
  {
   "cell_type": "code",
   "execution_count": 2,
   "id": "89e34e70-492b-4927-bb90-2dc86c408d3f",
   "metadata": {},
   "outputs": [
    {
     "data": {
      "text/html": [
       "<style>\n",
       ".list-inline {list-style: none; margin:0; padding: 0}\n",
       ".list-inline>li {display: inline-block}\n",
       ".list-inline>li:not(:last-child)::after {content: \"\\00b7\"; padding: 0 .5ex}\n",
       "</style>\n",
       "<ol class=list-inline><li>'data.1'</li><li>'data.2'</li><li>'data.3'</li><li>'info.1'</li><li>'info.2'</li><li>'info.3'</li></ol>\n"
      ],
      "text/latex": [
       "\\begin{enumerate*}\n",
       "\\item 'data.1'\n",
       "\\item 'data.2'\n",
       "\\item 'data.3'\n",
       "\\item 'info.1'\n",
       "\\item 'info.2'\n",
       "\\item 'info.3'\n",
       "\\end{enumerate*}\n"
      ],
      "text/markdown": [
       "1. 'data.1'\n",
       "2. 'data.2'\n",
       "3. 'data.3'\n",
       "4. 'info.1'\n",
       "5. 'info.2'\n",
       "6. 'info.3'\n",
       "\n",
       "\n"
      ],
      "text/plain": [
       "[1] \"data.1\" \"data.2\" \"data.3\" \"info.1\" \"info.2\" \"info.3\""
      ]
     },
     "metadata": {},
     "output_type": "display_data"
    },
    {
     "data": {
      "text/html": [
       "'double'"
      ],
      "text/latex": [
       "'double'"
      ],
      "text/markdown": [
       "'double'"
      ],
      "text/plain": [
       "[1] \"double\""
      ]
     },
     "metadata": {},
     "output_type": "display_data"
    },
    {
     "data": {
      "text/html": [
       "'list'"
      ],
      "text/latex": [
       "'list'"
      ],
      "text/markdown": [
       "'list'"
      ],
      "text/plain": [
       "[1] \"list\""
      ]
     },
     "metadata": {},
     "output_type": "display_data"
    }
   ],
   "source": [
    "load (\"AML_datasets.RData\")\n",
    "ls()\n",
    "typeof(data.1)\n",
    "typeof(info.1)"
   ]
  },
  {
   "cell_type": "markdown",
   "id": "83161c51-b50d-4bdc-9f81-6708df7aef9e",
   "metadata": {},
   "source": [
    "### Gene Expression Data \"data.1\""
   ]
  },
  {
   "cell_type": "code",
   "execution_count": 3,
   "id": "f305c889-0b9a-4698-bd25-7564198a1e53",
   "metadata": {},
   "outputs": [
    {
     "data": {
      "text/html": [
       "<style>\n",
       ".list-inline {list-style: none; margin:0; padding: 0}\n",
       ".list-inline>li {display: inline-block}\n",
       ".list-inline>li:not(:last-child)::after {content: \"\\00b7\"; padding: 0 .5ex}\n",
       "</style>\n",
       "<ol class=list-inline><li>12708</li><li>2500</li></ol>\n"
      ],
      "text/latex": [
       "\\begin{enumerate*}\n",
       "\\item 12708\n",
       "\\item 2500\n",
       "\\end{enumerate*}\n"
      ],
      "text/markdown": [
       "1. 12708\n",
       "2. 2500\n",
       "\n",
       "\n"
      ],
      "text/plain": [
       "[1] 12708  2500"
      ]
     },
     "metadata": {},
     "output_type": "display_data"
    },
    {
     "data": {
      "text/html": [
       "<table class=\"dataframe\">\n",
       "<caption>A matrix: 5 × 5 of type dbl</caption>\n",
       "<thead>\n",
       "\t<tr><th></th><th scope=col>AHW_ALL_BA_025919_13_A_PZ.CEL</th><th scope=col>AHW_ALL_BA_032751_71_A_PZ.CEL</th><th scope=col>AHW_ALL_BN_022495_7_A_PZ.CEL</th><th scope=col>AHW_ALL_MLL_031351_13_A_PZ.CEL</th><th scope=col>AHW_ALL_MLL_036187_80_A_PZ.CEL</th></tr>\n",
       "</thead>\n",
       "<tbody>\n",
       "\t<tr><th scope=row>PAX8</th><td>9.221573</td><td>8.524435</td><td>8.606060</td><td>8.841501</td><td>8.882826</td></tr>\n",
       "\t<tr><th scope=row>CCL5</th><td>7.990144</td><td>6.648112</td><td>6.382602</td><td>6.469583</td><td>8.332415</td></tr>\n",
       "\t<tr><th scope=row>MMP14</th><td>8.391732</td><td>8.183514</td><td>7.909023</td><td>8.105744</td><td>7.820992</td></tr>\n",
       "\t<tr><th scope=row>DTX2P1-UPK3BP1-PMS2P11</th><td>9.280415</td><td>8.798847</td><td>8.948909</td><td>8.941517</td><td>8.725958</td></tr>\n",
       "\t<tr><th scope=row>BAD</th><td>5.579486</td><td>5.934621</td><td>5.646312</td><td>5.899868</td><td>5.651731</td></tr>\n",
       "</tbody>\n",
       "</table>\n"
      ],
      "text/latex": [
       "A matrix: 5 × 5 of type dbl\n",
       "\\begin{tabular}{r|lllll}\n",
       "  & AHW\\_ALL\\_BA\\_025919\\_13\\_A\\_PZ.CEL & AHW\\_ALL\\_BA\\_032751\\_71\\_A\\_PZ.CEL & AHW\\_ALL\\_BN\\_022495\\_7\\_A\\_PZ.CEL & AHW\\_ALL\\_MLL\\_031351\\_13\\_A\\_PZ.CEL & AHW\\_ALL\\_MLL\\_036187\\_80\\_A\\_PZ.CEL\\\\\n",
       "\\hline\n",
       "\tPAX8 & 9.221573 & 8.524435 & 8.606060 & 8.841501 & 8.882826\\\\\n",
       "\tCCL5 & 7.990144 & 6.648112 & 6.382602 & 6.469583 & 8.332415\\\\\n",
       "\tMMP14 & 8.391732 & 8.183514 & 7.909023 & 8.105744 & 7.820992\\\\\n",
       "\tDTX2P1-UPK3BP1-PMS2P11 & 9.280415 & 8.798847 & 8.948909 & 8.941517 & 8.725958\\\\\n",
       "\tBAD & 5.579486 & 5.934621 & 5.646312 & 5.899868 & 5.651731\\\\\n",
       "\\end{tabular}\n"
      ],
      "text/markdown": [
       "\n",
       "A matrix: 5 × 5 of type dbl\n",
       "\n",
       "| <!--/--> | AHW_ALL_BA_025919_13_A_PZ.CEL | AHW_ALL_BA_032751_71_A_PZ.CEL | AHW_ALL_BN_022495_7_A_PZ.CEL | AHW_ALL_MLL_031351_13_A_PZ.CEL | AHW_ALL_MLL_036187_80_A_PZ.CEL |\n",
       "|---|---|---|---|---|---|\n",
       "| PAX8 | 9.221573 | 8.524435 | 8.606060 | 8.841501 | 8.882826 |\n",
       "| CCL5 | 7.990144 | 6.648112 | 6.382602 | 6.469583 | 8.332415 |\n",
       "| MMP14 | 8.391732 | 8.183514 | 7.909023 | 8.105744 | 7.820992 |\n",
       "| DTX2P1-UPK3BP1-PMS2P11 | 9.280415 | 8.798847 | 8.948909 | 8.941517 | 8.725958 |\n",
       "| BAD | 5.579486 | 5.934621 | 5.646312 | 5.899868 | 5.651731 |\n",
       "\n"
      ],
      "text/plain": [
       "                       AHW_ALL_BA_025919_13_A_PZ.CEL\n",
       "PAX8                   9.221573                     \n",
       "CCL5                   7.990144                     \n",
       "MMP14                  8.391732                     \n",
       "DTX2P1-UPK3BP1-PMS2P11 9.280415                     \n",
       "BAD                    5.579486                     \n",
       "                       AHW_ALL_BA_032751_71_A_PZ.CEL\n",
       "PAX8                   8.524435                     \n",
       "CCL5                   6.648112                     \n",
       "MMP14                  8.183514                     \n",
       "DTX2P1-UPK3BP1-PMS2P11 8.798847                     \n",
       "BAD                    5.934621                     \n",
       "                       AHW_ALL_BN_022495_7_A_PZ.CEL\n",
       "PAX8                   8.606060                    \n",
       "CCL5                   6.382602                    \n",
       "MMP14                  7.909023                    \n",
       "DTX2P1-UPK3BP1-PMS2P11 8.948909                    \n",
       "BAD                    5.646312                    \n",
       "                       AHW_ALL_MLL_031351_13_A_PZ.CEL\n",
       "PAX8                   8.841501                      \n",
       "CCL5                   6.469583                      \n",
       "MMP14                  8.105744                      \n",
       "DTX2P1-UPK3BP1-PMS2P11 8.941517                      \n",
       "BAD                    5.899868                      \n",
       "                       AHW_ALL_MLL_036187_80_A_PZ.CEL\n",
       "PAX8                   8.882826                      \n",
       "CCL5                   8.332415                      \n",
       "MMP14                  7.820992                      \n",
       "DTX2P1-UPK3BP1-PMS2P11 8.725958                      \n",
       "BAD                    5.651731                      "
      ]
     },
     "metadata": {},
     "output_type": "display_data"
    }
   ],
   "source": [
    "dim(data.1)\n",
    "data.1[1:5,1:5]"
   ]
  },
  {
   "cell_type": "markdown",
   "id": "8410e98e-2391-43c5-a712-ae56664759cf",
   "metadata": {},
   "source": [
    "### Phenotype Data (meta data) \"info.1\""
   ]
  },
  {
   "cell_type": "code",
   "execution_count": 4,
   "id": "ed6b6950-2949-4f3d-a7ae-bb7d3b8eb7c1",
   "metadata": {},
   "outputs": [
    {
     "data": {
      "text/html": [
       "<style>\n",
       ".list-inline {list-style: none; margin:0; padding: 0}\n",
       ".list-inline>li {display: inline-block}\n",
       ".list-inline>li:not(:last-child)::after {content: \"\\00b7\"; padding: 0 .5ex}\n",
       "</style>\n",
       "<ol class=list-inline><li>2500</li><li>8</li></ol>\n"
      ],
      "text/latex": [
       "\\begin{enumerate*}\n",
       "\\item 2500\n",
       "\\item 8\n",
       "\\end{enumerate*}\n"
      ],
      "text/markdown": [
       "1. 2500\n",
       "2. 8\n",
       "\n",
       "\n"
      ],
      "text/plain": [
       "[1] 2500    8"
      ]
     },
     "metadata": {},
     "output_type": "display_data"
    },
    {
     "data": {
      "text/html": [
       "<table class=\"dataframe\">\n",
       "<caption>A data.frame: 5 × 8</caption>\n",
       "<thead>\n",
       "\t<tr><th></th><th scope=col>Dataset</th><th scope=col>GSE</th><th scope=col>Condition</th><th scope=col>Disease</th><th scope=col>Tissue</th><th scope=col>FAB</th><th scope=col>Filename</th><th scope=col>FAB_all</th></tr>\n",
       "\t<tr><th></th><th scope=col>&lt;dbl&gt;</th><th scope=col>&lt;fct&gt;</th><th scope=col>&lt;fct&gt;</th><th scope=col>&lt;fct&gt;</th><th scope=col>&lt;fct&gt;</th><th scope=col>&lt;chr&gt;</th><th scope=col>&lt;chr&gt;</th><th scope=col>&lt;chr&gt;</th></tr>\n",
       "</thead>\n",
       "<tbody>\n",
       "\t<tr><th scope=row>AHW_ALL_BA_025919_13_A_PZ.CEL</th><td>1</td><td>Haferlach</td><td>CONTROL</td><td>ALL</td><td>BM or PBMC</td><td>unknown</td><td>AHW_ALL_BA_025919_13_A_PZ.CEL </td><td>unknown</td></tr>\n",
       "\t<tr><th scope=row>AHW_ALL_BA_032751_71_A_PZ.CEL</th><td>1</td><td>Haferlach</td><td>CONTROL</td><td>ALL</td><td>BM or PBMC</td><td>unknown</td><td>AHW_ALL_BA_032751_71_A_PZ.CEL </td><td>unknown</td></tr>\n",
       "\t<tr><th scope=row>AHW_ALL_BN_022495_7_A_PZ.CEL</th><td>1</td><td>Haferlach</td><td>CONTROL</td><td>ALL</td><td>BM or PBMC</td><td>unknown</td><td>AHW_ALL_BN_022495_7_A_PZ.CEL  </td><td>unknown</td></tr>\n",
       "\t<tr><th scope=row>AHW_ALL_MLL_031351_13_A_PZ.CEL</th><td>1</td><td>Haferlach</td><td>CONTROL</td><td>ALL</td><td>BM or PBMC</td><td>unknown</td><td>AHW_ALL_MLL_031351_13_A_PZ.CEL</td><td>unknown</td></tr>\n",
       "\t<tr><th scope=row>AHW_ALL_MLL_036187_80_A_PZ.CEL</th><td>1</td><td>Haferlach</td><td>CONTROL</td><td>ALL</td><td>BM or PBMC</td><td>unknown</td><td>AHW_ALL_MLL_036187_80_A_PZ.CEL</td><td>unknown</td></tr>\n",
       "</tbody>\n",
       "</table>\n"
      ],
      "text/latex": [
       "A data.frame: 5 × 8\n",
       "\\begin{tabular}{r|llllllll}\n",
       "  & Dataset & GSE & Condition & Disease & Tissue & FAB & Filename & FAB\\_all\\\\\n",
       "  & <dbl> & <fct> & <fct> & <fct> & <fct> & <chr> & <chr> & <chr>\\\\\n",
       "\\hline\n",
       "\tAHW\\_ALL\\_BA\\_025919\\_13\\_A\\_PZ.CEL & 1 & Haferlach & CONTROL & ALL & BM or PBMC & unknown & AHW\\_ALL\\_BA\\_025919\\_13\\_A\\_PZ.CEL  & unknown\\\\\n",
       "\tAHW\\_ALL\\_BA\\_032751\\_71\\_A\\_PZ.CEL & 1 & Haferlach & CONTROL & ALL & BM or PBMC & unknown & AHW\\_ALL\\_BA\\_032751\\_71\\_A\\_PZ.CEL  & unknown\\\\\n",
       "\tAHW\\_ALL\\_BN\\_022495\\_7\\_A\\_PZ.CEL & 1 & Haferlach & CONTROL & ALL & BM or PBMC & unknown & AHW\\_ALL\\_BN\\_022495\\_7\\_A\\_PZ.CEL   & unknown\\\\\n",
       "\tAHW\\_ALL\\_MLL\\_031351\\_13\\_A\\_PZ.CEL & 1 & Haferlach & CONTROL & ALL & BM or PBMC & unknown & AHW\\_ALL\\_MLL\\_031351\\_13\\_A\\_PZ.CEL & unknown\\\\\n",
       "\tAHW\\_ALL\\_MLL\\_036187\\_80\\_A\\_PZ.CEL & 1 & Haferlach & CONTROL & ALL & BM or PBMC & unknown & AHW\\_ALL\\_MLL\\_036187\\_80\\_A\\_PZ.CEL & unknown\\\\\n",
       "\\end{tabular}\n"
      ],
      "text/markdown": [
       "\n",
       "A data.frame: 5 × 8\n",
       "\n",
       "| <!--/--> | Dataset &lt;dbl&gt; | GSE &lt;fct&gt; | Condition &lt;fct&gt; | Disease &lt;fct&gt; | Tissue &lt;fct&gt; | FAB &lt;chr&gt; | Filename &lt;chr&gt; | FAB_all &lt;chr&gt; |\n",
       "|---|---|---|---|---|---|---|---|---|\n",
       "| AHW_ALL_BA_025919_13_A_PZ.CEL | 1 | Haferlach | CONTROL | ALL | BM or PBMC | unknown | AHW_ALL_BA_025919_13_A_PZ.CEL  | unknown |\n",
       "| AHW_ALL_BA_032751_71_A_PZ.CEL | 1 | Haferlach | CONTROL | ALL | BM or PBMC | unknown | AHW_ALL_BA_032751_71_A_PZ.CEL  | unknown |\n",
       "| AHW_ALL_BN_022495_7_A_PZ.CEL | 1 | Haferlach | CONTROL | ALL | BM or PBMC | unknown | AHW_ALL_BN_022495_7_A_PZ.CEL   | unknown |\n",
       "| AHW_ALL_MLL_031351_13_A_PZ.CEL | 1 | Haferlach | CONTROL | ALL | BM or PBMC | unknown | AHW_ALL_MLL_031351_13_A_PZ.CEL | unknown |\n",
       "| AHW_ALL_MLL_036187_80_A_PZ.CEL | 1 | Haferlach | CONTROL | ALL | BM or PBMC | unknown | AHW_ALL_MLL_036187_80_A_PZ.CEL | unknown |\n",
       "\n"
      ],
      "text/plain": [
       "                               Dataset GSE       Condition Disease Tissue    \n",
       "AHW_ALL_BA_025919_13_A_PZ.CEL  1       Haferlach CONTROL   ALL     BM or PBMC\n",
       "AHW_ALL_BA_032751_71_A_PZ.CEL  1       Haferlach CONTROL   ALL     BM or PBMC\n",
       "AHW_ALL_BN_022495_7_A_PZ.CEL   1       Haferlach CONTROL   ALL     BM or PBMC\n",
       "AHW_ALL_MLL_031351_13_A_PZ.CEL 1       Haferlach CONTROL   ALL     BM or PBMC\n",
       "AHW_ALL_MLL_036187_80_A_PZ.CEL 1       Haferlach CONTROL   ALL     BM or PBMC\n",
       "                               FAB     Filename                       FAB_all\n",
       "AHW_ALL_BA_025919_13_A_PZ.CEL  unknown AHW_ALL_BA_025919_13_A_PZ.CEL  unknown\n",
       "AHW_ALL_BA_032751_71_A_PZ.CEL  unknown AHW_ALL_BA_032751_71_A_PZ.CEL  unknown\n",
       "AHW_ALL_BN_022495_7_A_PZ.CEL   unknown AHW_ALL_BN_022495_7_A_PZ.CEL   unknown\n",
       "AHW_ALL_MLL_031351_13_A_PZ.CEL unknown AHW_ALL_MLL_031351_13_A_PZ.CEL unknown\n",
       "AHW_ALL_MLL_036187_80_A_PZ.CEL unknown AHW_ALL_MLL_036187_80_A_PZ.CEL unknown"
      ]
     },
     "metadata": {},
     "output_type": "display_data"
    }
   ],
   "source": [
    "dim(info.1)\n",
    "info.1[1:5,]"
   ]
  },
  {
   "cell_type": "code",
   "execution_count": 5,
   "id": "040cd1f1-545b-4833-99ec-d0dda95fe8b6",
   "metadata": {},
   "outputs": [],
   "source": [
    "# We begin by transposing the data.1 matrix and then merge it into info.1.\n",
    "total.mat <- merge(info.1, t(data.1), by=0, total=TRUE) # Fully merged matrix of all data.\n",
    "\n",
    "# We filter out only the \"CASE\" Conditions of AML using 'which'. \n",
    "aml.mat <- which (total.mat[ , \"Condition\"] == \"CASE\") # Matrix of only \"CASE\" Conditions.\n",
    "my.aml.mat <- total.mat[aml.mat,]\n",
    "\n",
    "Caml.mat <- which (total.mat[ , \"Condition\"] == \"CONTROL\") # Matrix of only \"CONTROL\" Conditions.\n",
    "my.Caml.mat <- total.mat[Caml.mat,]\n"
   ]
  },
  {
   "cell_type": "code",
   "execution_count": 6,
   "id": "628a7849-38c7-42d4-a5e6-5bfe3b4d377e",
   "metadata": {},
   "outputs": [
    {
     "data": {
      "text/html": [
       "<style>\n",
       ".list-inline {list-style: none; margin:0; padding: 0}\n",
       ".list-inline>li {display: inline-block}\n",
       ".list-inline>li:not(:last-child)::after {content: \"\\00b7\"; padding: 0 .5ex}\n",
       "</style>\n",
       "<ol class=list-inline><li>2500</li><li>10</li></ol>\n"
      ],
      "text/latex": [
       "\\begin{enumerate*}\n",
       "\\item 2500\n",
       "\\item 10\n",
       "\\end{enumerate*}\n"
      ],
      "text/markdown": [
       "1. 2500\n",
       "2. 10\n",
       "\n",
       "\n"
      ],
      "text/plain": [
       "[1] 2500   10"
      ]
     },
     "metadata": {},
     "output_type": "display_data"
    },
    {
     "data": {
      "text/html": [
       "<table class=\"dataframe\">\n",
       "<caption>A data.frame: 5 × 10</caption>\n",
       "<thead>\n",
       "\t<tr><th></th><th scope=col>CREG1</th><th scope=col>ERLIN1</th><th scope=col>MAPKAPK3</th><th scope=col>CD22</th><th scope=col>CD79A</th><th scope=col>KIT</th><th scope=col>POU2AF1</th><th scope=col>CD79B</th><th scope=col>CFD</th><th scope=col>CD19</th></tr>\n",
       "\t<tr><th></th><th scope=col>&lt;dbl&gt;</th><th scope=col>&lt;dbl&gt;</th><th scope=col>&lt;dbl&gt;</th><th scope=col>&lt;dbl&gt;</th><th scope=col>&lt;dbl&gt;</th><th scope=col>&lt;dbl&gt;</th><th scope=col>&lt;dbl&gt;</th><th scope=col>&lt;dbl&gt;</th><th scope=col>&lt;dbl&gt;</th><th scope=col>&lt;dbl&gt;</th></tr>\n",
       "</thead>\n",
       "<tbody>\n",
       "\t<tr><th scope=row>ALK_AML_aa_033949_63_A_PZ.CEL</th><td>11.48920</td><td> 9.512312</td><td>10.517579</td><td>5.975383</td><td>6.449247</td><td>7.789863</td><td>5.405794</td><td>5.977759</td><td> 9.699617</td><td>6.516947</td></tr>\n",
       "\t<tr><th scope=row>ALK_AML_com_001171_40_A_PZ.CEL</th><td>10.59713</td><td>10.342425</td><td>10.372676</td><td>6.952190</td><td>7.903524</td><td>9.360848</td><td>5.415383</td><td>5.875290</td><td> 9.686428</td><td>6.835871</td></tr>\n",
       "\t<tr><th scope=row>ALK_AML_com_020894_99_A_PZ.CEL</th><td>10.90133</td><td> 8.350713</td><td> 9.687879</td><td>5.965832</td><td>6.860455</td><td>8.656720</td><td>5.477094</td><td>6.050028</td><td> 7.545196</td><td>6.504802</td></tr>\n",
       "\t<tr><th scope=row>ALK_AML_com_034881_45_A_PZ.CEL</th><td>11.15819</td><td>10.534462</td><td> 9.810212</td><td>6.406722</td><td>7.105373</td><td>9.684748</td><td>8.641101</td><td>5.965243</td><td> 7.816802</td><td>6.939049</td></tr>\n",
       "\t<tr><th scope=row>ALK_AML_M2_000167_51_A_PZ.CEL</th><td>10.25239</td><td>10.138553</td><td>10.629194</td><td>6.074368</td><td>7.357112</td><td>9.609804</td><td>6.033675</td><td>6.896718</td><td>10.601683</td><td>7.859362</td></tr>\n",
       "</tbody>\n",
       "</table>\n"
      ],
      "text/latex": [
       "A data.frame: 5 × 10\n",
       "\\begin{tabular}{r|llllllllll}\n",
       "  & CREG1 & ERLIN1 & MAPKAPK3 & CD22 & CD79A & KIT & POU2AF1 & CD79B & CFD & CD19\\\\\n",
       "  & <dbl> & <dbl> & <dbl> & <dbl> & <dbl> & <dbl> & <dbl> & <dbl> & <dbl> & <dbl>\\\\\n",
       "\\hline\n",
       "\tALK\\_AML\\_aa\\_033949\\_63\\_A\\_PZ.CEL & 11.48920 &  9.512312 & 10.517579 & 5.975383 & 6.449247 & 7.789863 & 5.405794 & 5.977759 &  9.699617 & 6.516947\\\\\n",
       "\tALK\\_AML\\_com\\_001171\\_40\\_A\\_PZ.CEL & 10.59713 & 10.342425 & 10.372676 & 6.952190 & 7.903524 & 9.360848 & 5.415383 & 5.875290 &  9.686428 & 6.835871\\\\\n",
       "\tALK\\_AML\\_com\\_020894\\_99\\_A\\_PZ.CEL & 10.90133 &  8.350713 &  9.687879 & 5.965832 & 6.860455 & 8.656720 & 5.477094 & 6.050028 &  7.545196 & 6.504802\\\\\n",
       "\tALK\\_AML\\_com\\_034881\\_45\\_A\\_PZ.CEL & 11.15819 & 10.534462 &  9.810212 & 6.406722 & 7.105373 & 9.684748 & 8.641101 & 5.965243 &  7.816802 & 6.939049\\\\\n",
       "\tALK\\_AML\\_M2\\_000167\\_51\\_A\\_PZ.CEL & 10.25239 & 10.138553 & 10.629194 & 6.074368 & 7.357112 & 9.609804 & 6.033675 & 6.896718 & 10.601683 & 7.859362\\\\\n",
       "\\end{tabular}\n"
      ],
      "text/markdown": [
       "\n",
       "A data.frame: 5 × 10\n",
       "\n",
       "| <!--/--> | CREG1 &lt;dbl&gt; | ERLIN1 &lt;dbl&gt; | MAPKAPK3 &lt;dbl&gt; | CD22 &lt;dbl&gt; | CD79A &lt;dbl&gt; | KIT &lt;dbl&gt; | POU2AF1 &lt;dbl&gt; | CD79B &lt;dbl&gt; | CFD &lt;dbl&gt; | CD19 &lt;dbl&gt; |\n",
       "|---|---|---|---|---|---|---|---|---|---|---|\n",
       "| ALK_AML_aa_033949_63_A_PZ.CEL | 11.48920 |  9.512312 | 10.517579 | 5.975383 | 6.449247 | 7.789863 | 5.405794 | 5.977759 |  9.699617 | 6.516947 |\n",
       "| ALK_AML_com_001171_40_A_PZ.CEL | 10.59713 | 10.342425 | 10.372676 | 6.952190 | 7.903524 | 9.360848 | 5.415383 | 5.875290 |  9.686428 | 6.835871 |\n",
       "| ALK_AML_com_020894_99_A_PZ.CEL | 10.90133 |  8.350713 |  9.687879 | 5.965832 | 6.860455 | 8.656720 | 5.477094 | 6.050028 |  7.545196 | 6.504802 |\n",
       "| ALK_AML_com_034881_45_A_PZ.CEL | 11.15819 | 10.534462 |  9.810212 | 6.406722 | 7.105373 | 9.684748 | 8.641101 | 5.965243 |  7.816802 | 6.939049 |\n",
       "| ALK_AML_M2_000167_51_A_PZ.CEL | 10.25239 | 10.138553 | 10.629194 | 6.074368 | 7.357112 | 9.609804 | 6.033675 | 6.896718 | 10.601683 | 7.859362 |\n",
       "\n"
      ],
      "text/plain": [
       "                               CREG1    ERLIN1    MAPKAPK3  CD22     CD79A   \n",
       "ALK_AML_aa_033949_63_A_PZ.CEL  11.48920  9.512312 10.517579 5.975383 6.449247\n",
       "ALK_AML_com_001171_40_A_PZ.CEL 10.59713 10.342425 10.372676 6.952190 7.903524\n",
       "ALK_AML_com_020894_99_A_PZ.CEL 10.90133  8.350713  9.687879 5.965832 6.860455\n",
       "ALK_AML_com_034881_45_A_PZ.CEL 11.15819 10.534462  9.810212 6.406722 7.105373\n",
       "ALK_AML_M2_000167_51_A_PZ.CEL  10.25239 10.138553 10.629194 6.074368 7.357112\n",
       "                               KIT      POU2AF1  CD79B    CFD       CD19    \n",
       "ALK_AML_aa_033949_63_A_PZ.CEL  7.789863 5.405794 5.977759  9.699617 6.516947\n",
       "ALK_AML_com_001171_40_A_PZ.CEL 9.360848 5.415383 5.875290  9.686428 6.835871\n",
       "ALK_AML_com_020894_99_A_PZ.CEL 8.656720 5.477094 6.050028  7.545196 6.504802\n",
       "ALK_AML_com_034881_45_A_PZ.CEL 9.684748 8.641101 5.965243  7.816802 6.939049\n",
       "ALK_AML_M2_000167_51_A_PZ.CEL  9.609804 6.033675 6.896718 10.601683 7.859362"
      ]
     },
     "metadata": {},
     "output_type": "display_data"
    }
   ],
   "source": [
    "# Apply the function to find p-values.\n",
    "pvalues <-apply(t(data.1), 2, function (x) {t.test(x[aml.mat], x[Caml.mat])$p.value})\n",
    "\n",
    "# Sort the p-values.\n",
    "pvalues.sorted <- sort (pvalues)\n",
    "\n",
    "# Obtain the 10 genes with lowest p-values. \n",
    "AMLsignatures <- names(pvalues.sorted[1:10])\n",
    "\n",
    "AMLexpressions <- data.frame(t(data.1)[c(aml.mat, Caml.mat), AMLsignatures])\n",
    "dim(AMLexpressions)\n",
    "AMLexpressions[1:5,]\n",
    "\n"
   ]
  },
  {
   "cell_type": "code",
   "execution_count": 7,
   "id": "acee789c-95ee-4372-8b0a-c9ad363ae9ee",
   "metadata": {},
   "outputs": [],
   "source": [
    "# Make a AMC_CASE_vs_NON_AML_CONTROL.txt file with the data from AMLexpressions\n",
    "write.table(AMLexpressions[1:5,], file='AMC_CASE_vs_NON_AML_CONTROL.txt')"
   ]
  },
  {
   "cell_type": "code",
   "execution_count": 8,
   "id": "96517aa8-5fbd-4bc0-ac90-ca58e38524dd",
   "metadata": {},
   "outputs": [
    {
     "name": "stdout",
     "output_type": "stream",
     "text": [
      "[1] \"The median correlation across all pairs of genes is:  0.306316930696786\"\n"
     ]
    },
    {
     "data": {
      "image/png": "[encoded data removed]",
      "text/plain": [
       "Plot with title “Histogram of correlation”"
      ]
     },
     "metadata": {
      "image/png": {
       "height": 420,
       "width": 420
      }
     },
     "output_type": "display_data"
    }
   ],
   "source": [
    "\n",
    "correlation <- cor(t(AMLexpressions))\n",
    "diag(correlation) <- NA\n",
    "medcor <- median(correlation, na.rm=TRUE)\n",
    "print(paste(\"The median correlation across all pairs of genes is: \", (medcor)))\n",
    "hist(correlation, nclass=100)\n"
   ]
  },
  {
   "cell_type": "code",
   "execution_count": 9,
   "id": "021a1536-7a38-427a-a280-07b84a03e11c",
   "metadata": {},
   "outputs": [
    {
     "name": "stderr",
     "output_type": "stream",
     "text": [
      "Loading required package: ggplot2\n",
      "\n",
      "Loading required package: lattice\n",
      "\n"
     ]
    }
   ],
   "source": [
    "library(caret)"
   ]
  },
  {
   "cell_type": "code",
   "execution_count": 10,
   "id": "8f4421da-331d-4cc3-a900-c2800543ce55",
   "metadata": {},
   "outputs": [],
   "source": [
    "set.seed(1111)"
   ]
  },
  {
   "cell_type": "code",
   "execution_count": 11,
   "id": "59a82307-c03c-4c74-b481-8d173ec5e6a2",
   "metadata": {},
   "outputs": [],
   "source": [
    "# Using a 70:30 split\n",
    "trainingIndex <- createDataPartition(info.1$Disease == \"healthy\", p = .7, list = FALSE, times=1)\n",
    "\n",
    "training.info <- info.1[trainingIndex, ,drop=FALSE]\n",
    "testing.info <- info.1[-trainingIndex, ,drop=FALSE]\n",
    "\n",
    "training.data <- AMLexpressions[trainingIndex,]\n",
    "testing.data <- AMLexpressions[-trainingIndex,]\n",
    "\n"
   ]
  },
  {
   "cell_type": "code",
   "execution_count": 12,
   "id": "1c00b84b-bd74-49ae-a978-bb7be2a30dd2",
   "metadata": {},
   "outputs": [
    {
     "name": "stderr",
     "output_type": "stream",
     "text": [
      "Warning message:\n",
      "“glm.fit: algorithm did not converge”\n",
      "Warning message:\n",
      "“glm.fit: algorithm did not converge”\n"
     ]
    }
   ],
   "source": [
    "null.model <- glm(training.info[,1] ~1, data = training.data, family= binomial)\n",
    "model <- glm(training.info[,1] ~ ., data = training.data, family = binomial)\n",
    "step.model <- step (model, data=training.data, direction=\"forward\", trace = 0)"
   ]
  },
  {
   "cell_type": "code",
   "execution_count": 13,
   "id": "5e2561a1-f8a4-4d4c-8ebf-b4edb817b9d5",
   "metadata": {},
   "outputs": [
    {
     "data": {
      "text/plain": [
       "\n",
       "Call:\n",
       "glm(formula = training.info[, 1] ~ CREG1 + ERLIN1 + MAPKAPK3 + \n",
       "    CD22 + CD79A + KIT + POU2AF1 + CD79B + CFD + CD19, family = binomial, \n",
       "    data = training.data)\n",
       "\n",
       "Deviance Residuals: \n",
       "      Min         1Q     Median         3Q        Max  \n",
       "2.409e-06  2.409e-06  2.409e-06  2.409e-06  2.409e-06  \n",
       "\n",
       "Coefficients:\n",
       "              Estimate Std. Error z value Pr(>|z|)\n",
       "(Intercept)  2.657e+01  2.364e+05       0        1\n",
       "CREG1        4.806e-07  1.107e+04       0        1\n",
       "ERLIN1      -1.938e-08  1.314e+04       0        1\n",
       "MAPKAPK3    -6.170e-08  1.742e+04       0        1\n",
       "CD22         9.774e-08  1.714e+04       0        1\n",
       "CD79A       -1.578e-07  1.608e+04       0        1\n",
       "KIT          7.630e-08  6.643e+03       0        1\n",
       "POU2AF1      2.981e-08  1.012e+04       0        1\n",
       "CD79B        2.419e-07  1.329e+04       0        1\n",
       "CFD          2.132e-07  6.095e+03       0        1\n",
       "CD19         2.614e-07  1.265e+04       0        1\n",
       "\n",
       "(Dispersion parameter for binomial family taken to be 1)\n",
       "\n",
       "    Null deviance: 0.0000e+00  on 1750  degrees of freedom\n",
       "Residual deviance: 1.0159e-08  on 1740  degrees of freedom\n",
       "AIC: 22\n",
       "\n",
       "Number of Fisher Scoring iterations: 25\n"
      ]
     },
     "metadata": {},
     "output_type": "display_data"
    }
   ],
   "source": [
    "summary(step.model)"
   ]
  },
  {
   "cell_type": "code",
   "execution_count": 14,
   "id": "207eaec4-4b30-4410-98e7-51eb4098d755",
   "metadata": {},
   "outputs": [
    {
     "name": "stderr",
     "output_type": "stream",
     "text": [
      "Warning message:\n",
      "“glm.fit: algorithm did not converge”\n"
     ]
    },
    {
     "data": {
      "text/plain": [
       "   \n",
       "       1\n",
       "  1 1751"
      ]
     },
     "metadata": {},
     "output_type": "display_data"
    }
   ],
   "source": [
    "# get the glm object recommended by forward selection\n",
    "glmFit1 <- glm(formula = training.info[, 1] ~ CREG1 + ERLIN1 + MAPKAPK3 + \n",
    "    CD22 + CD79A + KIT + POU2AF1 + CD79B + CFD + CD19, family = binomial, \n",
    "    data = training.data)\n",
    "# using the model recommended by forward selection, we want to predict Pr(Y=1)\n",
    "pred1 <- predict(glmFit1, type= \"response\")\n",
    "\n",
    "# accuracy\n",
    "theTable <- table (training.info[, 1], round(pred1))\n",
    "theTable\n",
    "\n",
    "# why is this not showing errors? 1751 true positives"
   ]
  },
  {
   "cell_type": "code",
   "execution_count": 15,
   "id": "cb76ea48-8913-49b8-bbb7-b581f4d11ab6",
   "metadata": {},
   "outputs": [
    {
     "data": {
      "text/plain": [
       "\n",
       "Call:\n",
       "glm(formula = training.info[, 1] ~ 1, family = binomial, data = training.data)\n",
       "\n",
       "Deviance Residuals: \n",
       "      Min         1Q     Median         3Q        Max  \n",
       "2.409e-06  2.409e-06  2.409e-06  2.409e-06  2.409e-06  \n",
       "\n",
       "Coefficients:\n",
       "            Estimate Std. Error z value Pr(>|z|)\n",
       "(Intercept)    26.57    8510.54   0.003    0.998\n",
       "\n",
       "(Dispersion parameter for binomial family taken to be 1)\n",
       "\n",
       "    Null deviance: 0.0000e+00  on 1750  degrees of freedom\n",
       "Residual deviance: 1.0159e-08  on 1750  degrees of freedom\n",
       "AIC: 2\n",
       "\n",
       "Number of Fisher Scoring iterations: 25\n"
      ]
     },
     "metadata": {},
     "output_type": "display_data"
    }
   ],
   "source": [
    "step.model.backward <- step (null.model, scope=list(upper=model), data=train.data, direction=\"backward\", trace=0)\n",
    "summary(step.model.backward)"
   ]
  },
  {
   "cell_type": "code",
   "execution_count": null,
   "id": "7000d2f5-e009-4621-adb3-5feacdd9b5a3",
   "metadata": {},
   "outputs": [],
   "source": []
  },
  {
   "cell_type": "code",
   "execution_count": 16,
   "id": "5ea1af6f-a4e1-4db5-8884-500250b49a60",
   "metadata": {},
   "outputs": [],
   "source": [
    "# info.1[1030:1050,] # shows a good data fram for GSE9476, a subset of info.1"
   ]
  },
  {
   "cell_type": "code",
   "execution_count": 17,
   "id": "fd28b34c-73ca-4c13-88ce-bc310ffaf57f",
   "metadata": {},
   "outputs": [
    {
     "data": {
      "text/html": [
       "<style>\n",
       ".list-inline {list-style: none; margin:0; padding: 0}\n",
       ".list-inline>li {display: inline-block}\n",
       ".list-inline>li:not(:last-child)::after {content: \"\\00b7\"; padding: 0 .5ex}\n",
       "</style>\n",
       "<ol class=list-inline><li>1019</li><li>1020</li><li>1021</li><li>1022</li><li>1023</li><li>1024</li><li>1025</li><li>1026</li><li>1027</li><li>1028</li><li>1029</li><li>1030</li><li>1031</li><li>1032</li><li>1033</li><li>1034</li><li>1035</li><li>1036</li><li>1037</li><li>1038</li><li>1039</li><li>1040</li><li>1041</li><li>1042</li><li>1043</li><li>1044</li><li>1045</li><li>1046</li><li>1047</li><li>1048</li><li>1049</li><li>1050</li><li>1051</li><li>1052</li><li>1053</li><li>1054</li><li>1055</li><li>1056</li><li>1057</li><li>1058</li><li>1059</li><li>1060</li><li>1061</li><li>1062</li><li>1063</li><li>1064</li><li>1065</li><li>1066</li><li>1067</li><li>1068</li><li>1069</li><li>1070</li><li>1071</li><li>1072</li><li>1073</li><li>1074</li><li>1075</li><li>1076</li><li>1077</li><li>1078</li><li>1079</li><li>1080</li><li>1081</li><li>1082</li></ol>\n"
      ],
      "text/latex": [
       "\\begin{enumerate*}\n",
       "\\item 1019\n",
       "\\item 1020\n",
       "\\item 1021\n",
       "\\item 1022\n",
       "\\item 1023\n",
       "\\item 1024\n",
       "\\item 1025\n",
       "\\item 1026\n",
       "\\item 1027\n",
       "\\item 1028\n",
       "\\item 1029\n",
       "\\item 1030\n",
       "\\item 1031\n",
       "\\item 1032\n",
       "\\item 1033\n",
       "\\item 1034\n",
       "\\item 1035\n",
       "\\item 1036\n",
       "\\item 1037\n",
       "\\item 1038\n",
       "\\item 1039\n",
       "\\item 1040\n",
       "\\item 1041\n",
       "\\item 1042\n",
       "\\item 1043\n",
       "\\item 1044\n",
       "\\item 1045\n",
       "\\item 1046\n",
       "\\item 1047\n",
       "\\item 1048\n",
       "\\item 1049\n",
       "\\item 1050\n",
       "\\item 1051\n",
       "\\item 1052\n",
       "\\item 1053\n",
       "\\item 1054\n",
       "\\item 1055\n",
       "\\item 1056\n",
       "\\item 1057\n",
       "\\item 1058\n",
       "\\item 1059\n",
       "\\item 1060\n",
       "\\item 1061\n",
       "\\item 1062\n",
       "\\item 1063\n",
       "\\item 1064\n",
       "\\item 1065\n",
       "\\item 1066\n",
       "\\item 1067\n",
       "\\item 1068\n",
       "\\item 1069\n",
       "\\item 1070\n",
       "\\item 1071\n",
       "\\item 1072\n",
       "\\item 1073\n",
       "\\item 1074\n",
       "\\item 1075\n",
       "\\item 1076\n",
       "\\item 1077\n",
       "\\item 1078\n",
       "\\item 1079\n",
       "\\item 1080\n",
       "\\item 1081\n",
       "\\item 1082\n",
       "\\end{enumerate*}\n"
      ],
      "text/markdown": [
       "1. 1019\n",
       "2. 1020\n",
       "3. 1021\n",
       "4. 1022\n",
       "5. 1023\n",
       "6. 1024\n",
       "7. 1025\n",
       "8. 1026\n",
       "9. 1027\n",
       "10. 1028\n",
       "11. 1029\n",
       "12. 1030\n",
       "13. 1031\n",
       "14. 1032\n",
       "15. 1033\n",
       "16. 1034\n",
       "17. 1035\n",
       "18. 1036\n",
       "19. 1037\n",
       "20. 1038\n",
       "21. 1039\n",
       "22. 1040\n",
       "23. 1041\n",
       "24. 1042\n",
       "25. 1043\n",
       "26. 1044\n",
       "27. 1045\n",
       "28. 1046\n",
       "29. 1047\n",
       "30. 1048\n",
       "31. 1049\n",
       "32. 1050\n",
       "33. 1051\n",
       "34. 1052\n",
       "35. 1053\n",
       "36. 1054\n",
       "37. 1055\n",
       "38. 1056\n",
       "39. 1057\n",
       "40. 1058\n",
       "41. 1059\n",
       "42. 1060\n",
       "43. 1061\n",
       "44. 1062\n",
       "45. 1063\n",
       "46. 1064\n",
       "47. 1065\n",
       "48. 1066\n",
       "49. 1067\n",
       "50. 1068\n",
       "51. 1069\n",
       "52. 1070\n",
       "53. 1071\n",
       "54. 1072\n",
       "55. 1073\n",
       "56. 1074\n",
       "57. 1075\n",
       "58. 1076\n",
       "59. 1077\n",
       "60. 1078\n",
       "61. 1079\n",
       "62. 1080\n",
       "63. 1081\n",
       "64. 1082\n",
       "\n",
       "\n"
      ],
      "text/plain": [
       " [1] 1019 1020 1021 1022 1023 1024 1025 1026 1027 1028 1029 1030 1031 1032 1033\n",
       "[16] 1034 1035 1036 1037 1038 1039 1040 1041 1042 1043 1044 1045 1046 1047 1048\n",
       "[31] 1049 1050 1051 1052 1053 1054 1055 1056 1057 1058 1059 1060 1061 1062 1063\n",
       "[46] 1064 1065 1066 1067 1068 1069 1070 1071 1072 1073 1074 1075 1076 1077 1078\n",
       "[61] 1079 1080 1081 1082"
      ]
     },
     "metadata": {},
     "output_type": "display_data"
    }
   ],
   "source": [
    "# We filter out only the \"GSE10255\" GSE of AML using 'which'. \n",
    "GSE.mat <- which (total.mat[ , \"GSE\"] == \"GSE9476\") \n",
    "GSE.mat # is a vector\n",
    "GSEfocused.mat <- total.mat[GSE.mat,] # Matrix consisting of only genes"
   ]
  },
  {
   "cell_type": "code",
   "execution_count": 18,
   "id": "78e04e1b-04b1-473b-91c0-76acc6020345",
   "metadata": {},
   "outputs": [
    {
     "data": {
      "text/html": [
       "<style>\n",
       ".list-inline {list-style: none; margin:0; padding: 0}\n",
       ".list-inline>li {display: inline-block}\n",
       ".list-inline>li:not(:last-child)::after {content: \"\\00b7\"; padding: 0 .5ex}\n",
       "</style>\n",
       "<ol class=list-inline><li>19</li><li>20</li><li>21</li><li>22</li><li>23</li><li>24</li><li>25</li><li>26</li><li>27</li><li>28</li><li>29</li><li>30</li><li>31</li><li>32</li><li>33</li><li>34</li><li>35</li><li>36</li><li>37</li><li>38</li><li>39</li><li>40</li><li>41</li><li>42</li><li>43</li><li>44</li></ol>\n"
      ],
      "text/latex": [
       "\\begin{enumerate*}\n",
       "\\item 19\n",
       "\\item 20\n",
       "\\item 21\n",
       "\\item 22\n",
       "\\item 23\n",
       "\\item 24\n",
       "\\item 25\n",
       "\\item 26\n",
       "\\item 27\n",
       "\\item 28\n",
       "\\item 29\n",
       "\\item 30\n",
       "\\item 31\n",
       "\\item 32\n",
       "\\item 33\n",
       "\\item 34\n",
       "\\item 35\n",
       "\\item 36\n",
       "\\item 37\n",
       "\\item 38\n",
       "\\item 39\n",
       "\\item 40\n",
       "\\item 41\n",
       "\\item 42\n",
       "\\item 43\n",
       "\\item 44\n",
       "\\end{enumerate*}\n"
      ],
      "text/markdown": [
       "1. 19\n",
       "2. 20\n",
       "3. 21\n",
       "4. 22\n",
       "5. 23\n",
       "6. 24\n",
       "7. 25\n",
       "8. 26\n",
       "9. 27\n",
       "10. 28\n",
       "11. 29\n",
       "12. 30\n",
       "13. 31\n",
       "14. 32\n",
       "15. 33\n",
       "16. 34\n",
       "17. 35\n",
       "18. 36\n",
       "19. 37\n",
       "20. 38\n",
       "21. 39\n",
       "22. 40\n",
       "23. 41\n",
       "24. 42\n",
       "25. 43\n",
       "26. 44\n",
       "\n",
       "\n"
      ],
      "text/plain": [
       " [1] 19 20 21 22 23 24 25 26 27 28 29 30 31 32 33 34 35 36 37 38 39 40 41 42 43\n",
       "[26] 44"
      ]
     },
     "metadata": {},
     "output_type": "display_data"
    },
    {
     "data": {
      "text/html": [
       "<table class=\"dataframe\">\n",
       "<caption>A data.frame: 5 × 5</caption>\n",
       "<thead>\n",
       "\t<tr><th></th><th scope=col>PAX8</th><th scope=col>CCL5</th><th scope=col>MMP14</th><th scope=col>DTX2P1-UPK3BP1-PMS2P11</th><th scope=col>BAD</th></tr>\n",
       "\t<tr><th></th><th scope=col>&lt;dbl&gt;</th><th scope=col>&lt;dbl&gt;</th><th scope=col>&lt;dbl&gt;</th><th scope=col>&lt;dbl&gt;</th><th scope=col>&lt;dbl&gt;</th></tr>\n",
       "</thead>\n",
       "<tbody>\n",
       "\t<tr><th scope=row>19</th><td>9.601100</td><td>9.191627</td><td>8.417960</td><td>9.341515</td><td>6.360647</td></tr>\n",
       "\t<tr><th scope=row>20</th><td>8.848924</td><td>7.881371</td><td>8.130892</td><td>9.441689</td><td>6.342363</td></tr>\n",
       "\t<tr><th scope=row>21</th><td>8.562352</td><td>7.384051</td><td>7.721752</td><td>8.810173</td><td>5.987559</td></tr>\n",
       "\t<tr><th scope=row>22</th><td>8.738098</td><td>6.844174</td><td>7.985319</td><td>8.961419</td><td>6.119631</td></tr>\n",
       "\t<tr><th scope=row>23</th><td>8.603270</td><td>8.480407</td><td>7.749494</td><td>8.379326</td><td>5.831658</td></tr>\n",
       "</tbody>\n",
       "</table>\n"
      ],
      "text/latex": [
       "A data.frame: 5 × 5\n",
       "\\begin{tabular}{r|lllll}\n",
       "  & PAX8 & CCL5 & MMP14 & DTX2P1-UPK3BP1-PMS2P11 & BAD\\\\\n",
       "  & <dbl> & <dbl> & <dbl> & <dbl> & <dbl>\\\\\n",
       "\\hline\n",
       "\t19 & 9.601100 & 9.191627 & 8.417960 & 9.341515 & 6.360647\\\\\n",
       "\t20 & 8.848924 & 7.881371 & 8.130892 & 9.441689 & 6.342363\\\\\n",
       "\t21 & 8.562352 & 7.384051 & 7.721752 & 8.810173 & 5.987559\\\\\n",
       "\t22 & 8.738098 & 6.844174 & 7.985319 & 8.961419 & 6.119631\\\\\n",
       "\t23 & 8.603270 & 8.480407 & 7.749494 & 8.379326 & 5.831658\\\\\n",
       "\\end{tabular}\n"
      ],
      "text/markdown": [
       "\n",
       "A data.frame: 5 × 5\n",
       "\n",
       "| <!--/--> | PAX8 &lt;dbl&gt; | CCL5 &lt;dbl&gt; | MMP14 &lt;dbl&gt; | DTX2P1-UPK3BP1-PMS2P11 &lt;dbl&gt; | BAD &lt;dbl&gt; |\n",
       "|---|---|---|---|---|---|\n",
       "| 19 | 9.601100 | 9.191627 | 8.417960 | 9.341515 | 6.360647 |\n",
       "| 20 | 8.848924 | 7.881371 | 8.130892 | 9.441689 | 6.342363 |\n",
       "| 21 | 8.562352 | 7.384051 | 7.721752 | 8.810173 | 5.987559 |\n",
       "| 22 | 8.738098 | 6.844174 | 7.985319 | 8.961419 | 6.119631 |\n",
       "| 23 | 8.603270 | 8.480407 | 7.749494 | 8.379326 | 5.831658 |\n",
       "\n"
      ],
      "text/plain": [
       "   PAX8     CCL5     MMP14    DTX2P1-UPK3BP1-PMS2P11 BAD     \n",
       "19 9.601100 9.191627 8.417960 9.341515               6.360647\n",
       "20 8.848924 7.881371 8.130892 9.441689               6.342363\n",
       "21 8.562352 7.384051 7.721752 8.810173               5.987559\n",
       "22 8.738098 6.844174 7.985319 8.961419               6.119631\n",
       "23 8.603270 8.480407 7.749494 8.379326               5.831658"
      ]
     },
     "metadata": {},
     "output_type": "display_data"
    }
   ],
   "source": [
    "CASE.GSEfocused.mat <- which (GSEfocused.mat[ , \"Condition\"] == \"CASE\")\n",
    "CASE.GSEfocused.mat # is a vector\n",
    "CASEfocused.GSEfocused.mat <- total.mat[CASE.GSEfocused.mat,-(0:9)] # Matrix consisting of only CASE with GSE\n",
    "CASEfocused.GSEfocused.mat[1:5,1:5]"
   ]
  },
  {
   "cell_type": "code",
   "execution_count": 19,
   "id": "2bba0391-9fa5-4af4-97ec-2a021c11a437",
   "metadata": {},
   "outputs": [
    {
     "data": {
      "text/html": [
       "<style>\n",
       ".list-inline {list-style: none; margin:0; padding: 0}\n",
       ".list-inline>li {display: inline-block}\n",
       ".list-inline>li:not(:last-child)::after {content: \"\\00b7\"; padding: 0 .5ex}\n",
       "</style>\n",
       "<ol class=list-inline><li>1</li><li>2</li><li>3</li><li>4</li><li>5</li><li>6</li><li>7</li><li>8</li><li>9</li><li>10</li><li>11</li><li>12</li><li>13</li><li>14</li><li>15</li><li>16</li><li>17</li><li>18</li><li>45</li><li>46</li><li>47</li><li>48</li><li>49</li><li>50</li><li>51</li><li>52</li><li>53</li><li>54</li><li>55</li><li>56</li><li>57</li><li>58</li><li>59</li><li>60</li><li>61</li><li>62</li><li>63</li><li>64</li></ol>\n"
      ],
      "text/latex": [
       "\\begin{enumerate*}\n",
       "\\item 1\n",
       "\\item 2\n",
       "\\item 3\n",
       "\\item 4\n",
       "\\item 5\n",
       "\\item 6\n",
       "\\item 7\n",
       "\\item 8\n",
       "\\item 9\n",
       "\\item 10\n",
       "\\item 11\n",
       "\\item 12\n",
       "\\item 13\n",
       "\\item 14\n",
       "\\item 15\n",
       "\\item 16\n",
       "\\item 17\n",
       "\\item 18\n",
       "\\item 45\n",
       "\\item 46\n",
       "\\item 47\n",
       "\\item 48\n",
       "\\item 49\n",
       "\\item 50\n",
       "\\item 51\n",
       "\\item 52\n",
       "\\item 53\n",
       "\\item 54\n",
       "\\item 55\n",
       "\\item 56\n",
       "\\item 57\n",
       "\\item 58\n",
       "\\item 59\n",
       "\\item 60\n",
       "\\item 61\n",
       "\\item 62\n",
       "\\item 63\n",
       "\\item 64\n",
       "\\end{enumerate*}\n"
      ],
      "text/markdown": [
       "1. 1\n",
       "2. 2\n",
       "3. 3\n",
       "4. 4\n",
       "5. 5\n",
       "6. 6\n",
       "7. 7\n",
       "8. 8\n",
       "9. 9\n",
       "10. 10\n",
       "11. 11\n",
       "12. 12\n",
       "13. 13\n",
       "14. 14\n",
       "15. 15\n",
       "16. 16\n",
       "17. 17\n",
       "18. 18\n",
       "19. 45\n",
       "20. 46\n",
       "21. 47\n",
       "22. 48\n",
       "23. 49\n",
       "24. 50\n",
       "25. 51\n",
       "26. 52\n",
       "27. 53\n",
       "28. 54\n",
       "29. 55\n",
       "30. 56\n",
       "31. 57\n",
       "32. 58\n",
       "33. 59\n",
       "34. 60\n",
       "35. 61\n",
       "36. 62\n",
       "37. 63\n",
       "38. 64\n",
       "\n",
       "\n"
      ],
      "text/plain": [
       " [1]  1  2  3  4  5  6  7  8  9 10 11 12 13 14 15 16 17 18 45 46 47 48 49 50 51\n",
       "[26] 52 53 54 55 56 57 58 59 60 61 62 63 64"
      ]
     },
     "metadata": {},
     "output_type": "display_data"
    },
    {
     "data": {
      "text/html": [
       "<table class=\"dataframe\">\n",
       "<caption>A data.frame: 5 × 5</caption>\n",
       "<thead>\n",
       "\t<tr><th></th><th scope=col>PAX8</th><th scope=col>CCL5</th><th scope=col>MMP14</th><th scope=col>DTX2P1-UPK3BP1-PMS2P11</th><th scope=col>BAD</th></tr>\n",
       "\t<tr><th></th><th scope=col>&lt;dbl&gt;</th><th scope=col>&lt;dbl&gt;</th><th scope=col>&lt;dbl&gt;</th><th scope=col>&lt;dbl&gt;</th><th scope=col>&lt;dbl&gt;</th></tr>\n",
       "</thead>\n",
       "<tbody>\n",
       "\t<tr><th scope=row>1</th><td>9.221573</td><td>7.990144</td><td>8.391732</td><td>9.280415</td><td>5.579486</td></tr>\n",
       "\t<tr><th scope=row>2</th><td>8.524435</td><td>6.648112</td><td>8.183514</td><td>8.798847</td><td>5.934621</td></tr>\n",
       "\t<tr><th scope=row>3</th><td>8.606060</td><td>6.382602</td><td>7.909023</td><td>8.948909</td><td>5.646312</td></tr>\n",
       "\t<tr><th scope=row>4</th><td>8.841501</td><td>6.469583</td><td>8.105744</td><td>8.941517</td><td>5.899868</td></tr>\n",
       "\t<tr><th scope=row>5</th><td>8.882826</td><td>8.332415</td><td>7.820992</td><td>8.725958</td><td>5.651731</td></tr>\n",
       "</tbody>\n",
       "</table>\n"
      ],
      "text/latex": [
       "A data.frame: 5 × 5\n",
       "\\begin{tabular}{r|lllll}\n",
       "  & PAX8 & CCL5 & MMP14 & DTX2P1-UPK3BP1-PMS2P11 & BAD\\\\\n",
       "  & <dbl> & <dbl> & <dbl> & <dbl> & <dbl>\\\\\n",
       "\\hline\n",
       "\t1 & 9.221573 & 7.990144 & 8.391732 & 9.280415 & 5.579486\\\\\n",
       "\t2 & 8.524435 & 6.648112 & 8.183514 & 8.798847 & 5.934621\\\\\n",
       "\t3 & 8.606060 & 6.382602 & 7.909023 & 8.948909 & 5.646312\\\\\n",
       "\t4 & 8.841501 & 6.469583 & 8.105744 & 8.941517 & 5.899868\\\\\n",
       "\t5 & 8.882826 & 8.332415 & 7.820992 & 8.725958 & 5.651731\\\\\n",
       "\\end{tabular}\n"
      ],
      "text/markdown": [
       "\n",
       "A data.frame: 5 × 5\n",
       "\n",
       "| <!--/--> | PAX8 &lt;dbl&gt; | CCL5 &lt;dbl&gt; | MMP14 &lt;dbl&gt; | DTX2P1-UPK3BP1-PMS2P11 &lt;dbl&gt; | BAD &lt;dbl&gt; |\n",
       "|---|---|---|---|---|---|\n",
       "| 1 | 9.221573 | 7.990144 | 8.391732 | 9.280415 | 5.579486 |\n",
       "| 2 | 8.524435 | 6.648112 | 8.183514 | 8.798847 | 5.934621 |\n",
       "| 3 | 8.606060 | 6.382602 | 7.909023 | 8.948909 | 5.646312 |\n",
       "| 4 | 8.841501 | 6.469583 | 8.105744 | 8.941517 | 5.899868 |\n",
       "| 5 | 8.882826 | 8.332415 | 7.820992 | 8.725958 | 5.651731 |\n",
       "\n"
      ],
      "text/plain": [
       "  PAX8     CCL5     MMP14    DTX2P1-UPK3BP1-PMS2P11 BAD     \n",
       "1 9.221573 7.990144 8.391732 9.280415               5.579486\n",
       "2 8.524435 6.648112 8.183514 8.798847               5.934621\n",
       "3 8.606060 6.382602 7.909023 8.948909               5.646312\n",
       "4 8.841501 6.469583 8.105744 8.941517               5.899868\n",
       "5 8.882826 8.332415 7.820992 8.725958               5.651731"
      ]
     },
     "metadata": {},
     "output_type": "display_data"
    }
   ],
   "source": [
    "CONTROL.GSEfocused.mat <- which (GSEfocused.mat[ , \"Condition\"] == \"CONTROL\")\n",
    "CONTROL.GSEfocused.mat # is a vector\n",
    "CONTROLfocused.GSEfocused.mat <- total.mat[CONTROL.GSEfocused.mat,-(0:9)] # MAtrix consisting of only CONTROL with GSE\n",
    "CONTROLfocused.GSEfocused.mat[1:5,1:5]"
   ]
  },
  {
   "cell_type": "code",
   "execution_count": 21,
   "id": "be5e8616-3acb-41b6-aeef-f2c45b1b85ac",
   "metadata": {},
   "outputs": [],
   "source": [
    "pvalues2 <-apply(data.1, 2, function (x) {t.test(x[CASEfocused.GSEfocused.mat], x[CONTROLfocused.GSEfocused.mat])$p.value}) \n",
    "# why did this just stop working the day the paper is due? What changed? The error message doesn't help.\n",
    "pvalues2.sorted <- sort (pvalues2)"
   ]
  },
  {
   "cell_type": "code",
   "execution_count": 22,
   "id": "9415c502-d606-40e5-b94b-100230bd5104",
   "metadata": {},
   "outputs": [
    {
     "ename": "ERROR",
     "evalue": "Error in eval(expr, envir, enclos): object 'pvalues2.sorted' not found\n",
     "output_type": "error",
     "traceback": [
      "Error in eval(expr, envir, enclos): object 'pvalues2.sorted' not found\nTraceback:\n"
     ]
    }
   ],
   "source": [
    "GSEsignatures <- names(pvalues2.sorted[,1:10])\n",
    "\n",
    "GSEexpressions <- data.frame(data.1[c(CASE.GSEfocused.mat, CONTROL.GSEfocused.mat), GSEsignatures])\n",
    "dim(GSEexpressions)\n",
    "GSEexpressions[1:5,]\n",
    "correlation2 <- cor((GSEexpressions))\n",
    "diag(correlation2) <- NA\n",
    "medcor <- median(correlation2, na.rm=TRUE)\n",
    "print(paste(\"The median correlation across all pairs of drugs is: \", (medcor)))\n",
    "hist(correlation2, nclass=100)\n",
    "\n"
   ]
  },
  {
   "cell_type": "code",
   "execution_count": 58,
   "id": "e39cef92-a691-4c63-9157-fd389a862f46",
   "metadata": {},
   "outputs": [
    {
     "data": {
      "text/html": [
       "<table class=\"dataframe\">\n",
       "<caption>A data.frame: 5 × 10</caption>\n",
       "<thead>\n",
       "\t<tr><th></th><th scope=col>PAX8</th><th scope=col>CCL5</th><th scope=col>MMP14</th><th scope=col>DTX2P1-UPK3BP1-PMS2P11</th><th scope=col>BAD</th><th scope=col>PRPF8</th><th scope=col>CAPNS1</th><th scope=col>RPL35</th><th scope=col>EIF4G2</th><th scope=col>EIF3D</th></tr>\n",
       "\t<tr><th></th><th scope=col>&lt;dbl&gt;</th><th scope=col>&lt;dbl&gt;</th><th scope=col>&lt;dbl&gt;</th><th scope=col>&lt;dbl&gt;</th><th scope=col>&lt;dbl&gt;</th><th scope=col>&lt;dbl&gt;</th><th scope=col>&lt;dbl&gt;</th><th scope=col>&lt;dbl&gt;</th><th scope=col>&lt;dbl&gt;</th><th scope=col>&lt;dbl&gt;</th></tr>\n",
       "</thead>\n",
       "<tbody>\n",
       "\t<tr><th scope=row>ALK_ALL_814_040330_9_A_PZ.CEL</th><td>9.601100</td><td>9.191627</td><td>8.417960</td><td>9.341515</td><td>6.360647</td><td> 9.290239</td><td> 9.550719</td><td> 9.788408</td><td>10.76943</td><td>10.164625</td></tr>\n",
       "\t<tr><th scope=row>ALK_ALL_B_036348_28_A_PZ.CEL</th><td>8.848924</td><td>7.881371</td><td>8.130892</td><td>9.441689</td><td>6.342363</td><td>10.090529</td><td>10.735658</td><td>11.776457</td><td>11.27952</td><td>10.980908</td></tr>\n",
       "\t<tr><th scope=row>ALK_ALL_BA_014872_56_A_PZ.CEL</th><td>8.562352</td><td>7.384051</td><td>7.721752</td><td>8.810173</td><td>5.987559</td><td> 9.766628</td><td>10.140347</td><td>12.228942</td><td>10.98017</td><td>11.738627</td></tr>\n",
       "\t<tr><th scope=row>ALK_ALL_BA_021833_24_A_PZ.CEL</th><td>8.738098</td><td>6.844174</td><td>7.985319</td><td>8.961419</td><td>6.119631</td><td>10.014967</td><td> 9.755260</td><td>11.480863</td><td>11.90249</td><td> 9.875456</td></tr>\n",
       "\t<tr><th scope=row>ALK_ALL_BA_033676_8_A_PZ.CEL</th><td>8.603270</td><td>8.480407</td><td>7.749494</td><td>8.379326</td><td>5.831658</td><td> 9.561271</td><td> 9.383719</td><td>10.431158</td><td>11.62102</td><td> 9.465095</td></tr>\n",
       "</tbody>\n",
       "</table>\n"
      ],
      "text/latex": [
       "A data.frame: 5 × 10\n",
       "\\begin{tabular}{r|llllllllll}\n",
       "  & PAX8 & CCL5 & MMP14 & DTX2P1-UPK3BP1-PMS2P11 & BAD & PRPF8 & CAPNS1 & RPL35 & EIF4G2 & EIF3D\\\\\n",
       "  & <dbl> & <dbl> & <dbl> & <dbl> & <dbl> & <dbl> & <dbl> & <dbl> & <dbl> & <dbl>\\\\\n",
       "\\hline\n",
       "\tALK\\_ALL\\_814\\_040330\\_9\\_A\\_PZ.CEL & 9.601100 & 9.191627 & 8.417960 & 9.341515 & 6.360647 &  9.290239 &  9.550719 &  9.788408 & 10.76943 & 10.164625\\\\\n",
       "\tALK\\_ALL\\_B\\_036348\\_28\\_A\\_PZ.CEL & 8.848924 & 7.881371 & 8.130892 & 9.441689 & 6.342363 & 10.090529 & 10.735658 & 11.776457 & 11.27952 & 10.980908\\\\\n",
       "\tALK\\_ALL\\_BA\\_014872\\_56\\_A\\_PZ.CEL & 8.562352 & 7.384051 & 7.721752 & 8.810173 & 5.987559 &  9.766628 & 10.140347 & 12.228942 & 10.98017 & 11.738627\\\\\n",
       "\tALK\\_ALL\\_BA\\_021833\\_24\\_A\\_PZ.CEL & 8.738098 & 6.844174 & 7.985319 & 8.961419 & 6.119631 & 10.014967 &  9.755260 & 11.480863 & 11.90249 &  9.875456\\\\\n",
       "\tALK\\_ALL\\_BA\\_033676\\_8\\_A\\_PZ.CEL & 8.603270 & 8.480407 & 7.749494 & 8.379326 & 5.831658 &  9.561271 &  9.383719 & 10.431158 & 11.62102 &  9.465095\\\\\n",
       "\\end{tabular}\n"
      ],
      "text/markdown": [
       "\n",
       "A data.frame: 5 × 10\n",
       "\n",
       "| <!--/--> | PAX8 &lt;dbl&gt; | CCL5 &lt;dbl&gt; | MMP14 &lt;dbl&gt; | DTX2P1-UPK3BP1-PMS2P11 &lt;dbl&gt; | BAD &lt;dbl&gt; | PRPF8 &lt;dbl&gt; | CAPNS1 &lt;dbl&gt; | RPL35 &lt;dbl&gt; | EIF4G2 &lt;dbl&gt; | EIF3D &lt;dbl&gt; |\n",
       "|---|---|---|---|---|---|---|---|---|---|---|\n",
       "| ALK_ALL_814_040330_9_A_PZ.CEL | 9.601100 | 9.191627 | 8.417960 | 9.341515 | 6.360647 |  9.290239 |  9.550719 |  9.788408 | 10.76943 | 10.164625 |\n",
       "| ALK_ALL_B_036348_28_A_PZ.CEL | 8.848924 | 7.881371 | 8.130892 | 9.441689 | 6.342363 | 10.090529 | 10.735658 | 11.776457 | 11.27952 | 10.980908 |\n",
       "| ALK_ALL_BA_014872_56_A_PZ.CEL | 8.562352 | 7.384051 | 7.721752 | 8.810173 | 5.987559 |  9.766628 | 10.140347 | 12.228942 | 10.98017 | 11.738627 |\n",
       "| ALK_ALL_BA_021833_24_A_PZ.CEL | 8.738098 | 6.844174 | 7.985319 | 8.961419 | 6.119631 | 10.014967 |  9.755260 | 11.480863 | 11.90249 |  9.875456 |\n",
       "| ALK_ALL_BA_033676_8_A_PZ.CEL | 8.603270 | 8.480407 | 7.749494 | 8.379326 | 5.831658 |  9.561271 |  9.383719 | 10.431158 | 11.62102 |  9.465095 |\n",
       "\n"
      ],
      "text/plain": [
       "                              PAX8     CCL5     MMP14    DTX2P1-UPK3BP1-PMS2P11\n",
       "ALK_ALL_814_040330_9_A_PZ.CEL 9.601100 9.191627 8.417960 9.341515              \n",
       "ALK_ALL_B_036348_28_A_PZ.CEL  8.848924 7.881371 8.130892 9.441689              \n",
       "ALK_ALL_BA_014872_56_A_PZ.CEL 8.562352 7.384051 7.721752 8.810173              \n",
       "ALK_ALL_BA_021833_24_A_PZ.CEL 8.738098 6.844174 7.985319 8.961419              \n",
       "ALK_ALL_BA_033676_8_A_PZ.CEL  8.603270 8.480407 7.749494 8.379326              \n",
       "                              BAD      PRPF8     CAPNS1    RPL35     EIF4G2  \n",
       "ALK_ALL_814_040330_9_A_PZ.CEL 6.360647  9.290239  9.550719  9.788408 10.76943\n",
       "ALK_ALL_B_036348_28_A_PZ.CEL  6.342363 10.090529 10.735658 11.776457 11.27952\n",
       "ALK_ALL_BA_014872_56_A_PZ.CEL 5.987559  9.766628 10.140347 12.228942 10.98017\n",
       "ALK_ALL_BA_021833_24_A_PZ.CEL 6.119631 10.014967  9.755260 11.480863 11.90249\n",
       "ALK_ALL_BA_033676_8_A_PZ.CEL  5.831658  9.561271  9.383719 10.431158 11.62102\n",
       "                              EIF3D    \n",
       "ALK_ALL_814_040330_9_A_PZ.CEL 10.164625\n",
       "ALK_ALL_B_036348_28_A_PZ.CEL  10.980908\n",
       "ALK_ALL_BA_014872_56_A_PZ.CEL 11.738627\n",
       "ALK_ALL_BA_021833_24_A_PZ.CEL  9.875456\n",
       "ALK_ALL_BA_033676_8_A_PZ.CEL   9.465095"
      ]
     },
     "metadata": {},
     "output_type": "display_data"
    },
    {
     "data": {
      "text/html": [
       "<style>\n",
       ".list-inline {list-style: none; margin:0; padding: 0}\n",
       ".list-inline>li {display: inline-block}\n",
       ".list-inline>li:not(:last-child)::after {content: \"\\00b7\"; padding: 0 .5ex}\n",
       "</style>\n",
       "<ol class=list-inline><li>26</li><li>12708</li></ol>\n"
      ],
      "text/latex": [
       "\\begin{enumerate*}\n",
       "\\item 26\n",
       "\\item 12708\n",
       "\\end{enumerate*}\n"
      ],
      "text/markdown": [
       "1. 26\n",
       "2. 12708\n",
       "\n",
       "\n"
      ],
      "text/plain": [
       "[1]    26 12708"
      ]
     },
     "metadata": {},
     "output_type": "display_data"
    }
   ],
   "source": [
    "rownames(CASEfocused.GSEfocused.mat) <- total.mat[CASE.GSEfocused.mat, 1]  # First column of total.mat (Expirement names) is added back in as the row names.\n",
    "CASEfocused.GSEfocused.mat[1:5,1:10]\n",
    "dim(CASEfocused.GSEfocused.mat)"
   ]
  },
  {
   "cell_type": "code",
   "execution_count": 59,
   "id": "20380131-50f4-49a1-93a9-6706a05238f3",
   "metadata": {},
   "outputs": [
    {
     "data": {
      "text/html": [
       "<table class=\"dataframe\">\n",
       "<caption>A data.frame: 5 × 10</caption>\n",
       "<thead>\n",
       "\t<tr><th></th><th scope=col>PAX8</th><th scope=col>CCL5</th><th scope=col>MMP14</th><th scope=col>DTX2P1-UPK3BP1-PMS2P11</th><th scope=col>BAD</th><th scope=col>PRPF8</th><th scope=col>CAPNS1</th><th scope=col>RPL35</th><th scope=col>EIF4G2</th><th scope=col>EIF3D</th></tr>\n",
       "\t<tr><th></th><th scope=col>&lt;dbl&gt;</th><th scope=col>&lt;dbl&gt;</th><th scope=col>&lt;dbl&gt;</th><th scope=col>&lt;dbl&gt;</th><th scope=col>&lt;dbl&gt;</th><th scope=col>&lt;dbl&gt;</th><th scope=col>&lt;dbl&gt;</th><th scope=col>&lt;dbl&gt;</th><th scope=col>&lt;dbl&gt;</th><th scope=col>&lt;dbl&gt;</th></tr>\n",
       "</thead>\n",
       "<tbody>\n",
       "\t<tr><th scope=row>AHW_ALL_BA_025919_13_A_PZ.CEL</th><td>9.221573</td><td>7.990144</td><td>8.391732</td><td>9.280415</td><td>5.579486</td><td> 9.587992</td><td>10.143771</td><td>11.36457</td><td>10.95629</td><td>10.02699</td></tr>\n",
       "\t<tr><th scope=row>AHW_ALL_BA_032751_71_A_PZ.CEL</th><td>8.524435</td><td>6.648112</td><td>8.183514</td><td>8.798847</td><td>5.934621</td><td>10.605028</td><td>10.613034</td><td>11.66462</td><td>11.63216</td><td>11.41284</td></tr>\n",
       "\t<tr><th scope=row>AHW_ALL_BN_022495_7_A_PZ.CEL</th><td>8.606060</td><td>6.382602</td><td>7.909023</td><td>8.948909</td><td>5.646312</td><td>10.367226</td><td> 9.836321</td><td>12.08132</td><td>11.69096</td><td>10.96611</td></tr>\n",
       "\t<tr><th scope=row>AHW_ALL_MLL_031351_13_A_PZ.CEL</th><td>8.841501</td><td>6.469583</td><td>8.105744</td><td>8.941517</td><td>5.899868</td><td>10.493261</td><td>10.701126</td><td>12.02987</td><td>11.32870</td><td>11.17608</td></tr>\n",
       "\t<tr><th scope=row>AHW_ALL_MLL_036187_80_A_PZ.CEL</th><td>8.882826</td><td>8.332415</td><td>7.820992</td><td>8.725958</td><td>5.651731</td><td>10.684440</td><td>10.524360</td><td>11.85613</td><td>11.38861</td><td>11.11774</td></tr>\n",
       "</tbody>\n",
       "</table>\n"
      ],
      "text/latex": [
       "A data.frame: 5 × 10\n",
       "\\begin{tabular}{r|llllllllll}\n",
       "  & PAX8 & CCL5 & MMP14 & DTX2P1-UPK3BP1-PMS2P11 & BAD & PRPF8 & CAPNS1 & RPL35 & EIF4G2 & EIF3D\\\\\n",
       "  & <dbl> & <dbl> & <dbl> & <dbl> & <dbl> & <dbl> & <dbl> & <dbl> & <dbl> & <dbl>\\\\\n",
       "\\hline\n",
       "\tAHW\\_ALL\\_BA\\_025919\\_13\\_A\\_PZ.CEL & 9.221573 & 7.990144 & 8.391732 & 9.280415 & 5.579486 &  9.587992 & 10.143771 & 11.36457 & 10.95629 & 10.02699\\\\\n",
       "\tAHW\\_ALL\\_BA\\_032751\\_71\\_A\\_PZ.CEL & 8.524435 & 6.648112 & 8.183514 & 8.798847 & 5.934621 & 10.605028 & 10.613034 & 11.66462 & 11.63216 & 11.41284\\\\\n",
       "\tAHW\\_ALL\\_BN\\_022495\\_7\\_A\\_PZ.CEL & 8.606060 & 6.382602 & 7.909023 & 8.948909 & 5.646312 & 10.367226 &  9.836321 & 12.08132 & 11.69096 & 10.96611\\\\\n",
       "\tAHW\\_ALL\\_MLL\\_031351\\_13\\_A\\_PZ.CEL & 8.841501 & 6.469583 & 8.105744 & 8.941517 & 5.899868 & 10.493261 & 10.701126 & 12.02987 & 11.32870 & 11.17608\\\\\n",
       "\tAHW\\_ALL\\_MLL\\_036187\\_80\\_A\\_PZ.CEL & 8.882826 & 8.332415 & 7.820992 & 8.725958 & 5.651731 & 10.684440 & 10.524360 & 11.85613 & 11.38861 & 11.11774\\\\\n",
       "\\end{tabular}\n"
      ],
      "text/markdown": [
       "\n",
       "A data.frame: 5 × 10\n",
       "\n",
       "| <!--/--> | PAX8 &lt;dbl&gt; | CCL5 &lt;dbl&gt; | MMP14 &lt;dbl&gt; | DTX2P1-UPK3BP1-PMS2P11 &lt;dbl&gt; | BAD &lt;dbl&gt; | PRPF8 &lt;dbl&gt; | CAPNS1 &lt;dbl&gt; | RPL35 &lt;dbl&gt; | EIF4G2 &lt;dbl&gt; | EIF3D &lt;dbl&gt; |\n",
       "|---|---|---|---|---|---|---|---|---|---|---|\n",
       "| AHW_ALL_BA_025919_13_A_PZ.CEL | 9.221573 | 7.990144 | 8.391732 | 9.280415 | 5.579486 |  9.587992 | 10.143771 | 11.36457 | 10.95629 | 10.02699 |\n",
       "| AHW_ALL_BA_032751_71_A_PZ.CEL | 8.524435 | 6.648112 | 8.183514 | 8.798847 | 5.934621 | 10.605028 | 10.613034 | 11.66462 | 11.63216 | 11.41284 |\n",
       "| AHW_ALL_BN_022495_7_A_PZ.CEL | 8.606060 | 6.382602 | 7.909023 | 8.948909 | 5.646312 | 10.367226 |  9.836321 | 12.08132 | 11.69096 | 10.96611 |\n",
       "| AHW_ALL_MLL_031351_13_A_PZ.CEL | 8.841501 | 6.469583 | 8.105744 | 8.941517 | 5.899868 | 10.493261 | 10.701126 | 12.02987 | 11.32870 | 11.17608 |\n",
       "| AHW_ALL_MLL_036187_80_A_PZ.CEL | 8.882826 | 8.332415 | 7.820992 | 8.725958 | 5.651731 | 10.684440 | 10.524360 | 11.85613 | 11.38861 | 11.11774 |\n",
       "\n"
      ],
      "text/plain": [
       "                               PAX8     CCL5     MMP14   \n",
       "AHW_ALL_BA_025919_13_A_PZ.CEL  9.221573 7.990144 8.391732\n",
       "AHW_ALL_BA_032751_71_A_PZ.CEL  8.524435 6.648112 8.183514\n",
       "AHW_ALL_BN_022495_7_A_PZ.CEL   8.606060 6.382602 7.909023\n",
       "AHW_ALL_MLL_031351_13_A_PZ.CEL 8.841501 6.469583 8.105744\n",
       "AHW_ALL_MLL_036187_80_A_PZ.CEL 8.882826 8.332415 7.820992\n",
       "                               DTX2P1-UPK3BP1-PMS2P11 BAD      PRPF8    \n",
       "AHW_ALL_BA_025919_13_A_PZ.CEL  9.280415               5.579486  9.587992\n",
       "AHW_ALL_BA_032751_71_A_PZ.CEL  8.798847               5.934621 10.605028\n",
       "AHW_ALL_BN_022495_7_A_PZ.CEL   8.948909               5.646312 10.367226\n",
       "AHW_ALL_MLL_031351_13_A_PZ.CEL 8.941517               5.899868 10.493261\n",
       "AHW_ALL_MLL_036187_80_A_PZ.CEL 8.725958               5.651731 10.684440\n",
       "                               CAPNS1    RPL35    EIF4G2   EIF3D   \n",
       "AHW_ALL_BA_025919_13_A_PZ.CEL  10.143771 11.36457 10.95629 10.02699\n",
       "AHW_ALL_BA_032751_71_A_PZ.CEL  10.613034 11.66462 11.63216 11.41284\n",
       "AHW_ALL_BN_022495_7_A_PZ.CEL    9.836321 12.08132 11.69096 10.96611\n",
       "AHW_ALL_MLL_031351_13_A_PZ.CEL 10.701126 12.02987 11.32870 11.17608\n",
       "AHW_ALL_MLL_036187_80_A_PZ.CEL 10.524360 11.85613 11.38861 11.11774"
      ]
     },
     "metadata": {},
     "output_type": "display_data"
    },
    {
     "data": {
      "text/html": [
       "<style>\n",
       ".list-inline {list-style: none; margin:0; padding: 0}\n",
       ".list-inline>li {display: inline-block}\n",
       ".list-inline>li:not(:last-child)::after {content: \"\\00b7\"; padding: 0 .5ex}\n",
       "</style>\n",
       "<ol class=list-inline><li>38</li><li>12708</li></ol>\n"
      ],
      "text/latex": [
       "\\begin{enumerate*}\n",
       "\\item 38\n",
       "\\item 12708\n",
       "\\end{enumerate*}\n"
      ],
      "text/markdown": [
       "1. 38\n",
       "2. 12708\n",
       "\n",
       "\n"
      ],
      "text/plain": [
       "[1]    38 12708"
      ]
     },
     "metadata": {},
     "output_type": "display_data"
    }
   ],
   "source": [
    "rownames(CONTROLfocused.GSEfocused.mat) <- total.mat[CONTROL.GSEfocused.mat, 1]  # First column of total.mat (Expirement names) is added back in as the row names.\n",
    "CONTROLfocused.GSEfocused.mat[1:5,1:10]\n",
    "dim(CONTROLfocused.GSEfocused.mat)"
   ]
  },
  {
   "cell_type": "code",
   "execution_count": null,
   "id": "ce0ebece-04f4-4ca3-9dda-d619f0706d0a",
   "metadata": {},
   "outputs": [],
   "source": []
  }
 ],
 "metadata": {
  "kernelspec": {
   "display_name": "R",
   "language": "R",
   "name": "ir"
  },
  "language_info": {
   "codemirror_mode": "r",
   "file_extension": ".r",
   "mimetype": "text/x-r-source",
   "name": "R",
   "pygments_lexer": "r",
   "version": "4.1.1"
  }
 },
 "nbformat": 4,
 "nbformat_minor": 5
}

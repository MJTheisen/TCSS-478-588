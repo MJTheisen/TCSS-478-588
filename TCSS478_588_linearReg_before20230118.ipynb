{
 "cells": [
  {
   "cell_type": "markdown",
   "metadata": {},
   "source": [
    "# TCSS 478/588 In-class Exercise: Linear regression"
   ]
  },
  {
   "cell_type": "markdown",
   "metadata": {},
   "source": [
    "These exercises will be used to illustrate how to perform data analyses using R.\n",
    "Alternatively, you can use R or Rstudio. \n",
    "I assume you will learn basic R commands on your own.\n",
    "\n",
    "Credit: The data and ideas behind these exercises and homeworks are from the NIH LINCS DCIC Crowdsourcing Portal and Ma’ayan Lab @ Mt Sinai, New York.\n",
    "http://www.maayanlab.net/crowdsourcing/megatask1.php\n",
    "\n",
    "The overarching goal is to predict adverse drug reactions. But we will take this task step by step. You will learn more about the meanings of these data in future lectures. For illustrative purposes in today’s class, just treat these data as numbers in a matrix."
   ]
  },
  {
   "cell_type": "markdown",
   "metadata": {},
   "source": [
    "## 1. Download and read in data (same as last week)\n",
    "Download the data “gene_expression_n438x978.txt” from canvas to your computer.  I have removed the first character (#) and an ‘ from the input file to make R happy."
   ]
  },
  {
   "cell_type": "code",
   "execution_count": 1,
   "metadata": {
    "collapsed": false,
    "jupyter": {
     "outputs_hidden": false
    }
   },
   "outputs": [
    {
     "data": {
      "text/html": [
       "'/home/jovyan'"
      ],
      "text/latex": [
       "'/home/jovyan'"
      ],
      "text/markdown": [
       "'/home/jovyan'"
      ],
      "text/plain": [
       "[1] \"/home/jovyan\""
      ]
     },
     "metadata": {},
     "output_type": "display_data"
    }
   ],
   "source": [
    "getwd()"
   ]
  },
  {
   "cell_type": "code",
   "execution_count": 2,
   "metadata": {
    "collapsed": false,
    "jupyter": {
     "outputs_hidden": false
    }
   },
   "outputs": [
    {
     "data": {
      "text/html": [
       "<table class=\"dataframe\">\n",
       "<caption>A data.frame: 5 × 6</caption>\n",
       "<thead>\n",
       "\t<tr><th></th><th scope=col>PSME1</th><th scope=col>ATF1</th><th scope=col>RHEB</th><th scope=col>FOXO3</th><th scope=col>RHOA</th><th scope=col>IL1B</th></tr>\n",
       "\t<tr><th></th><th scope=col>&lt;dbl&gt;</th><th scope=col>&lt;dbl&gt;</th><th scope=col>&lt;dbl&gt;</th><th scope=col>&lt;dbl&gt;</th><th scope=col>&lt;dbl&gt;</th><th scope=col>&lt;dbl&gt;</th></tr>\n",
       "</thead>\n",
       "<tbody>\n",
       "\t<tr><th scope=row>ACETAZOLAMIDE</th><td>-0.015159099</td><td>-0.031470528</td><td>-0.004733488</td><td> 0.02591061</td><td> 0.0056296773</td><td>-0.007325439</td></tr>\n",
       "\t<tr><th scope=row>IRBESARTAN</th><td>-0.026811981</td><td> 0.012151979</td><td>-0.025550148</td><td>-0.02401181</td><td>-0.0106717396</td><td> 0.070951154</td></tr>\n",
       "\t<tr><th scope=row>IPRATROPIUM BROMIDE</th><td> 0.001017958</td><td>-0.008650622</td><td>-0.018128698</td><td>-0.02079971</td><td>-0.0002722781</td><td> 0.025003360</td></tr>\n",
       "\t<tr><th scope=row>EFAVIRENZ</th><td>-0.004398264</td><td> 0.055387992</td><td> 0.004658520</td><td> 0.01380732</td><td>-0.0340697348</td><td> 0.024005885</td></tr>\n",
       "\t<tr><th scope=row>THIAMINE</th><td> 0.001838965</td><td>-0.018079188</td><td>-0.011855532</td><td>-0.03705033</td><td>-0.0133954959</td><td>-0.001752450</td></tr>\n",
       "</tbody>\n",
       "</table>\n"
      ],
      "text/latex": [
       "A data.frame: 5 × 6\n",
       "\\begin{tabular}{r|llllll}\n",
       "  & PSME1 & ATF1 & RHEB & FOXO3 & RHOA & IL1B\\\\\n",
       "  & <dbl> & <dbl> & <dbl> & <dbl> & <dbl> & <dbl>\\\\\n",
       "\\hline\n",
       "\tACETAZOLAMIDE & -0.015159099 & -0.031470528 & -0.004733488 &  0.02591061 &  0.0056296773 & -0.007325439\\\\\n",
       "\tIRBESARTAN & -0.026811981 &  0.012151979 & -0.025550148 & -0.02401181 & -0.0106717396 &  0.070951154\\\\\n",
       "\tIPRATROPIUM BROMIDE &  0.001017958 & -0.008650622 & -0.018128698 & -0.02079971 & -0.0002722781 &  0.025003360\\\\\n",
       "\tEFAVIRENZ & -0.004398264 &  0.055387992 &  0.004658520 &  0.01380732 & -0.0340697348 &  0.024005885\\\\\n",
       "\tTHIAMINE &  0.001838965 & -0.018079188 & -0.011855532 & -0.03705033 & -0.0133954959 & -0.001752450\\\\\n",
       "\\end{tabular}\n"
      ],
      "text/markdown": [
       "\n",
       "A data.frame: 5 × 6\n",
       "\n",
       "| <!--/--> | PSME1 &lt;dbl&gt; | ATF1 &lt;dbl&gt; | RHEB &lt;dbl&gt; | FOXO3 &lt;dbl&gt; | RHOA &lt;dbl&gt; | IL1B &lt;dbl&gt; |\n",
       "|---|---|---|---|---|---|---|\n",
       "| ACETAZOLAMIDE | -0.015159099 | -0.031470528 | -0.004733488 |  0.02591061 |  0.0056296773 | -0.007325439 |\n",
       "| IRBESARTAN | -0.026811981 |  0.012151979 | -0.025550148 | -0.02401181 | -0.0106717396 |  0.070951154 |\n",
       "| IPRATROPIUM BROMIDE |  0.001017958 | -0.008650622 | -0.018128698 | -0.02079971 | -0.0002722781 |  0.025003360 |\n",
       "| EFAVIRENZ | -0.004398264 |  0.055387992 |  0.004658520 |  0.01380732 | -0.0340697348 |  0.024005885 |\n",
       "| THIAMINE |  0.001838965 | -0.018079188 | -0.011855532 | -0.03705033 | -0.0133954959 | -0.001752450 |\n",
       "\n"
      ],
      "text/plain": [
       "                    PSME1        ATF1         RHEB         FOXO3      \n",
       "ACETAZOLAMIDE       -0.015159099 -0.031470528 -0.004733488  0.02591061\n",
       "IRBESARTAN          -0.026811981  0.012151979 -0.025550148 -0.02401181\n",
       "IPRATROPIUM BROMIDE  0.001017958 -0.008650622 -0.018128698 -0.02079971\n",
       "EFAVIRENZ           -0.004398264  0.055387992  0.004658520  0.01380732\n",
       "THIAMINE             0.001838965 -0.018079188 -0.011855532 -0.03705033\n",
       "                    RHOA          IL1B        \n",
       "ACETAZOLAMIDE        0.0056296773 -0.007325439\n",
       "IRBESARTAN          -0.0106717396  0.070951154\n",
       "IPRATROPIUM BROMIDE -0.0002722781  0.025003360\n",
       "EFAVIRENZ           -0.0340697348  0.024005885\n",
       "THIAMINE            -0.0133954959 -0.001752450"
      ]
     },
     "metadata": {},
     "output_type": "display_data"
    }
   ],
   "source": [
    "my.data <- read.table (\"gene_expression_n438x978.txt\", sep=\"\\t\", header=T)\n",
    "dimnames(my.data)[[1]] <- my.data[,1]\n",
    "my.data <- my.data[, -1]\n",
    "my.data[1:5, 1:6]"
   ]
  },
  {
   "cell_type": "code",
   "execution_count": 3,
   "metadata": {
    "collapsed": false,
    "jupyter": {
     "outputs_hidden": false
    }
   },
   "outputs": [
    {
     "data": {
      "text/html": [
       "<style>\n",
       ".list-inline {list-style: none; margin:0; padding: 0}\n",
       ".list-inline>li {display: inline-block}\n",
       ".list-inline>li:not(:last-child)::after {content: \"\\00b7\"; padding: 0 .5ex}\n",
       "</style>\n",
       "<ol class=list-inline><li>438</li><li>978</li></ol>\n"
      ],
      "text/latex": [
       "\\begin{enumerate*}\n",
       "\\item 438\n",
       "\\item 978\n",
       "\\end{enumerate*}\n"
      ],
      "text/markdown": [
       "1. 438\n",
       "2. 978\n",
       "\n",
       "\n"
      ],
      "text/plain": [
       "[1] 438 978"
      ]
     },
     "metadata": {},
     "output_type": "display_data"
    }
   ],
   "source": [
    "dim (my.data)"
   ]
  },
  {
   "cell_type": "markdown",
   "metadata": {},
   "source": [
    "### recap of last week's lab in which computed correlation\n",
    "### we saw that the max pairwise corrlation between genes is 0.5227 and the minimum is -0.7655\n"
   ]
  },
  {
   "cell_type": "code",
   "execution_count": 4,
   "metadata": {},
   "outputs": [
    {
     "data": {
      "text/html": [
       "0.52272128511618"
      ],
      "text/latex": [
       "0.52272128511618"
      ],
      "text/markdown": [
       "0.52272128511618"
      ],
      "text/plain": [
       "[1] 0.5227213"
      ]
     },
     "metadata": {},
     "output_type": "display_data"
    }
   ],
   "source": [
    "cor(my.data$UBE2C, my.data$CDK1)"
   ]
  },
  {
   "cell_type": "code",
   "execution_count": 5,
   "metadata": {},
   "outputs": [
    {
     "data": {
      "image/png": "[encoded data removed]",
      "text/plain": [
       "plot without title"
      ]
     },
     "metadata": {
      "image/png": {
       "height": 420,
       "width": 420
      }
     },
     "output_type": "display_data"
    }
   ],
   "source": [
    "plot(my.data$UBE2C, my.data$CDK1)"
   ]
  },
  {
   "cell_type": "markdown",
   "metadata": {},
   "source": [
    "## in this lab we will use linear regression to build a simple linear regression to model the relationship between CDK1 and UBE2C"
   ]
  },
  {
   "cell_type": "markdown",
   "metadata": {},
   "source": [
    "## 2. Linear Regression."
   ]
  },
  {
   "cell_type": "code",
   "execution_count": 6,
   "metadata": {},
   "outputs": [
    {
     "data": {
      "text/html": [
       "276"
      ],
      "text/latex": [
       "276"
      ],
      "text/markdown": [
       "276"
      ],
      "text/plain": [
       "[1] 276"
      ]
     },
     "metadata": {},
     "output_type": "display_data"
    },
    {
     "data": {
      "text/html": [
       "408"
      ],
      "text/latex": [
       "408"
      ],
      "text/markdown": [
       "408"
      ],
      "text/plain": [
       "[1] 408"
      ]
     },
     "metadata": {},
     "output_type": "display_data"
    }
   ],
   "source": [
    "# compute the index of UBE2C and CDK1\n",
    "which (dimnames(my.data)[[2]] == \"UBE2C\")\n",
    "which (dimnames(my.data)[[2]] == \"CDK1\")"
   ]
  },
  {
   "cell_type": "markdown",
   "metadata": {},
   "source": [
    "## fit a linear regression model using CDK1 as our response and UBE2C as our predictor variable"
   ]
  },
  {
   "cell_type": "code",
   "execution_count": 11,
   "metadata": {
    "tags": []
   },
   "outputs": [],
   "source": [
    "# fit a linear regression model for CDK1 and UBE2C\n",
    "lmFit1 <- lm (my.data$CDK1 ~ my.data$UBE2C)"
   ]
  },
  {
   "cell_type": "code",
   "execution_count": 12,
   "metadata": {},
   "outputs": [
    {
     "data": {
      "text/plain": [
       "\n",
       "Call:\n",
       "lm(formula = my.data$CDK1 ~ my.data$UBE2C)\n",
       "\n",
       "Residuals:\n",
       "      Min        1Q    Median        3Q       Max \n",
       "-0.096025 -0.014247  0.003149  0.017000  0.071622 \n",
       "\n",
       "Coefficients:\n",
       "               Estimate Std. Error t value Pr(>|t|)    \n",
       "(Intercept)   -0.005261   0.001214  -4.336 1.81e-05 ***\n",
       "my.data$UBE2C  0.480930   0.037563  12.803  < 2e-16 ***\n",
       "---\n",
       "Signif. codes:  0 ‘***’ 0.001 ‘**’ 0.01 ‘*’ 0.05 ‘.’ 0.1 ‘ ’ 1\n",
       "\n",
       "Residual standard error: 0.02491 on 436 degrees of freedom\n",
       "Multiple R-squared:  0.2732,\tAdjusted R-squared:  0.2716 \n",
       "F-statistic: 163.9 on 1 and 436 DF,  p-value: < 2.2e-16\n"
      ]
     },
     "metadata": {},
     "output_type": "display_data"
    }
   ],
   "source": [
    "summary(lmFit1) #n=438, the length of our vectors. , b0= -0.005261 and b1=0.4809, RSE = 0.02491, degree of freedom = n-2, so 436. , Rsquared= 0.2732"
   ]
  },
  {
   "cell_type": "code",
   "execution_count": 13,
   "metadata": {},
   "outputs": [
    {
     "data": {
      "text/html": [
       "0.522685373814879"
      ],
      "text/latex": [
       "0.522685373814879"
      ],
      "text/markdown": [
       "0.522685373814879"
      ],
      "text/plain": [
       "[1] 0.5226854"
      ]
     },
     "metadata": {},
     "output_type": "display_data"
    }
   ],
   "source": [
    "# recall that correlation is equal to the sqer (R-square)\n",
    "sqrt(0.2732)"
   ]
  },
  {
   "cell_type": "code",
   "execution_count": 14,
   "metadata": {},
   "outputs": [
    {
     "data": {
      "text/html": [
       "<style>\n",
       ".list-inline {list-style: none; margin:0; padding: 0}\n",
       ".list-inline>li {display: inline-block}\n",
       ".list-inline>li:not(:last-child)::after {content: \"\\00b7\"; padding: 0 .5ex}\n",
       "</style>\n",
       "<ol class=list-inline><li>'coefficients'</li><li>'residuals'</li><li>'effects'</li><li>'rank'</li><li>'fitted.values'</li><li>'assign'</li><li>'qr'</li><li>'df.residual'</li><li>'xlevels'</li><li>'call'</li><li>'terms'</li><li>'model'</li></ol>\n"
      ],
      "text/latex": [
       "\\begin{enumerate*}\n",
       "\\item 'coefficients'\n",
       "\\item 'residuals'\n",
       "\\item 'effects'\n",
       "\\item 'rank'\n",
       "\\item 'fitted.values'\n",
       "\\item 'assign'\n",
       "\\item 'qr'\n",
       "\\item 'df.residual'\n",
       "\\item 'xlevels'\n",
       "\\item 'call'\n",
       "\\item 'terms'\n",
       "\\item 'model'\n",
       "\\end{enumerate*}\n"
      ],
      "text/markdown": [
       "1. 'coefficients'\n",
       "2. 'residuals'\n",
       "3. 'effects'\n",
       "4. 'rank'\n",
       "5. 'fitted.values'\n",
       "6. 'assign'\n",
       "7. 'qr'\n",
       "8. 'df.residual'\n",
       "9. 'xlevels'\n",
       "10. 'call'\n",
       "11. 'terms'\n",
       "12. 'model'\n",
       "\n",
       "\n"
      ],
      "text/plain": [
       " [1] \"coefficients\"  \"residuals\"     \"effects\"       \"rank\"         \n",
       " [5] \"fitted.values\" \"assign\"        \"qr\"            \"df.residual\"  \n",
       " [9] \"xlevels\"       \"call\"          \"terms\"         \"model\"        "
      ]
     },
     "metadata": {},
     "output_type": "display_data"
    }
   ],
   "source": [
    "names(lmFit1)"
   ]
  },
  {
   "cell_type": "code",
   "execution_count": 17,
   "metadata": {},
   "outputs": [
    {
     "data": {
      "text/html": [
       "<style>\n",
       ".dl-inline {width: auto; margin:0; padding: 0}\n",
       ".dl-inline>dt, .dl-inline>dd {float: none; width: auto; display: inline-block}\n",
       ".dl-inline>dt::after {content: \":\\0020\"; padding-right: .5ex}\n",
       ".dl-inline>dt:not(:first-of-type) {padding-left: .5ex}\n",
       "</style><dl class=dl-inline><dt>(Intercept)</dt><dd>-0.00526141458753716</dd><dt>my.data$UBE2C</dt><dd>0.480930214621599</dd></dl>\n"
      ],
      "text/latex": [
       "\\begin{description*}\n",
       "\\item[(Intercept)] -0.00526141458753716\n",
       "\\item[my.data\\textbackslash{}\\$UBE2C] 0.480930214621599\n",
       "\\end{description*}\n"
      ],
      "text/markdown": [
       "(Intercept)\n",
       ":   -0.00526141458753716my.data$UBE2C\n",
       ":   0.480930214621599\n",
       "\n"
      ],
      "text/plain": [
       "  (Intercept) my.data$UBE2C \n",
       " -0.005261415   0.480930215 "
      ]
     },
     "metadata": {},
     "output_type": "display_data"
    },
    {
     "data": {
      "text/html": [
       "-0.00526141458753716"
      ],
      "text/latex": [
       "-0.00526141458753716"
      ],
      "text/markdown": [
       "-0.00526141458753716"
      ],
      "text/plain": [
       "[1] -0.005261415"
      ]
     },
     "metadata": {},
     "output_type": "display_data"
    },
    {
     "data": {
      "text/html": [
       "0.480930214621599"
      ],
      "text/latex": [
       "0.480930214621599"
      ],
      "text/markdown": [
       "0.480930214621599"
      ],
      "text/plain": [
       "[1] 0.4809302"
      ]
     },
     "metadata": {},
     "output_type": "display_data"
    }
   ],
   "source": [
    "coef(lmFit1)\n",
    "coef(lmFit1)[[1]]\n",
    "coef(lmFit1)[[2]] #collapses the vector to a single entry"
   ]
  },
  {
   "cell_type": "code",
   "execution_count": 19,
   "metadata": {},
   "outputs": [
    {
     "data": {
      "text/html": [
       "<style>\n",
       ".dl-inline {width: auto; margin:0; padding: 0}\n",
       ".dl-inline>dt, .dl-inline>dd {float: none; width: auto; display: inline-block}\n",
       ".dl-inline>dt::after {content: \":\\0020\"; padding-right: .5ex}\n",
       ".dl-inline>dt:not(:first-of-type) {padding-left: .5ex}\n",
       "</style><dl class=dl-inline><dt>1</dt><dd>-0.0077730990942462</dd><dt>2</dt><dd>-0.0151164274211869</dd><dt>3</dt><dd>-0.0172677061305207</dd><dt>4</dt><dd>0.0103676740110913</dd><dt>5</dt><dd>-0.011705923925513</dd><dt>6</dt><dd>-0.00126686541403333</dd><dt>7</dt><dd>-0.0143674607113183</dd><dt>8</dt><dd>-0.00654283232356158</dd><dt>9</dt><dd>-0.00685353608110691</dd><dt>10</dt><dd>-0.0130568484876851</dd></dl>\n"
      ],
      "text/latex": [
       "\\begin{description*}\n",
       "\\item[1] -0.0077730990942462\n",
       "\\item[2] -0.0151164274211869\n",
       "\\item[3] -0.0172677061305207\n",
       "\\item[4] 0.0103676740110913\n",
       "\\item[5] -0.011705923925513\n",
       "\\item[6] -0.00126686541403333\n",
       "\\item[7] -0.0143674607113183\n",
       "\\item[8] -0.00654283232356158\n",
       "\\item[9] -0.00685353608110691\n",
       "\\item[10] -0.0130568484876851\n",
       "\\end{description*}\n"
      ],
      "text/markdown": [
       "1\n",
       ":   -0.00777309909424622\n",
       ":   -0.01511642742118693\n",
       ":   -0.01726770613052074\n",
       ":   0.01036767401109135\n",
       ":   -0.0117059239255136\n",
       ":   -0.001266865414033337\n",
       ":   -0.01436746071131838\n",
       ":   -0.006542832323561589\n",
       ":   -0.0068535360811069110\n",
       ":   -0.0130568484876851\n",
       "\n"
      ],
      "text/plain": [
       "           1            2            3            4            5            6 \n",
       "-0.007773099 -0.015116427 -0.017267706  0.010367674 -0.011705924 -0.001266865 \n",
       "           7            8            9           10 \n",
       "-0.014367461 -0.006542832 -0.006853536 -0.013056848 "
      ]
     },
     "metadata": {},
     "output_type": "display_data"
    }
   ],
   "source": [
    "predict.lmFit1 <- predict (lmFit1)\n",
    "predict.lmFit1 [1:10] "
   ]
  },
  {
   "cell_type": "markdown",
   "metadata": {},
   "source": [
    "## the \"predict\" function gives you the fitted values given the estimated regression coefficients"
   ]
  },
  {
   "cell_type": "code",
   "execution_count": 25,
   "metadata": {},
   "outputs": [],
   "source": [
    "my.predict <- coef(lmFit1)[[1]] + coef(lmFit1)[[2]] * (my.data$UBE2C) # y_i(hat)=beta_0(hat) *x_i"
   ]
  },
  {
   "cell_type": "code",
   "execution_count": 26,
   "metadata": {},
   "outputs": [
    {
     "data": {
      "text/html": [
       "<style>\n",
       ".list-inline {list-style: none; margin:0; padding: 0}\n",
       ".list-inline>li {display: inline-block}\n",
       ".list-inline>li:not(:last-child)::after {content: \"\\00b7\"; padding: 0 .5ex}\n",
       "</style>\n",
       "<ol class=list-inline><li>-0.0077730990942462</li><li>-0.0151164274211869</li><li>-0.0172677061305207</li><li>0.0103676740110913</li><li>-0.011705923925513</li><li>-0.00126686541403333</li><li>-0.0143674607113183</li><li>-0.00654283232356158</li><li>-0.00685353608110691</li><li>-0.0130568484876851</li></ol>\n"
      ],
      "text/latex": [
       "\\begin{enumerate*}\n",
       "\\item -0.0077730990942462\n",
       "\\item -0.0151164274211869\n",
       "\\item -0.0172677061305207\n",
       "\\item 0.0103676740110913\n",
       "\\item -0.011705923925513\n",
       "\\item -0.00126686541403333\n",
       "\\item -0.0143674607113183\n",
       "\\item -0.00654283232356158\n",
       "\\item -0.00685353608110691\n",
       "\\item -0.0130568484876851\n",
       "\\end{enumerate*}\n"
      ],
      "text/markdown": [
       "1. -0.0077730990942462\n",
       "2. -0.0151164274211869\n",
       "3. -0.0172677061305207\n",
       "4. 0.0103676740110913\n",
       "5. -0.011705923925513\n",
       "6. -0.00126686541403333\n",
       "7. -0.0143674607113183\n",
       "8. -0.00654283232356158\n",
       "9. -0.00685353608110691\n",
       "10. -0.0130568484876851\n",
       "\n",
       "\n"
      ],
      "text/plain": [
       " [1] -0.007773099 -0.015116427 -0.017267706  0.010367674 -0.011705924\n",
       " [6] -0.001266865 -0.014367461 -0.006542832 -0.006853536 -0.013056848"
      ]
     },
     "metadata": {},
     "output_type": "display_data"
    }
   ],
   "source": [
    "my.predict[1:10] # same as \"predict function\", "
   ]
  },
  {
   "cell_type": "code",
   "execution_count": 29,
   "metadata": {},
   "outputs": [
    {
     "data": {
      "text/html": [
       "0.2705415316"
      ],
      "text/latex": [
       "0.2705415316"
      ],
      "text/markdown": [
       "0.2705415316"
      ],
      "text/plain": [
       "[1] 0.2705415"
      ]
     },
     "metadata": {},
     "output_type": "display_data"
    }
   ],
   "source": [
    "curr.RSE = 0.02491\n",
    "curr.RSS = (curr.RSE)^2 *436\n",
    "curr.RSS"
   ]
  },
  {
   "cell_type": "code",
   "execution_count": 33,
   "metadata": {},
   "outputs": [
    {
     "data": {
      "text/html": [
       "0.372230144896957"
      ],
      "text/latex": [
       "0.372230144896957"
      ],
      "text/markdown": [
       "0.372230144896957"
      ],
      "text/plain": [
       "[1] 0.3722301"
      ]
     },
     "metadata": {},
     "output_type": "display_data"
    },
    {
     "data": {
      "text/html": [
       "0.273187474714352"
      ],
      "text/latex": [
       "0.273187474714352"
      ],
      "text/markdown": [
       "0.273187474714352"
      ],
      "text/plain": [
       "[1] 0.2731875"
      ]
     },
     "metadata": {},
     "output_type": "display_data"
    }
   ],
   "source": [
    "# want to compute R-squared\n",
    "#TSS = sum (y_i - mean (y_i))^2\n",
    "curr.TSS <- sum((my.data$CDK1 - mean (my.data$CDK1))^2)\n",
    "curr.TSS\n",
    "my.Rsq <- 1 - curr.RSS/curr.TSS\n",
    "my.Rsq"
   ]
  },
  {
   "cell_type": "code",
   "execution_count": 34,
   "metadata": {},
   "outputs": [
    {
     "data": {
      "image/png": "[encoded data removed]",
      "text/plain": [
       "plot without title"
      ]
     },
     "metadata": {
      "image/png": {
       "height": 420,
       "width": 420
      }
     },
     "output_type": "display_data"
    }
   ],
   "source": [
    "plot(my.data$UBE2C, my.data$CDK1)\n",
    "abline(lmFit1)"
   ]
  },
  {
   "cell_type": "markdown",
   "metadata": {},
   "source": [
    "# Multiple linear regression"
   ]
  },
  {
   "cell_type": "code",
   "execution_count": 37,
   "metadata": {},
   "outputs": [
    {
     "data": {
      "text/plain": [
       "\n",
       "Call:\n",
       "lm(formula = my.data$CDK1 ~ my.data$UBE2C + my.data$ATF1 + my.data$RHOA)\n",
       "\n",
       "Residuals:\n",
       "      Min        1Q    Median        3Q       Max \n",
       "-0.095512 -0.014494  0.003057  0.016405  0.067388 \n",
       "\n",
       "Coefficients:\n",
       "               Estimate Std. Error t value Pr(>|t|)    \n",
       "(Intercept)   -0.005638   0.001208  -4.666 4.10e-06 ***\n",
       "my.data$UBE2C  0.465947   0.037439  12.446  < 2e-16 ***\n",
       "my.data$ATF1   0.187601   0.045325   4.139 4.19e-05 ***\n",
       "my.data$RHOA   0.004271   0.051644   0.083    0.934    \n",
       "---\n",
       "Signif. codes:  0 ‘***’ 0.001 ‘**’ 0.01 ‘*’ 0.05 ‘.’ 0.1 ‘ ’ 1\n",
       "\n",
       "Residual standard error: 0.02449 on 434 degrees of freedom\n",
       "Multiple R-squared:  0.3008,\tAdjusted R-squared:  0.296 \n",
       "F-statistic: 62.25 on 3 and 434 DF,  p-value: < 2.2e-16\n"
      ]
     },
     "metadata": {},
     "output_type": "display_data"
    }
   ],
   "source": [
    "# use 3 variables: UBE2C, ATF1, RHOA\n",
    "lmFit2 <- lm(my.data$CDK1 ~ my.data$UBE2C + my.data$ATF1 + my.data$RHOA)\n",
    "summary(lmFit2)"
   ]
  },
  {
   "cell_type": "markdown",
   "metadata": {},
   "source": [
    "#### Degrees of freedom is now 434 because we are estimated 4 parameters (beta_0,beta_1,beta_2,beta_3)"
   ]
  },
  {
   "cell_type": "code",
   "execution_count": null,
   "metadata": {},
   "outputs": [],
   "source": []
  },
  {
   "cell_type": "code",
   "execution_count": null,
   "metadata": {},
   "outputs": [],
   "source": []
  },
  {
   "cell_type": "code",
   "execution_count": null,
   "metadata": {},
   "outputs": [],
   "source": []
  },
  {
   "cell_type": "code",
   "execution_count": null,
   "metadata": {},
   "outputs": [],
   "source": []
  },
  {
   "cell_type": "markdown",
   "metadata": {},
   "source": [
    "### Your task: pick a 4th gene. Add this 4th gene to the lmFit2 model. Does this additional variable improve the model?"
   ]
  },
  {
   "cell_type": "code",
   "execution_count": 38,
   "metadata": {},
   "outputs": [
    {
     "data": {
      "text/plain": [
       "\n",
       "Call:\n",
       "lm(formula = my.data$CDK1 ~ my.data$UBE2C + my.data$ATF1 + my.data$RHOA + \n",
       "    my.data$FOXO3)\n",
       "\n",
       "Residuals:\n",
       "      Min        1Q    Median        3Q       Max \n",
       "-0.097963 -0.013439  0.002599  0.016705  0.060857 \n",
       "\n",
       "Coefficients:\n",
       "               Estimate Std. Error t value Pr(>|t|)    \n",
       "(Intercept)   -0.004228   0.001221  -3.464 0.000585 ***\n",
       "my.data$UBE2C  0.469251   0.036607  12.818  < 2e-16 ***\n",
       "my.data$ATF1   0.163444   0.044621   3.663 0.000280 ***\n",
       "my.data$RHOA   0.024575   0.050681   0.485 0.627989    \n",
       "my.data$FOXO3 -0.209155   0.045524  -4.594  5.7e-06 ***\n",
       "---\n",
       "Signif. codes:  0 ‘***’ 0.001 ‘**’ 0.01 ‘*’ 0.05 ‘.’ 0.1 ‘ ’ 1\n",
       "\n",
       "Residual standard error: 0.02394 on 433 degrees of freedom\n",
       "Multiple R-squared:  0.3333,\tAdjusted R-squared:  0.3272 \n",
       "F-statistic: 54.13 on 4 and 433 DF,  p-value: < 2.2e-16\n"
      ]
     },
     "metadata": {},
     "output_type": "display_data"
    }
   ],
   "source": [
    "# use 4 variables: UBE2C, ATF1, RHOA, FOXO3\n",
    "lmFit3 <- lm(my.data$CDK1 ~ my.data$UBE2C + my.data$ATF1 + my.data$RHOA +my.data$FOXO3)\n",
    "summary(lmFit3)"
   ]
  },
  {
   "cell_type": "code",
   "execution_count": 43,
   "metadata": {},
   "outputs": [],
   "source": [
    "# use all variables?\n",
    "# not working\n",
    "#lmFit4 <- lm(my.data$CDK1 ~ my.data)\n",
    "#summary(lmFit4)"
   ]
  },
  {
   "cell_type": "code",
   "execution_count": null,
   "metadata": {},
   "outputs": [],
   "source": []
  },
  {
   "cell_type": "code",
   "execution_count": null,
   "metadata": {},
   "outputs": [],
   "source": []
  }
 ],
 "metadata": {
  "kernelspec": {
   "display_name": "R",
   "language": "R",
   "name": "ir"
  },
  "language_info": {
   "codemirror_mode": "r",
   "file_extension": ".r",
   "mimetype": "text/x-r-source",
   "name": "R",
   "pygments_lexer": "r",
   "version": "4.1.1"
  }
 },
 "nbformat": 4,
 "nbformat_minor": 4
}
